{
 "cells": [
  {
   "cell_type": "code",
   "execution_count": 1,
   "id": "76990988",
   "metadata": {},
   "outputs": [
    {
     "data": {
      "text/plain": [
       "'\\n선언과 정의?\\n- 선언 : 몸통이 없음. 즉, 내용은 없고 정보만 나타냄\\n- 정의 : 몸통이 있음, 내용이 있고 명확함 \\n\\n함수의 이름으로 네임 스페이스에 등록\\n- 함수 이름으로 식별자 생성\\n- 네임 스페이스(맵)에 등록됨\\n\\n함수도 객체\\n- 객체지향 언어에서는 모든 것이 객체\\n- 함수는 callable 한 객체, () 사용하면 내부적으로 __call__() 호출됨 \\n- 모든 함수의 최고 조상은 Function 클래스 상속받음\\n\\n함수에 애너테이션 사용 가능\\n- 하지만, 파이썬 인터프리터에 영향을 안줌\\n\\n\\nCallable, Iteratorable\\n- Callable : __call__()\\n- Iteratorable : __iter__()\\n\\n'"
      ]
     },
     "execution_count": 1,
     "metadata": {},
     "output_type": "execute_result"
    }
   ],
   "source": [
    "\"\"\"\n",
    "선언과 정의?\n",
    "- 선언 : 몸통이 없음. 즉, 내용은 없고 정보만 나타냄\n",
    "- 정의 : 몸통이 있음, 내용이 있고 명확함 \n",
    "\n",
    "함수의 이름으로 네임 스페이스에 등록\n",
    "- 함수 이름으로 식별자 생성\n",
    "- 네임 스페이스(맵)에 등록됨\n",
    "\n",
    "함수도 객체\n",
    "- 객체지향 언어에서는 모든 것이 객체\n",
    "- 함수는 callable 한 객체, () 사용하면 내부적으로 __call__() 호출됨 \n",
    "- 모든 함수의 최고 조상은 Function 클래스 상속받음\n",
    "\n",
    "함수에 애너테이션 사용 가능\n",
    "- 하지만, 파이썬 인터프리터에 영향을 안줌\n",
    "- 어노테이션은 단순한 주석에 불가함 \n",
    "- 애플리케이션 레벨에서 타입 체크할 수 있음 \n",
    "\n",
    "\n",
    "Callable, Iteratorable\n",
    "- Callable : __call__()\n",
    "- Iteratorable : __iter__()\n",
    "\n",
    "파이썬은 별도 타입 체크를 하지 않음(컴파일러가 없음)\n",
    "\n",
    "파이썬에 스코프에는 모두 맵이 1개씩 존재함(네임 스페이스)\n",
    "\n",
    "함수에 주석 내용을 필드로서 저장\n",
    "- \"\"\" \"\"\" 을 사용함\n",
    "- __doc__에 저장됨, help() 함수 실행하면 __doc__에 저장된 글을 반환해줌\n",
    "\n",
    "파이썬에서는 내부적으로 오버로딩은 안되고, 오버라이딩은 됨\n",
    "- 특정 모듈을 사용하면 오버로딩 처리 가능함\n",
    "\n",
    "eval() 함수\n",
    "- 문자열을 전달 받음, 파이썬 코드로 실행함 \n",
    "\n",
    "예외 처리하기\n",
    "- try - except\n",
    "\n",
    "가변인자\n",
    "- *args : n개의 가변 인자를 받을 수 있음\n",
    "\n",
    "가변 키워드\n",
    "- 키워드 있는 매개변수를 여러개 받을 수 있음\n",
    " - fun(1, 2, 3, 4, 5, a=10, b=20)\n",
    "     - (1, 2, 3, 4, 5) 튜플\n",
    "     - {a : 10, b : 20} 딕셔너리(맵)\n",
    "\n",
    "중첩 함수는 서로 네임 스페이스가 연결되어 있음\n",
    "- 바깥쪽 함수의 네임 스페이스(맵)과 안쪽 함수의 네임 스페이스(맵)이 존재함\n",
    "- 서로 연결되어 있음 \n",
    "\n",
    "nonlocal 키워드\n",
    "- 중첩 함수 ... 중첩된 스코프에서 주로 사용\n",
    "- 예를들어서, 상위 네임 스페이스에 a가 등록되어 있고 하위 네임 스페이스도 a가 등록되어 있는 경우\n",
    "- 상위에서 어떤 a를 써야할지 모름, 이럴 때 nonlocal을 사용함\n",
    "- 하위 스코프에 nonlocal 키워드를 사용하면 상위 네임 스페이스에만 a가 등록됨\n",
    "\n",
    "\n",
    "global 키워드\n",
    "- 항상 전역 네임 스코프에서 등록되게 처리함 \n",
    "\"\"\""
   ]
  },
  {
   "cell_type": "code",
   "execution_count": 4,
   "id": "1352bf8d",
   "metadata": {},
   "outputs": [
    {
     "data": {
      "text/plain": [
       "<function __main__.hello()>"
      ]
     },
     "execution_count": 4,
     "metadata": {},
     "output_type": "execute_result"
    }
   ],
   "source": [
    "def hello() :\n",
    "    print(\"hi\")\n",
    "    \n",
    "f = hello\n",
    "\n",
    "globals()['f']"
   ]
  },
  {
   "cell_type": "code",
   "execution_count": 5,
   "id": "4a587903",
   "metadata": {},
   "outputs": [
    {
     "data": {
      "text/plain": [
       "True"
      ]
     },
     "execution_count": 5,
     "metadata": {},
     "output_type": "execute_result"
    }
   ],
   "source": [
    "'__call__' in dir(f)"
   ]
  },
  {
   "cell_type": "code",
   "execution_count": 6,
   "id": "e1508016",
   "metadata": {},
   "outputs": [
    {
     "data": {
      "text/plain": [
       "30"
      ]
     },
     "execution_count": 6,
     "metadata": {},
     "output_type": "execute_result"
    }
   ],
   "source": [
    "\"\"\" \n",
    "다단계 함수 처리 가능\n",
    "\"\"\"\n",
    "def f1(a) : \n",
    "    def f2(b) : \n",
    "        def f3(c) : \n",
    "            return a+b+c\n",
    "        return f3\n",
    "    return f2\n",
    "\n",
    "f1(10)(10)(10)"
   ]
  },
  {
   "cell_type": "code",
   "execution_count": null,
   "id": "7b37c0f6",
   "metadata": {},
   "outputs": [],
   "source": []
  }
 ],
 "metadata": {
  "kernelspec": {
   "display_name": "Python 3 (ipykernel)",
   "language": "python",
   "name": "python3"
  },
  "language_info": {
   "codemirror_mode": {
    "name": "ipython",
    "version": 3
   },
   "file_extension": ".py",
   "mimetype": "text/x-python",
   "name": "python",
   "nbconvert_exporter": "python",
   "pygments_lexer": "ipython3",
   "version": "3.9.12"
  }
 },
 "nbformat": 4,
 "nbformat_minor": 5
}
