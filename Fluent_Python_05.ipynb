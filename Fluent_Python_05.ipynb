{
 "cells": [
  {
   "cell_type": "code",
   "execution_count": 1,
   "id": "0ca753d7",
   "metadata": {},
   "outputs": [
    {
     "data": {
      "text/plain": [
       "'\\n일급 함수 디자인 패턴\\n\\n- 일급 함수를 지원하는 언어에서는 전략, 명령, 템플릿 메서드, 비지터 패턴을 다시 생각해봐야함\\n- 함수 객체를 이용해서 전략 패턴을 리팩토링, 비슷한 방법으로 명령 패턴을 단순화하는 과정 학습\\n'"
      ]
     },
     "execution_count": 1,
     "metadata": {},
     "output_type": "execute_result"
    }
   ],
   "source": [
    "\"\"\"\n",
    "일급 함수 디자인 패턴\n",
    "\n",
    "- 일급 함수를 지원하는 언어에서는 전략, 명령, 템플릿 메서드, 비지터 패턴을 다시 생각해봐야함\n",
    "- 함수 객체를 이용해서 전략 패턴을 리팩토링, 비슷한 방법으로 명령 패턴을 단순화하는 과정 학습\n",
    "\"\"\"\n"
   ]
  },
  {
   "cell_type": "code",
   "execution_count": 11,
   "id": "a37cc394",
   "metadata": {},
   "outputs": [],
   "source": [
    "\"\"\"\n",
    "파이썬으로 전략패턴 구현\n",
    "- context : Order\n",
    "- Strategy : Promotion(ABC)\n",
    "- ConcreteStrategy : FidelityPromo, BulkItemPromo, LargeOrderPromo\n",
    "\"\"\"\n",
    "\n",
    "from abc import ABC, abstractmethod\n",
    "from collections import namedtuple\n",
    "\n",
    "Customer = namedtuple('Customer', 'name fidelity')\n",
    "\n",
    "class LineItem : \n",
    "    def __init__(self, product, quantity, price) : \n",
    "        self.product = product\n",
    "        self.quantity = quantity\n",
    "        self.price = price\n",
    "        \n",
    "    def total(self) :\n",
    "        return self.price * self.quantity\n",
    "    \n",
    "class Order : # 콘텍스트\n",
    "    \n",
    "    def __init__(self, customer, cart, promotion=None) : \n",
    "        self.customer = customer\n",
    "        self.cart = list(cart)\n",
    "        self.promotion = promotion\n",
    "        \n",
    "    def total(self) : \n",
    "        if not hasattr(self, '__total') :\n",
    "            self.__total = sum(item.total() for item in self.cart)\n",
    "            \n",
    "        return self.__total\n",
    "    \n",
    "    \n",
    "    def due(self) :\n",
    "        if self.promotion is None : \n",
    "            discount = 0\n",
    "            \n",
    "        else : \n",
    "            discount = self.promotion.discount(self)\n",
    "            \n",
    "        return self.total() - discount\n",
    "    \n",
    "    def __repr__(self) : \n",
    "        fmt = '<Order total : {:.2f} due: {:.2f}>'\n",
    "        return fmt.format(self.total(), self.due())\n",
    "    \n",
    "\n",
    "class Promotion(ABC) : # 전략 : 추상 베이스 클래스 \n",
    "        \n",
    "    @abstractmethod\n",
    "    def discount(self, order) : \n",
    "        \"\"\"할인액을 구체적인 숫자로 변환함\"\"\"\n",
    "            \n",
    "            \n",
    "class FidelityPromo(Promotion) : # 첫 번째 구체적인 전략 \n",
    "    \"\"\"충성도 포인트가 1000점 이상인 고객에게 전체 5% 할인 적용\"\"\"\n",
    "        \n",
    "    def discount(self, order) : \n",
    "        return order.total() * 0.5 if order.customer.fidelity >= 1000 else 0\n",
    "        \n",
    "class BulkItemPromo(Promotion) : # 두 번째 구체적인 전략 \n",
    "    \"\"\"20개 이상의 동일 상품을 구입하면 10% 할인 적용\"\"\"\n",
    "        \n",
    "    def discount(self, order) : \n",
    "        discount = 0\n",
    "        for item in order.cart : \n",
    "            if item.quantity >= 20 : \n",
    "                discount += item.total() * .1\n",
    "                    \n",
    "        return discount\n",
    "        \n",
    "class LargeOrderPromo(Promotion) : # 세 번째 구체적인 전략 \n",
    "    \"\"\"10종류 이상의 상품을 구입하면 전체 7% 할인 적용\"\"\"\n",
    "        \n",
    "    def discount(self, order) : \n",
    "        distinct_items = {item.product for item in order.cart} \n",
    "            \n",
    "        if len(distinct_items) >= 10 :\n",
    "            return order.total() * .07\n",
    "            \n",
    "        return 0"
   ]
  },
  {
   "cell_type": "code",
   "execution_count": 13,
   "id": "491bcde9",
   "metadata": {},
   "outputs": [
    {
     "data": {
      "text/plain": [
       "<Order total : 42.00 due: 21.00>"
      ]
     },
     "execution_count": 13,
     "metadata": {},
     "output_type": "execute_result"
    }
   ],
   "source": [
    "joe = Customer('John Doe', 0)\n",
    "ann = Customer('Ann Smith', 1100)\n",
    "\n",
    "cart = [LineItem('banana', 4, .5), \n",
    "    LineItem('apple', 10, 1.5), \n",
    "    LineItem('watermellon', 5, 5.0)]\n",
    "        \n",
    "Order(joe, cart, FidelityPromo())\n",
    "Order(ann, cart, FidelityPromo())\n"
   ]
  },
  {
   "cell_type": "code",
   "execution_count": 14,
   "id": "ccbb77ca",
   "metadata": {},
   "outputs": [
    {
     "data": {
      "text/plain": [
       "<Order total : 30.00 due: 28.50>"
      ]
     },
     "execution_count": 14,
     "metadata": {},
     "output_type": "execute_result"
    }
   ],
   "source": [
    "banana_cart = [LineItem('banana', 30, .5), LineItem('apple', 10, 1.5)]\n",
    "Order(joe, banana_cart, BulkItemPromo())"
   ]
  },
  {
   "cell_type": "code",
   "execution_count": 19,
   "id": "4b1807d0",
   "metadata": {},
   "outputs": [
    {
     "data": {
      "text/plain": [
       "<Order total : 10.00 due: 9.30>"
      ]
     },
     "execution_count": 19,
     "metadata": {},
     "output_type": "execute_result"
    }
   ],
   "source": [
    "long_order = [LineItem(str(item_code), 1, 1.0) for item_code in range(10)]\n",
    "Order(joe, long_order, LargeOrderPromo())"
   ]
  },
  {
   "cell_type": "code",
   "execution_count": 21,
   "id": "3a430b81",
   "metadata": {},
   "outputs": [
    {
     "data": {
      "text/plain": [
       "<Order total : 42.00 due: 42.00>"
      ]
     },
     "execution_count": 21,
     "metadata": {},
     "output_type": "execute_result"
    }
   ],
   "source": [
    "Order(joe, cart, LargeOrderPromo())"
   ]
  },
  {
   "cell_type": "code",
   "execution_count": 58,
   "id": "147806df",
   "metadata": {},
   "outputs": [],
   "source": [
    "\"\"\"\n",
    "위의 코드 리팩토링\n",
    "\n",
    "- 구체적인 전략 객체가 일반 함수처럼 보임 -> 함수를 객체로 사용해서 더 적은 코드로 동일한 기능 처리\n",
    "\n",
    "전랸 패턴의 단점 \n",
    "- '런타임 비용'. 런타임시에 매번 전략 클래스를 생성해서 사용해야한다.\n",
    "- 즉, 전략 패턴의 런타임 비용을 극복하기 위해 플라이웨이트 패턴을 사용하도록 권고함\n",
    "- 일반 함수도 여러 콘텍스트에서 동시에 공유할 수 있는 공유 객체임\n",
    "\n",
    "\"\"\"\n",
    "\n",
    "class LineItem : \n",
    "    def __init__(self, product, quantity, price) : \n",
    "        self.product = product\n",
    "        self.quantity = quantity\n",
    "        self.price = price\n",
    "        \n",
    "    def total(self) :\n",
    "        return self.price * self.quantity\n",
    "    \n",
    "class Order : # 콘텍스트\n",
    "    \n",
    "    def __init__(self, customer, cart, promotion=None) : \n",
    "        self.customer = customer\n",
    "        self.cart = list(cart)\n",
    "        self.promotion = promotion\n",
    "        \n",
    "    def total(self) : \n",
    "        if not hasattr(self, '__total') :\n",
    "            self.__total = sum(item.total() for item in self.cart)\n",
    "            \n",
    "        return self.__total\n",
    "    \n",
    "    \n",
    "    def due(self) :\n",
    "        if self.promotion is None : \n",
    "            discount = 0\n",
    "            \n",
    "        else : \n",
    "            discount = self.promotion(self)\n",
    "            \n",
    "        return self.total() - discount\n",
    "    \n",
    "    def __repr__(self) : \n",
    "        fmt = '<Order total : {:.2f} due: {:.2f}>'\n",
    "        return fmt.format(self.total(), self.due())\n",
    "    \n",
    "    \n",
    "def fidelity_promo(order) : \n",
    "    \"\"\"충성도 포인트가 1000점 이상인 고객에게 전체 5% 할인 적용\"\"\"\n",
    "    return order.total() * .05 if order.customer.fidelity >= 1000 else 0\n",
    "\n",
    "def bulk_item_promo(order) :\n",
    "    \"\"\"20개 이상의 동일 상품을 구입하면 10% 할인 적용\"\"\"\n",
    "    discount = 0\n",
    "    \n",
    "    for i in order.cart : \n",
    "        if i.quantity >= 20 : \n",
    "            discount += i.total() * .1\n",
    "            \n",
    "    return discount\n",
    "\n",
    "def large_order_promo(order) :\n",
    "    \"\"\"10종류 이상의 상품을 구입하면 전체 7% 할인 적용\"\"\"\n",
    "    distinct_items = { i.product for i in order.cart }\n",
    "    \n",
    "    if len(distinct_items) >= 10 : \n",
    "        return order.total() * .07\n",
    "    \n",
    "    return 0\n",
    "\n"
   ]
  },
  {
   "cell_type": "code",
   "execution_count": 59,
   "id": "f1a57bf7",
   "metadata": {},
   "outputs": [],
   "source": [
    "joe = Customer('John Doe', 0)\n",
    "ann = Customer('Ann Smith', 1100)\n",
    "\n",
    "cart = [LineItem('banana', 4, .5), \n",
    "    LineItem('apple', 10, 1.5), \n",
    "    LineItem('watermellon', 5, 5.0)]"
   ]
  },
  {
   "cell_type": "code",
   "execution_count": 60,
   "id": "b06a4094",
   "metadata": {},
   "outputs": [],
   "source": [
    "banana_cart = [LineItem('banana', 30, .5), LineItem('apple', 10, 1.5)]"
   ]
  },
  {
   "cell_type": "code",
   "execution_count": 61,
   "id": "05e30fdf",
   "metadata": {},
   "outputs": [],
   "source": [
    "long_order = [LineItem(str(item_code), 1, 1.0) for item_code in range(10)]"
   ]
  },
  {
   "cell_type": "code",
   "execution_count": null,
   "id": "d1517a24",
   "metadata": {},
   "outputs": [],
   "source": []
  },
  {
   "cell_type": "code",
   "execution_count": 62,
   "id": "06048252",
   "metadata": {},
   "outputs": [],
   "source": [
    "\"\"\"\n",
    "'메타 전략' 생성\n",
    "\n",
    "- 모든 할인을 적용해서 가장 큰 값을 반환하는 best_promo 함수\n",
    "- 해당 함수의 한계, 새로운 할인 함수를 고려하지 않음 \n",
    "- 파이썬 모듈(파일)도 일급 객체\n",
    "\n",
    "\"\"\"\n",
    "\n",
    "\"\"\" 문제점 : 추후에 새로운 할인 함수를 고려 못함 \"\"\"\n",
    "promos = [fidelity_promo, bulk_item_promo, large_order_promo] # Flyweight 패턴 \n",
    "\n",
    "\"\"\" 1. 해결책 - 글로벌 네임 스페이스에서 xxx_promo 등록된 함수 객체를 찾음 \"\"\"\n",
    "promos = [globals()[name] for name in globals() \n",
    "              if name.endswith('_promo') \n",
    "              and name != 'best_promo']\n",
    "\n",
    "\"\"\" 2. 해결책 - promotions라는 별도 모듈에 내부 조사를 수행해서 만든 전략 함수 리스트를 사용하도록 변경 \n",
    "- 주어진 주문에 대해 할인액을 계산하는 함수들만 promotions 모듈에 넣으면 된다.\n",
    "\"\"\"\n",
    "# import inspect, promotions\n",
    "\n",
    "# promos = [func for name, func in inspect.getmembers(promotions, inspect.isfunction)]\n",
    "\n",
    "\n",
    "def best_promo(order) : \n",
    "    \"\"\"최대로 할인받을 금액을 반환함\"\"\"\n",
    "    \n",
    "    return max(promo(order) for promo in promos)\n",
    "\n",
    "\n"
   ]
  },
  {
   "cell_type": "code",
   "execution_count": 63,
   "id": "80447955",
   "metadata": {},
   "outputs": [
    {
     "data": {
      "text/plain": [
       "<Order total : 30.00 due: 28.50>"
      ]
     },
     "execution_count": 63,
     "metadata": {},
     "output_type": "execute_result"
    }
   ],
   "source": [
    "Order(joe, banana_cart, best_promo)"
   ]
  },
  {
   "cell_type": "code",
   "execution_count": 64,
   "id": "6f7938cb",
   "metadata": {},
   "outputs": [
    {
     "data": {
      "text/plain": [
       "<Order total : 30.00 due: 28.50>"
      ]
     },
     "execution_count": 64,
     "metadata": {},
     "output_type": "execute_result"
    }
   ],
   "source": [
    "Order(joe, banana_cart, best_promo)"
   ]
  },
  {
   "cell_type": "code",
   "execution_count": 65,
   "id": "f17d20a0",
   "metadata": {},
   "outputs": [
    {
     "data": {
      "text/plain": [
       "<Order total : 42.00 due: 39.90>"
      ]
     },
     "execution_count": 65,
     "metadata": {},
     "output_type": "execute_result"
    }
   ],
   "source": [
    "Order(ann, cart, best_promo)"
   ]
  },
  {
   "cell_type": "code",
   "execution_count": 71,
   "id": "89b2d9eb",
   "metadata": {},
   "outputs": [
    {
     "name": "stdout",
     "output_type": "stream",
     "text": [
      "== show total command!! ==\n",
      "hi\n",
      "hello\n",
      "order pizza\n",
      "order chiken\n",
      "order coke\n"
     ]
    }
   ],
   "source": [
    "\"\"\"\n",
    "함수를 인수로 전달하는 기법을 사용하면 명령 디자인 패턴도 구현을 단순화 할 수 있음\n",
    "- Command 패턴의 목적 : 연산을 실행하는 객체(호출차, Invoker)와 연산을 구현하는 객체(수신자, Receiver)를 분리함\n",
    "- 명령 객체를 수신자와 호출자 사이에 놓고, 명령은 execute() 라는 단 하나의 메서드로 인터페이스를 구현함 \n",
    "- Command 객체 대신 간단히 함수를 바로 지정할 수 있음, 호출자는 command()로 사용할 수 있음. MacroCommand의 객체는 콜러블이 됨\n",
    "\"\"\"\n",
    "\n",
    "class Menu : \n",
    "    \n",
    "    def __init__(self, macro_command) : \n",
    "        self.macro_command = macro_command\n",
    "        \n",
    "    def show_total_order(self) :\n",
    "        print(\"== show total command!! ==\")\n",
    "        self.macro_command()\n",
    "        \n",
    "\n",
    "class MacroCommand : \n",
    "    \"\"\"명령 리스트를 실행하는 명려\"\"\"\n",
    "    \n",
    "    def __init__(self, commands) :\n",
    "        self.commands = list(commands)\n",
    "        \n",
    "    def __call__(self) : \n",
    "        for c in self.commands : \n",
    "            c()\n",
    "            \n",
    "# 하나의 Command\n",
    "def order_pizza_command() : \n",
    "    print(\"order pizza\")\n",
    "    \n",
    "def order_chiken_command() : \n",
    "    print(\"order chiken\")\n",
    "    \n",
    "def order_coke_command() :\n",
    "    print(\"order coke\")\n",
    "    \n",
    "commands = [globals()[name] for name in globals() if name.endswith('_command') ]\n",
    "macro = MacroCommand(commands)\n",
    "menu = Menu(macro)\n",
    "menu.show_total_order()"
   ]
  },
  {
   "cell_type": "code",
   "execution_count": 72,
   "id": "3aa9fc1a",
   "metadata": {},
   "outputs": [
    {
     "data": {
      "text/plain": [
       "'\\n- 단일 메서드 인터페이스를 구현한 클래스의 객체를 콜러블로 대체하는 것임\\n- 모든 파이썬 콜러블이 __call__() 이라는 단일 메서드 인터페이스를 구현함\\n'"
      ]
     },
     "execution_count": 72,
     "metadata": {},
     "output_type": "execute_result"
    }
   ],
   "source": [
    "\"\"\"\n",
    "- 단일 메서드 인터페이스를 구현한 클래스의 객체를 콜러블로 대체하는 것임\n",
    "- 모든 파이썬 콜러블이 __call__() 이라는 단일 메서드 인터페이스를 구현함\n",
    "\"\"\""
   ]
  },
  {
   "cell_type": "code",
   "execution_count": null,
   "id": "d4875af3",
   "metadata": {},
   "outputs": [],
   "source": []
  }
 ],
 "metadata": {
  "kernelspec": {
   "display_name": "Python 3 (ipykernel)",
   "language": "python",
   "name": "python3"
  },
  "language_info": {
   "codemirror_mode": {
    "name": "ipython",
    "version": 3
   },
   "file_extension": ".py",
   "mimetype": "text/x-python",
   "name": "python",
   "nbconvert_exporter": "python",
   "pygments_lexer": "ipython3",
   "version": "3.9.12"
  }
 },
 "nbformat": 4,
 "nbformat_minor": 5
}
