{
 "cells": [
  {
   "cell_type": "code",
   "execution_count": 1,
   "id": "045db669",
   "metadata": {},
   "outputs": [
    {
     "data": {
      "text/plain": [
       "4"
      ]
     },
     "execution_count": 1,
     "metadata": {},
     "output_type": "execute_result"
    }
   ],
   "source": [
    "s = 'cafe'\n",
    "len(s)"
   ]
  },
  {
   "cell_type": "code",
   "execution_count": 4,
   "id": "527a9250",
   "metadata": {},
   "outputs": [
    {
     "data": {
      "text/plain": [
       "b'cafe'"
      ]
     },
     "execution_count": 4,
     "metadata": {},
     "output_type": "execute_result"
    }
   ],
   "source": [
    "b = s.encode('utf8')\n",
    "b"
   ]
  },
  {
   "cell_type": "code",
   "execution_count": 5,
   "id": "3673bbdc",
   "metadata": {},
   "outputs": [
    {
     "data": {
      "text/plain": [
       "'cafe'"
      ]
     },
     "execution_count": 5,
     "metadata": {},
     "output_type": "execute_result"
    }
   ],
   "source": [
    "b.decode('utf8')"
   ]
  },
  {
   "cell_type": "code",
   "execution_count": 6,
   "id": "a1aec2c2",
   "metadata": {},
   "outputs": [
    {
     "data": {
      "text/plain": [
       "b'cafe'"
      ]
     },
     "execution_count": 6,
     "metadata": {},
     "output_type": "execute_result"
    }
   ],
   "source": [
    "cafe = bytes('cafe', encoding='utf_8')\n",
    "cafe"
   ]
  },
  {
   "cell_type": "code",
   "execution_count": 7,
   "id": "bafa3f31",
   "metadata": {},
   "outputs": [
    {
     "data": {
      "text/plain": [
       "99"
      ]
     },
     "execution_count": 7,
     "metadata": {},
     "output_type": "execute_result"
    }
   ],
   "source": [
    "cafe[0]"
   ]
  },
  {
   "cell_type": "code",
   "execution_count": 8,
   "id": "d9347e8e",
   "metadata": {},
   "outputs": [
    {
     "data": {
      "text/plain": [
       "b'c'"
      ]
     },
     "execution_count": 8,
     "metadata": {},
     "output_type": "execute_result"
    }
   ],
   "source": [
    "cafe[:1]"
   ]
  },
  {
   "cell_type": "code",
   "execution_count": 9,
   "id": "614aa5b6",
   "metadata": {},
   "outputs": [
    {
     "data": {
      "text/plain": [
       "bytearray(b'cafe')"
      ]
     },
     "execution_count": 9,
     "metadata": {},
     "output_type": "execute_result"
    }
   ],
   "source": [
    "cafe_arr = bytearray(cafe)\n",
    "cafe_arr"
   ]
  },
  {
   "cell_type": "code",
   "execution_count": 10,
   "id": "3e8ddc6c",
   "metadata": {},
   "outputs": [
    {
     "data": {
      "text/plain": [
       "bytearray(b'e')"
      ]
     },
     "execution_count": 10,
     "metadata": {},
     "output_type": "execute_result"
    }
   ],
   "source": [
    "cafe_arr[-1:]"
   ]
  },
  {
   "cell_type": "code",
   "execution_count": 11,
   "id": "4cf0677b",
   "metadata": {},
   "outputs": [
    {
     "data": {
      "text/plain": [
       "b'1K\\xce\\xa9'"
      ]
     },
     "execution_count": 11,
     "metadata": {},
     "output_type": "execute_result"
    }
   ],
   "source": [
    "bytes.fromhex('31 4B CE A9')"
   ]
  },
  {
   "cell_type": "code",
   "execution_count": 12,
   "id": "7c78a154",
   "metadata": {},
   "outputs": [
    {
     "data": {
      "text/plain": [
       "b'\\xfe\\xff\\xff\\xff\\x00\\x00\\x01\\x00\\x02\\x00'"
      ]
     },
     "execution_count": 12,
     "metadata": {},
     "output_type": "execute_result"
    }
   ],
   "source": [
    "import array\n",
    "\n",
    "numbers = array.array('h', [-2, -1, 0, 1, 2])\n",
    "octets = bytes(numbers)\n",
    "octets"
   ]
  },
  {
   "cell_type": "code",
   "execution_count": 13,
   "id": "02465251",
   "metadata": {},
   "outputs": [
    {
     "name": "stdout",
     "output_type": "stream",
     "text": [
      "latin_1\tb'dedade'\n",
      "utf_8\tb'dedade'\n",
      "utf_16\tb'\\xff\\xfed\\x00e\\x00d\\x00a\\x00d\\x00e\\x00'\n"
     ]
    }
   ],
   "source": [
    "for codec in ['latin_1', 'utf_8', 'utf_16'] : \n",
    "    print(codec, 'dedade'.encode(codec), sep='\\t')"
   ]
  },
  {
   "cell_type": "code",
   "execution_count": 14,
   "id": "5b26e347",
   "metadata": {},
   "outputs": [
    {
     "data": {
      "text/plain": [
       "'lee jong heon'"
      ]
     },
     "execution_count": 14,
     "metadata": {},
     "output_type": "execute_result"
    }
   ],
   "source": [
    "name = 'Lee Jong Heon'\n",
    "name.casefold()"
   ]
  },
  {
   "cell_type": "code",
   "execution_count": 19,
   "id": "a687f720",
   "metadata": {},
   "outputs": [
    {
     "data": {
      "text/plain": [
       "True"
      ]
     },
     "execution_count": 19,
     "metadata": {},
     "output_type": "execute_result"
    }
   ],
   "source": [
    "from unicodedata import normalize\n",
    "\n",
    "\n",
    "def nfc_equal(str1, str2) :\n",
    "    return normalize('NFC', str1) == normalize('NFC', str2)\n",
    "\n",
    "def fold_equal(str1, str2) :\n",
    "    return (normalize('NFC', str1).casefold() == normalize('NFC', str2).casefold())\n",
    "\n",
    "s1 = 'k'\n",
    "s2 = 'k'\n",
    "\n",
    "nfc_equal(s1, s2)"
   ]
  },
  {
   "cell_type": "code",
   "execution_count": 21,
   "id": "55e99e55",
   "metadata": {},
   "outputs": [
    {
     "data": {
      "text/plain": [
       "'Herr Voß: • ½ cup of Œtker™ caffe latte • bowl of acai.'"
      ]
     },
     "execution_count": 21,
     "metadata": {},
     "output_type": "execute_result"
    }
   ],
   "source": [
    "import unicodedata, string\n",
    "\n",
    "def shave_marks(txt) : \n",
    "    norm_txt = unicodedata.normalize('NFD', txt)\n",
    "    shaved = ''.join(c for c in norm_txt if not unicodedata.combining(c))\n",
    "    return unicodedata.normalize('NFC', shaved)\n",
    "\n",
    "order = \"Herr Voß: • ½ cup of Œtker™ caffè latte • bowl of açaí.\"\n",
    "shave_marks(order)\n",
    "    "
   ]
  },
  {
   "cell_type": "code",
   "execution_count": 22,
   "id": "d79060be",
   "metadata": {},
   "outputs": [
    {
     "data": {
      "text/plain": [
       "'Ζεφυρος, Zefiro'"
      ]
     },
     "execution_count": 22,
     "metadata": {},
     "output_type": "execute_result"
    }
   ],
   "source": [
    "greek = 'Ζέφυρος, Zéfiro'\n",
    "shave_marks(greek)"
   ]
  },
  {
   "cell_type": "code",
   "execution_count": 31,
   "id": "c76201b6",
   "metadata": {},
   "outputs": [
    {
     "name": "stdout",
     "output_type": "stream",
     "text": [
      "> Herr Voß: • ½ cup of Œtker™ caffè latte • bowl of açaí.\n",
      ">> H\n",
      ">> e\n",
      ">> r\n",
      ">> r\n",
      ">>  \n",
      ">> V\n",
      ">> o\n",
      ">> ß\n",
      ">> :\n",
      ">>  \n",
      ">> •\n",
      ">>  \n",
      ">> ½\n",
      ">>  \n",
      ">> c\n",
      ">> u\n",
      ">> p\n",
      ">>  \n",
      ">> o\n",
      ">> f\n",
      ">>  \n",
      ">> Œ\n",
      ">> t\n",
      ">> k\n",
      ">> e\n",
      ">> r\n",
      ">> ™\n",
      ">>  \n",
      ">> c\n",
      ">> a\n",
      ">> f\n",
      ">> f\n",
      ">> e\n",
      ">> ̀\n",
      ">>  \n",
      ">> l\n",
      ">> a\n",
      ">> t\n",
      ">> t\n",
      ">> e\n",
      ">>  \n",
      ">> •\n",
      ">>  \n",
      ">> b\n",
      ">> o\n",
      ">> w\n",
      ">> l\n",
      ">>  \n",
      ">> o\n",
      ">> f\n",
      ">>  \n",
      ">> a\n",
      ">> c\n",
      ">> ̧\n",
      ">> a\n",
      ">> i\n",
      ">> ́\n",
      ">> .\n"
     ]
    },
    {
     "data": {
      "text/plain": [
       "'Herr Voß: • ½ cup of Œtker™ caffe latte • bowl of acai.'"
      ]
     },
     "execution_count": 31,
     "metadata": {},
     "output_type": "execute_result"
    }
   ],
   "source": [
    "# 라틴 문자에서 결합 표시 기호를 제거하는 함수\n",
    "\"\"\"\n",
    "unicodedata.normalize()?\n",
    "\n",
    "- 유니코드 문자열을 특정 형태로 정규화하는데 사용\n",
    "- 유니코드 정규화는 문자열의 일관성을 보장하고, 비교나 검색 작업을 수행할 때 유용함\n",
    "    - (1) NFC : 가능한 한 유니코드 문자들을 조합 문자(composed character)로 표현\n",
    "    - (2) NFD : 가능한 한 유니코드 문자들을 분해 문자(decomposed character)로 표현\n",
    "    - (3) NFKC : 호환성 문자(compatibility character)를 포함하여 가능한 한 조합 문자로 표현\n",
    "    - (4) NFKD : 호환성 문자를 포함하여 가능한 한 분해 문자로 표현\n",
    "    \n",
    "    \n",
    "unicodedata.combining\n",
    "- 특정 유니코드 문자가 결합 문자(combining character)인지 여부를 확인하는 데 사용\n",
    "\"\"\"\n",
    "\n",
    "def shave_marks_latin(txt) : \n",
    "    norm_txt = unicodedata.normalize('NFD', txt)\n",
    "    print(\"> \" + norm_txt)\n",
    "    latin_base = False\n",
    "    \n",
    "    keepers = []\n",
    "    for c in norm_txt :\n",
    "        print(\">> \" + c)\n",
    "        if unicodedata.combining(c) and latin_base : \n",
    "            continue\n",
    "            \n",
    "        keepers.append(c)\n",
    "        \n",
    "        if not unicodedata.combining(c) : \n",
    "            latin_base = c in string.ascii_letters\n",
    "    \n",
    "    shaved = \"\".join(keepers)\n",
    "    return unicodedata.normalize('NFC', shaved)\n",
    "\n",
    "order = \"Herr Voß: • ½ cup of Œtker™ caffè latte • bowl of açaí.\"\n",
    "shave_marks_latin(order)"
   ]
  },
  {
   "cell_type": "code",
   "execution_count": 33,
   "id": "7187e2da",
   "metadata": {},
   "outputs": [],
   "source": [
    "single_map = str.maketrans(\"\"\"‚ƒ„†ˆ‹‘’“”•–—˜›\"\"\",  # 문자 : 문자, 치환을 위한 매핑 테이블\n",
    "                           \"\"\"'f\"*^<''\"\"---~>\"\"\")\n",
    "\n",
    "multi_map = str.maketrans({  # 문자 : 문자열, 치환을 위한 매핑 테이블\n",
    "    '€': '<euro>',\n",
    "    '…': '...',\n",
    "    'Œ': 'OE',\n",
    "    '™': '(TM)',\n",
    "    'œ': 'oe',\n",
    "    '‰': '<per mille>',\n",
    "    '‡': '**',\n",
    "})\n",
    "\n",
    "multi_map.update(single_map)  # 위에 매핑 테이블 머지 \n",
    "\n",
    "\n",
    "def dewinize(txt):\n",
    "    \"\"\"Replace Win1252 symbols with ASCII chars or sequences\"\"\"\n",
    "    return txt.translate(multi_map)  # \n",
    "\n",
    "\n",
    "def asciize(txt):\n",
    "    no_marks = shave_marks_latin(dewinize(txt))     # dewinize(txt) -> 발음 구별 기호 제거\n",
    "    no_marks = no_marks.replace('ß', 'ss')          # 치환\n",
    "    return unicodedata.normalize('NFKC', no_marks)  # NFKC 정규화를 적용 "
   ]
  },
  {
   "cell_type": "code",
   "execution_count": 34,
   "id": "6471cb26",
   "metadata": {},
   "outputs": [
    {
     "data": {
      "text/plain": [
       "'Herr Voß: - ½ cup of OEtker(TM) caffè latte - bowl of açaí.'"
      ]
     },
     "execution_count": 34,
     "metadata": {},
     "output_type": "execute_result"
    }
   ],
   "source": [
    "dewinize(order)\n"
   ]
  },
  {
   "cell_type": "code",
   "execution_count": 35,
   "id": "81a5c592",
   "metadata": {},
   "outputs": [
    {
     "name": "stdout",
     "output_type": "stream",
     "text": [
      "> Herr Voß: - ½ cup of OEtker(TM) caffè latte - bowl of açaí.\n",
      ">> H\n",
      ">> e\n",
      ">> r\n",
      ">> r\n",
      ">>  \n",
      ">> V\n",
      ">> o\n",
      ">> ß\n",
      ">> :\n",
      ">>  \n",
      ">> -\n",
      ">>  \n",
      ">> ½\n",
      ">>  \n",
      ">> c\n",
      ">> u\n",
      ">> p\n",
      ">>  \n",
      ">> o\n",
      ">> f\n",
      ">>  \n",
      ">> O\n",
      ">> E\n",
      ">> t\n",
      ">> k\n",
      ">> e\n",
      ">> r\n",
      ">> (\n",
      ">> T\n",
      ">> M\n",
      ">> )\n",
      ">>  \n",
      ">> c\n",
      ">> a\n",
      ">> f\n",
      ">> f\n",
      ">> e\n",
      ">> ̀\n",
      ">>  \n",
      ">> l\n",
      ">> a\n",
      ">> t\n",
      ">> t\n",
      ">> e\n",
      ">>  \n",
      ">> -\n",
      ">>  \n",
      ">> b\n",
      ">> o\n",
      ">> w\n",
      ">> l\n",
      ">>  \n",
      ">> o\n",
      ">> f\n",
      ">>  \n",
      ">> a\n",
      ">> c\n",
      ">> ̧\n",
      ">> a\n",
      ">> i\n",
      ">> ́\n",
      ">> .\n"
     ]
    },
    {
     "data": {
      "text/plain": [
       "'Herr Voss: - 1⁄2 cup of OEtker(TM) caffe latte - bowl of acai.'"
      ]
     },
     "execution_count": 35,
     "metadata": {},
     "output_type": "execute_result"
    }
   ],
   "source": [
    "asciize(order)"
   ]
  },
  {
   "cell_type": "code",
   "execution_count": 36,
   "id": "ad541173",
   "metadata": {},
   "outputs": [
    {
     "data": {
      "text/plain": [
       "['acai', 'acerola', 'atemoia', 'caja', 'caju']"
      ]
     },
     "execution_count": 36,
     "metadata": {},
     "output_type": "execute_result"
    }
   ],
   "source": [
    "fruist = ['caju', 'atemoia', 'caja', 'acai', 'acerola']\n",
    "sorted(fruist)"
   ]
  },
  {
   "cell_type": "code",
   "execution_count": 38,
   "id": "8c8df4c5",
   "metadata": {},
   "outputs": [
    {
     "data": {
      "text/plain": [
       "['acai', 'acerola', 'atemoia', 'caja', 'caju']"
      ]
     },
     "execution_count": 38,
     "metadata": {},
     "output_type": "execute_result"
    }
   ],
   "source": [
    "import locale\n",
    "\n",
    "\"\"\"\n",
    "locale.strxfrm() 함수를 키로 사용하기 전에 setlocale(LC_COLLATE, <지역 언어>) 먼저 설정\n",
    "\"\"\"\n",
    "\n",
    "\n",
    "\n",
    "locale.setlocale(locale.LC_COLLATE, 'pt_BR.UTF-8')\n",
    "sorted_fruits = sorted(fruist, key=locale.strxfrm)\n",
    "sorted_fruits"
   ]
  },
  {
   "cell_type": "code",
   "execution_count": 40,
   "id": "423afacb",
   "metadata": {},
   "outputs": [
    {
     "name": "stdout",
     "output_type": "stream",
     "text": [
      "Text\n",
      "  'Ramanujan saw ௧௭௨௯ as 1729 = 1³ + 12³ = 9³ + 10³.'\n",
      "Numbers\n",
      "  str  : ['௧௭௨௯', '1729', '1', '12', '9', '10']\n",
      "  bytes: [b'1729', b'1', b'12', b'9', b'10']\n",
      "Words\n",
      "  str  : ['Ramanujan', 'saw', '௧௭௨௯', 'as', '1729', '1³', '12³', '9³', '10³']\n",
      "  bytes: [b'Ramanujan', b'saw', b'as', b'1729', b'1', b'12', b'9', b'10']\n"
     ]
    }
   ],
   "source": [
    "import re\n",
    "\n",
    "re_numbers_str = re.compile(r'\\d+')     # <1>\n",
    "re_words_str = re.compile(r'\\w+')\n",
    "re_numbers_bytes = re.compile(rb'\\d+')  # <2>\n",
    "re_words_bytes = re.compile(rb'\\w+')\n",
    "\n",
    "text_str = (\"Ramanujan saw \\u0be7\\u0bed\\u0be8\\u0bef\"  # <3>\n",
    "            \" as 1729 = 1³ + 12³ = 9³ + 10³.\")        # <4>\n",
    "\n",
    "text_bytes = text_str.encode('utf_8')  # <5>\n",
    "\n",
    "print('Text', repr(text_str), sep='\\n  ')\n",
    "print('Numbers')\n",
    "print('  str  :', re_numbers_str.findall(text_str))      # <6>\n",
    "print('  bytes:', re_numbers_bytes.findall(text_bytes))  # <7>\n",
    "print('Words')\n",
    "print('  str  :', re_words_str.findall(text_str))        # <8>\n",
    "print('  bytes:', re_words_bytes.findall(text_bytes))"
   ]
  },
  {
   "cell_type": "code",
   "execution_count": null,
   "id": "97bf5fba",
   "metadata": {},
   "outputs": [],
   "source": []
  }
 ],
 "metadata": {
  "kernelspec": {
   "display_name": "Python 3 (ipykernel)",
   "language": "python",
   "name": "python3"
  },
  "language_info": {
   "codemirror_mode": {
    "name": "ipython",
    "version": 3
   },
   "file_extension": ".py",
   "mimetype": "text/x-python",
   "name": "python",
   "nbconvert_exporter": "python",
   "pygments_lexer": "ipython3",
   "version": "3.9.12"
  }
 },
 "nbformat": 4,
 "nbformat_minor": 5
}
