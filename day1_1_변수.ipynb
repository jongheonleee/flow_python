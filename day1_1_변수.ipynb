{
 "cells": [
  {
   "cell_type": "code",
   "execution_count": 1,
   "id": "667ec92a",
   "metadata": {},
   "outputs": [
    {
     "name": "stdout",
     "output_type": "stream",
     "text": [
      "Python 3.12.4\r\n"
     ]
    }
   ],
   "source": [
    "!python --version"
   ]
  },
  {
   "cell_type": "code",
   "execution_count": 2,
   "id": "f2664038",
   "metadata": {},
   "outputs": [
    {
     "name": "stdout",
     "output_type": "stream",
     "text": [
      "3.9.12 (main, Apr  5 2022, 01:53:17) \n",
      "[Clang 12.0.0 ]\n"
     ]
    }
   ],
   "source": [
    "import sys\n",
    "\n",
    "print(sys.version)"
   ]
  },
  {
   "cell_type": "code",
   "execution_count": 4,
   "id": "68593cc4",
   "metadata": {},
   "outputs": [
    {
     "data": {
      "text/plain": [
       "'\\n# 아나콘다란?\\n\\n- 데이터 분석을 위한 가상현상을 구축할 수 있는 오픈소스\\n- 내부에 주피터 노트북 등 개발 툴을 제공해 다양한 환경에서 데이터 분석을 지원함 \\n\\n'"
      ]
     },
     "execution_count": 4,
     "metadata": {},
     "output_type": "execute_result"
    }
   ],
   "source": [
    "\"\"\"\n",
    "# 아나콘다란?\n",
    "\n",
    "- 데이터 분석을 위한 가상현상을 구축할 수 있는 오픈소스\n",
    "- 내부에 주피터 노트북 등 개발 툴을 제공해 다양한 환경에서 데이터 분석을 지원함 \n",
    "\n",
    "\"\"\""
   ]
  },
  {
   "cell_type": "code",
   "execution_count": 5,
   "id": "110bf64b",
   "metadata": {},
   "outputs": [
    {
     "name": "stdout",
     "output_type": "stream",
     "text": [
      "hello world!!\n"
     ]
    }
   ],
   "source": [
    "print(\"hello world!!\")"
   ]
  },
  {
   "cell_type": "code",
   "execution_count": 11,
   "id": "8d0c2f37",
   "metadata": {},
   "outputs": [
    {
     "data": {
      "text/plain": [
       "\"\\n# 파이썬 모듈 작성\\n\\n- '%%' 명령어는 헤더 부분 아래의 여러 줄을 작성 가능  \\n- %%writefile은 다양한 파일 만들 수 있음\\n\\n\""
      ]
     },
     "execution_count": 11,
     "metadata": {},
     "output_type": "execute_result"
    }
   ],
   "source": [
    "\"\"\"\n",
    "# 파이썬 모듈 작성\n",
    "\n",
    "- '%%' 명령어는 헤더 부분 아래의 여러 줄을 작성 가능  \n",
    "- %%writefile은 다양한 파일 만들 수 있음\n",
    "\n",
    "\"\"\""
   ]
  },
  {
   "cell_type": "code",
   "execution_count": 22,
   "id": "a006cf77",
   "metadata": {},
   "outputs": [
    {
     "name": "stdout",
     "output_type": "stream",
     "text": [
      "Overwriting hi.py\n"
     ]
    }
   ],
   "source": [
    "%%writefile hi.py\n",
    "print(\"Hello Wolrd!!\")\n",
    "print(\"I'm Yeonuel\")\n",
    "print(\"i'm so happy!!!^^\")"
   ]
  },
  {
   "cell_type": "code",
   "execution_count": 18,
   "id": "4c5f2a7d",
   "metadata": {},
   "outputs": [
    {
     "data": {
      "text/plain": [
       "\" \\n# 디렉토리 확인\\n\\n- '%' 명령어는 os 명령어를 처리할 수 있음 \\n\\n# os 내의 명령어 사용\\n\\n- ! + os 명령어 실행 \\n\""
      ]
     },
     "execution_count": 18,
     "metadata": {},
     "output_type": "execute_result"
    }
   ],
   "source": [
    "\"\"\" \n",
    "# 디렉토리 확인\n",
    "\n",
    "- '%' 명령어는 os 명령어를 처리할 수 있음 \n",
    "\n",
    "# os 내의 명령어 사용\n",
    "\n",
    "- ! + os 명령어 실행 \n",
    "\"\"\""
   ]
  },
  {
   "cell_type": "code",
   "execution_count": 17,
   "id": "b08ddc57",
   "metadata": {},
   "outputs": [
    {
     "name": "stdout",
     "output_type": "stream",
     "text": [
      "240711(ch02).ipynb\r\n",
      "\u001b[1m\u001b[36mApplications\u001b[m\u001b[m/\r\n",
      "\u001b[1m\u001b[36mApplications (Parallels)\u001b[m\u001b[m/\r\n",
      "\u001b[1m\u001b[36mCreative Cloud Files\u001b[m\u001b[m/\r\n",
      "\u001b[1m\u001b[36mCreative Cloud Files (archived) (1)\u001b[m\u001b[m/\r\n",
      "\u001b[1m\u001b[36mCreative Cloud Files qwefghnm1212@naver.com b2b08629b2a910edfdb30fab4c9d3c4baaa212e9f9661cfa8f7464a29daafeac\u001b[m\u001b[m/\r\n",
      "\u001b[1m\u001b[36mDataGripProjects\u001b[m\u001b[m/\r\n",
      "\u001b[1m\u001b[36mDesktop\u001b[m\u001b[m/\r\n",
      "\u001b[1m\u001b[36mDocuments\u001b[m\u001b[m/\r\n",
      "\u001b[1m\u001b[36mDownloads\u001b[m\u001b[m/\r\n",
      "\u001b[35mGoogle Drive\u001b[m\u001b[m@\r\n",
      "\u001b[1m\u001b[36mLibrary\u001b[m\u001b[m/\r\n",
      "Main_2024_02_08_232722.jfr\r\n",
      "\u001b[1m\u001b[36mMovies\u001b[m\u001b[m/\r\n",
      "\u001b[1m\u001b[36mMusic\u001b[m\u001b[m/\r\n",
      "\u001b[1m\u001b[36mParallels\u001b[m\u001b[m/\r\n",
      "\u001b[1m\u001b[36mPictures\u001b[m\u001b[m/\r\n",
      "\u001b[1m\u001b[36mPostman\u001b[m\u001b[m/\r\n",
      "\u001b[1m\u001b[36mPostman Agent\u001b[m\u001b[m/\r\n",
      "\u001b[1m\u001b[36mPublic\u001b[m\u001b[m/\r\n",
      "Untitled.ipynb\r\n",
      "Untitled1.ipynb\r\n",
      "Untitled2.ipynb\r\n",
      "Untitled3.ipynb\r\n",
      "\u001b[1m\u001b[36mVirtual Machines.localized\u001b[m\u001b[m/\r\n",
      "\u001b[1m\u001b[36mVirtualBox VMs\u001b[m\u001b[m/\r\n",
      "\u001b[1m\u001b[36meclipse-workspace\u001b[m\u001b[m/\r\n",
      "\u001b[1m\u001b[36mgithub\u001b[m\u001b[m/\r\n",
      "helloworld.py\r\n",
      "hi.py\r\n",
      "\u001b[1m\u001b[36mhomework\u001b[m\u001b[m/\r\n",
      "\u001b[1m\u001b[36miCloud Drive(아카이브)\u001b[m\u001b[m/\r\n",
      "java_error_in_idea_33157.log\r\n",
      "java_error_in_idea_4550.log\r\n",
      "java_error_in_idea_667.log\r\n",
      "jbr_err_pid33157.log\r\n",
      "jbr_err_pid667.log\r\n",
      "\u001b[1m\u001b[36mopt\u001b[m\u001b[m/\r\n",
      "student.sql\r\n",
      "test2.mv.db\r\n"
     ]
    }
   ],
   "source": [
    "%ls"
   ]
  },
  {
   "cell_type": "code",
   "execution_count": 19,
   "id": "3a4de433",
   "metadata": {},
   "outputs": [
    {
     "name": "stdout",
     "output_type": "stream",
     "text": [
      "240711(ch02).ipynb\r\n",
      "\u001b[1m\u001b[36mApplications\u001b[m\u001b[m\r\n",
      "\u001b[1m\u001b[36mApplications (Parallels)\u001b[m\u001b[m\r\n",
      "\u001b[1m\u001b[36mCreative Cloud Files\u001b[m\u001b[m\r\n",
      "\u001b[1m\u001b[36mCreative Cloud Files (archived) (1)\u001b[m\u001b[m\r\n",
      "\u001b[1m\u001b[36mCreative Cloud Files qwefghnm1212@naver.com b2b08629b2a910edfdb30fab4c9d3c4baaa212e9f9661cfa8f7464a29daafeac\u001b[m\u001b[m\r\n",
      "\u001b[1m\u001b[36mDataGripProjects\u001b[m\u001b[m\r\n",
      "\u001b[1m\u001b[36mDesktop\u001b[m\u001b[m\r\n",
      "\u001b[1m\u001b[36mDocuments\u001b[m\u001b[m\r\n",
      "\u001b[1m\u001b[36mDownloads\u001b[m\u001b[m\r\n",
      "\u001b[35mGoogle Drive\u001b[m\u001b[m\r\n",
      "\u001b[1m\u001b[36mLibrary\u001b[m\u001b[m\r\n",
      "Main_2024_02_08_232722.jfr\r\n",
      "\u001b[1m\u001b[36mMovies\u001b[m\u001b[m\r\n",
      "\u001b[1m\u001b[36mMusic\u001b[m\u001b[m\r\n",
      "\u001b[1m\u001b[36mParallels\u001b[m\u001b[m\r\n",
      "\u001b[1m\u001b[36mPictures\u001b[m\u001b[m\r\n",
      "\u001b[1m\u001b[36mPostman\u001b[m\u001b[m\r\n",
      "\u001b[1m\u001b[36mPostman Agent\u001b[m\u001b[m\r\n",
      "\u001b[1m\u001b[36mPublic\u001b[m\u001b[m\r\n",
      "Untitled.ipynb\r\n",
      "Untitled1.ipynb\r\n",
      "Untitled2.ipynb\r\n",
      "Untitled3.ipynb\r\n",
      "\u001b[1m\u001b[36mVirtual Machines.localized\u001b[m\u001b[m\r\n",
      "\u001b[1m\u001b[36mVirtualBox VMs\u001b[m\u001b[m\r\n",
      "\u001b[1m\u001b[36meclipse-workspace\u001b[m\u001b[m\r\n",
      "\u001b[1m\u001b[36mgithub\u001b[m\u001b[m\r\n",
      "helloworld.py\r\n",
      "hi.py\r\n",
      "\u001b[1m\u001b[36mhomework\u001b[m\u001b[m\r\n",
      "\u001b[1m\u001b[36miCloud Drive(아카이브)\u001b[m\u001b[m\r\n",
      "java_error_in_idea_33157.log\r\n",
      "java_error_in_idea_4550.log\r\n",
      "java_error_in_idea_667.log\r\n",
      "jbr_err_pid33157.log\r\n",
      "jbr_err_pid667.log\r\n",
      "\u001b[1m\u001b[36mopt\u001b[m\u001b[m\r\n",
      "student.sql\r\n",
      "test2.mv.db\r\n"
     ]
    }
   ],
   "source": [
    "!ls"
   ]
  },
  {
   "cell_type": "code",
   "execution_count": 20,
   "id": "077fd626",
   "metadata": {},
   "outputs": [
    {
     "data": {
      "text/plain": [
       "'\\n# 파이썬 모듈 실행\\n'"
      ]
     },
     "execution_count": 20,
     "metadata": {},
     "output_type": "execute_result"
    }
   ],
   "source": [
    "\"\"\"\n",
    "# 파이썬 모듈 실행\n",
    "\"\"\""
   ]
  },
  {
   "cell_type": "code",
   "execution_count": 23,
   "id": "8f413c52",
   "metadata": {},
   "outputs": [
    {
     "name": "stdout",
     "output_type": "stream",
     "text": [
      "Hello Wolrd!!\r\n",
      "I'm Yeonuel\r\n",
      "i'm so happy!!!^^\r\n"
     ]
    }
   ],
   "source": [
    "!python hi.py"
   ]
  },
  {
   "cell_type": "code",
   "execution_count": 24,
   "id": "6a31f11d",
   "metadata": {},
   "outputs": [
    {
     "name": "stdout",
     "output_type": "stream",
     "text": [
      "Hello Wolrd!!\n",
      "I'm Yeonuel\n",
      "i'm so happy!!!^^\n"
     ]
    }
   ],
   "source": [
    "%run hi.py"
   ]
  },
  {
   "cell_type": "code",
   "execution_count": 25,
   "id": "25a7565e",
   "metadata": {},
   "outputs": [],
   "source": [
    "import keyword"
   ]
  },
  {
   "cell_type": "code",
   "execution_count": 26,
   "id": "7dc32261",
   "metadata": {},
   "outputs": [
    {
     "data": {
      "text/plain": [
       "36"
      ]
     },
     "execution_count": 26,
     "metadata": {},
     "output_type": "execute_result"
    }
   ],
   "source": [
    "len(keyword.kwlist)"
   ]
  },
  {
   "cell_type": "code",
   "execution_count": 27,
   "id": "1290103c",
   "metadata": {},
   "outputs": [
    {
     "name": "stdout",
     "output_type": "stream",
     "text": [
      "False, None, True, __peg_parser__, and, as, assert, async, await, break, class, continue, def, del, elif, else, except, finally, for, from, global, if, import, in, is, lambda, nonlocal, not, or, pass, raise, return, try, while, with, yield, "
     ]
    }
   ],
   "source": [
    "\"\"\" 예약어를 출력 \"\"\"\n",
    "for k in keyword.kwlist : \n",
    "    print(k, end = \", \")"
   ]
  },
  {
   "cell_type": "code",
   "execution_count": 28,
   "id": "139f49fc",
   "metadata": {},
   "outputs": [],
   "source": [
    "if_ = 100"
   ]
  },
  {
   "cell_type": "code",
   "execution_count": 29,
   "id": "8757cf23",
   "metadata": {},
   "outputs": [
    {
     "data": {
      "text/plain": [
       "300"
      ]
     },
     "execution_count": 29,
     "metadata": {},
     "output_type": "execute_result"
    }
   ],
   "source": [
    "if_ + 200"
   ]
  },
  {
   "cell_type": "code",
   "execution_count": 32,
   "id": "14ac3776",
   "metadata": {},
   "outputs": [
    {
     "data": {
      "text/plain": [
       "100"
      ]
     },
     "execution_count": 32,
     "metadata": {},
     "output_type": "execute_result"
    }
   ],
   "source": [
    "\"\"\" 이름과 값 구조로 식별자를 관리 \"\"\"\n",
    "\n",
    "\"\"\" 값은 하나의 객체 \"\"\"\n",
    "100"
   ]
  },
  {
   "cell_type": "code",
   "execution_count": 34,
   "id": "5d928161",
   "metadata": {},
   "outputs": [
    {
     "data": {
      "text/plain": [
       "int"
      ]
     },
     "execution_count": 34,
     "metadata": {},
     "output_type": "execute_result"
    }
   ],
   "source": [
    "\"\"\" 모든 값은 객체 -> 클래스가 존재함 \"\"\"\n",
    "type(100)"
   ]
  },
  {
   "cell_type": "code",
   "execution_count": 37,
   "id": "f6f553a4",
   "metadata": {},
   "outputs": [
    {
     "data": {
      "text/plain": [
       "True"
      ]
     },
     "execution_count": 37,
     "metadata": {},
     "output_type": "execute_result"
    }
   ],
   "source": [
    "\"\"\" 객체가 어떤 클래스로 만들어졌는지 확인 \"\"\"\n",
    "isinstance(100, int)"
   ]
  },
  {
   "cell_type": "code",
   "execution_count": 38,
   "id": "272ebfcf",
   "metadata": {},
   "outputs": [
    {
     "data": {
      "text/plain": [
       "'int'"
      ]
     },
     "execution_count": 38,
     "metadata": {},
     "output_type": "execute_result"
    }
   ],
   "source": [
    "type(100).__name__"
   ]
  },
  {
   "cell_type": "code",
   "execution_count": 39,
   "id": "c02f88fa",
   "metadata": {},
   "outputs": [],
   "source": [
    "a = 100; b = 200; c = a+b"
   ]
  },
  {
   "cell_type": "code",
   "execution_count": 41,
   "id": "51bec0d3",
   "metadata": {},
   "outputs": [
    {
     "data": {
      "text/plain": [
       "<object at 0x7f8769ed3a10>"
      ]
     },
     "execution_count": 41,
     "metadata": {},
     "output_type": "execute_result"
    }
   ],
   "source": [
    "\"\"\" 최상위 클래스 = iv 없는 객체 \"\"\"\n",
    "\n",
    "o = object()\n",
    "o"
   ]
  },
  {
   "cell_type": "code",
   "execution_count": 42,
   "id": "aaadd562",
   "metadata": {},
   "outputs": [
    {
     "data": {
      "text/plain": [
       "140219574467088"
      ]
     },
     "execution_count": 42,
     "metadata": {},
     "output_type": "execute_result"
    }
   ],
   "source": [
    "id(o)"
   ]
  },
  {
   "cell_type": "code",
   "execution_count": 45,
   "id": "23edc864",
   "metadata": {},
   "outputs": [
    {
     "data": {
      "text/plain": [
       "'\\n# 프로그램 언어의 발전 방향\\n\\n- 절차지향 -> OOP -> FP\\n- 발전방향은 하드웨어 발전에 맞춰 변화\\n- 프로그램 실행환경도 vm 위에서 실행 -> 프로그램 언어를 컴파일/인터프리팅 처리해서 바이트 코드(어셈블리어)로 변환\\n- 프로그램 언어 실행환경이 VM으로 전환 -> 다양한 os 환경에서 동일한 프로그램 실행\\n\\n# 변수 사용 목적\\n\\n- 특정 값을 관리하는 공간, 이를 관리하는 이름\\n\\n# 변수의 정의 \\n\\n- 변수는 식별자 -> 모듈, 함수, 클래스 내에 정의 가능\\n- 변수 -> 매개변수, lv\\n- 모듈에 정의하는 gv(전역변수), 클래스 내부에 정의하는 iv\\n\\n# 변수 타입 지정 가능, 하지만 값을 할당하지 않으면 변수취급 안함\\n\\n- 하나의 주석으로 인식\\n- 변수는 값을 할당해야 정의됨\\n- 파이썬에는 변수를 저장하고 관리하는 영역인 네임스페이스가 있음\\n    - 변수 정의 : 네임 스페이스에 등록\\n    - [키 = 변수 이름, 값 = 할당 값]\\n    \\n'"
      ]
     },
     "execution_count": 45,
     "metadata": {},
     "output_type": "execute_result"
    }
   ],
   "source": [
    "\"\"\"\n",
    "# 프로그램 언어의 발전 방향\n",
    "\n",
    "- 절차지향 -> OOP -> FP\n",
    "- 발전방향은 하드웨어 발전에 맞춰 변화\n",
    "- 프로그램 실행환경도 vm 위에서 실행 -> 프로그램 언어를 컴파일/인터프리팅 처리해서 바이트 코드(어셈블리어)로 변환\n",
    "- 프로그램 언어 실행환경이 VM으로 전환 -> 다양한 os 환경에서 동일한 프로그램 실행\n",
    "\n",
    "# 변수 사용 목적\n",
    "\n",
    "- 특정 값을 관리하는 공간, 이를 관리하는 이름\n",
    "\n",
    "# 변수의 정의 \n",
    "\n",
    "- 변수는 식별자 -> 모듈, 함수, 클래스 내에 정의 가능\n",
    "- 변수 -> 매개변수, lv\n",
    "- 모듈에 정의하는 gv(전역변수), 클래스 내부에 정의하는 iv\n",
    "\n",
    "# 변수 타입 지정 가능, 하지만 값을 할당하지 않으면 변수취급 안함\n",
    "\n",
    "- 하나의 주석으로 인식\n",
    "- 변수는 값을 할당해야 정의됨\n",
    "- 파이썬에는 변수를 저장하고 관리하는 영역인 네임스페이스가 있음\n",
    "    - 변수 정의 : 네임 스페이스에 등록\n",
    "    - [키 = 변수 이름, 값 = 할당 값]\n",
    "\n",
    "# 주피터 노트북 파일 = 모듈\n",
    "\n",
    "- 모듈에는 네임스페이스가 있음\n",
    "- 모듈에 정의된 변수 -> gv(전역변수)\n",
    "- 모듈의 함수에 정의된 변수 -> lv\n",
    "    - 정의된 위치에 따라 구분해서 관리\n",
    "    - gv, lv를 따로 관리\n",
    "\"\"\""
   ]
  },
  {
   "cell_type": "code",
   "execution_count": 44,
   "id": "e6a668b3",
   "metadata": {},
   "outputs": [
    {
     "name": "stdout",
     "output_type": "stream",
     "text": [
      "name 'var' is not defined\n"
     ]
    }
   ],
   "source": [
    "var : int\n",
    "    \n",
    "try : \n",
    "    var\n",
    "except Exception as e : \n",
    "    print(e)"
   ]
  },
  {
   "cell_type": "code",
   "execution_count": 48,
   "id": "ca4cd9ae",
   "metadata": {},
   "outputs": [
    {
     "data": {
      "text/plain": [
       "300"
      ]
     },
     "execution_count": 48,
     "metadata": {},
     "output_type": "execute_result"
    }
   ],
   "source": [
    "\"\"\"\n",
    "모듈 내의 네임스페이스를 불러와서 변수 이름으로 변수의 값을 조회\n",
    "\"\"\"\n",
    "var = 300\n",
    "globals()['var']"
   ]
  },
  {
   "cell_type": "code",
   "execution_count": 49,
   "id": "7462be0b",
   "metadata": {},
   "outputs": [
    {
     "data": {
      "text/plain": [
       "400"
      ]
     },
     "execution_count": 49,
     "metadata": {},
     "output_type": "execute_result"
    }
   ],
   "source": [
    "globals()['var'] + 100"
   ]
  },
  {
   "cell_type": "code",
   "execution_count": 50,
   "id": "f1bf7d2f",
   "metadata": {},
   "outputs": [
    {
     "data": {
      "text/plain": [
       "10"
      ]
     },
     "execution_count": 50,
     "metadata": {},
     "output_type": "execute_result"
    }
   ],
   "source": [
    "\"\"\"\n",
    "# 변수에 저장된 값의 자료형 확인\n",
    "\n",
    "- 파이썬에서 자료형은 모두 클래스\n",
    "- 모든 것이 객체, 함수도 하나의 객체 -> 자료형인 함수 클래스를 가지고 있음\n",
    "\n",
    "\"\"\"\n",
    "\n",
    "import types\n",
    "\n",
    "sum([1, 2, 3, 4])"
   ]
  },
  {
   "cell_type": "code",
   "execution_count": 51,
   "id": "e130b4ea",
   "metadata": {},
   "outputs": [
    {
     "data": {
      "text/plain": [
       "False"
      ]
     },
     "execution_count": 51,
     "metadata": {},
     "output_type": "execute_result"
    }
   ],
   "source": [
    "type(sum) == types.FunctionType"
   ]
  },
  {
   "cell_type": "code",
   "execution_count": 52,
   "id": "e104b7e2",
   "metadata": {},
   "outputs": [
    {
     "data": {
      "text/plain": [
       "True"
      ]
     },
     "execution_count": 52,
     "metadata": {},
     "output_type": "execute_result"
    }
   ],
   "source": [
    "type(sum) ==  types.BuiltinFunctionType"
   ]
  },
  {
   "cell_type": "code",
   "execution_count": 53,
   "id": "1d0e3e72",
   "metadata": {},
   "outputs": [
    {
     "data": {
      "text/plain": [
       "builtin_function_or_method"
      ]
     },
     "execution_count": 53,
     "metadata": {},
     "output_type": "execute_result"
    }
   ],
   "source": [
    "type(sum)"
   ]
  },
  {
   "cell_type": "code",
   "execution_count": 54,
   "id": "9094b1e5",
   "metadata": {},
   "outputs": [
    {
     "data": {
      "text/plain": [
       "True"
      ]
     },
     "execution_count": 54,
     "metadata": {},
     "output_type": "execute_result"
    }
   ],
   "source": [
    "def myFun() : \n",
    "    pass\n",
    "\n",
    "type(myFun) == types.FunctionType"
   ]
  },
  {
   "cell_type": "code",
   "execution_count": 56,
   "id": "2cc4ed50",
   "metadata": {},
   "outputs": [
    {
     "data": {
      "text/plain": [
       "True"
      ]
     },
     "execution_count": 56,
     "metadata": {},
     "output_type": "execute_result"
    }
   ],
   "source": [
    "class A : \n",
    "    def method(self) : \n",
    "        pass\n",
    "    \n",
    "type(A().method) == types.MethodType"
   ]
  },
  {
   "cell_type": "code",
   "execution_count": 57,
   "id": "34721a20",
   "metadata": {},
   "outputs": [
    {
     "data": {
      "text/plain": [
       "(100, 100, 100, 100)"
      ]
     },
     "execution_count": 57,
     "metadata": {},
     "output_type": "execute_result"
    }
   ],
   "source": [
    "\"\"\"\n",
    "# 변수를 콤마로 구분해서 처리할 때 주의\n",
    "\n",
    "- 콤마로 분리 -> 튜플 처리\n",
    "- 여러 변수를 지정하고 값을 하나만 할당하면 예외 발생 \n",
    "\"\"\"\n",
    "\n",
    "x = y = z = k = 100\n",
    "x, y, z, k"
   ]
  },
  {
   "cell_type": "code",
   "execution_count": 59,
   "id": "bd262c3b",
   "metadata": {},
   "outputs": [],
   "source": [
    "try : \n",
    "    a, b, c, d = 100\n",
    "    \n",
    "except Exception as e : \n",
    "    print(e)"
   ]
  },
  {
   "cell_type": "code",
   "execution_count": 60,
   "id": "ccfe2288",
   "metadata": {},
   "outputs": [
    {
     "data": {
      "text/plain": [
       "(1, 2, 3, 4, 5)"
      ]
     },
     "execution_count": 60,
     "metadata": {},
     "output_type": "execute_result"
    }
   ],
   "source": [
    "\"\"\"\n",
    "# 튜플 -> 여러 변수에 값 나눔\n",
    "\n",
    "- 튜플은 여러 원소를 가지는 자료구조\n",
    "- 튜플은 불변\n",
    "\n",
    "\"\"\"\n",
    "\n",
    "t = tuple([1, 2, 3, 4, 5])\n",
    "a, b, c, d, e = t\n",
    "a, b, c, d, e"
   ]
  },
  {
   "cell_type": "code",
   "execution_count": 61,
   "id": "d56db5d9",
   "metadata": {},
   "outputs": [],
   "source": [
    "\"\"\"\n",
    "# 콤마가 튜플 -> 임시 변수 없이도 두 변수의 값 교환 가능\n",
    "\"\"\"\n",
    "\n",
    "x = 100; y = 200\n",
    "x,y = y,x"
   ]
  },
  {
   "cell_type": "code",
   "execution_count": 62,
   "id": "9b44061f",
   "metadata": {},
   "outputs": [
    {
     "data": {
      "text/plain": [
       "(200, 100)"
      ]
     },
     "execution_count": 62,
     "metadata": {},
     "output_type": "execute_result"
    }
   ],
   "source": [
    "x, y"
   ]
  },
  {
   "cell_type": "code",
   "execution_count": 63,
   "id": "15ab1bcb",
   "metadata": {},
   "outputs": [
    {
     "data": {
      "text/plain": [
       "(1, [2, 3, 4, 5, 6], 7)"
      ]
     },
     "execution_count": 63,
     "metadata": {},
     "output_type": "execute_result"
    }
   ],
   "source": [
    "\"\"\"\n",
    "# 원소 많음 -> 변수 앞에 별표 붙여서 처리 가능\n",
    "\"\"\"\n",
    "\n",
    "a, *b, c = (1, 2, 3, 4, 5, 6, 7)\n",
    "a, b, c"
   ]
  },
  {
   "cell_type": "code",
   "execution_count": 64,
   "id": "06e26cc1",
   "metadata": {},
   "outputs": [
    {
     "data": {
      "text/plain": [
       "60"
      ]
     },
     "execution_count": 64,
     "metadata": {},
     "output_type": "execute_result"
    }
   ],
   "source": [
    "\"\"\"\n",
    "# 표현식을 문자열로 작성하고 평가 가능\n",
    "\"\"\"\n",
    "\n",
    "a = 10; b = 20; c = 30\n",
    "s = \"a + b + c\"\n",
    "eval(s)"
   ]
  },
  {
   "cell_type": "code",
   "execution_count": 65,
   "id": "d5a554c0",
   "metadata": {},
   "outputs": [
    {
     "name": "stdout",
     "output_type": "stream",
     "text": [
      "__doc__, __file__, __loader__, __name__, __package__, __spec__, acos, acosh, asin, asinh, atan, atan2, atanh, ceil, comb, copysign, cos, cosh, degrees, dist, e, erf, erfc, exp, expm1, fabs, factorial, floor, fmod, frexp, fsum, gamma, gcd, hypot, inf, isclose, isfinite, isinf, isnan, isqrt, lcm, ldexp, lgamma, log, log10, log1p, log2, modf, nan, nextafter, perm, pi, pow, prod, radians, remainder, sin, sinh, sqrt, tan, tanh, tau, trunc, ulp, "
     ]
    }
   ],
   "source": [
    "\"\"\"\n",
    "# 모듈 내의 변수, 함수 파악\n",
    "\"\"\"\n",
    "\n",
    "import math as m\n",
    "\n",
    "m.__name__\n",
    "\n",
    "for i in dir(m) :\n",
    "    print(i, end = \", \")"
   ]
  },
  {
   "cell_type": "code",
   "execution_count": 67,
   "id": "d448a454",
   "metadata": {},
   "outputs": [
    {
     "data": {
      "text/plain": [
       "40000"
      ]
     },
     "execution_count": 67,
     "metadata": {},
     "output_type": "execute_result"
    }
   ],
   "source": [
    "\"\"\"\n",
    "# 연산자 파악\n",
    "\n",
    "- 연산자 표기해도 실제 연산자는 내부적으로 메서드로 처리\n",
    "    - 모든 것이 객체\n",
    "\"\"\"\n",
    "\n",
    "aa = 100; bb = 200;\n",
    "\n",
    "aa ** 2\n",
    "bb ** 2"
   ]
  },
  {
   "cell_type": "code",
   "execution_count": 68,
   "id": "31b44988",
   "metadata": {},
   "outputs": [
    {
     "data": {
      "text/plain": [
       "300"
      ]
     },
     "execution_count": 68,
     "metadata": {},
     "output_type": "execute_result"
    }
   ],
   "source": [
    "aa + bb"
   ]
  },
  {
   "cell_type": "code",
   "execution_count": 69,
   "id": "07b34bae",
   "metadata": {},
   "outputs": [
    {
     "data": {
      "text/plain": [
       "300"
      ]
     },
     "execution_count": 69,
     "metadata": {},
     "output_type": "execute_result"
    }
   ],
   "source": [
    "aa.__add__(bb)"
   ]
  },
  {
   "cell_type": "code",
   "execution_count": 70,
   "id": "3a348b7f",
   "metadata": {},
   "outputs": [
    {
     "data": {
      "text/plain": [
       "0.5"
      ]
     },
     "execution_count": 70,
     "metadata": {},
     "output_type": "execute_result"
    }
   ],
   "source": [
    "aa / bb"
   ]
  },
  {
   "cell_type": "code",
   "execution_count": 71,
   "id": "99f22307",
   "metadata": {},
   "outputs": [
    {
     "data": {
      "text/plain": [
       "0"
      ]
     },
     "execution_count": 71,
     "metadata": {},
     "output_type": "execute_result"
    }
   ],
   "source": [
    "aa // bb"
   ]
  },
  {
   "cell_type": "code",
   "execution_count": 72,
   "id": "a80a7cfe",
   "metadata": {},
   "outputs": [
    {
     "data": {
      "text/plain": [
       "0"
      ]
     },
     "execution_count": 72,
     "metadata": {},
     "output_type": "execute_result"
    }
   ],
   "source": [
    "aa.__floordiv__(bb)"
   ]
  },
  {
   "cell_type": "code",
   "execution_count": 73,
   "id": "4b900a75",
   "metadata": {},
   "outputs": [
    {
     "data": {
      "text/plain": [
       "0.5"
      ]
     },
     "execution_count": 73,
     "metadata": {},
     "output_type": "execute_result"
    }
   ],
   "source": [
    "aa.__truediv__(bb)"
   ]
  },
  {
   "cell_type": "code",
   "execution_count": 75,
   "id": "7905c5f4",
   "metadata": {},
   "outputs": [
    {
     "data": {
      "text/plain": [
       "'문자열        ggg 00100 200.11  '"
      ]
     },
     "execution_count": 75,
     "metadata": {},
     "output_type": "execute_result"
    }
   ],
   "source": [
    "\"\"\"\n",
    "# 문자열 포맷팅\n",
    "\n",
    "- 문자열로 출력 만듦\n",
    "\n",
    "\"\"\"\n",
    "\n",
    "\"문자열 %+10s %05d %5.2f  \" % (\"ggg\",100,200.11)\n",
    "format(\"문자열 %+10s %05d %5.2f  \" % (\"ggg\",100,200.11))"
   ]
  },
  {
   "cell_type": "code",
   "execution_count": 76,
   "id": "cb197a60",
   "metadata": {},
   "outputs": [
    {
     "data": {
      "text/plain": [
       "'문자열 ggg 100 200.110000 '"
      ]
     },
     "execution_count": 76,
     "metadata": {},
     "output_type": "execute_result"
    }
   ],
   "source": [
    "\"문자열 {:s} {:d} {:f} \".format(\"ggg\",100,200.11)"
   ]
  },
  {
   "cell_type": "code",
   "execution_count": 77,
   "id": "94b9cd78",
   "metadata": {},
   "outputs": [
    {
     "data": {
      "text/plain": [
       "'문자열 ggg        00100 200.11'"
      ]
     },
     "execution_count": 77,
     "metadata": {},
     "output_type": "execute_result"
    }
   ],
   "source": [
    "a = \"ggg\"; b=100; c=200.11\n",
    "f\"문자열 {a:<10s} {b:05d} {c:5.2f}\"\n",
    "\n"
   ]
  },
  {
   "cell_type": "code",
   "execution_count": 78,
   "id": "e3522762",
   "metadata": {},
   "outputs": [
    {
     "name": "stdout",
     "output_type": "stream",
     "text": [
      "Hello World\n"
     ]
    }
   ],
   "source": [
    "a =\"Hello\" ; b=\"World\"\n",
    "print(f\"{a} {b}\")"
   ]
  },
  {
   "cell_type": "code",
   "execution_count": null,
   "id": "6ac63c7f",
   "metadata": {},
   "outputs": [],
   "source": []
  }
 ],
 "metadata": {
  "kernelspec": {
   "display_name": "Python 3 (ipykernel)",
   "language": "python",
   "name": "python3"
  },
  "language_info": {
   "codemirror_mode": {
    "name": "ipython",
    "version": 3
   },
   "file_extension": ".py",
   "mimetype": "text/x-python",
   "name": "python",
   "nbconvert_exporter": "python",
   "pygments_lexer": "ipython3",
   "version": "3.9.12"
  }
 },
 "nbformat": 4,
 "nbformat_minor": 5
}
