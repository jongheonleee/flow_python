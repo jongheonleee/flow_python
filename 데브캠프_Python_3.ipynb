{
 "cells": [
  {
   "cell_type": "code",
   "execution_count": 1,
   "id": "ea5589fd",
   "metadata": {},
   "outputs": [
    {
     "data": {
      "text/plain": [
       "'\\n튜플 : n개 값을 묶은 것\\n'"
      ]
     },
     "execution_count": 1,
     "metadata": {},
     "output_type": "execute_result"
    }
   ],
   "source": [
    "\"\"\"\n",
    "- 튜플 : n개 값을 묶은 것\n",
    "- for - else 문이 있음, break 문으로 빠져 나가면 else 문 실행 못함 \n",
    "- 파이썬의 삼항 연산자는 자바와 형식이 약간 상이함 \n",
    "    - a if a % 2 == 0 else b\n",
    "- pass = {}\n",
    "- () <- 연산자, 실제로는 인터프리터가 .__call__() 호출함 \n",
    "- 함수 = 호출할 수 있는 객체, callable\n",
    "    - 모든 함수의 조상 = 함수 클래스(function)\n",
    "    \n",
    "- .__annotations__ : 객체 애너테이션 정보 반환, 타입 정보, 부가 정보 ... \n",
    "\n",
    "- 파이썬에서 예외문은 밑에와 같음\n",
    "    - (1) try - except - else, 예외가 있을 때 else문 처리 안함\n",
    "    - (2) try - except - else - finally, finally 는 항상 호출됨 \n",
    "    \n",
    "- 컴프리헨션 -> 집합처럼 표현한 것 {x | x e 2의 배수}\n",
    "    - { x for x in range(100) if x % 2 == 0}\n",
    "    \n",
    "- 람다 -> lambda 키워드 사용\n",
    "    - lambda 입력 : 출력 \n",
    "    \n",
    "- 동적 타입 체크\n",
    "- globals() : 전역 멤버, dict / locals() : 지역 멤버, dict(쉽게 맵이라고 생각)\n",
    "\"\"\"\n",
    "\n",
    "\"\"\"\n",
    "- 참고 링크1 : https://github.com/zerosum99/python_block/blob/main/%ED%8C%8C%EC%9D%B4%EC%8D%AC%20%EA%B0%95%EC%9D%98/day1_4_python%20%EC%A0%9C%EC%96%B4%EB%AC%B8%20%EC%88%9C%ED%99%98%EB%AC%B8.ipynb\n",
    "- 참고 링크2 : https://github.com/zerosum99/python_block/blob/main/%ED%8C%8C%EC%9D%B4%EC%8D%AC%20%EA%B0%95%EC%9D%98/day2_1_python_%ED%95%A8%EC%88%98%20%EA%B8%B0%EC%B4%88.ipynb\n",
    "\"\"\""
   ]
  },
  {
   "cell_type": "code",
   "execution_count": null,
   "id": "147957aa",
   "metadata": {},
   "outputs": [],
   "source": []
  }
 ],
 "metadata": {
  "kernelspec": {
   "display_name": "Python 3 (ipykernel)",
   "language": "python",
   "name": "python3"
  },
  "language_info": {
   "codemirror_mode": {
    "name": "ipython",
    "version": 3
   },
   "file_extension": ".py",
   "mimetype": "text/x-python",
   "name": "python",
   "nbconvert_exporter": "python",
   "pygments_lexer": "ipython3",
   "version": "3.9.12"
  }
 },
 "nbformat": 4,
 "nbformat_minor": 5
}
