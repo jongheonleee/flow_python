{
 "cells": [
  {
   "cell_type": "code",
   "execution_count": 3,
   "id": "776e1d47",
   "metadata": {},
   "outputs": [
    {
     "data": {
      "text/plain": [
       "'<img class=\"framed\" src=\"sunset.jpg\" title=\"Sunset Boulevard\" />'"
      ]
     },
     "execution_count": 3,
     "metadata": {},
     "output_type": "execute_result"
    }
   ],
   "source": [
    "def tag(name, *content, cls=None, **attrs) :\n",
    "    if cls is not None :\n",
    "        attrs['class'] = cls\n",
    "        \n",
    "    if attrs : \n",
    "        attr_str = ''.join(' %s=\"%s\"' % (attr, value)\n",
    "                    for attr, value in sorted(attrs.items()))\n",
    "            \n",
    "    else : \n",
    "        attr_str = ''\n",
    "        \n",
    "    if content : \n",
    "        return '/n'.join('<%s%s>%s</%s>' % (name, attr_str, c, name)\n",
    "                                                for c in content)\n",
    "    \n",
    "    else : \n",
    "        return '<%s%s />' % (name, attr_str)\n",
    "    \n",
    "tag('br')\n",
    "tag('p', 'hello')\n",
    "tag('p', 'hello', 'world')\n",
    "tag('p', 'hello', 'world', cls='siderbar')\n",
    "my_tag = {\n",
    "    'name' : 'img',\n",
    "    'title' : 'Sunset Boulevard',\n",
    "    'src' : 'sunset.jpg',\n",
    "    'cls' : 'framed'\n",
    "}\n",
    "tag(**my_tag)"
   ]
  },
  {
   "cell_type": "code",
   "execution_count": 10,
   "id": "c2d7faa7",
   "metadata": {},
   "outputs": [
    {
     "ename": "NameError",
     "evalue": "name 'bobo' is not defined",
     "output_type": "error",
     "traceback": [
      "\u001b[0;31m---------------------------------------------------------------------------\u001b[0m",
      "\u001b[0;31mNameError\u001b[0m                                 Traceback (most recent call last)",
      "Input \u001b[0;32mIn [10]\u001b[0m, in \u001b[0;36m<cell line: 1>\u001b[0;34m()\u001b[0m\n\u001b[0;32m----> 1\u001b[0m \u001b[38;5;129m@bobo\u001b[39m\u001b[38;5;241m.\u001b[39mquery(\u001b[38;5;124m'\u001b[39m\u001b[38;5;124m/\u001b[39m\u001b[38;5;124m'\u001b[39m)\n\u001b[1;32m      2\u001b[0m \u001b[38;5;28;01mdef\u001b[39;00m \u001b[38;5;21mhello\u001b[39m(person) : \n\u001b[1;32m      3\u001b[0m     \u001b[38;5;28;01mreturn\u001b[39;00m \u001b[38;5;124m'\u001b[39m\u001b[38;5;124mHello \u001b[39m\u001b[38;5;132;01m%s\u001b[39;00m\u001b[38;5;124m!\u001b[39m\u001b[38;5;124m'\u001b[39m \u001b[38;5;241m%\u001b[39m person\n",
      "\u001b[0;31mNameError\u001b[0m: name 'bobo' is not defined"
     ]
    }
   ],
   "source": [
    "@bobo.query('/')\n",
    "def hello(person) : \n",
    "    return 'Hello %s!' % person\n",
    "\n",
    "\n"
   ]
  },
  {
   "cell_type": "code",
   "execution_count": 9,
   "id": "389324be",
   "metadata": {},
   "outputs": [
    {
     "data": {
      "text/plain": [
       "(80,)"
      ]
     },
     "execution_count": 9,
     "metadata": {},
     "output_type": "execute_result"
    }
   ],
   "source": [
    "def clip(text, max_len=80) : \n",
    "    end = None\n",
    "    \n",
    "    if len(text) > max_len : \n",
    "        space_before = text.rfind(' ', 0, max_len)\n",
    "        \n",
    "        if space_before >= 0 :\n",
    "            end = space_before\n",
    "            \n",
    "        else : \n",
    "            space_after = text.rfind(' ', max_len)\n",
    "            \n",
    "            if space_after >= 0 :\n",
    "                end = space_after\n",
    "                \n",
    "    if end is None : \n",
    "        end = len(text)\n",
    "        \n",
    "    return text[:end].rstrip()\n",
    "\n",
    "\n",
    "clip.__defaults__"
   ]
  },
  {
   "cell_type": "code",
   "execution_count": 8,
   "id": "b27b0c81",
   "metadata": {},
   "outputs": [
    {
     "data": {
      "text/plain": [
       "{'text': str, 'max_len': 'int > 0', 'return': str}"
      ]
     },
     "execution_count": 8,
     "metadata": {},
     "output_type": "execute_result"
    }
   ],
   "source": [
    "\"\"\"\n",
    "어노테이션 적용한 함수\n",
    "- 어노테이션은 파이썬 인터프리터에 아무런 의미가 없음\n",
    "\"\"\"\n",
    "def clip(text : str, max_len : 'int > 0' = 80) -> str : \n",
    "    end = None\n",
    "    \n",
    "    if len(text) > max_len : \n",
    "        space_before = text.rfind(' ', 0, max_len)\n",
    "        \n",
    "        if space_before >= 0 :\n",
    "            end = space_before\n",
    "            \n",
    "        else : \n",
    "            space_after = text.rfind(' ', max_len)\n",
    "            \n",
    "            if space_after >= 0 :\n",
    "                end = space_after\n",
    "                \n",
    "    if end is None : \n",
    "        end = len(text)\n",
    "        \n",
    "    return text[:end].rstrip()\n",
    "\n",
    "\n",
    "clip.__annotations__"
   ]
  },
  {
   "cell_type": "code",
   "execution_count": 11,
   "id": "e37bbf91",
   "metadata": {},
   "outputs": [
    {
     "data": {
      "text/plain": [
       "'\\nsignature() : Signature 객체를 반환함\\n\\n- Signature에는 return_annotation과 parameters 속성이 있음\\n- parameters는 파라미터명을 Parameter 객체에 매핑하는 딕셔너리\\n- Parameter 객체는 annotation 속성을 가지고 있음\\n'"
      ]
     },
     "execution_count": 11,
     "metadata": {},
     "output_type": "execute_result"
    }
   ],
   "source": [
    "\"\"\"\n",
    "signature() : Signature 객체를 반환함\n",
    "\n",
    "- Signature에는 return_annotation과 parameters 속성이 있음\n",
    "- parameters는 파라미터명을 Parameter 객체에 매핑하는 딕셔너리\n",
    "- Parameter 객체는 annotation 속성을 가지고 있음\n",
    "\"\"\""
   ]
  },
  {
   "cell_type": "code",
   "execution_count": 13,
   "id": "7c823b55",
   "metadata": {},
   "outputs": [
    {
     "name": "stdout",
     "output_type": "stream",
     "text": [
      "('Sao Paulo', 'BR', 18.933, (231.443, 32.2315))\n",
      "('Tokyo', 'JP', 36.933, (35.443, 139.2315))\n",
      "('Seoul', 'KR', 32.933, (35.44213, 139.22))\n",
      "('New York', 'US', 20.933, (35.443, 139.2315))\n"
     ]
    }
   ],
   "source": [
    "metro_data = [\n",
    "    ('Tokyo', 'JP', 36.933, (35.443, 139.2315)),\n",
    "    ('Seoul', 'KR', 32.933, (35.44213, 139.22)),\n",
    "    ('New York', 'US', 20.933, (35.443, 139.2315)),\n",
    "    ('Sao Paulo', 'BR', 18.933, (231.443, 32.2315))\n",
    "]\n",
    "\n",
    "from operator import itemgetter\n",
    "\n",
    "for c in sorted(metro_data, key=itemgetter(1)) : \n",
    "    print(c)"
   ]
  },
  {
   "cell_type": "code",
   "execution_count": 25,
   "id": "f9c895e3",
   "metadata": {},
   "outputs": [
    {
     "name": "stdout",
     "output_type": "stream",
     "text": [
      "operator.itemgetter(1, 0)\n",
      "('JP', 'Tokyo')\n",
      "('KR', 'Seoul')\n",
      "('US', 'New York')\n",
      "('BR', 'Sao Paulo')\n"
     ]
    }
   ],
   "source": [
    "\"\"\"\n",
    "operator 모둘에서 지원하는 함수 2개\n",
    "\n",
    "- (1) itemgetter() \n",
    "    - 시퀀스에서 항목을 가져오는 람다를 대체해줌\n",
    "    - 여러 개 인덱스를 인수로 전달하면, 해당 인덱스의 값들로 구성된 튜플을 반환함\n",
    "    - [] 연산자 사용함\n",
    "    \n",
    "- (2) attrgetter() \n",
    "    - 이름으로 객체 속성을 추출하는 함수를 생성함\n",
    "    - 여러 속성명을 인수로 전달하면, 해당 속성값으로 구성된 튜플을 반환함\n",
    "    \n",
    "\"\"\"\n",
    "\n",
    "cc_name = itemgetter(1, 0)\n",
    "print(cc_name)\n",
    "\n",
    "for c in metro_data : \n",
    "    print(cc_name(c))"
   ]
  },
  {
   "cell_type": "code",
   "execution_count": 26,
   "id": "4e5851f9",
   "metadata": {},
   "outputs": [
    {
     "name": "stdout",
     "output_type": "stream",
     "text": [
      "['__add__', '__class__', '__class_getitem__', '__contains__', '__delattr__', '__dir__', '__doc__', '__eq__', '__format__', '__ge__', '__getattribute__', '__getitem__', '__getnewargs__', '__gt__', '__hash__', '__init__', '__init_subclass__', '__iter__', '__le__', '__len__', '__lt__', '__module__', '__mul__', '__ne__', '__new__', '__reduce__', '__reduce_ex__', '__repr__', '__rmul__', '__setattr__', '__sizeof__', '__slots__', '__str__', '__subclasshook__', '_asdict', '_field_defaults', '_fields', '_make', '_replace', 'cc', 'coord', 'count', 'index', 'name', 'pop']\n"
     ]
    },
    {
     "data": {
      "text/plain": [
       "Metropolis(name='Tokyo', cc='JP', pop=36.933, coord=LatLong(lat=35.443, long=139.2315))"
      ]
     },
     "execution_count": 26,
     "metadata": {},
     "output_type": "execute_result"
    }
   ],
   "source": [
    "from collections import namedtuple\n",
    "\n",
    "LatLong = namedtuple('LatLong', 'lat long')\n",
    "Metropolis = namedtuple('Metropolis', 'name cc pop coord')\n",
    "print(dir(Metropolis))\n",
    "\n",
    "metro_areas = [Metropolis(name, cc, pop, LatLong(lat, long))\n",
    "                  for name, cc, pop, (lat, long) in metro_data]\n",
    "metro_areas[0]"
   ]
  },
  {
   "cell_type": "code",
   "execution_count": 27,
   "id": "dfcac65a",
   "metadata": {},
   "outputs": [
    {
     "name": "stdout",
     "output_type": "stream",
     "text": [
      "operator.attrgetter('name', 'coord.lat')\n",
      "('Seoul', 35.44213)\n",
      "('Tokyo', 35.443)\n",
      "('New York', 35.443)\n",
      "('Sao Paulo', 231.443)\n"
     ]
    }
   ],
   "source": [
    "from operator import attrgetter\n",
    "\n",
    "name_lat = attrgetter('name', 'coord.lat')\n",
    "print(name_lat)\n",
    "\n",
    "\n",
    "for c in sorted(metro_areas, key=attrgetter('coord.lat')) : \n",
    "    print(name_lat(c))"
   ]
  },
  {
   "cell_type": "code",
   "execution_count": 29,
   "id": "831499d1",
   "metadata": {},
   "outputs": [
    {
     "data": {
      "text/plain": [
       "['abs',\n",
       " 'add',\n",
       " 'and_',\n",
       " 'attrgetter',\n",
       " 'concat',\n",
       " 'contains',\n",
       " 'countOf',\n",
       " 'delitem',\n",
       " 'eq',\n",
       " 'floordiv',\n",
       " 'ge',\n",
       " 'getitem',\n",
       " 'gt',\n",
       " 'iadd',\n",
       " 'iand',\n",
       " 'iconcat',\n",
       " 'ifloordiv',\n",
       " 'ilshift',\n",
       " 'imatmul',\n",
       " 'imod',\n",
       " 'imul',\n",
       " 'index',\n",
       " 'indexOf',\n",
       " 'inv',\n",
       " 'invert',\n",
       " 'ior',\n",
       " 'ipow',\n",
       " 'irshift',\n",
       " 'is_',\n",
       " 'is_not',\n",
       " 'isub',\n",
       " 'itemgetter',\n",
       " 'itruediv',\n",
       " 'ixor',\n",
       " 'le',\n",
       " 'length_hint',\n",
       " 'lshift',\n",
       " 'lt',\n",
       " 'matmul',\n",
       " 'methodcaller',\n",
       " 'mod',\n",
       " 'mul',\n",
       " 'ne',\n",
       " 'neg',\n",
       " 'not_',\n",
       " 'or_',\n",
       " 'pos',\n",
       " 'pow',\n",
       " 'rshift',\n",
       " 'setitem',\n",
       " 'sub',\n",
       " 'truediv',\n",
       " 'truth',\n",
       " 'xor']"
      ]
     },
     "execution_count": 29,
     "metadata": {},
     "output_type": "execute_result"
    }
   ],
   "source": [
    "import operator\n",
    "\n",
    "[name for name in dir(operator) if not name.startswith('_')]"
   ]
  },
  {
   "cell_type": "code",
   "execution_count": 30,
   "id": "d28c561e",
   "metadata": {},
   "outputs": [
    {
     "data": {
      "text/plain": [
       "'THE TIME HAS COME'"
      ]
     },
     "execution_count": 30,
     "metadata": {},
     "output_type": "execute_result"
    }
   ],
   "source": [
    "from operator import methodcaller\n",
    "\n",
    "s = 'The time has come'\n",
    "\n",
    "upcase = methodcaller('upper')\n",
    "upcase(s)"
   ]
  },
  {
   "cell_type": "code",
   "execution_count": 31,
   "id": "22ae4937",
   "metadata": {},
   "outputs": [
    {
     "data": {
      "text/plain": [
       "'The-time-has-come'"
      ]
     },
     "execution_count": 31,
     "metadata": {},
     "output_type": "execute_result"
    }
   ],
   "source": [
    "hiphenate = methodcaller('replace', ' ', '-')\n",
    "hiphenate(s)"
   ]
  },
  {
   "cell_type": "code",
   "execution_count": 32,
   "id": "9efbe8f3",
   "metadata": {},
   "outputs": [
    {
     "data": {
      "text/plain": [
       "'THE TIME HAS COME'"
      ]
     },
     "execution_count": 32,
     "metadata": {},
     "output_type": "execute_result"
    }
   ],
   "source": [
    "s.upper()"
   ]
  },
  {
   "cell_type": "code",
   "execution_count": 33,
   "id": "3cc23823",
   "metadata": {},
   "outputs": [
    {
     "data": {
      "text/plain": [
       "'THE TIME HAS COME'"
      ]
     },
     "execution_count": 33,
     "metadata": {},
     "output_type": "execute_result"
    }
   ],
   "source": [
    "str.upper(s)"
   ]
  },
  {
   "cell_type": "code",
   "execution_count": 34,
   "id": "031fe36b",
   "metadata": {},
   "outputs": [
    {
     "data": {
      "text/plain": [
       "21"
      ]
     },
     "execution_count": 34,
     "metadata": {},
     "output_type": "execute_result"
    }
   ],
   "source": [
    "from operator import mul\n",
    "from functools import partial\n",
    "\n",
    "\"\"\"\n",
    "mul 함수의 첫 번째 위치 인수를 3으로 바인딩해서 triple() 함수를 새로 만듦\n",
    "\"\"\"\n",
    "\n",
    "triple = partial(mul, 3)\n",
    "triple(7) "
   ]
  },
  {
   "cell_type": "code",
   "execution_count": 35,
   "id": "4d33f0ac",
   "metadata": {},
   "outputs": [
    {
     "data": {
      "text/plain": [
       "[3, 6, 9, 12, 15, 18, 21, 24, 27]"
      ]
     },
     "execution_count": 35,
     "metadata": {},
     "output_type": "execute_result"
    }
   ],
   "source": [
    "list(map(triple, range(1, 10)))"
   ]
  },
  {
   "cell_type": "code",
   "execution_count": 44,
   "id": "49adb9c1",
   "metadata": {},
   "outputs": [
    {
     "data": {
      "text/plain": [
       "('café', 'café')"
      ]
     },
     "execution_count": 44,
     "metadata": {},
     "output_type": "execute_result"
    }
   ],
   "source": [
    "\"\"\"\n",
    "- partial()을 이용해서 편리한 유니코드 정규화 함수 생성\n",
    "- functools.partial() 은 부분적으로 실행할 수 있게 해주는 고위함수\n",
    "- 어떤 함수가 있을 때 partial()을 적용하면 원래 함수의 일부 인수를 고정한 콜러블을 생성함 \n",
    "\"\"\"\n",
    "\n",
    "import unicodedata, functools\n",
    "\n",
    "nfc = functools.partial(unicodedata.normalize, 'NFC')\n",
    "s1 = 'café'\n",
    "s2 = 'cafe\\u0301'\n",
    "\n",
    "s1, s2"
   ]
  },
  {
   "cell_type": "code",
   "execution_count": 45,
   "id": "e0596935",
   "metadata": {},
   "outputs": [
    {
     "data": {
      "text/plain": [
       "True"
      ]
     },
     "execution_count": 45,
     "metadata": {},
     "output_type": "execute_result"
    }
   ],
   "source": [
    "s1 == s2"
   ]
  },
  {
   "cell_type": "code",
   "execution_count": 46,
   "id": "51972d6b",
   "metadata": {},
   "outputs": [
    {
     "data": {
      "text/plain": [
       "True"
      ]
     },
     "execution_count": 46,
     "metadata": {},
     "output_type": "execute_result"
    }
   ],
   "source": [
    "nfc(s1) == nfc(s2)"
   ]
  },
  {
   "cell_type": "code",
   "execution_count": 50,
   "id": "900e1b29",
   "metadata": {},
   "outputs": [
    {
     "data": {
      "text/plain": [
       "functools.partial(<function tag at 0x7fd9802a04c0>, 'img', cls='pic-frame')"
      ]
     },
     "execution_count": 50,
     "metadata": {},
     "output_type": "execute_result"
    }
   ],
   "source": [
    "tag\n",
    "picture = partial(tag, 'img', cls='pic-frame')\n",
    "picture(str = 'wumpus.jpeg')\n",
    "picture"
   ]
  },
  {
   "cell_type": "code",
   "execution_count": 51,
   "id": "ca5b6f4c",
   "metadata": {},
   "outputs": [
    {
     "data": {
      "text/plain": [
       "<function __main__.tag(name, *content, cls=None, **attrs)>"
      ]
     },
     "execution_count": 51,
     "metadata": {},
     "output_type": "execute_result"
    }
   ],
   "source": [
    "picture.func"
   ]
  },
  {
   "cell_type": "code",
   "execution_count": 52,
   "id": "082fb31a",
   "metadata": {},
   "outputs": [
    {
     "data": {
      "text/plain": [
       "('img',)"
      ]
     },
     "execution_count": 52,
     "metadata": {},
     "output_type": "execute_result"
    }
   ],
   "source": [
    "picture.args"
   ]
  },
  {
   "cell_type": "code",
   "execution_count": 53,
   "id": "b0de00b3",
   "metadata": {},
   "outputs": [
    {
     "data": {
      "text/plain": [
       "{'cls': 'pic-frame'}"
      ]
     },
     "execution_count": 53,
     "metadata": {},
     "output_type": "execute_result"
    }
   ],
   "source": [
    "picture.keywords"
   ]
  },
  {
   "cell_type": "code",
   "execution_count": null,
   "id": "e24d7480",
   "metadata": {},
   "outputs": [],
   "source": []
  }
 ],
 "metadata": {
  "kernelspec": {
   "display_name": "Python 3 (ipykernel)",
   "language": "python",
   "name": "python3"
  },
  "language_info": {
   "codemirror_mode": {
    "name": "ipython",
    "version": 3
   },
   "file_extension": ".py",
   "mimetype": "text/x-python",
   "name": "python",
   "nbconvert_exporter": "python",
   "pygments_lexer": "ipython3",
   "version": "3.9.12"
  }
 },
 "nbformat": 4,
 "nbformat_minor": 5
}
