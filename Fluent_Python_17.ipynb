{
 "cells": [
  {
   "cell_type": "code",
   "execution_count": 1,
   "id": "2c2fe6a0",
   "metadata": {},
   "outputs": [
    {
     "name": "stdout",
     "output_type": "stream",
     "text": [
      "spinner object :  <Thread(Thread-5, initial)>\n",
      "| thinking/ thinking- thinking\\ thinking| thinking/ thinking- thinking\\ thinking| thinking/ thinking- thinking\\ thinking| thinking/ thinking- thinking\\ thinking| thinking/ thinking- thinking\\ thinking| thinking/ thinking- thinking\\ thinking| thinking/ thinking- thinking\\ thinking| thinking          Answer :  42\n"
     ]
    }
   ],
   "source": [
    "import threading, itertools, time, sys\n",
    "\n",
    "class Signal : \n",
    "    go = True\n",
    "    \n",
    "def spin(msg, signal) : \n",
    "    write, flush = sys.stdout.write, sys.stdout.flush\n",
    "    \n",
    "    for char in itertools.cycle('|/-\\\\') : \n",
    "        status = char + ' ' + msg\n",
    "        write(status)\n",
    "        flush() \n",
    "        \n",
    "        write('\\x08' * len(status))\n",
    "        time.sleep(.1)\n",
    "        \n",
    "        if not signal.go : \n",
    "            break\n",
    "            \n",
    "    write(' ' * len(status) + '\\x08' * len(status))\n",
    "    \n",
    "def slow_function() : \n",
    "    time.sleep(3)\n",
    "    return 42\n",
    "\n",
    "def supervisor() : \n",
    "    signal = Signal()\n",
    "    spinner = threading.Thread(target=spin, args=('thinking!', signal))\n",
    "    print('spinner object : ', spinner)\n",
    "    \n",
    "    spinner.start()\n",
    "    result = slow_function()\n",
    "    signal.go = False\n",
    "    spinner.join()\n",
    "    \n",
    "    return result\n",
    "\n",
    "\n",
    "def main() : \n",
    "    result = supervisor()\n",
    "    print('Answer : ', result)\n",
    "    \n",
    "if __name__ == '__main__' : \n",
    "    main()"
   ]
  },
  {
   "cell_type": "code",
   "execution_count": 20,
   "id": "0ec815a2",
   "metadata": {},
   "outputs": [
    {
     "ename": "SyntaxError",
     "evalue": "invalid syntax (3729293308.py, line 31)",
     "output_type": "error",
     "traceback": [
      "\u001b[0;36m  Input \u001b[0;32mIn [20]\u001b[0;36m\u001b[0m\n\u001b[0;31m    spinner = asyncio.async(spin('thingking!'))\u001b[0m\n\u001b[0m                      ^\u001b[0m\n\u001b[0;31mSyntaxError\u001b[0m\u001b[0;31m:\u001b[0m invalid syntax\n"
     ]
    }
   ],
   "source": [
    "\"\"\"\n",
    "파이썬 버전 문제로 해당 부분 오류발생 \n",
    "- Python 3.7부터 asyncio.async 함수가 더 이상 사용되지 않고, 대신 asyncio.create_task를 사용\n",
    "- Python 3.4에서 도입된 @asyncio.coroutine 데코레이터와 yield from 구문도 Python 3.5 이상에서는 async와 await 키워드로 대체\n",
    "\"\"\"\n",
    "import asyncio, itertools, sys\n",
    "\n",
    "@asyncio.coroutine\n",
    "def spin(msg) : \n",
    "    write, flush = sys.stdout.write, sys.stdout.flush\n",
    "    \n",
    "    for char in itertools.cycle('|/-\\\\') : \n",
    "        status = char + ' ' + msg\n",
    "        write(status)\n",
    "        flush()\n",
    "        write('\\x08' * len(status))\n",
    "        try : \n",
    "            yield from asyncio.sleep(.1)\n",
    "        except asyncio.CancelledError : \n",
    "            break\n",
    "            \n",
    "    write(' ' * len(status) + '\\x08' * len(status))\n",
    "    \n",
    "@asyncio.coroutine\n",
    "def slow_function() : \n",
    "    yield from asyncio.sleep(3)\n",
    "    return 42\n",
    "\n",
    "@asyncio.coroutine\n",
    "def supervisor() : \n",
    "    spinner = asyncio.async(spin('thingking!'))\n",
    "    print('spinner object : ', spinner)\n",
    "    result = yield from slow_function()\n",
    "    spinner.cancel()\n",
    "    return result\n",
    "\n",
    "def main() : \n",
    "    loop = asyncio.get_event_loop()\n",
    "    result = loop.run_untill_complete(supervisor())\n",
    "    loop.close()\n",
    "    print('Answer : ', result)\n",
    "    \n",
    "if __name__ == '__main__' : \n",
    "    main()"
   ]
  },
  {
   "cell_type": "code",
   "execution_count": 16,
   "id": "e8eec849",
   "metadata": {},
   "outputs": [
    {
     "data": {
      "text/plain": [
       "'3.9.12 (main, Apr  5 2022, 01:53:17) \\n[Clang 12.0.0 ]'"
      ]
     },
     "execution_count": 16,
     "metadata": {},
     "output_type": "execute_result"
    }
   ],
   "source": [
    "import sys\n",
    "sys.version \n"
   ]
  },
  {
   "cell_type": "code",
   "execution_count": 21,
   "id": "f617d7be",
   "metadata": {},
   "outputs": [
    {
     "ename": "NameError",
     "evalue": "name 'some_coroutine' is not defined",
     "output_type": "error",
     "traceback": [
      "\u001b[0;31m---------------------------------------------------------------------------\u001b[0m",
      "\u001b[0;31mNameError\u001b[0m                                 Traceback (most recent call last)",
      "Input \u001b[0;32mIn [21]\u001b[0m, in \u001b[0;36m<cell line: 7>\u001b[0;34m()\u001b[0m\n\u001b[1;32m      4\u001b[0m     loop \u001b[38;5;241m=\u001b[39m asyncio\u001b[38;5;241m.\u001b[39mget_event_loop()\n\u001b[1;32m      5\u001b[0m     \u001b[38;5;28;01mreturn\u001b[39;00m loop\u001b[38;5;241m.\u001b[39mrun_until_complete(coro_or_future)\n\u001b[0;32m----> 7\u001b[0m a \u001b[38;5;241m=\u001b[39m run_sync(\u001b[43msome_coroutine\u001b[49m())\n",
      "\u001b[0;31mNameError\u001b[0m: name 'some_coroutine' is not defined"
     ]
    }
   ],
   "source": [
    "import asyncio\n",
    "\n",
    "def run_sync(coro_or_future) : \n",
    "    loop = asyncio.get_event_loop()\n",
    "    return loop.run_until_complete(coro_or_future)\n",
    "\n",
    "a = run_sync(some_coroutine())"
   ]
  },
  {
   "cell_type": "code",
   "execution_count": null,
   "id": "2fff359e",
   "metadata": {},
   "outputs": [],
   "source": []
  }
 ],
 "metadata": {
  "kernelspec": {
   "display_name": "Python 3 (ipykernel)",
   "language": "python",
   "name": "python3"
  },
  "language_info": {
   "codemirror_mode": {
    "name": "ipython",
    "version": 3
   },
   "file_extension": ".py",
   "mimetype": "text/x-python",
   "name": "python",
   "nbconvert_exporter": "python",
   "pygments_lexer": "ipython3",
   "version": "3.9.12"
  }
 },
 "nbformat": 4,
 "nbformat_minor": 5
}
