{
 "cells": [
  {
   "cell_type": "code",
   "execution_count": 32,
   "id": "cf88824a",
   "metadata": {},
   "outputs": [],
   "source": [
    "from array import array\n",
    "import numbers\n",
    "import reprlib\n",
    "import math\n",
    "import numbers\n",
    "import functools\n",
    "import operator\n",
    "import itertools  # <1>\n",
    "\n",
    "\"\"\"\n",
    "Python의 Vector 제대로 구현한 형태 \n",
    "- 이거 스스로 만들 줄 알아야함 \n",
    "\n",
    "핵심 포인트\n",
    "- (1) __getitem__()과 __len__() 구현 -> 시퀀스처럼 동작할 수 있게 만듦\n",
    "- (2) __getattr__() 구현 -> read-only로 접근하도록 만듦\n",
    "- (3) __setattr__() 구현해서 객체 동작의 불일치 피하기 위함 -> __getattr__() & __setattr__() 동시에 구현\n",
    "    - 단일 문자 속성에 값을 할당하지 못하게 막음 e.g vector.x = 10 오류 발생\n",
    "- (4) __hash__() 구현할 때 functools.reduce()를 사용\n",
    "\"\"\"\n",
    "\n",
    "class Vector:\n",
    "    typecode = 'd'\n",
    "\n",
    "    def __init__(self, components):\n",
    "        self._components = array(self.typecode, components)\n",
    "        res = self._components is components\n",
    "\n",
    "    def __iter__(self):\n",
    "        return iter(self._components)\n",
    "\n",
    "    def __repr__(self):\n",
    "        components = reprlib.repr(self._components)\n",
    "        components = components[components.find('['):-1]\n",
    "        return 'Vector({})'.format(components)\n",
    "\n",
    "    def __str__(self):\n",
    "        return str(tuple(self))\n",
    "\n",
    "    def __bytes__(self):\n",
    "        return (bytes([ord(self.typecode)]) +\n",
    "                bytes(self._components))\n",
    "\n",
    "    def __eq__(self, other):\n",
    "        if isinstance(other, Vector) : \n",
    "            return (len(self) == len(other) and\n",
    "                all(a == b for a, b in zip(self, other)))\n",
    "        else : \n",
    "            return NotImplemented\n",
    "        \n",
    "    def __ne__(self, other) : \n",
    "        eq_result = self == other\n",
    "        \n",
    "        if eq_result is NotImplemented : \n",
    "            return NotImplemented\n",
    "        \n",
    "        else : \n",
    "            return not eq_result\n",
    "\n",
    "    def __hash__(self):\n",
    "        hashes = (hash(x) for x in self)\n",
    "        return functools.reduce(operator.xor, hashes, 0)\n",
    "\n",
    "    def __abs__(self): \n",
    "        \"\"\"객체의 절대값을 반환하는 함수\"\"\"\n",
    "        return math.sqrt(sum(x * x for x in self))\n",
    "    \n",
    "    def __neg__(self) : \n",
    "        \"\"\" 단항 연산자 오버라이딩 : -x \"\"\"\n",
    "        return Vector(-x for x in self)\n",
    "    \n",
    "    def __pos__(self) : \n",
    "        \"\"\" 단항 연산자 오버라이딩 : +x \"\"\"\n",
    "        return Vector(self)\n",
    "    \n",
    "    def __add__(self, other) : \n",
    "        \"\"\" \n",
    "        덧셈 연산자 오버라이딩 : x + y \n",
    "        \n",
    "        - TypeError -> NotImplemented : __add__()와 __radd__() 메서드를 구현해서 + 연산자를 안전하게 오버로드함\n",
    "        \"\"\"\n",
    "        try : \n",
    "            pairs = itertools.zip_longest(self, other, fillvalue = 0.0)\n",
    "            return Vector(a + b for a, b in pairs) # 불변 처리, 항상 새로운 인스턴스 생성 \n",
    "        except TypeError : \n",
    "            return NotImplemented # 파이썬이 __add__() 에러 나고 __radd__() 호출할 수 있게 만듦\n",
    "    \n",
    "    def __radd__(self, other) :\n",
    "        \"\"\" __add__()로 위임 \"\"\"\n",
    "        return self + other\n",
    "\n",
    "    def __mul__(self, scalar) : \n",
    "        if isinstance(scalar, numbers.Real) : # 자료형 검사 \n",
    "            return Vector(n * scalar for n in self)\n",
    "        else : \n",
    "            return NotImplemented\n",
    "    \n",
    "    def __rmul__(self, scalar) : \n",
    "        return self * scalar\n",
    "    \n",
    "    def __matmul__(self, other) : \n",
    "        \"\"\"\n",
    "        @ 연산자는 '행렬 곱셉'을 나타남\n",
    "        - a @ b 는 a 행렬과 b 행렬의 내적을 나타냄 \n",
    "        \"\"\"\n",
    "        try : \n",
    "            return sum(a * b for a, b in zip(self, other))\n",
    "        except TypeError : \n",
    "            return NotImplemented\n",
    "        \n",
    "    def __rmatmul__(self, other) : \n",
    "        return self @ other\n",
    "    \n",
    "    def __bool__(self):\n",
    "        return bool(abs(self))\n",
    "\n",
    "    def __len__(self):\n",
    "        return len(self._components)\n",
    "\n",
    "    def __getitem__(self, index):\n",
    "        cls = type(self)\n",
    "        if isinstance(index, slice):\n",
    "            return cls(self._components[index])\n",
    "        elif isinstance(index, numbers.Integral):\n",
    "            return self._components[index]\n",
    "        else:\n",
    "            msg = '{.__name__} indices must be integers'\n",
    "            raise TypeError(msg.format(cls))\n",
    "\n",
    "    shortcut_names = 'xyzt'\n",
    "\n",
    "    def __getattr__(self, name):\n",
    "        \"\"\"\n",
    "        객체의 속성을 가져올 때 호출, 객체에 존재하지 않는 속성에 접근하려고 할 때\n",
    "        자동으로 호출됨. 존재하는 속성에 접근할 때는 호출되지 않음\n",
    "        \n",
    "        # 용도\n",
    "        - 동적 속성 : 객체의 속성을 동적으로 생성하거나 변경\n",
    "        - 디폴트 값 : 객체에 특정 속성이 없을 때 디폴트 값 제공 가능 \n",
    "        - 프로퍼티 접근 로깅 : 속성 접근을 로깅하거나 디버깅할 때 활용\n",
    "        \n",
    "        # 차이\n",
    "        - __getattribute__() : 존재하는/존재하지 않는 속성 접근에 대해 호출. 해당 메서드는 모든 속성 접근을 오버라이드함\n",
    "        - __setattr__() : 객체의 속성을 설정할 때 호출함 \n",
    "        - __delattr__() : 객체의 속성을 삭제할 때 호출함 \n",
    "        \n",
    "        \"\"\"\n",
    "        cls = type(self)\n",
    "        if len(name) == 1:\n",
    "            pos = cls.shortcut_names.find(name)\n",
    "            if 0 <= pos < len(self._components):\n",
    "                return self._components[pos]\n",
    "        msg = '{.__name__!r} object has no attribute {!r}'\n",
    "        raise AttributeError(msg.format(cls, name))\n",
    "\n",
    "    def __setattr__(self, name, value):\n",
    "        \"\"\"\n",
    "        객체의 속성을 설정할 때 호출함. 속성 할당 연산이 발생할 때마다 호출됨. \n",
    "        이를 통해 속성 설정 동작을 커스터마이징할 수 있음\n",
    "        \n",
    "        # 용도\n",
    "        - 속성 설정 로깅 : 속성 설정 시 로그를 남길 수 있음\n",
    "        - 속성 값 검증 : 속성 값의 유효성을 검증할 수 있음\n",
    "        - 속성 값 변환 : 설정된 값을 변환하거나 가공가능 \n",
    "        \"\"\"\n",
    "        cls = type(self)\n",
    "        if len(name) == 1:  # <1>\n",
    "            if name in cls.shortcut_names:  # <2>\n",
    "                error = 'readonly attribute {attr_name!r}'\n",
    "            elif name.islower():  # <3>\n",
    "                error = \"can't set attributes 'a' to 'z' in {cls_name!r}\"\n",
    "            else:\n",
    "                error = ''  # <4>\n",
    "            if error:  # <5>\n",
    "                msg = error.format(cls_name=cls.__name__, attr_name=name)\n",
    "                raise AttributeError(msg)\n",
    "        super().__setattr__(name, value)  # <6>\n",
    "    \n",
    "    def angle(self, n):  # <2>\n",
    "        \"\"\"특정 좌표의 각 좌표를 계산\"\"\"\n",
    "        r = math.sqrt(sum(x * x for x in self[n:]))\n",
    "        a = math.atan2(r, self[n-1])\n",
    "        if (n == len(self) - 1) and (self[-1] < 0):\n",
    "            return math.pi * 2 - a\n",
    "        else:\n",
    "            return a\n",
    "        \n",
    "\n",
    "    def angles(self):  # <3>\n",
    "        \"\"\"모든 각 좌표의 반복형을 반환함\"\"\"\n",
    "        return (self.angle(n) for n in range(1, len(self)))\n",
    "\n",
    "    def __format__(self, fmt_spec=''):\n",
    "        \"\"\"\n",
    "        객체가 특정 형식으로 문자열로 변환될 때 호출됨. 해당 메서드는 format() 함수나 문자열의 format() 메서드에 \n",
    "        의해 사용됨\n",
    "        \n",
    "        # 용도\n",
    "        - 사용자 정의 형식 지정 \n",
    "        - 형식 코드 지원 : 객체의 문자열 표현을 세부적으로 조정할 수 있음 \n",
    "        \"\"\"\n",
    "        if fmt_spec.endswith('h'):  # hyperspherical coordinates\n",
    "            fmt_spec = fmt_spec[:-1]\n",
    "            coords = itertools.chain([abs(self)],\n",
    "                                     self.angles())  # <4>\n",
    "            outer_fmt = '<{}>'  # <5>\n",
    "        else:\n",
    "            coords = self\n",
    "            outer_fmt = '({})'  # <6>\n",
    "            \n",
    "        components = (format(c, fmt_spec) for c in coords)  # <7>\n",
    "        return outer_fmt.format(', '.join(components))  # <8>\n",
    "\n",
    "    @classmethod\n",
    "    def frombytes(cls, octets):\n",
    "        \"\"\"\n",
    "        @classmethod는 클래스 메서드 정의할 때 사용하는 데코레이터\n",
    "        \n",
    "        # 특징 \n",
    "        - 클래스 메서드에는 cls로 클래스 자체를 첫 번째 인자로 받음 \n",
    "        - 스태틱 변수(cv) 사용하면서 작업 처리\n",
    "        - 인스턴스가 아닌 클래스 자체에 바인딩 \n",
    "        \"\"\"\n",
    "        typecode = chr(octets[0])\n",
    "        memv = memoryview(octets[1:]).cast(typecode)\n",
    "        return cls(memv)"
   ]
  },
  {
   "cell_type": "code",
   "execution_count": 33,
   "id": "8f535d8e",
   "metadata": {},
   "outputs": [
    {
     "data": {
      "text/plain": [
       "Vector([13.0, 24.0, 35.0])"
      ]
     },
     "execution_count": 33,
     "metadata": {},
     "output_type": "execute_result"
    }
   ],
   "source": [
    "\"\"\"\n",
    "덧셈 연산 테스트\n",
    "\"\"\"\n",
    "v1 = Vector([3, 4, 5])\n",
    "v2 = Vector([10, 20, 30])\n",
    "\n",
    "new_v = v1 + v2\n",
    "new_v"
   ]
  },
  {
   "cell_type": "code",
   "execution_count": 34,
   "id": "cf396b11",
   "metadata": {},
   "outputs": [
    {
     "data": {
      "text/plain": [
       "Vector([4.0, 6.0, 8.0, 4.0])"
      ]
     },
     "execution_count": 34,
     "metadata": {},
     "output_type": "execute_result"
    }
   ],
   "source": [
    "\"\"\"\n",
    "__add__() -> TypeError -> NotImplemented -> __radd__() 처리\n",
    "\"\"\"\n",
    "\n",
    "new_v = v1 + (1, 2, 3, 4)\n",
    "new_v"
   ]
  },
  {
   "cell_type": "code",
   "execution_count": 35,
   "id": "1a6fe45d",
   "metadata": {},
   "outputs": [
    {
     "data": {
      "text/plain": [
       "Vector([10.0, 20.0, 30.0])"
      ]
     },
     "execution_count": 35,
     "metadata": {},
     "output_type": "execute_result"
    }
   ],
   "source": [
    "\"\"\"\n",
    "벡터를 스칼라와 곱하기 \n",
    "\"\"\"\n",
    "\n",
    "v1 = Vector([1, 2, 3])\n",
    "v1 * 10\n"
   ]
  },
  {
   "cell_type": "code",
   "execution_count": 36,
   "id": "8b493309",
   "metadata": {},
   "outputs": [
    {
     "data": {
      "text/plain": [
       "Vector([14.0, 28.0, 42.0])"
      ]
     },
     "execution_count": 36,
     "metadata": {},
     "output_type": "execute_result"
    }
   ],
   "source": [
    "v1 = Vector([1, 2, 3])\n",
    "14 * v1"
   ]
  },
  {
   "cell_type": "code",
   "execution_count": 37,
   "id": "3b8f9424",
   "metadata": {},
   "outputs": [
    {
     "data": {
      "text/plain": [
       "Vector([1.0, 2.0, 3.0])"
      ]
     },
     "execution_count": 37,
     "metadata": {},
     "output_type": "execute_result"
    }
   ],
   "source": [
    "v1 * True"
   ]
  },
  {
   "cell_type": "code",
   "execution_count": 38,
   "id": "5e2b4653",
   "metadata": {},
   "outputs": [
    {
     "data": {
      "text/plain": [
       "38.0"
      ]
     },
     "execution_count": 38,
     "metadata": {},
     "output_type": "execute_result"
    }
   ],
   "source": [
    "\"\"\"\n",
    "행렬 곱셈 처리\n",
    "\"\"\"\n",
    "v1 = Vector([1, 2, 3])\n",
    "v2 = Vector([5, 6, 7])\n",
    "\n",
    "v1 @ v2 "
   ]
  },
  {
   "cell_type": "code",
   "execution_count": 5,
   "id": "55e46efd",
   "metadata": {},
   "outputs": [],
   "source": [
    "import abc\n",
    "\n",
    "class Tombola(abc.ABC) : \n",
    "    \n",
    "    @abc.abstractmethod\n",
    "    def load(self, iterable) : \n",
    "        \"\"\" iterable의 항목들을 추가함 \"\"\"\n",
    "        \n",
    "    @abc.abstractmethod\n",
    "    def pick(self) : \n",
    "        \"\"\"\n",
    "        무작위로 항목을 하나 제거하고 반환함\n",
    "        객체가 비어 있을 때 이 메서드를 실행하면 LookupError 가 발생\n",
    "        \"\"\"\n",
    "        \n",
    "    def loaded(self) :\n",
    "        \"\"\"최소 한 개의 항목이 있으면 True, 아니면 False\"\"\"\n",
    "        return bool(self.inspect())\n",
    "    \n",
    "    def inspect(self) : \n",
    "        \"\"\"현재 안에 있는 항목들로 구성된 정렬된 튜플을 반환함\"\"\"\n",
    "        \n",
    "        items = []\n",
    "        while True : \n",
    "            try : \n",
    "                items.append(self.pick)\n",
    "            except LookupError : \n",
    "                break\n",
    "                \n",
    "        self.load(items)\n",
    "        return tuple(sorted(items))"
   ]
  },
  {
   "cell_type": "code",
   "execution_count": 6,
   "id": "8143af5b",
   "metadata": {},
   "outputs": [],
   "source": [
    "import random\n",
    "\n",
    "class BingoCage(Tombola) : \n",
    "    \n",
    "    def __init__(self, items) : \n",
    "        self._randomizer = random.SystemRandom()\n",
    "        self._items = []\n",
    "        self.load(items)\n",
    "        \n",
    "    def load(self, items) :\n",
    "        self._items.extend(items)\n",
    "        self._randomizer.shuffle(self._items)\n",
    "        \n",
    "    def pick(self) :\n",
    "        try : \n",
    "            return self._items.pop()\n",
    "        \n",
    "        except IndexError : \n",
    "            raise LookupError('pick from empty BingoCage')\n",
    "            \n",
    "    def __call__(self) : \n",
    "        self.pick()"
   ]
  },
  {
   "cell_type": "code",
   "execution_count": null,
   "id": "59710370",
   "metadata": {},
   "outputs": [],
   "source": [
    "class AddableBingoCage(BingoCage) : \n",
    "    \n",
    "    def __add__(self, other) : \n",
    "        if isinstance(other, Tombola) : \n",
    "            return AddableBingoCage(self.inspect() + other.inspect())\n",
    "        \n",
    "        else : \n",
    "            return NotImplemented\n",
    "        \n",
    "    def __iadd__(self, other) : \n",
    "        if isinstance(other, Tombola) : \n",
    "            other_iterable = other.inspect()\n",
    "            \n",
    "        else : \n",
    "            try :\n",
    "                other_iteranle = iter(other)\n",
    "            \n",
    "            except TypeError : \n",
    "                self_cls = type(self).__name__\n",
    "                msg = 'right operand in += must be {!r} or an iterable'\n",
    "                raise TypeError(msg.format(self_cls))\n",
    "                \n",
    "        self.load(other_iterable)\n",
    "        return self\n",
    "        "
   ]
  },
  {
   "cell_type": "code",
   "execution_count": null,
   "id": "617e2d68",
   "metadata": {},
   "outputs": [],
   "source": [
    "vowels = 'AEIOU'\n",
    "globe = AddableBingoCage(vowels)\n",
    "globe.inspect()"
   ]
  },
  {
   "cell_type": "code",
   "execution_count": null,
   "id": "83bdfa63",
   "metadata": {},
   "outputs": [],
   "source": [
    "globe.pick() in vowels"
   ]
  },
  {
   "cell_type": "code",
   "execution_count": null,
   "id": "fb7519b3",
   "metadata": {},
   "outputs": [],
   "source": [
    "len(globe.inspect())"
   ]
  },
  {
   "cell_type": "code",
   "execution_count": null,
   "id": "63ca558b",
   "metadata": {},
   "outputs": [],
   "source": [
    "globe2 = AddableBingoCage('XYZ')\n",
    "globe3 = globe + globe2"
   ]
  },
  {
   "cell_type": "code",
   "execution_count": null,
   "id": "d6aac624",
   "metadata": {},
   "outputs": [],
   "source": [
    "len(globe3.inspect())\n",
    "void = globe + [10, 20]"
   ]
  },
  {
   "cell_type": "code",
   "execution_count": null,
   "id": "c9fc2bb0",
   "metadata": {},
   "outputs": [],
   "source": []
  }
 ],
 "metadata": {
  "kernelspec": {
   "display_name": "Python 3 (ipykernel)",
   "language": "python",
   "name": "python3"
  },
  "language_info": {
   "codemirror_mode": {
    "name": "ipython",
    "version": 3
   },
   "file_extension": ".py",
   "mimetype": "text/x-python",
   "name": "python",
   "nbconvert_exporter": "python",
   "pygments_lexer": "ipython3",
   "version": "3.9.12"
  }
 },
 "nbformat": 4,
 "nbformat_minor": 5
}
