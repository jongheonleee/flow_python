{
 "cells": [
  {
   "cell_type": "code",
   "execution_count": 4,
   "id": "cb3634cb",
   "metadata": {},
   "outputs": [
    {
     "ename": "ModuleNotFoundError",
     "evalue": "No module named 'osconfeed'",
     "output_type": "error",
     "traceback": [
      "\u001b[0;31m---------------------------------------------------------------------------\u001b[0m",
      "\u001b[0;31mModuleNotFoundError\u001b[0m                       Traceback (most recent call last)",
      "Input \u001b[0;32mIn [4]\u001b[0m, in \u001b[0;36m<cell line: 1>\u001b[0;34m()\u001b[0m\n\u001b[0;32m----> 1\u001b[0m \u001b[38;5;28;01mimport\u001b[39;00m \u001b[38;5;21;01mwarnings\u001b[39;00m\u001b[38;5;241m,\u001b[39m \u001b[38;5;21;01minspect\u001b[39;00m\u001b[38;5;241m,\u001b[39m \u001b[38;5;21;01mosconfeed\u001b[39;00m\n\u001b[1;32m      3\u001b[0m DB_NAME \u001b[38;5;241m=\u001b[39m \u001b[38;5;124m'\u001b[39m\u001b[38;5;124mdata/schedule2_db\u001b[39m\u001b[38;5;124m'\u001b[39m\n\u001b[1;32m      4\u001b[0m CONFERENCE \u001b[38;5;241m=\u001b[39m \u001b[38;5;124m'\u001b[39m\u001b[38;5;124mconference.115\u001b[39m\u001b[38;5;124m'\u001b[39m\n",
      "\u001b[0;31mModuleNotFoundError\u001b[0m: No module named 'osconfeed'"
     ]
    }
   ],
   "source": [
    "import warnings, inspect, osconfeed\n",
    "\n",
    "DB_NAME = 'data/schedule2_db'\n",
    "CONFERENCE = 'conference.115'\n",
    "\n",
    "        \n"
   ]
  },
  {
   "cell_type": "code",
   "execution_count": 5,
   "id": "69a48621",
   "metadata": {},
   "outputs": [],
   "source": [
    "class MissingDatabaseError(RuntimeError) : \n",
    "    \"\"\"필요한 데이터베이스가 설정되어 있지 않을 때 발생함.\"\"\"\n",
    "  \n",
    "class Record : \n",
    "    def __init__(self, **kwargs) : \n",
    "        self.__dict__.update(kwargs)\n",
    "        \n",
    "    def __eq__(self, other) : \n",
    "        if isinstance(ohter, Record) : \n",
    "            return self.__dict__ == other.__dict__\n",
    "        \n",
    "        else : \n",
    "            return NotImplemented\n",
    "\n",
    "class DbRecord(Record) : \n",
    "    \n",
    "    __db = None\n",
    "    \n",
    "    @staticmethod\n",
    "    def set_db(db) : \n",
    "        DbRecord.__db = db\n",
    "        \n",
    "    @staticmethod \n",
    "    def get_db() : \n",
    "        return DbRecord.__db\n",
    "    \n",
    "    @classmethod\n",
    "    def fetch(cls, ident) : \n",
    "        db = cls.get_db()\n",
    "        \n",
    "        try : \n",
    "            return db[ident]\n",
    "        \n",
    "        except TypeError : \n",
    "            if db is None : \n",
    "                msg = \"database not set; call '{}.set_db(my_db)'\"\n",
    "                raise MissingDatabaseError(msg.format(cls.__name__))\n",
    "            else : \n",
    "                raise\n",
    "                \n",
    "    def __repr__(self) : \n",
    "        if hasattr(self, 'serial') : \n",
    "            cls_name = self.__class__.__name__\n",
    "            return '<{} serial={!r}>'.format(cls_name.serial)\n",
    "        \n",
    "        else : \n",
    "            return super().__repr__()\n",
    "        \n"
   ]
  },
  {
   "cell_type": "code",
   "execution_count": 6,
   "id": "901e0e5f",
   "metadata": {},
   "outputs": [],
   "source": [
    "class Event(DbRecord) : \n",
    "    @property\n",
    "    def venue(self) : \n",
    "        key = 'venue.{}'.format(self.venue_serial)\n",
    "        return self.__class__.fetch(key)\n",
    "    \n",
    "    @property\n",
    "    def speakers(self) :\n",
    "        if not hasattr(self, '_speaker_objs') : \n",
    "            spkr_serials = self.__dict__['speakers']\n",
    "            fetch = self.__class__.fetch\n",
    "            self._speaker_objs = [fetch('speaker.{}'.format(key)) for key in spkr_serials]\n",
    "            \n",
    "        return self._speaker_objs\n",
    "    \n",
    "    def __repr__(self) : \n",
    "        if hasattr(self, 'name') : \n",
    "            cls_name = self.__class__.__name__\n",
    "            return '<{} {!r}>'.format(cls_name, self.name)\n",
    "        \n",
    "        else : \n",
    "            return super().__repr__()\n",
    "        \n",
    "    "
   ]
  },
  {
   "cell_type": "code",
   "execution_count": 8,
   "id": "5f8119ba",
   "metadata": {},
   "outputs": [],
   "source": [
    "\"\"\" \n",
    "주문 항목 클래스\n",
    "\"\"\"\n",
    "\n",
    "class LineItem : \n",
    "    \n",
    "    def __init__(self, description, weight, price) : \n",
    "        self.description = description\n",
    "        self.weight = weight\n",
    "        self.price = price\n",
    "        \n",
    "    def subtotal(self) : \n",
    "        return self.weight * self.price\n",
    "    \n"
   ]
  },
  {
   "cell_type": "code",
   "execution_count": 9,
   "id": "eb898959",
   "metadata": {},
   "outputs": [
    {
     "data": {
      "text/plain": [
       "69.5"
      ]
     },
     "execution_count": 9,
     "metadata": {},
     "output_type": "execute_result"
    }
   ],
   "source": [
    "\"\"\"  \n",
    "무게가 음수면 합계가 음수가됨 \n",
    "\"\"\"\n",
    "\n",
    "raisins = LineItem('Golden raisins', 10, 6.95)\n",
    "raisins.subtotal()"
   ]
  },
  {
   "cell_type": "code",
   "execution_count": 10,
   "id": "ae198e66",
   "metadata": {},
   "outputs": [
    {
     "data": {
      "text/plain": [
       "-139.0"
      ]
     },
     "execution_count": 10,
     "metadata": {},
     "output_type": "execute_result"
    }
   ],
   "source": [
    "raisins.weight = -20\n",
    "raisins.subtotal()"
   ]
  },
  {
   "cell_type": "code",
   "execution_count": 11,
   "id": "93fc728a",
   "metadata": {},
   "outputs": [],
   "source": [
    "\"\"\"\n",
    "검증하는 프로퍼티 : 데이터 속성, iv를 프로퍼티로 변경하기\n",
    "\"\"\"\n",
    "\n",
    "class LineItem : \n",
    "    \n",
    "    def __init__(self, description, weight, price) : \n",
    "        self.description = description\n",
    "        self.weight = weight\n",
    "        self.price = price\n",
    "        \n",
    "    def subtotal(self) : \n",
    "        return self.weight * self.price\n",
    "    \n",
    "    @property\n",
    "    def weight(self) : \n",
    "        return self.__weight\n",
    "    \n",
    "    @weight.setter\n",
    "    def weight(self, value) : \n",
    "        if value > 0 : \n",
    "            self.__weight = value\n",
    "            \n",
    "        else : \n",
    "            raise ValueError(\"value must be > 0\")\n",
    "            "
   ]
  },
  {
   "cell_type": "code",
   "execution_count": 12,
   "id": "4c7c0716",
   "metadata": {},
   "outputs": [
    {
     "data": {
      "text/plain": [
       "69.5"
      ]
     },
     "execution_count": 12,
     "metadata": {},
     "output_type": "execute_result"
    }
   ],
   "source": [
    "raisins = LineItem('Golden raisins', 10, 6.95)\n",
    "raisins.subtotal()"
   ]
  },
  {
   "cell_type": "code",
   "execution_count": 13,
   "id": "2e87444e",
   "metadata": {},
   "outputs": [
    {
     "ename": "ValueError",
     "evalue": "value must be > 0",
     "output_type": "error",
     "traceback": [
      "\u001b[0;31m---------------------------------------------------------------------------\u001b[0m",
      "\u001b[0;31mValueError\u001b[0m                                Traceback (most recent call last)",
      "Input \u001b[0;32mIn [13]\u001b[0m, in \u001b[0;36m<cell line: 1>\u001b[0;34m()\u001b[0m\n\u001b[0;32m----> 1\u001b[0m raisins\u001b[38;5;241m.\u001b[39mweight \u001b[38;5;241m=\u001b[39m \u001b[38;5;241m-\u001b[39m\u001b[38;5;241m20\u001b[39m\n\u001b[1;32m      2\u001b[0m raisins\u001b[38;5;241m.\u001b[39msubtotal()\n",
      "Input \u001b[0;32mIn [11]\u001b[0m, in \u001b[0;36mLineItem.weight\u001b[0;34m(self, value)\u001b[0m\n\u001b[1;32m     22\u001b[0m     \u001b[38;5;28mself\u001b[39m\u001b[38;5;241m.\u001b[39m__weight \u001b[38;5;241m=\u001b[39m value\n\u001b[1;32m     24\u001b[0m \u001b[38;5;28;01melse\u001b[39;00m : \n\u001b[0;32m---> 25\u001b[0m     \u001b[38;5;28;01mraise\u001b[39;00m \u001b[38;5;167;01mValueError\u001b[39;00m(\u001b[38;5;124m\"\u001b[39m\u001b[38;5;124mvalue must be > 0\u001b[39m\u001b[38;5;124m\"\u001b[39m)\n",
      "\u001b[0;31mValueError\u001b[0m: value must be > 0"
     ]
    }
   ],
   "source": [
    "raisins.weight = -20\n",
    "raisins.subtotal()"
   ]
  },
  {
   "cell_type": "code",
   "execution_count": 14,
   "id": "86f096ab",
   "metadata": {},
   "outputs": [],
   "source": [
    "\"\"\"\n",
    "위의 클래스와 동일 하지만, 데커레이터를 사용하지 않음\n",
    "- 게터/세터 정의\n",
    "- property 정의 및 공개 속성에 할당 \n",
    "\"\"\"\n",
    "\n",
    "class LineItem : \n",
    "    \n",
    "    def __init__(self, description, weight, price) : \n",
    "        self.description = description\n",
    "        self.weight = weight\n",
    "        self.price = price\n",
    "        \n",
    "    def subtotal(self) : \n",
    "        return self.weight * self.price\n",
    "    \n",
    "\n",
    "    def get_weight(self) : \n",
    "        return self.__weight\n",
    "    \n",
    "\n",
    "    def set_weight(self, value) : \n",
    "        if value > 0 : \n",
    "            self.__weight = value\n",
    "            \n",
    "        else : \n",
    "            raise ValueError(\"value must be > 0\")\n",
    "            \n",
    "    weight = property(get_weight, set_weight)\n",
    "    \n",
    "    "
   ]
  },
  {
   "cell_type": "code",
   "execution_count": 15,
   "id": "9a5a8bc0",
   "metadata": {},
   "outputs": [
    {
     "data": {
      "text/plain": [
       "69.5"
      ]
     },
     "execution_count": 15,
     "metadata": {},
     "output_type": "execute_result"
    }
   ],
   "source": [
    "raisins = LineItem('Golden raisins', 10, 6.95)\n",
    "raisins.subtotal()"
   ]
  },
  {
   "cell_type": "code",
   "execution_count": 16,
   "id": "a4a3f8f3",
   "metadata": {},
   "outputs": [
    {
     "ename": "ValueError",
     "evalue": "value must be > 0",
     "output_type": "error",
     "traceback": [
      "\u001b[0;31m---------------------------------------------------------------------------\u001b[0m",
      "\u001b[0;31mValueError\u001b[0m                                Traceback (most recent call last)",
      "Input \u001b[0;32mIn [16]\u001b[0m, in \u001b[0;36m<cell line: 1>\u001b[0;34m()\u001b[0m\n\u001b[0;32m----> 1\u001b[0m raisins\u001b[38;5;241m.\u001b[39mweight \u001b[38;5;241m=\u001b[39m \u001b[38;5;241m-\u001b[39m\u001b[38;5;241m20\u001b[39m\n\u001b[1;32m      2\u001b[0m raisins\u001b[38;5;241m.\u001b[39msubtotal()\n",
      "Input \u001b[0;32mIn [14]\u001b[0m, in \u001b[0;36mLineItem.set_weight\u001b[0;34m(self, value)\u001b[0m\n\u001b[1;32m     24\u001b[0m     \u001b[38;5;28mself\u001b[39m\u001b[38;5;241m.\u001b[39m__weight \u001b[38;5;241m=\u001b[39m value\n\u001b[1;32m     26\u001b[0m \u001b[38;5;28;01melse\u001b[39;00m : \n\u001b[0;32m---> 27\u001b[0m     \u001b[38;5;28;01mraise\u001b[39;00m \u001b[38;5;167;01mValueError\u001b[39;00m(\u001b[38;5;124m\"\u001b[39m\u001b[38;5;124mvalue must be > 0\u001b[39m\u001b[38;5;124m\"\u001b[39m)\n",
      "\u001b[0;31mValueError\u001b[0m: value must be > 0"
     ]
    }
   ],
   "source": [
    "raisins.weight = -20\n",
    "raisins.subtotal()"
   ]
  },
  {
   "cell_type": "code",
   "execution_count": 17,
   "id": "7c2f69c6",
   "metadata": {},
   "outputs": [
    {
     "data": {
      "text/plain": [
       "{}"
      ]
     },
     "execution_count": 17,
     "metadata": {},
     "output_type": "execute_result"
    }
   ],
   "source": [
    " \"\"\"\n",
    " 객체의 속성이 클래스 데이터 속성을 가르킴\n",
    " \"\"\"\n",
    "    \n",
    "class Class : \n",
    "    data = 'the class data attr'\n",
    "    \n",
    "    @property\n",
    "    def prop(self) : \n",
    "        return 'the prop value'\n",
    "    \n",
    "obj = Class()\n",
    "vars(obj)"
   ]
  },
  {
   "cell_type": "code",
   "execution_count": 18,
   "id": "1a88f6c5",
   "metadata": {},
   "outputs": [
    {
     "data": {
      "text/plain": [
       "'the class data attr'"
      ]
     },
     "execution_count": 18,
     "metadata": {},
     "output_type": "execute_result"
    }
   ],
   "source": [
    "obj.data"
   ]
  },
  {
   "cell_type": "code",
   "execution_count": 20,
   "id": "aa71e816",
   "metadata": {},
   "outputs": [
    {
     "data": {
      "text/plain": [
       "{'data': 'bar'}"
      ]
     },
     "execution_count": 20,
     "metadata": {},
     "output_type": "execute_result"
    }
   ],
   "source": [
    "obj.data = 'bar'\n",
    "vars(obj)"
   ]
  },
  {
   "cell_type": "code",
   "execution_count": 21,
   "id": "f2f987d6",
   "metadata": {},
   "outputs": [
    {
     "data": {
      "text/plain": [
       "'the class data attr'"
      ]
     },
     "execution_count": 21,
     "metadata": {},
     "output_type": "execute_result"
    }
   ],
   "source": [
    "Class.data"
   ]
  },
  {
   "cell_type": "code",
   "execution_count": 25,
   "id": "f2884f64",
   "metadata": {},
   "outputs": [
    {
     "data": {
      "text/plain": [
       "<property at 0x7fe4787792c0>"
      ]
     },
     "execution_count": 25,
     "metadata": {},
     "output_type": "execute_result"
    }
   ],
   "source": [
    "Class.prop"
   ]
  },
  {
   "cell_type": "code",
   "execution_count": 26,
   "id": "835add94",
   "metadata": {},
   "outputs": [
    {
     "data": {
      "text/plain": [
       "'the prop value'"
      ]
     },
     "execution_count": 26,
     "metadata": {},
     "output_type": "execute_result"
    }
   ],
   "source": [
    "obj.prop"
   ]
  },
  {
   "cell_type": "code",
   "execution_count": 27,
   "id": "4e203caf",
   "metadata": {},
   "outputs": [
    {
     "ename": "AttributeError",
     "evalue": "can't set attribute",
     "output_type": "error",
     "traceback": [
      "\u001b[0;31m---------------------------------------------------------------------------\u001b[0m",
      "\u001b[0;31mAttributeError\u001b[0m                            Traceback (most recent call last)",
      "Input \u001b[0;32mIn [27]\u001b[0m, in \u001b[0;36m<cell line: 1>\u001b[0;34m()\u001b[0m\n\u001b[0;32m----> 1\u001b[0m obj\u001b[38;5;241m.\u001b[39mprop \u001b[38;5;241m=\u001b[39m \u001b[38;5;124m'\u001b[39m\u001b[38;5;124mfoo\u001b[39m\u001b[38;5;124m'\u001b[39m\n",
      "\u001b[0;31mAttributeError\u001b[0m: can't set attribute"
     ]
    }
   ],
   "source": [
    "obj.prop = 'foo'\n"
   ]
  },
  {
   "cell_type": "code",
   "execution_count": 30,
   "id": "8f578e39",
   "metadata": {},
   "outputs": [
    {
     "data": {
      "text/plain": [
       "{'data': 'bar', 'prop': 'foo'}"
      ]
     },
     "execution_count": 30,
     "metadata": {},
     "output_type": "execute_result"
    }
   ],
   "source": [
    "obj.__dict__['prop'] = 'foo'\n",
    "vars(obj)"
   ]
  },
  {
   "cell_type": "code",
   "execution_count": 31,
   "id": "2a2aa3f0",
   "metadata": {},
   "outputs": [
    {
     "data": {
      "text/plain": [
       "'the prop value'"
      ]
     },
     "execution_count": 31,
     "metadata": {},
     "output_type": "execute_result"
    }
   ],
   "source": [
    "obj.prop"
   ]
  },
  {
   "cell_type": "code",
   "execution_count": 32,
   "id": "7f1ee20e",
   "metadata": {},
   "outputs": [],
   "source": [
    "Class.prop = 'baz'"
   ]
  },
  {
   "cell_type": "code",
   "execution_count": 33,
   "id": "1d60c0e2",
   "metadata": {},
   "outputs": [
    {
     "data": {
      "text/plain": [
       "'foo'"
      ]
     },
     "execution_count": 33,
     "metadata": {},
     "output_type": "execute_result"
    }
   ],
   "source": [
    "obj.prop"
   ]
  },
  {
   "cell_type": "code",
   "execution_count": 35,
   "id": "63ece636",
   "metadata": {},
   "outputs": [],
   "source": [
    "def quantity(storage_name) : \n",
    "    \"\"\"프로퍼티 팩토리\"\"\"\n",
    "    \n",
    "    \n",
    "    def qty_getter(instance) : \n",
    "        return instance.__dict__[storage_name]\n",
    "    \n",
    "    def qty_setter(instance, value) : \n",
    "        if value > 0 : \n",
    "            instance.__dict__[storage_name] = value\n",
    "            \n",
    "        else : \n",
    "            raise ValueError('value must be > 0')\n",
    "            \n",
    "    return property(qty_getter, qty_setter)\n",
    "\n",
    "\n",
    "class LineItem : \n",
    "    weight = quantity('weight')\n",
    "    price = quantity('price')\n",
    "    \n",
    "    def __init__(self, description, weight, price) : \n",
    "        self.description = description\n",
    "        self.weight = weight\n",
    "        self.price = price\n",
    "        \n",
    "    def subtotal(self) : \n",
    "        return self.weight * self.price"
   ]
  },
  {
   "cell_type": "code",
   "execution_count": 36,
   "id": "9b7570c2",
   "metadata": {},
   "outputs": [
    {
     "data": {
      "text/plain": [
       "(8, 13.95)"
      ]
     },
     "execution_count": 36,
     "metadata": {},
     "output_type": "execute_result"
    }
   ],
   "source": [
    "nutmeg = LineItem('Moluccan nutmeg', 8, 13.95)\n",
    "nutmeg.weight, nutmeg.price"
   ]
  },
  {
   "cell_type": "code",
   "execution_count": 37,
   "id": "0c84006d",
   "metadata": {},
   "outputs": [
    {
     "data": {
      "text/plain": [
       "[('description', 'Moluccan nutmeg'), ('price', 13.95), ('weight', 8)]"
      ]
     },
     "execution_count": 37,
     "metadata": {},
     "output_type": "execute_result"
    }
   ],
   "source": [
    "sorted(vars(nutmeg).items())"
   ]
  },
  {
   "cell_type": "code",
   "execution_count": 1,
   "id": "58b9ccc6",
   "metadata": {},
   "outputs": [],
   "source": [
    "class Quantity : \n",
    "    \n",
    "    def __init__(self, storage_name) : \n",
    "        self.storage_name = storage_name\n",
    "        \n",
    "    def __set__(self, instance, value) : \n",
    "        if value > 0 : \n",
    "            instance.__dict__[self.storage_name] = value\n",
    "            \n",
    "        else : \n",
    "            raise ValueError('value must be > 0')\n",
    "            \n",
    "class LineItem : \n",
    "    weight = Quantity('weight')\n",
    "    price = Quantity('price')\n",
    "    \n",
    "    def __init__(self, description, weight, price) : \n",
    "        self.description = description\n",
    "        self.weight = weight\n",
    "        self.price = price\n",
    "        \n",
    "    def subtotal(self) : \n",
    "        return self.weight * self.price\n",
    "    \n",
    "    "
   ]
  },
  {
   "cell_type": "code",
   "execution_count": 3,
   "id": "c6061fc1",
   "metadata": {},
   "outputs": [
    {
     "ename": "ValueError",
     "evalue": "value must be > 0",
     "output_type": "error",
     "traceback": [
      "\u001b[0;31m---------------------------------------------------------------------------\u001b[0m",
      "\u001b[0;31mValueError\u001b[0m                                Traceback (most recent call last)",
      "Input \u001b[0;32mIn [3]\u001b[0m, in \u001b[0;36m<cell line: 1>\u001b[0;34m()\u001b[0m\n\u001b[0;32m----> 1\u001b[0m truffle \u001b[38;5;241m=\u001b[39m \u001b[43mLineItem\u001b[49m\u001b[43m(\u001b[49m\u001b[38;5;124;43m'\u001b[39;49m\u001b[38;5;124;43mWhite truffle\u001b[39;49m\u001b[38;5;124;43m'\u001b[39;49m\u001b[43m,\u001b[49m\u001b[43m \u001b[49m\u001b[38;5;241;43m100\u001b[39;49m\u001b[43m,\u001b[49m\u001b[43m \u001b[49m\u001b[38;5;241;43m0\u001b[39;49m\u001b[43m)\u001b[49m\n",
      "Input \u001b[0;32mIn [1]\u001b[0m, in \u001b[0;36mLineItem.__init__\u001b[0;34m(self, description, weight, price)\u001b[0m\n\u001b[1;32m     18\u001b[0m \u001b[38;5;28mself\u001b[39m\u001b[38;5;241m.\u001b[39mdescription \u001b[38;5;241m=\u001b[39m description\n\u001b[1;32m     19\u001b[0m \u001b[38;5;28mself\u001b[39m\u001b[38;5;241m.\u001b[39mweight \u001b[38;5;241m=\u001b[39m weight\n\u001b[0;32m---> 20\u001b[0m \u001b[38;5;28mself\u001b[39m\u001b[38;5;241m.\u001b[39mprice \u001b[38;5;241m=\u001b[39m price\n",
      "Input \u001b[0;32mIn [1]\u001b[0m, in \u001b[0;36mQuantity.__set__\u001b[0;34m(self, instance, value)\u001b[0m\n\u001b[1;32m      8\u001b[0m     instance\u001b[38;5;241m.\u001b[39m\u001b[38;5;18m__dict__\u001b[39m[\u001b[38;5;28mself\u001b[39m\u001b[38;5;241m.\u001b[39mstorage_name] \u001b[38;5;241m=\u001b[39m value\n\u001b[1;32m     10\u001b[0m \u001b[38;5;28;01melse\u001b[39;00m : \n\u001b[0;32m---> 11\u001b[0m     \u001b[38;5;28;01mraise\u001b[39;00m \u001b[38;5;167;01mValueError\u001b[39;00m(\u001b[38;5;124m'\u001b[39m\u001b[38;5;124mvalue must be > 0\u001b[39m\u001b[38;5;124m'\u001b[39m)\n",
      "\u001b[0;31mValueError\u001b[0m: value must be > 0"
     ]
    }
   ],
   "source": [
    "truffle = LineItem('White truffle', 100, 0)"
   ]
  },
  {
   "cell_type": "code",
   "execution_count": 8,
   "id": "59d35a50",
   "metadata": {},
   "outputs": [],
   "source": [
    "class Quantity : \n",
    "    __counter = 0\n",
    "    \n",
    "    def __init__(self) : \n",
    "        cls = self.__class__\n",
    "        prefix = cls.__name__\n",
    "        index = cls.__counter    \n",
    "        self.storage_name = '_{}#{}'.format(prefix, index)\n",
    "        cls.__counter += 1\n",
    "        \n",
    "    def __get__(self, instance, owner) : \n",
    "        if instance is None : \n",
    "            return self\n",
    "        \n",
    "        else : \n",
    "            return getattr(instance, self.storage_name)\n",
    "    \n",
    "    def __set__(self, instance, value) :\n",
    "        if value > 0:\n",
    "            setattr(instance, self.storage_name, value)\n",
    "            \n",
    "        else : \n",
    "            raise ValueError('value must be > 0')\n",
    "            \n",
    "    \n",
    "class LineItem : \n",
    "    weight = Quantity()\n",
    "    price = Quantity()\n",
    "    \n",
    "    def __init__(self, description, weight, price) : \n",
    "        self.description = description\n",
    "        self.weight = weight\n",
    "        self.price = price\n",
    "        \n",
    "    def subtotal(self) : \n",
    "        return self.weight * self.price\n",
    "    \n",
    "    \n",
    "    "
   ]
  },
  {
   "cell_type": "code",
   "execution_count": 9,
   "id": "eead82d6",
   "metadata": {},
   "outputs": [
    {
     "data": {
      "text/plain": [
       "(20, 17.95)"
      ]
     },
     "execution_count": 9,
     "metadata": {},
     "output_type": "execute_result"
    }
   ],
   "source": [
    "coconuts = LineItem('Brazilian coconut', 20, 17.95)\n",
    "coconuts.weight, coconuts.price"
   ]
  },
  {
   "cell_type": "code",
   "execution_count": 10,
   "id": "74797631",
   "metadata": {},
   "outputs": [
    {
     "data": {
      "text/plain": [
       "(20, 17.95)"
      ]
     },
     "execution_count": 10,
     "metadata": {},
     "output_type": "execute_result"
    }
   ],
   "source": [
    "getattr(coconuts, '_Quantity#0'), getattr(coconuts, '_Quantity#1')"
   ]
  },
  {
   "cell_type": "code",
   "execution_count": 11,
   "id": "2739ccc1",
   "metadata": {},
   "outputs": [],
   "source": [
    "import abc\n",
    "\n",
    "class AutoStorage : \n",
    "    __counter = 0\n",
    "    \n",
    "    def __init__(self) : \n",
    "        cls = self.__class__\n",
    "        prefix = cls.__name__\n",
    "        index = cls.__counter\n",
    "        self.storage_name = '_{}#{}'.format(prefix, index)\n",
    "        cls.__counter += 1\n",
    "        \n",
    "    def __get__(self, instance, owner) : \n",
    "        if instance is None : \n",
    "            return self\n",
    "        \n",
    "        else : \n",
    "            return getattr(instance, self.storage_name)\n",
    "        \n",
    "    \n",
    "    def __set__(self, instance, value) : \n",
    "        setattr(instance, self.storage_name, value)\n",
    "        \n",
    "class Validated(abc.ABC, AutoStorage) : \n",
    "    \n",
    "    def __set__(self, instance, value) :\n",
    "        value = self.validate(instance, value)\n",
    "        super().__set__(instance, value)\n",
    "        \n",
    "    @abc.abstractmethod\n",
    "    def validate(self, instance, value) : \n",
    "        \"\"\"검증된 값을 반환, ValueError 발생\"\"\"\n",
    "        \n",
    "class Quantity(Validated) : \n",
    "    \"\"\"0 보다 큰 수\"\"\"\n",
    "    \n",
    "    def validate(self, instance, value) : \n",
    "        if value <= 0 :\n",
    "            return ValueError('value must be > 0')\n",
    "        \n",
    "        return value\n",
    "    \n",
    "\n",
    "class NoneBlank(Validated) : \n",
    "    \"\"\"최소 하나 이상의 비공백 문자가 들어 있는 문자열\"\"\"\n",
    "    \n",
    "    def validate(self, instance, value) : \n",
    "        value = value.strip()\n",
    "        \n",
    "        if len(value) == 0 : \n",
    "            raise ValueError('value cannot be empty or blank')\n",
    "            \n",
    "        return value"
   ]
  },
  {
   "cell_type": "code",
   "execution_count": 14,
   "id": "670b12d6",
   "metadata": {},
   "outputs": [],
   "source": [
    "class LineItem : \n",
    "    description = NoneBlank()\n",
    "    weight = Quantity()\n",
    "    price = Quantity()\n",
    "    \n",
    "    def __init__(self, descriptiom, weight, price) : \n",
    "        self.description = description\n",
    "        self.weight = weight\n",
    "        self.price = price\n",
    "        \n",
    "    def subtotal(self) : \n",
    "        return self.weight * self.price\n",
    "    \n",
    "    "
   ]
  },
  {
   "cell_type": "code",
   "execution_count": 15,
   "id": "124f61af",
   "metadata": {},
   "outputs": [],
   "source": [
    "### 단지 출력하기 위한 보조 함수 ###\n",
    "\n",
    "def cls_name(obj_or_cls) : \n",
    "    cls = type(obj_or_cls)\n",
    "    \n",
    "    if cls is type : \n",
    "        cls = obj_or_cls\n",
    "    \n",
    "    return cls.__name__.split('.')[-1]\n",
    "\n",
    "def display(obj) : \n",
    "    cls = type(obj)\n",
    "    \n",
    "    if cls is type : \n",
    "        return '<class {}>'.format(obj.__name__)\n",
    "    \n",
    "    elif cls in [type(None), int] : \n",
    "        return repr(obj)\n",
    "    \n",
    "    else : \n",
    "        return '<{} object>'.format(cls_name(obj))\n",
    "\n",
    "def print_args(name, *args) :\n",
    "    pseudo_args = ', '.join(display(x) for x in args) \n",
    "    print('-> {}.__{}__({})'.format(cls_name(args[0]), name, pseudo_args))\n",
    "    \n",
    "    \n",
    "class Overriding : \n",
    "    \"\"\"데이터 디스크립터 혹은 강제 디스크립터라고함\"\"\"\n",
    "    \n",
    "    def __get__(self, instance, owner) :\n",
    "        print_args('get', self, instance, owner)\n",
    "        \n",
    "    def __set__(self, instance, value) : \n",
    "        print_args('set', self, instance, value)\n",
    "        \n",
    "class OverridingNoGet : \n",
    "    \"\"\"``__get__()``이 없는 오버라이딩 디스크립터\"\"\"\n",
    "    \n",
    "    def __set__(self, instance, value) : \n",
    "        print_args('set', self, instance, value)\n",
    "        \n",
    "class NonOverriding : \n",
    "    \"\"\"비데이터 디스크립터 혹은 가릴 수 있는 디스크립터라고함\"\"\"\n",
    "    \n",
    "    def __get__(self, instance, owner) : \n",
    "        print_args('get', self, instance, owner)\n",
    "        \n",
    "class Managed : \n",
    "    over = Overriding()\n",
    "    over_no_get = OverridingNoGet()\n",
    "    non_over = NonOverriding()\n",
    "    \n",
    "    def spam(self) : \n",
    "        print('-> Managed.spam({})'.format(display(self)))"
   ]
  },
  {
   "cell_type": "code",
   "execution_count": 16,
   "id": "cccd604a",
   "metadata": {},
   "outputs": [],
   "source": [
    "obj = Managed()"
   ]
  },
  {
   "cell_type": "code",
   "execution_count": 17,
   "id": "409a937e",
   "metadata": {},
   "outputs": [
    {
     "name": "stdout",
     "output_type": "stream",
     "text": [
      "-> Overriding.__get__(<Overriding object>, <Managed object>, <class Managed>)\n"
     ]
    }
   ],
   "source": [
    "obj.over"
   ]
  },
  {
   "cell_type": "code",
   "execution_count": 18,
   "id": "c87d1fad",
   "metadata": {},
   "outputs": [
    {
     "name": "stdout",
     "output_type": "stream",
     "text": [
      "-> Overriding.__get__(<Overriding object>, None, <class Managed>)\n"
     ]
    }
   ],
   "source": [
    "Managed.over"
   ]
  },
  {
   "cell_type": "code",
   "execution_count": 19,
   "id": "a96a8c82",
   "metadata": {},
   "outputs": [
    {
     "name": "stdout",
     "output_type": "stream",
     "text": [
      "-> Overriding.__set__(<Overriding object>, <Managed object>, 7)\n"
     ]
    }
   ],
   "source": [
    "obj.over = 7"
   ]
  },
  {
   "cell_type": "code",
   "execution_count": 20,
   "id": "3c52178f",
   "metadata": {},
   "outputs": [
    {
     "name": "stdout",
     "output_type": "stream",
     "text": [
      "-> Overriding.__get__(<Overriding object>, <Managed object>, <class Managed>)\n"
     ]
    }
   ],
   "source": [
    "obj.over"
   ]
  },
  {
   "cell_type": "code",
   "execution_count": 21,
   "id": "cd864236",
   "metadata": {},
   "outputs": [
    {
     "data": {
      "text/plain": [
       "{'over': 8}"
      ]
     },
     "execution_count": 21,
     "metadata": {},
     "output_type": "execute_result"
    }
   ],
   "source": [
    "obj.__dict__['over'] = 8\n",
    "vars(obj)"
   ]
  },
  {
   "cell_type": "code",
   "execution_count": 22,
   "id": "56e32452",
   "metadata": {},
   "outputs": [
    {
     "name": "stdout",
     "output_type": "stream",
     "text": [
      "-> Overriding.__get__(<Overriding object>, <Managed object>, <class Managed>)\n"
     ]
    }
   ],
   "source": [
    "obj.over"
   ]
  },
  {
   "cell_type": "code",
   "execution_count": null,
   "id": "70e02d7d",
   "metadata": {},
   "outputs": [],
   "source": []
  }
 ],
 "metadata": {
  "kernelspec": {
   "display_name": "Python 3 (ipykernel)",
   "language": "python",
   "name": "python3"
  },
  "language_info": {
   "codemirror_mode": {
    "name": "ipython",
    "version": 3
   },
   "file_extension": ".py",
   "mimetype": "text/x-python",
   "name": "python",
   "nbconvert_exporter": "python",
   "pygments_lexer": "ipython3",
   "version": "3.9.12"
  }
 },
 "nbformat": 4,
 "nbformat_minor": 5
}
