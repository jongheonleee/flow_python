{
 "cells": [
  {
   "cell_type": "code",
   "execution_count": 9,
   "id": "50157825",
   "metadata": {},
   "outputs": [],
   "source": [
    "\"\"\"\n",
    "\n",
    "파이썬 카드 한 벌\n",
    "\n",
    "\n",
    "파이썬 데이터 모델의 장점\n",
    "\n",
    "- (1) 클래스 자체에서 구현한 임의 메서드명을 암기할 필요없음 -> size(), length() ... \n",
    "- (2) 파이썬 표준 라이브러리에서 제공하는 풍부한 기능을 사용함 -> random.choice() ...\n",
    "\n",
    "\n",
    "FrenchDeck 특징 \n",
    "- FrenchDeck은 암묵족으로 object를 상속받음, 상속 대신 데이터 모델과 구성을 이용해서 기능을 가져옴 \n",
    "- 해당 객체는 불변임. 즉, 캡슐화를 어기고 _cards 속성을 직접 조작하지 않는 한 카드의 값과 위치를 바꿀 수 없음\n",
    "- 특별 메서드는 '파이썬 인터프리터'가 호출하기 위한 것. 예를들어서, for i in x : 문의 경우 실제로는 iter(x) 를 호출하며, \n",
    "  이 함수는 다시 x.__iter__()를 호출함 \n",
    "  \n",
    "\"\"\"\n",
    "\n",
    "import collections\n",
    "\n",
    "Card = collections.namedtuple('Card', ['rank', 'suit'])\n",
    "\n",
    "class FrenchDeck:\n",
    "    ranks = [ str(n) for n in range(2, 11) ] + list('JQKA')\n",
    "    suits = 'spades diamonds clubs hearts'.split()\n",
    "    \n",
    "    def __init__(self) : \n",
    "        \"사용자가 구현한 __init__() 메서드 안에서 슈퍼 클래스의 __init__() 메서드를 호출함\"\n",
    "        self._cards = [Card(rank, suit) for suit in self.suits\n",
    "                                         for rank in self.ranks]\n",
    "        \n",
    "        \n",
    "    def __len__(self) : \n",
    "        return len(self._cards)\n",
    "    \n",
    "    def __getitem__(self, position) :\n",
    "        return self._cards[position]"
   ]
  },
  {
   "cell_type": "code",
   "execution_count": 12,
   "id": "a6848d1f",
   "metadata": {},
   "outputs": [
    {
     "data": {
      "text/plain": [
       "Card(rank='7', suit='diamons')"
      ]
     },
     "execution_count": 12,
     "metadata": {},
     "output_type": "execute_result"
    }
   ],
   "source": [
    "beer_card = Card('7', 'diamons')\n",
    "beer_card"
   ]
  },
  {
   "cell_type": "code",
   "execution_count": 26,
   "id": "31bf3441",
   "metadata": {},
   "outputs": [
    {
     "data": {
      "text/plain": [
       "52"
      ]
     },
     "execution_count": 26,
     "metadata": {},
     "output_type": "execute_result"
    }
   ],
   "source": [
    "deck = FrenchDeck()\n",
    "len(deck)"
   ]
  },
  {
   "cell_type": "code",
   "execution_count": 20,
   "id": "35f3069c",
   "metadata": {},
   "outputs": [
    {
     "data": {
      "text/plain": [
       "Card(rank='A', suit='hearts')"
      ]
     },
     "execution_count": 20,
     "metadata": {},
     "output_type": "execute_result"
    }
   ],
   "source": [
    "deck[0]\n",
    "deck[-1]\n"
   ]
  },
  {
   "cell_type": "code",
   "execution_count": 16,
   "id": "17009ae3",
   "metadata": {},
   "outputs": [
    {
     "data": {
      "text/plain": [
       "Card(rank='K', suit='hearts')"
      ]
     },
     "execution_count": 16,
     "metadata": {},
     "output_type": "execute_result"
    }
   ],
   "source": [
    "from random import choice\n",
    "\n",
    "choice(deck) # 임의의 카드 뽑음 "
   ]
  },
  {
   "cell_type": "code",
   "execution_count": 21,
   "id": "1194bd53",
   "metadata": {},
   "outputs": [
    {
     "data": {
      "text/plain": [
       "[Card(rank='A', suit='spades'),\n",
       " Card(rank='A', suit='diamonds'),\n",
       " Card(rank='A', suit='clubs'),\n",
       " Card(rank='A', suit='hearts')]"
      ]
     },
     "execution_count": 21,
     "metadata": {},
     "output_type": "execute_result"
    }
   ],
   "source": [
    "\"\"\"\n",
    "- __getitem()__ : self.cards의 [] 연산자에 작업을 위임하므로 deck 객체는 슬라이싱도 자동으로 지원함\n",
    "\"\"\"\n",
    "\n",
    "deck[12::13] # 12 인덱스에서 시작 -> 13개씩 건너뛰고 에이스만 조회"
   ]
  },
  {
   "cell_type": "code",
   "execution_count": 25,
   "id": "4daa6774",
   "metadata": {},
   "outputs": [
    {
     "name": "stdout",
     "output_type": "stream",
     "text": [
      "Card(rank='A', suit='hearts')\n",
      "Card(rank='K', suit='hearts')\n",
      "Card(rank='Q', suit='hearts')\n",
      "Card(rank='J', suit='hearts')\n",
      "Card(rank='10', suit='hearts')\n",
      "Card(rank='9', suit='hearts')\n",
      "Card(rank='8', suit='hearts')\n",
      "Card(rank='7', suit='hearts')\n",
      "Card(rank='6', suit='hearts')\n",
      "Card(rank='5', suit='hearts')\n",
      "Card(rank='4', suit='hearts')\n",
      "Card(rank='3', suit='hearts')\n",
      "Card(rank='2', suit='hearts')\n",
      "Card(rank='A', suit='clubs')\n",
      "Card(rank='K', suit='clubs')\n",
      "Card(rank='Q', suit='clubs')\n",
      "Card(rank='J', suit='clubs')\n",
      "Card(rank='10', suit='clubs')\n",
      "Card(rank='9', suit='clubs')\n",
      "Card(rank='8', suit='clubs')\n",
      "Card(rank='7', suit='clubs')\n",
      "Card(rank='6', suit='clubs')\n",
      "Card(rank='5', suit='clubs')\n",
      "Card(rank='4', suit='clubs')\n",
      "Card(rank='3', suit='clubs')\n",
      "Card(rank='2', suit='clubs')\n",
      "Card(rank='A', suit='diamonds')\n",
      "Card(rank='K', suit='diamonds')\n",
      "Card(rank='Q', suit='diamonds')\n",
      "Card(rank='J', suit='diamonds')\n",
      "Card(rank='10', suit='diamonds')\n",
      "Card(rank='9', suit='diamonds')\n",
      "Card(rank='8', suit='diamonds')\n",
      "Card(rank='7', suit='diamonds')\n",
      "Card(rank='6', suit='diamonds')\n",
      "Card(rank='5', suit='diamonds')\n",
      "Card(rank='4', suit='diamonds')\n",
      "Card(rank='3', suit='diamonds')\n",
      "Card(rank='2', suit='diamonds')\n",
      "Card(rank='A', suit='spades')\n",
      "Card(rank='K', suit='spades')\n",
      "Card(rank='Q', suit='spades')\n",
      "Card(rank='J', suit='spades')\n",
      "Card(rank='10', suit='spades')\n",
      "Card(rank='9', suit='spades')\n",
      "Card(rank='8', suit='spades')\n",
      "Card(rank='7', suit='spades')\n",
      "Card(rank='6', suit='spades')\n",
      "Card(rank='5', suit='spades')\n",
      "Card(rank='4', suit='spades')\n",
      "Card(rank='3', suit='spades')\n",
      "Card(rank='2', suit='spades')\n"
     ]
    }
   ],
   "source": [
    "\"\"\"\n",
    "- __getitem__() 메서드를 구현함으로써 deck을 반복할 수 있음\n",
    "- 컬렉션에 __contains__() 메서드가 없다면 in 연산자는 차례대로 검색함 \n",
    "\"\"\"\n",
    "\n",
    "for c in deck : \n",
    "    print(c)\n",
    "\n",
    "for c in reversed(deck) : \n",
    "    print(c)"
   ]
  },
  {
   "cell_type": "code",
   "execution_count": 27,
   "id": "6e7cef85",
   "metadata": {},
   "outputs": [
    {
     "data": {
      "text/plain": [
       "True"
      ]
     },
     "execution_count": 27,
     "metadata": {},
     "output_type": "execute_result"
    }
   ],
   "source": [
    "Card('Q', 'hearts') in deck"
   ]
  },
  {
   "cell_type": "code",
   "execution_count": 31,
   "id": "c4be3d3d",
   "metadata": {},
   "outputs": [
    {
     "name": "stdout",
     "output_type": "stream",
     "text": [
      "0\n",
      "1\n",
      "2\n",
      "3\n",
      "4\n",
      "5\n",
      "6\n",
      "7\n",
      "8\n",
      "9\n",
      "10\n",
      "11\n",
      "12\n",
      "0\n",
      "1\n",
      "2\n",
      "3\n",
      "4\n",
      "5\n",
      "6\n",
      "7\n",
      "8\n",
      "9\n",
      "10\n",
      "11\n",
      "12\n",
      "0\n",
      "1\n",
      "2\n",
      "3\n",
      "4\n",
      "5\n",
      "6\n",
      "7\n",
      "8\n",
      "9\n",
      "10\n",
      "11\n",
      "12\n",
      "0\n",
      "1\n",
      "2\n",
      "3\n",
      "4\n",
      "5\n",
      "6\n",
      "7\n",
      "8\n",
      "9\n",
      "10\n",
      "11\n",
      "12\n",
      "Card(rank='2', suit='clubs')\n",
      "Card(rank='2', suit='diamonds')\n",
      "Card(rank='2', suit='hearts')\n",
      "Card(rank='2', suit='spades')\n",
      "Card(rank='3', suit='clubs')\n",
      "Card(rank='3', suit='diamonds')\n",
      "Card(rank='3', suit='hearts')\n",
      "Card(rank='3', suit='spades')\n",
      "Card(rank='4', suit='clubs')\n",
      "Card(rank='4', suit='diamonds')\n",
      "Card(rank='4', suit='hearts')\n",
      "Card(rank='4', suit='spades')\n",
      "Card(rank='5', suit='clubs')\n",
      "Card(rank='5', suit='diamonds')\n",
      "Card(rank='5', suit='hearts')\n",
      "Card(rank='5', suit='spades')\n",
      "Card(rank='6', suit='clubs')\n",
      "Card(rank='6', suit='diamonds')\n",
      "Card(rank='6', suit='hearts')\n",
      "Card(rank='6', suit='spades')\n",
      "Card(rank='7', suit='clubs')\n",
      "Card(rank='7', suit='diamonds')\n",
      "Card(rank='7', suit='hearts')\n",
      "Card(rank='7', suit='spades')\n",
      "Card(rank='8', suit='clubs')\n",
      "Card(rank='8', suit='diamonds')\n",
      "Card(rank='8', suit='hearts')\n",
      "Card(rank='8', suit='spades')\n",
      "Card(rank='9', suit='clubs')\n",
      "Card(rank='9', suit='diamonds')\n",
      "Card(rank='9', suit='hearts')\n",
      "Card(rank='9', suit='spades')\n",
      "Card(rank='10', suit='clubs')\n",
      "Card(rank='10', suit='diamonds')\n",
      "Card(rank='10', suit='hearts')\n",
      "Card(rank='10', suit='spades')\n",
      "Card(rank='J', suit='clubs')\n",
      "Card(rank='J', suit='diamonds')\n",
      "Card(rank='J', suit='hearts')\n",
      "Card(rank='J', suit='spades')\n",
      "Card(rank='Q', suit='clubs')\n",
      "Card(rank='Q', suit='diamonds')\n",
      "Card(rank='Q', suit='hearts')\n",
      "Card(rank='Q', suit='spades')\n",
      "Card(rank='K', suit='clubs')\n",
      "Card(rank='K', suit='diamonds')\n",
      "Card(rank='K', suit='hearts')\n",
      "Card(rank='K', suit='spades')\n",
      "Card(rank='A', suit='clubs')\n",
      "Card(rank='A', suit='diamonds')\n",
      "Card(rank='A', suit='hearts')\n",
      "Card(rank='A', suit='spades')\n"
     ]
    }
   ],
   "source": [
    "\"\"\"\n",
    "\n",
    "- 정렬\n",
    "\n",
    "\"\"\"\n",
    "\n",
    "suit_values = dict(spades = 3, hearts = 2, diamonds = 1, clubs = 0)\n",
    "\n",
    "def spades_high(card) : \n",
    "    rank_value = FrenchDeck.ranks.index(card.rank)\n",
    "    print(rank_value)\n",
    "    return rank_value * len(suit_values) + suit_values[card.suit]\n",
    "\n",
    "for c in sorted(deck, key = spades_high) : \n",
    "    print(c)"
   ]
  },
  {
   "cell_type": "code",
   "execution_count": 34,
   "id": "47af12fe",
   "metadata": {},
   "outputs": [],
   "source": [
    "from math import hypot\n",
    "\n",
    "class Vector : \n",
    "    def __init__(self, x=0, y=0) :\n",
    "        self.x = x\n",
    "        self.y = y\n",
    "        \n",
    "    \"\"\" \n",
    "    - 특별 메서드는 주로 파이썬 인터프리터가 호출함 - OOP에는 연산자란 개념이 없음, 연산자 작업은 메서드에 의해 처리됨\n",
    "    - __repr__(), __str__()의 특징\n",
    "        - __str__() 메서드 \n",
    "            - (1) str() 생성자에 의해 호출됨, print() 에서 암묵적으로 사용\n",
    "            - (2) 사용자에게 보여주기 적당한 형태의 문자열 반환\n",
    "        \n",
    "        - __repr__() 메서드\n",
    "            - (1) 파이썬 인터프리터는 __str__() 메서드가 구현되어 있지 않으면 __repr__() 메서드를 호출\n",
    "            \n",
    "    \"\"\"\n",
    "    def __repr__(self) : # 객체를 문자열로 표현하는 특별 메서드 \n",
    "        return 'Vector(%r, %r)' % (self.x, self.y) # 속성의 표준 표현을 가져오기 위해 %r을 사용함 \n",
    "    \n",
    "    def __abs__(self) : \n",
    "        return hypot(self.x, self.y)\n",
    "    \n",
    "    def __bool__(self) : \n",
    "        return bool(abs(self))\n",
    "    \n",
    "    def __add__(self, other) : \n",
    "        x = self.x + other.x\n",
    "        y = self.y + other.y\n",
    "        \n",
    "        return Vector(x, y)\n",
    "    \n",
    "    def __mul__(self, scalar) :\n",
    "        return Vector(self.x * scalar, self.y * scalar)\n",
    "    \n",
    "    def __bool__(self) : # 벡터 크기가 0이면 False, 그렇지 않으면 True \n",
    "        return bool(self.x or self.y)\n",
    "    \n",
    "    "
   ]
  },
  {
   "cell_type": "code",
   "execution_count": 36,
   "id": "e9f60f55",
   "metadata": {},
   "outputs": [
    {
     "data": {
      "text/plain": [
       "Vector(4, 5)"
      ]
     },
     "execution_count": 36,
     "metadata": {},
     "output_type": "execute_result"
    }
   ],
   "source": [
    "v1 = Vector(2, 4)\n",
    "v2 = Vector(2, 1)\n",
    "\n",
    "v1 + v2"
   ]
  },
  {
   "cell_type": "code",
   "execution_count": 37,
   "id": "8a1e5cfc",
   "metadata": {},
   "outputs": [
    {
     "data": {
      "text/plain": [
       "5.0"
      ]
     },
     "execution_count": 37,
     "metadata": {},
     "output_type": "execute_result"
    }
   ],
   "source": [
    "v3 = Vector(3, 4)\n",
    "abs(v3)"
   ]
  },
  {
   "cell_type": "code",
   "execution_count": 38,
   "id": "2a2a18c0",
   "metadata": {},
   "outputs": [
    {
     "data": {
      "text/plain": [
       "Vector(9, 12)"
      ]
     },
     "execution_count": 38,
     "metadata": {},
     "output_type": "execute_result"
    }
   ],
   "source": [
    "v3 * 3"
   ]
  },
  {
   "cell_type": "code",
   "execution_count": null,
   "id": "5534102c",
   "metadata": {},
   "outputs": [],
   "source": []
  }
 ],
 "metadata": {
  "kernelspec": {
   "display_name": "Python 3 (ipykernel)",
   "language": "python",
   "name": "python3"
  },
  "language_info": {
   "codemirror_mode": {
    "name": "ipython",
    "version": 3
   },
   "file_extension": ".py",
   "mimetype": "text/x-python",
   "name": "python",
   "nbconvert_exporter": "python",
   "pygments_lexer": "ipython3",
   "version": "3.9.12"
  }
 },
 "nbformat": 4,
 "nbformat_minor": 5
}
