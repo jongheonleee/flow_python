{
 "cells": [
  {
   "cell_type": "code",
   "execution_count": 47,
   "id": "fe88fdf7",
   "metadata": {},
   "outputs": [],
   "source": [
    "from array import array\n",
    "import math\n",
    "\n",
    "class Vector2d : \n",
    "    typecode = 'd'\n",
    "    \n",
    "    \"\"\"\n",
    "    v파이썬에서의 비공개 속성과 보호된 속성\n",
    "    - 비공개 변수를 생성할 방법 x\n",
    "    - 간단한 메커니즘 : 이중 언더바, 단일 언더바, ... \n",
    "    \"\"\"\n",
    "    def __init__(self, x, y) : \n",
    "        \n",
    "        self.__x = float(x)\n",
    "        self.__y = float(y)\n",
    "       \n",
    "    @property\n",
    "    def x(self) : \n",
    "        return self.__x\n",
    "    \n",
    "    @property\n",
    "    def y(self) : \n",
    "        return self.__y\n",
    "        \n",
    "    def __iter__(self) : \n",
    "        # self.x, self.y -> 공개 프로퍼티를 읽음 \n",
    "        return (i for i in (self.x, self.y))\n",
    "    \n",
    "    def __repr__(self) : \n",
    "        class_name = type(self).__name__\n",
    "        return '{}({!r}, {!r})'.format(class_name, *self)\n",
    "    \n",
    "    def __str__(self) : \n",
    "        return str(tuple(self))\n",
    "    \n",
    "    # bytes를 생성하기 위해 typecode를 bytes로 변환함, 이를 객체를 반복해서 생성하는 배열에서 변환된 bytes와 연결 \n",
    "    # ord() : 단일 문자를 인수로 받아 그 문자의 유니코드 값을 돌려줌, 내장함수임\n",
    "    # bytes() : 바이트 객체를 생성하는 내장 함수, 바이트 객체는 불변(immutable)한 바이트 시퀀스 \n",
    "    def __bytes__(self) : \n",
    "        return (bytes([ord(self.typecode)]) + bytes(array(self.typecode, self)))\n",
    "    \n",
    "    # tuple() : 튜플(tuple) 객체를 생성하는 내장 함수,튜플은 불변(immutable)하고 순서가 있는 컬렉션으로, \n",
    "    # 각 요소는 쉼표로 구분됩니다. 튜플은 리스트와 유사하지만, 한 번 생성된 후에는 요소를 변경할 수 없음 \n",
    "    def __eq__(self) : \n",
    "        return tuple(self) == tuple(other)\n",
    "    \n",
    "    def __abs__(self) : \n",
    "        return math.hypot(self.x, self.y)\n",
    "    \n",
    "    def __bool__(self) : \n",
    "        return bool(abs(self))\n",
    "    \n",
    "    def __format__(self, fmt_spec='') : \n",
    "        if fmt_spec.endswith('p') : \n",
    "            fmt_spec = fmt_spec[:-1]\n",
    "            coords = (abs(self), self.angle())\n",
    "            outer_fmt = '<{}, {}>'\n",
    "            \n",
    "        else : \n",
    "            coords = self\n",
    "            outer_fmt = '<{}, {}>'\n",
    "            \n",
    "        components = (format(c, fmt_spec) for c in self)\n",
    "        return outer_fmt.format(*components)\n",
    "    \n",
    "    def __hash__(self) : \n",
    "        return hash(self.x) ^ hash(self.y)\n",
    "    \n",
    "    def angle(self) : \n",
    "        return math.atan2(self.x, self.y)\n",
    "\n",
    "    @classmethod \n",
    "    def frombytes(cls, octets) : # cls : 클래스 자신\n",
    "        typecode = chr(octets[0])\n",
    "        memv = memoryview(octets[1:]).cast(typecode)\n",
    "\n",
    "        return cls(*memv)\n"
   ]
  },
  {
   "cell_type": "code",
   "execution_count": 48,
   "id": "c2faa8b0",
   "metadata": {},
   "outputs": [
    {
     "data": {
      "text/plain": [
       "'\\n대안 생성자 : 클래스를 초기화하기 위한 여러 가지 방법을 제공하는 클래스 메서드를 의미\\n- @classmethod 데코레이터를 사용하여 정의\\n- 자바로 따지면 생성자 오버로딩\\n'"
      ]
     },
     "execution_count": 48,
     "metadata": {},
     "output_type": "execute_result"
    }
   ],
   "source": [
    "\"\"\"\n",
    "대안 생성자 : 클래스를 초기화하기 위한 여러 가지 방법을 제공하는 클래스 메서드를 의미\n",
    "- @classmethod 데코레이터를 사용하여 정의\n",
    "- 자바로 따지면 생성자 오버로딩\n",
    "\"\"\"\n"
   ]
  },
  {
   "cell_type": "code",
   "execution_count": 49,
   "id": "8e4ce8c8",
   "metadata": {},
   "outputs": [
    {
     "data": {
      "text/plain": [
       "'\\n밑에 둘 다 데커레이터\\n- @classmethod : 클래스 메서드를 정의할 때 사용하는 데코레이터, 클래스에 연산을 수행하는 메서드 정의. 예를들어서, 대안 생성자(생성자 오버로딩) ... \\n    - 1. 호출되는 방식을 변경해서 클래스 자체를 첫 번재 인수로 받음\\n    - 2. 대안 생성자를 구현하기 위해 사용\\n    \\n- @staticmethod : 정적 메서드를 정의할 때 사용하는 데코레이터 \\n    - 1. 특별한 첫 번째 인수를 받지 않도록 메서드를 변경\\n    - 2. 정적 메서드는 모듈 대신 클래스 본체 안에 정의된 평범한 함수임\\n'"
      ]
     },
     "execution_count": 49,
     "metadata": {},
     "output_type": "execute_result"
    }
   ],
   "source": [
    "\"\"\"\n",
    "밑에 둘 다 데커레이터\n",
    "- @classmethod : 클래스 메서드를 정의할 때 사용하는 데코레이터, 클래스에 연산을 수행하는 메서드 정의. 예를들어서, 대안 생성자(생성자 오버로딩) ... \n",
    "    - 1. 호출되는 방식을 변경해서 클래스 자체를 첫 번재 인수로 받음\n",
    "    - 2. 대안 생성자를 구현하기 위해 사용\n",
    "    \n",
    "- @staticmethod : 정적 메서드를 정의할 때 사용하는 데코레이터 \n",
    "    - 1. 특별한 첫 번째 인수를 받지 않도록 메서드를 변경\n",
    "    - 2. 정적 메서드는 모듈 대신 클래스 본체 안에 정의된 평범한 함수임\n",
    "\"\"\""
   ]
  },
  {
   "cell_type": "code",
   "execution_count": 50,
   "id": "a2f7cc96",
   "metadata": {},
   "outputs": [
    {
     "data": {
      "text/plain": [
       "(__main__.Demo,)"
      ]
     },
     "execution_count": 50,
     "metadata": {},
     "output_type": "execute_result"
    }
   ],
   "source": [
    "class Demo : \n",
    "    @classmethod\n",
    "    def klassmeth(*args) : \n",
    "        return args\n",
    "    \n",
    "    @staticmethod\n",
    "    def statmeth(*args) : \n",
    "        return args\n",
    "    \n",
    "Demo.klassmeth()"
   ]
  },
  {
   "cell_type": "code",
   "execution_count": 51,
   "id": "270deffe",
   "metadata": {},
   "outputs": [
    {
     "data": {
      "text/plain": [
       "(__main__.Demo, 'spam')"
      ]
     },
     "execution_count": 51,
     "metadata": {},
     "output_type": "execute_result"
    }
   ],
   "source": [
    "Demo.klassmeth('spam')"
   ]
  },
  {
   "cell_type": "code",
   "execution_count": 52,
   "id": "86b0c0a5",
   "metadata": {},
   "outputs": [
    {
     "data": {
      "text/plain": [
       "()"
      ]
     },
     "execution_count": 52,
     "metadata": {},
     "output_type": "execute_result"
    }
   ],
   "source": [
    "Demo.statmeth()"
   ]
  },
  {
   "cell_type": "code",
   "execution_count": 53,
   "id": "cd90431e",
   "metadata": {},
   "outputs": [
    {
     "data": {
      "text/plain": [
       "('spam',)"
      ]
     },
     "execution_count": 53,
     "metadata": {},
     "output_type": "execute_result"
    }
   ],
   "source": [
    "Demo.statmeth('spam')"
   ]
  },
  {
   "cell_type": "code",
   "execution_count": 54,
   "id": "29e5412a",
   "metadata": {},
   "outputs": [
    {
     "data": {
      "text/plain": [
       "'<1.0, 1.0>'"
      ]
     },
     "execution_count": 54,
     "metadata": {},
     "output_type": "execute_result"
    }
   ],
   "source": [
    "format(Vector2d(1, 1), 'p')"
   ]
  },
  {
   "cell_type": "code",
   "execution_count": 55,
   "id": "9b520b68",
   "metadata": {},
   "outputs": [
    {
     "data": {
      "text/plain": [
       "'<3.000e+00, 9.000e+00>'"
      ]
     },
     "execution_count": 55,
     "metadata": {},
     "output_type": "execute_result"
    }
   ],
   "source": [
    "format(Vector2d(3, 9), '.3ep')"
   ]
  },
  {
   "cell_type": "code",
   "execution_count": 56,
   "id": "d784aa7b",
   "metadata": {},
   "outputs": [
    {
     "name": "stdout",
     "output_type": "stream",
     "text": [
      "(1.0, 1.0)\n"
     ]
    }
   ],
   "source": [
    "print(Vector2d(1, 1))"
   ]
  },
  {
   "cell_type": "code",
   "execution_count": 57,
   "id": "005575d1",
   "metadata": {},
   "outputs": [
    {
     "data": {
      "text/plain": [
       "(7, 384307168202284039)"
      ]
     },
     "execution_count": 57,
     "metadata": {},
     "output_type": "execute_result"
    }
   ],
   "source": [
    "\"\"\"\n",
    "- 해시 가능하게 만들기 __hash__() 메서드 구현\n",
    "- 해시 가능하다? : Vector2d 객체를 불변형으로 만듦\n",
    "\n",
    "\"\"\"\n",
    "v1 = Vector2d(3, 4)\n",
    "v2 = Vector2d(3.1, 4.2)\n",
    "\n",
    "hash(v1), hash(v2)"
   ]
  },
  {
   "cell_type": "code",
   "execution_count": 58,
   "id": "c42dbf87",
   "metadata": {},
   "outputs": [
    {
     "data": {
      "text/plain": [
       "{Vector2d(3.0, 4.0), Vector2d(3.1, 4.2)}"
      ]
     },
     "execution_count": 58,
     "metadata": {},
     "output_type": "execute_result"
    }
   ],
   "source": [
    "\"\"\"\n",
    "Vector2d 클래스를 불변형으로 바꿔서 집합에 사용 가능 \n",
    "- 해시 가능한 클래스여야 집합에 사용가능\n",
    "\"\"\"\n",
    "set([v1, v2])"
   ]
  },
  {
   "cell_type": "code",
   "execution_count": null,
   "id": "6755a74e",
   "metadata": {},
   "outputs": [],
   "source": []
  },
  {
   "cell_type": "code",
   "execution_count": null,
   "id": "b3f7c8c1",
   "metadata": {},
   "outputs": [],
   "source": []
  }
 ],
 "metadata": {
  "kernelspec": {
   "display_name": "Python 3 (ipykernel)",
   "language": "python",
   "name": "python3"
  },
  "language_info": {
   "codemirror_mode": {
    "name": "ipython",
    "version": 3
   },
   "file_extension": ".py",
   "mimetype": "text/x-python",
   "name": "python",
   "nbconvert_exporter": "python",
   "pygments_lexer": "ipython3",
   "version": "3.9.12"
  }
 },
 "nbformat": 4,
 "nbformat_minor": 5
}
