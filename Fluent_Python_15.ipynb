{
 "cells": [
  {
   "cell_type": "code",
   "execution_count": 1,
   "id": "8a5defc2",
   "metadata": {},
   "outputs": [
    {
     "data": {
      "text/plain": [
       "'\\n코루틴\\n- yield : 생산한다/양보한다\\n- yield를 가진 함수. 그러나, yield 문이 표현식의 오른쪽에 옴/값을 생성하지 않는 경우도 있음\\n'"
      ]
     },
     "execution_count": 1,
     "metadata": {},
     "output_type": "execute_result"
    }
   ],
   "source": [
    "\"\"\"\n",
    "코루틴\n",
    "- yield : 생산한다/양보한다\n",
    "- yield를 가진 함수. 그러나, yield 문이 표현식의 오른쪽에 옴/값을 생성하지 않는 경우도 있음\n",
    "\"\"\""
   ]
  },
  {
   "cell_type": "code",
   "execution_count": 11,
   "id": "17d9fb3f",
   "metadata": {},
   "outputs": [
    {
     "data": {
      "text/plain": [
       "<generator object simple_coroutine at 0x7f7c4963ac10>"
      ]
     },
     "execution_count": 11,
     "metadata": {},
     "output_type": "execute_result"
    }
   ],
   "source": [
    "def simple_coroutine() : \n",
    "    print('-> coroutine started!')\n",
    "    x = yield\n",
    "    print('-> coroutine received : ', x)\n",
    "\n",
    "my_coro = simple_coroutine()\n",
    "my_coro"
   ]
  },
  {
   "cell_type": "code",
   "execution_count": 12,
   "id": "6c757057",
   "metadata": {},
   "outputs": [
    {
     "name": "stdout",
     "output_type": "stream",
     "text": [
      "-> coroutine started!\n"
     ]
    }
   ],
   "source": [
    "next(my_coro)"
   ]
  },
  {
   "cell_type": "code",
   "execution_count": 13,
   "id": "3d4189ef",
   "metadata": {},
   "outputs": [
    {
     "name": "stdout",
     "output_type": "stream",
     "text": [
      "-> coroutine received :  42\n"
     ]
    },
    {
     "ename": "StopIteration",
     "evalue": "",
     "output_type": "error",
     "traceback": [
      "\u001b[0;31m---------------------------------------------------------------------------\u001b[0m",
      "\u001b[0;31mStopIteration\u001b[0m                             Traceback (most recent call last)",
      "Input \u001b[0;32mIn [13]\u001b[0m, in \u001b[0;36m<cell line: 1>\u001b[0;34m()\u001b[0m\n\u001b[0;32m----> 1\u001b[0m \u001b[43mmy_coro\u001b[49m\u001b[38;5;241;43m.\u001b[39;49m\u001b[43msend\u001b[49m\u001b[43m(\u001b[49m\u001b[38;5;241;43m42\u001b[39;49m\u001b[43m)\u001b[49m\n",
      "\u001b[0;31mStopIteration\u001b[0m: "
     ]
    }
   ],
   "source": [
    "my_coro.send(42)"
   ]
  },
  {
   "cell_type": "code",
   "execution_count": 15,
   "id": "7b685896",
   "metadata": {},
   "outputs": [
    {
     "data": {
      "text/plain": [
       "'GEN_CREATED'"
      ]
     },
     "execution_count": 15,
     "metadata": {},
     "output_type": "execute_result"
    }
   ],
   "source": [
    "from inspect import getgeneratorstate\n",
    "\n",
    "def simple_coro2(a) :\n",
    "    print('-> Started : a = ', a)\n",
    "    b = yield a\n",
    "    print('-> Received : b = ', b)\n",
    "    c = yield a + b\n",
    "    print('-> Received : c = ', c)\n",
    "\n",
    "\n",
    "my_coro2 = simple_coro2(14)\n",
    "getgeneratorstate(my_coro2)"
   ]
  },
  {
   "cell_type": "code",
   "execution_count": 16,
   "id": "48b3a7f9",
   "metadata": {},
   "outputs": [
    {
     "name": "stdout",
     "output_type": "stream",
     "text": [
      "-> Started : a =  14\n"
     ]
    },
    {
     "data": {
      "text/plain": [
       "14"
      ]
     },
     "execution_count": 16,
     "metadata": {},
     "output_type": "execute_result"
    }
   ],
   "source": [
    "next(my_coro2)"
   ]
  },
  {
   "cell_type": "code",
   "execution_count": 17,
   "id": "d7d85b97",
   "metadata": {},
   "outputs": [
    {
     "data": {
      "text/plain": [
       "'GEN_SUSPENDED'"
      ]
     },
     "execution_count": 17,
     "metadata": {},
     "output_type": "execute_result"
    }
   ],
   "source": [
    "getgeneratorstate(my_coro2)"
   ]
  },
  {
   "cell_type": "code",
   "execution_count": 18,
   "id": "e0df97ef",
   "metadata": {},
   "outputs": [
    {
     "name": "stdout",
     "output_type": "stream",
     "text": [
      "-> Received : b =  28\n"
     ]
    },
    {
     "data": {
      "text/plain": [
       "42"
      ]
     },
     "execution_count": 18,
     "metadata": {},
     "output_type": "execute_result"
    }
   ],
   "source": [
    "my_coro2.send(28)"
   ]
  },
  {
   "cell_type": "code",
   "execution_count": 19,
   "id": "bd92e58e",
   "metadata": {},
   "outputs": [
    {
     "name": "stdout",
     "output_type": "stream",
     "text": [
      "-> Received : c =  99\n"
     ]
    },
    {
     "ename": "StopIteration",
     "evalue": "",
     "output_type": "error",
     "traceback": [
      "\u001b[0;31m---------------------------------------------------------------------------\u001b[0m",
      "\u001b[0;31mStopIteration\u001b[0m                             Traceback (most recent call last)",
      "Input \u001b[0;32mIn [19]\u001b[0m, in \u001b[0;36m<cell line: 1>\u001b[0;34m()\u001b[0m\n\u001b[0;32m----> 1\u001b[0m \u001b[43mmy_coro2\u001b[49m\u001b[38;5;241;43m.\u001b[39;49m\u001b[43msend\u001b[49m\u001b[43m(\u001b[49m\u001b[38;5;241;43m99\u001b[39;49m\u001b[43m)\u001b[49m\n",
      "\u001b[0;31mStopIteration\u001b[0m: "
     ]
    }
   ],
   "source": [
    "my_coro2.send(99)"
   ]
  },
  {
   "cell_type": "code",
   "execution_count": 20,
   "id": "4fd3aec2",
   "metadata": {},
   "outputs": [
    {
     "data": {
      "text/plain": [
       "'GEN_CLOSED'"
      ]
     },
     "execution_count": 20,
     "metadata": {},
     "output_type": "execute_result"
    }
   ],
   "source": [
    "getgeneratorstate(my_coro2)"
   ]
  },
  {
   "cell_type": "code",
   "execution_count": 35,
   "id": "126b6f00",
   "metadata": {},
   "outputs": [],
   "source": [
    "def averager() : \n",
    "    \"\"\"코루틴을 이용해서 이동 평균을 구하는 방법\"\"\"\n",
    "    total = 0.0\n",
    "    count = 0\n",
    "    average = None\n",
    "    \n",
    "    \n",
    "    while True :\n",
    "        term = yield average\n",
    "        total += term\n",
    "        count += 1\n",
    "        average = total/count\n",
    "        "
   ]
  },
  {
   "cell_type": "code",
   "execution_count": 36,
   "id": "17071053",
   "metadata": {},
   "outputs": [
    {
     "data": {
      "text/plain": [
       "10.0"
      ]
     },
     "execution_count": 36,
     "metadata": {},
     "output_type": "execute_result"
    }
   ],
   "source": [
    "coro_avg = averager()\n",
    "next(coro_avg)\n",
    "coro_avg.send(10)"
   ]
  },
  {
   "cell_type": "code",
   "execution_count": 37,
   "id": "57a693e2",
   "metadata": {},
   "outputs": [
    {
     "data": {
      "text/plain": [
       "20.0"
      ]
     },
     "execution_count": 37,
     "metadata": {},
     "output_type": "execute_result"
    }
   ],
   "source": [
    "coro_avg.send(30)"
   ]
  },
  {
   "cell_type": "code",
   "execution_count": 38,
   "id": "f635ad03",
   "metadata": {},
   "outputs": [
    {
     "data": {
      "text/plain": [
       "15.0"
      ]
     },
     "execution_count": 38,
     "metadata": {},
     "output_type": "execute_result"
    }
   ],
   "source": [
    "coro_avg.send(5)"
   ]
  },
  {
   "cell_type": "code",
   "execution_count": 39,
   "id": "94fc61e3",
   "metadata": {},
   "outputs": [],
   "source": [
    "from functools import wraps\n",
    "\n",
    "def coroutine(func) : \n",
    "    \"\"\"데커레이터 : 'func'를 기동해서 첫 번째 'yield'까지 진행함\"\"\"\n",
    "    @wraps(func)\n",
    "    def primer(*args, **kwargs) : \n",
    "        gen = func(*args, **kwargs)\n",
    "        next(gen)\n",
    "        return gen\n",
    "    \n",
    "    return primer\n",
    "\n"
   ]
  },
  {
   "cell_type": "code",
   "execution_count": 54,
   "id": "c3c00ce3",
   "metadata": {},
   "outputs": [
    {
     "data": {
      "text/plain": [
       "'GEN_SUSPENDED'"
      ]
     },
     "execution_count": 54,
     "metadata": {},
     "output_type": "execute_result"
    }
   ],
   "source": [
    "# from inspect import getgeneratorstate\n",
    "# from coroutil import coroutine\n",
    "\n",
    "@coroutine\n",
    "def averager() :\n",
    "    total = 0.0\n",
    "    count = 0\n",
    "    average = None\n",
    "    \n",
    "    while True : \n",
    "        term = yield average\n",
    "        total += term\n",
    "        count += 1\n",
    "        average = total/count\n",
    "    \n",
    "\n",
    "coro_avg = averager()\n",
    "getgeneratorstate(coro_avg)"
   ]
  },
  {
   "cell_type": "code",
   "execution_count": 55,
   "id": "149c575a",
   "metadata": {},
   "outputs": [
    {
     "data": {
      "text/plain": [
       "40.0"
      ]
     },
     "execution_count": 55,
     "metadata": {},
     "output_type": "execute_result"
    }
   ],
   "source": [
    "coro_avg.send(40)"
   ]
  },
  {
   "cell_type": "code",
   "execution_count": 56,
   "id": "502e3312",
   "metadata": {},
   "outputs": [
    {
     "data": {
      "text/plain": [
       "45.0"
      ]
     },
     "execution_count": 56,
     "metadata": {},
     "output_type": "execute_result"
    }
   ],
   "source": [
    "coro_avg.send(50)"
   ]
  },
  {
   "cell_type": "code",
   "execution_count": 57,
   "id": "5f9e00ae",
   "metadata": {},
   "outputs": [
    {
     "ename": "TypeError",
     "evalue": "unsupported operand type(s) for +=: 'float' and 'str'",
     "output_type": "error",
     "traceback": [
      "\u001b[0;31m---------------------------------------------------------------------------\u001b[0m",
      "\u001b[0;31mTypeError\u001b[0m                                 Traceback (most recent call last)",
      "Input \u001b[0;32mIn [57]\u001b[0m, in \u001b[0;36m<cell line: 1>\u001b[0;34m()\u001b[0m\n\u001b[0;32m----> 1\u001b[0m \u001b[43mcoro_avg\u001b[49m\u001b[38;5;241;43m.\u001b[39;49m\u001b[43msend\u001b[49m\u001b[43m(\u001b[49m\u001b[38;5;124;43m'\u001b[39;49m\u001b[38;5;124;43mspam\u001b[39;49m\u001b[38;5;124;43m'\u001b[39;49m\u001b[43m)\u001b[49m\n",
      "Input \u001b[0;32mIn [54]\u001b[0m, in \u001b[0;36maverager\u001b[0;34m()\u001b[0m\n\u001b[1;32m     10\u001b[0m \u001b[38;5;28;01mwhile\u001b[39;00m \u001b[38;5;28;01mTrue\u001b[39;00m : \n\u001b[1;32m     11\u001b[0m     term \u001b[38;5;241m=\u001b[39m \u001b[38;5;28;01myield\u001b[39;00m average\n\u001b[0;32m---> 12\u001b[0m     total \u001b[38;5;241m+\u001b[39m\u001b[38;5;241m=\u001b[39m term\n\u001b[1;32m     13\u001b[0m     count \u001b[38;5;241m+\u001b[39m\u001b[38;5;241m=\u001b[39m \u001b[38;5;241m1\u001b[39m\n\u001b[1;32m     14\u001b[0m     average \u001b[38;5;241m=\u001b[39m total\u001b[38;5;241m/\u001b[39mcount\n",
      "\u001b[0;31mTypeError\u001b[0m: unsupported operand type(s) for +=: 'float' and 'str'"
     ]
    }
   ],
   "source": [
    "coro_avg.send('spam')"
   ]
  },
  {
   "cell_type": "code",
   "execution_count": 58,
   "id": "c1cf859c",
   "metadata": {},
   "outputs": [
    {
     "ename": "StopIteration",
     "evalue": "",
     "output_type": "error",
     "traceback": [
      "\u001b[0;31m---------------------------------------------------------------------------\u001b[0m",
      "\u001b[0;31mStopIteration\u001b[0m                             Traceback (most recent call last)",
      "Input \u001b[0;32mIn [58]\u001b[0m, in \u001b[0;36m<cell line: 1>\u001b[0;34m()\u001b[0m\n\u001b[0;32m----> 1\u001b[0m \u001b[43mcoro_avg\u001b[49m\u001b[38;5;241;43m.\u001b[39;49m\u001b[43msend\u001b[49m\u001b[43m(\u001b[49m\u001b[38;5;241;43m60\u001b[39;49m\u001b[43m)\u001b[49m\n",
      "\u001b[0;31mStopIteration\u001b[0m: "
     ]
    }
   ],
   "source": [
    "coro_avg.send(60)"
   ]
  },
  {
   "cell_type": "code",
   "execution_count": 70,
   "id": "213c98b9",
   "metadata": {},
   "outputs": [],
   "source": [
    "\"\"\"\n",
    "코루틴의 예외 처리 방법을 설명하기 위한 제너레이터\n",
    "\"\"\"\n",
    "\n",
    "class DemoException(Exception) : \n",
    "    \"\"\"설명에 사용할 예외 유형\"\"\"\n",
    "    \n",
    "def demo_exc_handling() : \n",
    "    print('-> coroutine started!!')\n",
    "    \n",
    "    while True :\n",
    "        try : \n",
    "            x = yield\n",
    "        except DemoException : \n",
    "            print('*** DemoException handled. Continuing...')\n",
    "        else : \n",
    "            print('-> coroutine received : {!r}'.format(x))\n",
    "            \n",
    "    raise RuntimeError('This line should never run!!')\n",
    "    \n",
    "def demo_finally() : \n",
    "    print('-> coroutine started!!')\n",
    "    try : \n",
    "        while True : \n",
    "            try : \n",
    "                x = yield\n",
    "                \n",
    "            except DemoException : \n",
    "                print('*** DemoException handled. Continuing...')\n",
    "            else : \n",
    "                print('-> coroutine received : {!r}'.format(x))\n",
    "                \n",
    "    finally : \n",
    "        print('-> coroutine ending!!')"
   ]
  },
  {
   "cell_type": "code",
   "execution_count": 71,
   "id": "73699d73",
   "metadata": {},
   "outputs": [
    {
     "name": "stdout",
     "output_type": "stream",
     "text": [
      "-> coroutine started!!\n"
     ]
    }
   ],
   "source": [
    "exc_coro = demo_exc_handling()\n",
    "next(exc_coro)"
   ]
  },
  {
   "cell_type": "code",
   "execution_count": 72,
   "id": "3c73f2c7",
   "metadata": {},
   "outputs": [
    {
     "name": "stdout",
     "output_type": "stream",
     "text": [
      "-> coroutine received : 11\n"
     ]
    }
   ],
   "source": [
    "exc_coro.send(11)"
   ]
  },
  {
   "cell_type": "code",
   "execution_count": 73,
   "id": "2ee1b65f",
   "metadata": {},
   "outputs": [
    {
     "name": "stdout",
     "output_type": "stream",
     "text": [
      "-> coroutine received : 22\n"
     ]
    }
   ],
   "source": [
    "exc_coro.send(22)"
   ]
  },
  {
   "cell_type": "code",
   "execution_count": 74,
   "id": "1ab72cf2",
   "metadata": {},
   "outputs": [
    {
     "name": "stdout",
     "output_type": "stream",
     "text": [
      "*** DemoException handled. Continuing...\n"
     ]
    }
   ],
   "source": [
    "exc_coro.throw(DemoException)"
   ]
  },
  {
   "cell_type": "code",
   "execution_count": 75,
   "id": "a9336cd2",
   "metadata": {},
   "outputs": [
    {
     "data": {
      "text/plain": [
       "'GEN_SUSPENDED'"
      ]
     },
     "execution_count": 75,
     "metadata": {},
     "output_type": "execute_result"
    }
   ],
   "source": [
    "getgeneratorstate(exc_coro)"
   ]
  },
  {
   "cell_type": "code",
   "execution_count": 76,
   "id": "17f26b0f",
   "metadata": {},
   "outputs": [
    {
     "name": "stdout",
     "output_type": "stream",
     "text": [
      "-> coroutine started!!\n"
     ]
    }
   ],
   "source": [
    "exc_coro = demo_exc_handling()\n",
    "next(exc_coro)"
   ]
  },
  {
   "cell_type": "code",
   "execution_count": 77,
   "id": "8d441b24",
   "metadata": {},
   "outputs": [
    {
     "name": "stdout",
     "output_type": "stream",
     "text": [
      "-> coroutine received : 11\n"
     ]
    }
   ],
   "source": [
    "exc_coro.send(11)"
   ]
  },
  {
   "cell_type": "code",
   "execution_count": 78,
   "id": "3288da6d",
   "metadata": {},
   "outputs": [
    {
     "ename": "ZeroDivisionError",
     "evalue": "",
     "output_type": "error",
     "traceback": [
      "\u001b[0;31m---------------------------------------------------------------------------\u001b[0m",
      "\u001b[0;31mZeroDivisionError\u001b[0m                         Traceback (most recent call last)",
      "Input \u001b[0;32mIn [78]\u001b[0m, in \u001b[0;36m<cell line: 1>\u001b[0;34m()\u001b[0m\n\u001b[0;32m----> 1\u001b[0m \u001b[43mexc_coro\u001b[49m\u001b[38;5;241;43m.\u001b[39;49m\u001b[43mthrow\u001b[49m\u001b[43m(\u001b[49m\u001b[38;5;167;43;01mZeroDivisionError\u001b[39;49;00m\u001b[43m)\u001b[49m\n",
      "Input \u001b[0;32mIn [70]\u001b[0m, in \u001b[0;36mdemo_exc_handling\u001b[0;34m()\u001b[0m\n\u001b[1;32m     11\u001b[0m \u001b[38;5;28;01mwhile\u001b[39;00m \u001b[38;5;28;01mTrue\u001b[39;00m :\n\u001b[1;32m     12\u001b[0m     \u001b[38;5;28;01mtry\u001b[39;00m : \n\u001b[0;32m---> 13\u001b[0m         x \u001b[38;5;241m=\u001b[39m \u001b[38;5;28;01myield\u001b[39;00m\n\u001b[1;32m     14\u001b[0m     \u001b[38;5;28;01mexcept\u001b[39;00m DemoException : \n\u001b[1;32m     15\u001b[0m         \u001b[38;5;28mprint\u001b[39m(\u001b[38;5;124m'\u001b[39m\u001b[38;5;124m*** DemoException handled. Continuing...\u001b[39m\u001b[38;5;124m'\u001b[39m)\n",
      "\u001b[0;31mZeroDivisionError\u001b[0m: "
     ]
    }
   ],
   "source": [
    "exc_coro.throw(ZeroDivisionError)"
   ]
  },
  {
   "cell_type": "code",
   "execution_count": 79,
   "id": "ff888162",
   "metadata": {},
   "outputs": [
    {
     "data": {
      "text/plain": [
       "'GEN_CLOSED'"
      ]
     },
     "execution_count": 79,
     "metadata": {},
     "output_type": "execute_result"
    }
   ],
   "source": [
    "getgeneratorstate(exc_coro)"
   ]
  },
  {
   "cell_type": "code",
   "execution_count": 80,
   "id": "fd8b02cf",
   "metadata": {},
   "outputs": [],
   "source": [
    "from collections import namedtuple\n",
    "\n",
    "Result = namedtuple('Result', 'count average')\n",
    "\n",
    "def averager() : \n",
    "    total = 0.0\n",
    "    count = 0\n",
    "    average = None\n",
    "    \n",
    "    while True : \n",
    "        term = yield\n",
    "        \n",
    "        if term is None : \n",
    "            break\n",
    "            \n",
    "        total += term\n",
    "        count += 1\n",
    "        average = total / count\n",
    "    \n",
    "    return Result(count, average)\n",
    "\n"
   ]
  },
  {
   "cell_type": "code",
   "execution_count": 90,
   "id": "d4bbda25",
   "metadata": {},
   "outputs": [
    {
     "ename": "TypeError",
     "evalue": "unsupported operand type(s) for +=: 'float' and 'NoneType'",
     "output_type": "error",
     "traceback": [
      "\u001b[0;31m---------------------------------------------------------------------------\u001b[0m",
      "\u001b[0;31mTypeError\u001b[0m                                 Traceback (most recent call last)",
      "Input \u001b[0;32mIn [90]\u001b[0m, in \u001b[0;36m<cell line: 2>\u001b[0;34m()\u001b[0m\n\u001b[1;32m      1\u001b[0m coro_avg \u001b[38;5;241m=\u001b[39m averager()\n\u001b[0;32m----> 2\u001b[0m \u001b[38;5;28;43mnext\u001b[39;49m\u001b[43m(\u001b[49m\u001b[43mcoro_avg\u001b[49m\u001b[43m)\u001b[49m\n\u001b[1;32m      3\u001b[0m coro_avg\u001b[38;5;241m.\u001b[39msend(\u001b[38;5;241m10\u001b[39m)\n\u001b[1;32m      4\u001b[0m coro_avg\u001b[38;5;241m.\u001b[39msend(\u001b[38;5;241m30\u001b[39m)\n",
      "Input \u001b[0;32mIn [54]\u001b[0m, in \u001b[0;36maverager\u001b[0;34m()\u001b[0m\n\u001b[1;32m     10\u001b[0m \u001b[38;5;28;01mwhile\u001b[39;00m \u001b[38;5;28;01mTrue\u001b[39;00m : \n\u001b[1;32m     11\u001b[0m     term \u001b[38;5;241m=\u001b[39m \u001b[38;5;28;01myield\u001b[39;00m average\n\u001b[0;32m---> 12\u001b[0m     total \u001b[38;5;241m+\u001b[39m\u001b[38;5;241m=\u001b[39m term\n\u001b[1;32m     13\u001b[0m     count \u001b[38;5;241m+\u001b[39m\u001b[38;5;241m=\u001b[39m \u001b[38;5;241m1\u001b[39m\n\u001b[1;32m     14\u001b[0m     average \u001b[38;5;241m=\u001b[39m total\u001b[38;5;241m/\u001b[39mcount\n",
      "\u001b[0;31mTypeError\u001b[0m: unsupported operand type(s) for +=: 'float' and 'NoneType'"
     ]
    }
   ],
   "source": [
    "coro_avg = averager()\n",
    "next(coro_avg)\n",
    "coro_avg.send(10)\n",
    "coro_avg.send(30)\n",
    "coro_avg.send(6.5)\n"
   ]
  },
  {
   "cell_type": "code",
   "execution_count": 91,
   "id": "a17dfa04",
   "metadata": {},
   "outputs": [
    {
     "name": "stdout",
     "output_type": "stream",
     "text": [
      "None\n"
     ]
    }
   ],
   "source": [
    "try : \n",
    "    coro_avg.send(None)\n",
    "    \n",
    "except StopIteration as exc : \n",
    "    result = exc.value\n",
    "    \n",
    "print(result)"
   ]
  },
  {
   "cell_type": "code",
   "execution_count": 95,
   "id": "d68adb6e",
   "metadata": {},
   "outputs": [
    {
     "data": {
      "text/plain": [
       "['A', 'B', 1, 2]"
      ]
     },
     "execution_count": 95,
     "metadata": {},
     "output_type": "execute_result"
    }
   ],
   "source": [
    "\"\"\"\n",
    "yield from 사용\n",
    "\n",
    "- 새로운 언어 구성체\n",
    "- for 루프 안의 yield에 대한 단축문으로 사용할 수 있음\n",
    "- 가장 바깥쪽 호출자와 가장 안쪽에 있는 하위 제너레이터 사이에 양방향 채널을 열어줌. 즉, 이 둘이 값을\n",
    "  직접 주고받으며, 중간에 있는 코루틴이 판에 박힌 듯한 예외 처리 코드를 구현할 필요 없이 예외를 직접 던질\n",
    "  수 있음 \n",
    "- 코루틴 위임 할 수 있음 \n",
    "\n",
    "\"\"\"\n",
    "\n",
    "def gen() : \n",
    "    for c in 'AB' : \n",
    "        yield c\n",
    "        \n",
    "    for i in range(1, 3) : \n",
    "        yield i\n",
    "\n",
    "list(gen())"
   ]
  },
  {
   "cell_type": "code",
   "execution_count": 96,
   "id": "44a30498",
   "metadata": {},
   "outputs": [
    {
     "data": {
      "text/plain": [
       "['A', 'B', 1, 2]"
      ]
     },
     "execution_count": 96,
     "metadata": {},
     "output_type": "execute_result"
    }
   ],
   "source": [
    "def gen() : \n",
    "    yield from 'AB'\n",
    "    yield from range(1, 3)\n",
    "    \n",
    "list(gen())"
   ]
  },
  {
   "cell_type": "code",
   "execution_count": 97,
   "id": "851bea49",
   "metadata": {},
   "outputs": [
    {
     "data": {
      "text/plain": [
       "['A', 'B', 'C', 0, 1, 2]"
      ]
     },
     "execution_count": 97,
     "metadata": {},
     "output_type": "execute_result"
    }
   ],
   "source": [
    "def chain(*iterables) : \n",
    "    for it in iterables : \n",
    "        yield from it\n",
    "        \n",
    "s = 'ABC'\n",
    "t = tuple(range(3))\n",
    "\n",
    "list(chain(s, t))"
   ]
  },
  {
   "cell_type": "code",
   "execution_count": 99,
   "id": "8479d530",
   "metadata": {},
   "outputs": [
    {
     "name": "stdout",
     "output_type": "stream",
     "text": [
      " 9 boys  averaging 40.42kg\n",
      " 9 boys  averaging 1.39m\n",
      "11 girls averaging 42.33kg\n",
      "10 girls averaging 1.43m\n"
     ]
    }
   ],
   "source": [
    "from collections import namedtuple\n",
    "\n",
    "Result = namedtuple('Result', 'count average')\n",
    "\n",
    "# 하위 제너레이터\n",
    "def averager() : \n",
    "    total = 0.0\n",
    "    count = 0\n",
    "    average = None\n",
    "    \n",
    "    while True : \n",
    "        term = yield\n",
    "        \n",
    "        if term is None : \n",
    "            break\n",
    "            \n",
    "        total += term\n",
    "        count += 1\n",
    "        average = total/count\n",
    "        \n",
    "    return Result(count, average)\n",
    "\n",
    "# 대표 제너레이터\n",
    "def grouper(results, key) : \n",
    "    while True : \n",
    "        results[key] = yield from averager()\n",
    "        \n",
    "\n",
    "# 호출자\n",
    "def main(data) : \n",
    "    results = {}\n",
    "    \n",
    "    for key, values in data.items() : \n",
    "        group = grouper(results, key)\n",
    "        next(group)\n",
    "        \n",
    "        for value in values : \n",
    "            group.send(value)\n",
    "            \n",
    "        group.send(None)\n",
    "        \n",
    "    report(results)\n",
    "\n",
    "\n",
    "# 실행 결과 보고서 \n",
    "def report(results) : \n",
    "    for key, result in sorted(results.items()) : \n",
    "        group, unit = key.split(';')\n",
    "        print('{:2} {:5} averaging {:.2f}{}'.format(result.count, group, \n",
    "                                                    result.average, unit))\n",
    "        \n",
    "data = {\n",
    "    'girls;kg' : \n",
    "        [40.9, 38.5, 44.3, 42.2, 45.2, 45.2, 41.7, 44.5, 38.0, 40.6, 44.5],\n",
    "    'girls;m' :\n",
    "        [1.6, 1.51, 1.4, 1.3, 1.41, 1.39, 1.33, 1.46, 1.45, 1.43], \n",
    "    'boys;kg' : \n",
    "        [39.0, 40.8, 43.2, 40.8, 43.1, 38.6, 41.4, 40.6, 36.3],\n",
    "    'boys;m' : \n",
    "        [1.38, 1.5, 1.32, 1.25, 1.37, 1.48, 1.25, 1.49, 1.46]\n",
    "}\n",
    "\n",
    "if __name__ == '__main__' : \n",
    "    main(data)\n"
   ]
  },
  {
   "cell_type": "code",
   "execution_count": 102,
   "id": "c055c728",
   "metadata": {},
   "outputs": [
    {
     "ename": "SyntaxError",
     "evalue": "'yield' outside function (668436811.py, line 1)",
     "output_type": "error",
     "traceback": [
      "\u001b[0;36m  Input \u001b[0;32mIn [102]\u001b[0;36m\u001b[0m\n\u001b[0;31m    RESULT = yield from EXPR\u001b[0m\n\u001b[0m             ^\u001b[0m\n\u001b[0;31mSyntaxError\u001b[0m\u001b[0;31m:\u001b[0m 'yield' outside function\n"
     ]
    }
   ],
   "source": [
    "RESULT = yield from EXPR\n",
    "_i = iter(EXPR)\n",
    "\n",
    "try : \n",
    "    _y = next(_i)\n",
    "    \n",
    "except StopIteration as _e : \n",
    "    _r = _e.value\n",
    "else : \n",
    "    while 1 : \n",
    "        _s = yield _y\n",
    "        \n",
    "        try : \n",
    "            _y = _i.send(_s)\n",
    "        except StopIteration as _e : \n",
    "            _r = _e.value\n",
    "            break\n",
    "\n",
    "RESULT = _r\n"
   ]
  },
  {
   "cell_type": "code",
   "execution_count": 107,
   "id": "9b77cf51",
   "metadata": {},
   "outputs": [
    {
     "ename": "ModuleNotFoundError",
     "evalue": "No module named 'EXPR'",
     "output_type": "error",
     "traceback": [
      "\u001b[0;31m---------------------------------------------------------------------------\u001b[0m",
      "\u001b[0;31mModuleNotFoundError\u001b[0m                       Traceback (most recent call last)",
      "Input \u001b[0;32mIn [107]\u001b[0m, in \u001b[0;36m<cell line: 1>\u001b[0;34m()\u001b[0m\n\u001b[0;32m----> 1\u001b[0m \u001b[38;5;28;01mimport\u001b[39;00m \u001b[38;5;21;01mEXPR\u001b[39;00m\n\u001b[1;32m      2\u001b[0m RESULT \u001b[38;5;241m=\u001b[39m \u001b[38;5;28;01myield from\u001b[39;00m EXPR\n\u001b[1;32m      4\u001b[0m _i \u001b[38;5;241m=\u001b[39m \u001b[38;5;28miter\u001b[39m(EXPR)\n",
      "\u001b[0;31mModuleNotFoundError\u001b[0m: No module named 'EXPR'"
     ]
    }
   ],
   "source": [
    "import EXPR\n",
    "RESULT = yield from EXPR\n",
    "\n",
    "_i = iter(EXPR)\n",
    "\n",
    "try : \n",
    "    _y = next(_i)\n",
    "except StopIteration as _e : \n",
    "    _r = _e.value\n",
    "else : \n",
    "    while 1 : \n",
    "        try : \n",
    "            _s = yield _y\n",
    "            \n",
    "        except GeneratorExit as _e : \n",
    "            try : \n",
    "                _m = _i.close \n",
    "            except AttributeError : \n",
    "                pass\n",
    "            else : \n",
    "                _m()\n",
    "            raise _e\n",
    "        except BaseException as _e : \n",
    "            _x = sys.exc_info()\n",
    "            \n",
    "            try : \n",
    "                _m = _i.throw\n",
    "            except AttributeError : \n",
    "                raise _e\n",
    "            else : \n",
    "                try : \n",
    "                    _y = _m(*_x)\n",
    "                except StopIteration as _e : \n",
    "                    _r = _e.value\n",
    "                    break\n",
    "        else : \n",
    "            try : \n",
    "                if _s is None : \n",
    "                    _y = next(_i)\n",
    "                else :\n",
    "                    _y = _i.send(_s)\n",
    "                    \n",
    "            except StopIteration as _e : \n",
    "                _r = _e.value\n",
    "                break\n",
    "                \n",
    "    RESULT = _r"
   ]
  },
  {
   "cell_type": "code",
   "execution_count": 1,
   "id": "91b404cc",
   "metadata": {},
   "outputs": [],
   "source": [
    "class Simulator : \n",
    "    def __init__(self, procs_map) : \n",
    "        self.events = queue.PriorityQueue()\n",
    "        self.procs = dict(procs_map)\n",
    "        \n",
    "    def run(self, end_time) : \n",
    "        \"\"\"시간이 끝날 때까지 이벤트를 스케줄링하고 출력함\"\"\"\n",
    "        # 각 택시의 첫 번째 이벤트를 스케줄링함\n",
    "        for _, proc in sorted(self.procs.items()) : \n",
    "            first_event = next(proc)\n",
    "            self.events.put(first_event)\n",
    "            \n",
    "        # 시뮬레이션 핵심 루프\n",
    "        sim_time = 0\n",
    "        while sim_time < end_time : \n",
    "            if self.events.empty() : \n",
    "                print('*** end of events ***')\n",
    "                break\n",
    "                \n",
    "            current_event = self.events.get()\n",
    "            sim_time, proc_id, previous_action = current_event \n",
    "            print('taxi : ', proc_id, proc_id * '  ', current_event)\n",
    "            active_proc = self.procs[proc_id]\n",
    "            next_time = sim_time + compute_duration(previous_action)\n",
    "            \n",
    "            try : \n",
    "                next_event = active_proc.send(next_time)\n",
    "            except StopIteration : \n",
    "                del self.procs[proc_id]\n",
    "            else : \n",
    "                self.events.put(next_event)\n",
    "        else : \n",
    "            msg = '*** end of simulation time : {} events pending ***'\n",
    "            print(msg.format(self.events.qsize()))\n",
    "    "
   ]
  },
  {
   "cell_type": "code",
   "execution_count": null,
   "id": "3412c151",
   "metadata": {},
   "outputs": [],
   "source": []
  }
 ],
 "metadata": {
  "kernelspec": {
   "display_name": "Python 3 (ipykernel)",
   "language": "python",
   "name": "python3"
  },
  "language_info": {
   "codemirror_mode": {
    "name": "ipython",
    "version": 3
   },
   "file_extension": ".py",
   "mimetype": "text/x-python",
   "name": "python",
   "nbconvert_exporter": "python",
   "pygments_lexer": "ipython3",
   "version": "3.9.12"
  }
 },
 "nbformat": 4,
 "nbformat_minor": 5
}
