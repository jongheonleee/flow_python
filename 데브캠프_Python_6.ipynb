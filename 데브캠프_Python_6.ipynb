{
 "cells": [
  {
   "cell_type": "code",
   "execution_count": 1,
   "id": "e4f92a20",
   "metadata": {},
   "outputs": [
    {
     "data": {
      "text/plain": [
       "'\\n메타 클래스\\n- 메타 클래스 : 클래스를 위한 클래스\\n- 메타 애너테이션 : 애너테이션을 위한 애너테이션\\n\\n\\n'"
      ]
     },
     "execution_count": 1,
     "metadata": {},
     "output_type": "execute_result"
    }
   ],
   "source": [
    "\"\"\"\n",
    "메타 클래스\n",
    "- 메타 클래스 : 클래스를 위한 클래스\n",
    "- 메타 애너테이션 : 애너테이션을 위한 애너테이션\n",
    "\n",
    "인스턴스\n",
    "- 클래스 인스턴스, 인스턴스 \n",
    "- 클래스 인스턴스 :  설계도 객체. 즉, 여기에 추가된 데이터는 스태틱 변수(cv) name\n",
    "- 인스턴스 : 객체. 즉, 여기에 추가되는 데이터는 인스턴스 변수 self.name\n",
    "\n",
    "\n",
    "메서드\n",
    "- (1) 객체 메서드 -> self\n",
    "- (2) 클래스 메서드 -> cls\n",
    "- (3) 스태틱 메서드 -> x\n",
    "- 이 부분 자스와 유사한듯 \n",
    "\n",
    "\"\"\""
   ]
  },
  {
   "cell_type": "code",
   "execution_count": 2,
   "id": "eb392e2e",
   "metadata": {},
   "outputs": [
    {
     "ename": "TypeError",
     "evalue": "metaclass conflict: the metaclass of a derived class must be a (non-strict) subclass of the metaclasses of all its bases",
     "output_type": "error",
     "traceback": [
      "\u001b[0;31m---------------------------------------------------------------------------\u001b[0m",
      "\u001b[0;31mTypeError\u001b[0m                                 Traceback (most recent call last)",
      "Input \u001b[0;32mIn [2]\u001b[0m, in \u001b[0;36m<cell line: 4>\u001b[0;34m()\u001b[0m\n\u001b[1;32m      1\u001b[0m \u001b[38;5;28;01mclass\u001b[39;00m \u001b[38;5;21;01mA\u001b[39;00m : \n\u001b[1;32m      2\u001b[0m     \u001b[38;5;28;01mpass\u001b[39;00m\n\u001b[0;32m----> 4\u001b[0m \u001b[38;5;28;01mclass\u001b[39;00m \u001b[38;5;21;01mB\u001b[39;00m(A, metaclass\u001b[38;5;241m=\u001b[39m\u001b[38;5;28mstr\u001b[39m) :\n\u001b[1;32m      5\u001b[0m     \u001b[38;5;28;01mpass\u001b[39;00m\n",
      "\u001b[0;31mTypeError\u001b[0m: metaclass conflict: the metaclass of a derived class must be a (non-strict) subclass of the metaclasses of all its bases"
     ]
    }
   ],
   "source": [
    "class A : \n",
    "    pass\n",
    "\n",
    "class B(A, metaclass=str) :\n",
    "    pass"
   ]
  },
  {
   "cell_type": "code",
   "execution_count": null,
   "id": "3080fa70",
   "metadata": {},
   "outputs": [],
   "source": [
    "class A_ : \n",
    "    name = 1000 # cv "
   ]
  }
 ],
 "metadata": {
  "kernelspec": {
   "display_name": "Python 3 (ipykernel)",
   "language": "python",
   "name": "python3"
  },
  "language_info": {
   "codemirror_mode": {
    "name": "ipython",
    "version": 3
   },
   "file_extension": ".py",
   "mimetype": "text/x-python",
   "name": "python",
   "nbconvert_exporter": "python",
   "pygments_lexer": "ipython3",
   "version": "3.9.12"
  }
 },
 "nbformat": 4,
 "nbformat_minor": 5
}
