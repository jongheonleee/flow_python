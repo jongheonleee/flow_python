{
 "cells": [
  {
   "cell_type": "code",
   "execution_count": 44,
   "id": "21f4f1b9",
   "metadata": {},
   "outputs": [
    {
     "data": {
      "text/plain": [
       "'\\nwith\\n\\n- 콘텍스트 관리자 객체는 with 문을 제어함 \\n- try-finally 문 단순화 (자바로 따지면, try-with-resources 느낌)\\n'"
      ]
     },
     "execution_count": 44,
     "metadata": {},
     "output_type": "execute_result"
    }
   ],
   "source": [
    "\"\"\"\n",
    "with\n",
    "\n",
    "- 콘텍스트 관리자 객체는 with 문을 제어함 \n",
    "- try-finally 문 단순화 (자바로 따지면, try-with-resources 느낌)\n",
    "\"\"\""
   ]
  },
  {
   "cell_type": "code",
   "execution_count": 45,
   "id": "d9425a10",
   "metadata": {},
   "outputs": [
    {
     "ename": "FileNotFoundError",
     "evalue": "[Errno 2] No such file or directory: 'Fluent_Python_08.ipynd'",
     "output_type": "error",
     "traceback": [
      "\u001b[0;31m---------------------------------------------------------------------------\u001b[0m",
      "\u001b[0;31mFileNotFoundError\u001b[0m                         Traceback (most recent call last)",
      "Input \u001b[0;32mIn [45]\u001b[0m, in \u001b[0;36m<cell line: 1>\u001b[0;34m()\u001b[0m\n\u001b[0;32m----> 1\u001b[0m \u001b[38;5;28;01mwith\u001b[39;00m \u001b[38;5;28;43mopen\u001b[39;49m\u001b[43m(\u001b[49m\u001b[38;5;124;43m'\u001b[39;49m\u001b[38;5;124;43mFluent_Python_08.ipynd\u001b[39;49m\u001b[38;5;124;43m'\u001b[39;49m\u001b[43m)\u001b[49m \u001b[38;5;28;01mas\u001b[39;00m fp : \n\u001b[1;32m      2\u001b[0m     src \u001b[38;5;241m=\u001b[39m fp\u001b[38;5;241m.\u001b[39mread(\u001b[38;5;241m60\u001b[39m)\n\u001b[1;32m      4\u001b[0m \u001b[38;5;28mlen\u001b[39m(src)\n",
      "\u001b[0;31mFileNotFoundError\u001b[0m: [Errno 2] No such file or directory: 'Fluent_Python_08.ipynd'"
     ]
    }
   ],
   "source": [
    "with open('Fluent_Python_08.ipynd') as fp : \n",
    "    src = fp.read(60)\n",
    "    \n",
    "len(src)"
   ]
  },
  {
   "cell_type": "code",
   "execution_count": 46,
   "id": "df1e20a3",
   "metadata": {},
   "outputs": [
    {
     "data": {
      "text/plain": [
       "'\\n컨텍스트 매니저 정의\\n\\n- 1. __enter__() : with 블록에 들어갈 때 실행되며, 선택적으로 리턴값을 제공할 수 있습니다. \\n                   이 리턴값은 as 키워드와 함께 사용될 수 있습니다\\n- 2. __exit__() : with 블록을 나올 때 실행됩니다. 예외가 발생하면 그 정보를 인수로 받습니다.\\n'"
      ]
     },
     "execution_count": 46,
     "metadata": {},
     "output_type": "execute_result"
    }
   ],
   "source": [
    "\"\"\"\n",
    "컨텍스트 매니저 정의\n",
    "\n",
    "- 1. __enter__() : with 블록에 들어갈 때 실행되며, 선택적으로 리턴값을 제공할 수 있습니다. \n",
    "                   이 리턴값은 as 키워드와 함께 사용될 수 있습니다\n",
    "- 2. __exit__() : with 블록을 나올 때 실행됩니다. 예외가 발생하면 그 정보를 인수로 받습니다.\n",
    "\"\"\"\n",
    "# class LookingGlass : \n",
    "#     def __enter__(self) : \n",
    "#         import sys\n",
    "        \n",
    "#         self.original_write = sys.stdout.write\n",
    "#         sys.stdout.write = self.reverse_write\n",
    "#         return 'JABBERWOCKY'\n",
    "    \n",
    "#     def reverse_write(self, text) : \n",
    "#         self.original_write(text[::-1])\n",
    "        \n",
    "#     def __exit__(self, exc_type, exc_value, traceback) : \n",
    "#         import sys\n",
    "        \n",
    "#         sys.stdout.write = self.original_write\n",
    "        \n",
    "#         if exc_type is ZeroDivisionError : \n",
    "#             print('plz do not divide by zero')\n",
    "#             return True\n",
    "\n",
    "# with LookingGlass() as what : \n",
    "#     print('Alice, Kitty and Snowdrop')\n",
    "#     print(what)"
   ]
  },
  {
   "cell_type": "code",
   "execution_count": 50,
   "id": "a26ca56f",
   "metadata": {},
   "outputs": [
    {
     "data": {
      "text/plain": [
       "<__main__.LookingGlass at 0x7fd5300f4160>"
      ]
     },
     "execution_count": 50,
     "metadata": {},
     "output_type": "execute_result"
    }
   ],
   "source": [
    "manager = LookingGlass()\n",
    "manager"
   ]
  },
  {
   "cell_type": "code",
   "execution_count": 51,
   "id": "c3f13d3a",
   "metadata": {},
   "outputs": [
    {
     "data": {
      "text/plain": [
       "True"
      ]
     },
     "execution_count": 51,
     "metadata": {},
     "output_type": "execute_result"
    }
   ],
   "source": [
    "monster = manager.__enter__()\n",
    "monster == 'JABBERWOCKY'"
   ]
  },
  {
   "cell_type": "code",
   "execution_count": 52,
   "id": "c81a7da7",
   "metadata": {},
   "outputs": [
    {
     "data": {
      "text/plain": [
       "'JABBERWOCKY'"
      ]
     },
     "execution_count": 52,
     "metadata": {},
     "output_type": "execute_result"
    }
   ],
   "source": [
    "monster"
   ]
  },
  {
   "cell_type": "code",
   "execution_count": 53,
   "id": "3e3c4d10",
   "metadata": {},
   "outputs": [
    {
     "data": {
      "text/plain": [
       "'JABBERWOCKY'"
      ]
     },
     "execution_count": 53,
     "metadata": {},
     "output_type": "execute_result"
    }
   ],
   "source": [
    "manager.__exit__(None, None, None)\n",
    "monster"
   ]
  },
  {
   "cell_type": "code",
   "execution_count": 54,
   "id": "e4426dae",
   "metadata": {},
   "outputs": [
    {
     "data": {
      "text/plain": [
       "'\\n@contextmanager 데커레이터 \\n- 콘테스트 관리자를 생성할 때 작성하는 틀에 박힌 코드를 줄여줌\\n- __enter__() 메서드가 반환하는 것을 생성하는 yield 문 하나를 가진 제너레이터만 구현하면됨\\n'"
      ]
     },
     "execution_count": 54,
     "metadata": {},
     "output_type": "execute_result"
    }
   ],
   "source": [
    "\"\"\"\n",
    "@contextmanager 데커레이터 \n",
    "- 콘테스트 관리자를 생성할 때 작성하는 틀에 박힌 코드를 줄여줌\n",
    "- __enter__() 메서드가 반환하는 것을 생성하는 yield 문 하나를 가진 제너레이터만 구현하면됨\n",
    "\"\"\"\n",
    "\n",
    "# import contextlib\n",
    "\n",
    "# @contextlib.contextmanager\n",
    "# def looking_glass() : \n",
    "#     import sys\n",
    "#     # 표준 출력 스트림에 직접 텍스트를 쓰는 기능 제공 \n",
    "#     # print 함수가 텍스트를 출력할 때 내부적으로 사용하는 기능. 하지만, 줄바꿈은 하지 않음\n",
    "#     original_write = sys.stdout.write \n",
    "#     msg = ''\n",
    "    \n",
    "#     try : \n",
    "#         yield 'JABBERWOCKY'\n",
    "#     except ZeroDivisionError : \n",
    "#         msg = 'plz do not divide by zero!!'\n",
    "#     finally : \n",
    "#         sys.stdout.write = original_write\n",
    "#         if msg : \n",
    "#             print(msg)\n",
    "    \n",
    "#     def reverse_write(text) : \n",
    "#         original_write(text[::-1])\n",
    "        \n",
    "#     sys.stdout.write = reverse_write\n",
    "#     yield 'JABBERWOCKY'\n",
    "#     sys.stdout.write = original_write\n",
    "    \n"
   ]
  },
  {
   "cell_type": "code",
   "execution_count": 55,
   "id": "13472b11",
   "metadata": {},
   "outputs": [],
   "source": [
    "# with looking_glass() as what :\n",
    "#     print('Alice, Kitty and Snowdrop')\n",
    "#     print(what)\n"
   ]
  },
  {
   "cell_type": "code",
   "execution_count": 56,
   "id": "2d22b7e5",
   "metadata": {},
   "outputs": [
    {
     "data": {
      "text/plain": [
       "'\\n코루틴\\n- yield : 생산한다/양보한다\\n- yield를 가진 함수. 그러나, yield 문이 표현식의 오른쪽에 옴/값을 생성하지 않는 경우도 있음\\n'"
      ]
     },
     "execution_count": 56,
     "metadata": {},
     "output_type": "execute_result"
    }
   ],
   "source": [
    "\"\"\"\n",
    "코루틴\n",
    "- yield : 생산한다/양보한다\n",
    "- yield를 가진 함수. 그러나, yield 문이 표현식의 오른쪽에 옴/값을 생성하지 않는 경우도 있음\n",
    "\"\"\""
   ]
  },
  {
   "cell_type": "code",
   "execution_count": 57,
   "id": "2ea60f9e",
   "metadata": {},
   "outputs": [
    {
     "data": {
      "text/plain": [
       "<generator object simple_coroutine at 0x7fd530261580>"
      ]
     },
     "execution_count": 57,
     "metadata": {},
     "output_type": "execute_result"
    }
   ],
   "source": [
    "def simple_coroutine() : \n",
    "    print('-> coroutine started!')\n",
    "    x = yield\n",
    "    print('-> coroutine received : ', x)\n",
    "\n",
    "my_coro = simple_coroutine()\n",
    "my_coro"
   ]
  },
  {
   "cell_type": "code",
   "execution_count": 58,
   "id": "ae7fdc17",
   "metadata": {},
   "outputs": [
    {
     "ename": "RecursionError",
     "evalue": "maximum recursion depth exceeded",
     "output_type": "error",
     "traceback": [
      "\u001b[0;31m---------------------------------------------------------------------------\u001b[0m",
      "\u001b[0;31mRecursionError\u001b[0m                            Traceback (most recent call last)",
      "Input \u001b[0;32mIn [58]\u001b[0m, in \u001b[0;36m<cell line: 1>\u001b[0;34m()\u001b[0m\n\u001b[0;32m----> 1\u001b[0m \u001b[38;5;28;43mnext\u001b[39;49m\u001b[43m(\u001b[49m\u001b[43mmy_coro\u001b[49m\u001b[43m)\u001b[49m\n",
      "Input \u001b[0;32mIn [57]\u001b[0m, in \u001b[0;36msimple_coroutine\u001b[0;34m()\u001b[0m\n\u001b[1;32m      1\u001b[0m \u001b[38;5;28;01mdef\u001b[39;00m \u001b[38;5;21msimple_coroutine\u001b[39m() : \n\u001b[0;32m----> 2\u001b[0m     \u001b[38;5;28;43mprint\u001b[39;49m\u001b[43m(\u001b[49m\u001b[38;5;124;43m'\u001b[39;49m\u001b[38;5;124;43m-> coroutine started!\u001b[39;49m\u001b[38;5;124;43m'\u001b[39;49m\u001b[43m)\u001b[49m\n\u001b[1;32m      3\u001b[0m     x \u001b[38;5;241m=\u001b[39m \u001b[38;5;28;01myield\u001b[39;00m\n\u001b[1;32m      4\u001b[0m     \u001b[38;5;28mprint\u001b[39m(\u001b[38;5;124m'\u001b[39m\u001b[38;5;124m-> coroutine received : \u001b[39m\u001b[38;5;124m'\u001b[39m, x)\n",
      "Input \u001b[0;32mIn [22]\u001b[0m, in \u001b[0;36mLookingGlass.reverse_write\u001b[0;34m(self, text)\u001b[0m\n\u001b[1;32m     16\u001b[0m \u001b[38;5;28;01mdef\u001b[39;00m \u001b[38;5;21mreverse_write\u001b[39m(\u001b[38;5;28mself\u001b[39m, text) : \n\u001b[0;32m---> 17\u001b[0m     \u001b[38;5;28;43mself\u001b[39;49m\u001b[38;5;241;43m.\u001b[39;49m\u001b[43moriginal_write\u001b[49m\u001b[43m(\u001b[49m\u001b[43mtext\u001b[49m\u001b[43m[\u001b[49m\u001b[43m:\u001b[49m\u001b[43m:\u001b[49m\u001b[38;5;241;43m-\u001b[39;49m\u001b[38;5;241;43m1\u001b[39;49m\u001b[43m]\u001b[49m\u001b[43m)\u001b[49m\n",
      "Input \u001b[0;32mIn [31]\u001b[0m, in \u001b[0;36mlooking_glass.<locals>.reverse_write\u001b[0;34m(text)\u001b[0m\n\u001b[1;32m     16\u001b[0m \u001b[38;5;28;01mdef\u001b[39;00m \u001b[38;5;21mreverse_write\u001b[39m(text) : \n\u001b[0;32m---> 17\u001b[0m     \u001b[43moriginal_write\u001b[49m\u001b[43m(\u001b[49m\u001b[43mtext\u001b[49m\u001b[43m[\u001b[49m\u001b[43m:\u001b[49m\u001b[43m:\u001b[49m\u001b[38;5;241;43m-\u001b[39;49m\u001b[38;5;241;43m1\u001b[39;49m\u001b[43m]\u001b[49m\u001b[43m)\u001b[49m\n",
      "Input \u001b[0;32mIn [22]\u001b[0m, in \u001b[0;36mLookingGlass.reverse_write\u001b[0;34m(self, text)\u001b[0m\n\u001b[1;32m     16\u001b[0m \u001b[38;5;28;01mdef\u001b[39;00m \u001b[38;5;21mreverse_write\u001b[39m(\u001b[38;5;28mself\u001b[39m, text) : \n\u001b[0;32m---> 17\u001b[0m     \u001b[38;5;28;43mself\u001b[39;49m\u001b[38;5;241;43m.\u001b[39;49m\u001b[43moriginal_write\u001b[49m\u001b[43m(\u001b[49m\u001b[43mtext\u001b[49m\u001b[43m[\u001b[49m\u001b[43m:\u001b[49m\u001b[43m:\u001b[49m\u001b[38;5;241;43m-\u001b[39;49m\u001b[38;5;241;43m1\u001b[39;49m\u001b[43m]\u001b[49m\u001b[43m)\u001b[49m\n",
      "Input \u001b[0;32mIn [22]\u001b[0m, in \u001b[0;36mLookingGlass.reverse_write\u001b[0;34m(self, text)\u001b[0m\n\u001b[1;32m     16\u001b[0m \u001b[38;5;28;01mdef\u001b[39;00m \u001b[38;5;21mreverse_write\u001b[39m(\u001b[38;5;28mself\u001b[39m, text) : \n\u001b[0;32m---> 17\u001b[0m     \u001b[38;5;28;43mself\u001b[39;49m\u001b[38;5;241;43m.\u001b[39;49m\u001b[43moriginal_write\u001b[49m\u001b[43m(\u001b[49m\u001b[43mtext\u001b[49m\u001b[43m[\u001b[49m\u001b[43m:\u001b[49m\u001b[43m:\u001b[49m\u001b[38;5;241;43m-\u001b[39;49m\u001b[38;5;241;43m1\u001b[39;49m\u001b[43m]\u001b[49m\u001b[43m)\u001b[49m\n",
      "    \u001b[0;31m[... skipping similar frames: LookingGlass.reverse_write at line 17 (2965 times)]\u001b[0m\n",
      "Input \u001b[0;32mIn [22]\u001b[0m, in \u001b[0;36mLookingGlass.reverse_write\u001b[0;34m(self, text)\u001b[0m\n\u001b[1;32m     16\u001b[0m \u001b[38;5;28;01mdef\u001b[39;00m \u001b[38;5;21mreverse_write\u001b[39m(\u001b[38;5;28mself\u001b[39m, text) : \n\u001b[0;32m---> 17\u001b[0m     \u001b[38;5;28;43mself\u001b[39;49m\u001b[38;5;241;43m.\u001b[39;49m\u001b[43moriginal_write\u001b[49m\u001b[43m(\u001b[49m\u001b[43mtext\u001b[49m\u001b[43m[\u001b[49m\u001b[43m:\u001b[49m\u001b[43m:\u001b[49m\u001b[38;5;241;43m-\u001b[39;49m\u001b[38;5;241;43m1\u001b[39;49m\u001b[43m]\u001b[49m\u001b[43m)\u001b[49m\n",
      "\u001b[0;31mRecursionError\u001b[0m: maximum recursion depth exceeded"
     ]
    }
   ],
   "source": [
    "next(my_coro)"
   ]
  },
  {
   "cell_type": "code",
   "execution_count": null,
   "id": "3ec699e0",
   "metadata": {},
   "outputs": [],
   "source": []
  }
 ],
 "metadata": {
  "kernelspec": {
   "display_name": "Python 3 (ipykernel)",
   "language": "python",
   "name": "python3"
  },
  "language_info": {
   "codemirror_mode": {
    "name": "ipython",
    "version": 3
   },
   "file_extension": ".py",
   "mimetype": "text/x-python",
   "name": "python",
   "nbconvert_exporter": "python",
   "pygments_lexer": "ipython3",
   "version": "3.9.12"
  }
 },
 "nbformat": 4,
 "nbformat_minor": 5
}
