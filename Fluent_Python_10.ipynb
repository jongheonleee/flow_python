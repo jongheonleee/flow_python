{
 "cells": [
  {
   "cell_type": "code",
   "execution_count": 1,
   "id": "2a8a713d",
   "metadata": {},
   "outputs": [
    {
     "data": {
      "text/plain": [
       "'\\n- 추상 베이스 클래스(ABC) : 구현이 인터페이스에 따르는지 검증하는 클래스\\n- 프로토콜 : 동적 언어에서 다형성을 제공하는 비공식 인터페이스\\n'"
      ]
     },
     "execution_count": 1,
     "metadata": {},
     "output_type": "execute_result"
    }
   ],
   "source": [
    "\"\"\"\n",
    "- 추상 베이스 클래스(ABC) : 구현이 인터페이스에 따르는지 검증하는 클래스\n",
    "- 프로토콜 : 동적 언어에서 다형성을 제공하는 비공식 인터페이스\n",
    "\"\"\""
   ]
  },
  {
   "cell_type": "code",
   "execution_count": 2,
   "id": "a4ffeb26",
   "metadata": {},
   "outputs": [
    {
     "data": {
      "text/plain": [
       "10"
      ]
     },
     "execution_count": 2,
     "metadata": {},
     "output_type": "execute_result"
    }
   ],
   "source": [
    "\"\"\"\n",
    "- Foo는 abc.Sequence를 상속하지 않음\n",
    "  - Sequence -> Container/Iterable/Sized\n",
    "  - (1) __getitem__()\n",
    "  - (2) __contains__()\n",
    "  - (3) __iter__()\n",
    "  - (4) __reversed__()\n",
    "  - (5) index\n",
    "  - (6) count \n",
    "- 시퀀스 프로토콜 메서드 중 __getitem__() 메서드 하나만 구현함\n",
    "\n",
    "- Foosms __getitem__()으로 부분 구현한 시퀀스 프로토콜 \n",
    "\"\"\"\n",
    "\n",
    "\n",
    "class Foo : \n",
    "    def __getitem__(self, pos) : \n",
    "        return range(0, 30, 10)[pos]\n",
    "    \n",
    "f = Foo()\n",
    "f[1]"
   ]
  },
  {
   "cell_type": "code",
   "execution_count": 7,
   "id": "f35b400b",
   "metadata": {},
   "outputs": [
    {
     "name": "stdout",
     "output_type": "stream",
     "text": [
      "0\n",
      "10\n",
      "20\n"
     ]
    }
   ],
   "source": [
    "\"\"\"\n",
    "__iter__()를 구현하지 않음 -> __getitem__() 대체 수단으로 사용\n",
    "\"\"\"\n",
    "for i in f : print(i) "
   ]
  },
  {
   "cell_type": "code",
   "execution_count": 8,
   "id": "e600fe85",
   "metadata": {},
   "outputs": [
    {
     "data": {
      "text/plain": [
       "True"
      ]
     },
     "execution_count": 8,
     "metadata": {},
     "output_type": "execute_result"
    }
   ],
   "source": [
    "\"\"\"\n",
    "- 시퀀스 프로토콜의 중요성 때문에 __iter__()와 __contains__() 메서드가 구현되어 있지 않아도 \n",
    "파이썬은 __getitem__() 메서드를 호출해서 객체를 반복하고 in 연산자를 사용할 수 있게해줌\n",
    "\"\"\"\n",
    "\n",
    "20 in f"
   ]
  },
  {
   "cell_type": "code",
   "execution_count": 12,
   "id": "a9e952e4",
   "metadata": {},
   "outputs": [],
   "source": [
    "import collections\n",
    "\n",
    "Card = collections.namedtuple('Card', ['rank', 'suit'])\n",
    "\n",
    "\n",
    "\"\"\"\n",
    "중요한 점 \n",
    "- FrenchDeck은 시퀀스 처럼 동작하는 클래스임\n",
    "- 이는 클래스의 역할을 파악하여 -> shuffle() 메서드를 직접 구현할 필요 없이 random.shuffle()을 활용하는 것이 바람직함 \n",
    "- FrenchDeck은 불변 시퀀스 프로토콜만 구현하면 섞질못함, 가변 시퀀스는 __setitem__() 메서드를 추가로 지원해야함\n",
    "\n",
    "\"\"\"\n",
    "class FrenchDeck : \n",
    "    ranks = [str(n) for n in range(2, 11)] + list('JQKA')\n",
    "    suits = 'spedes diamonds clubs hearts'.split()\n",
    "    \n",
    "    def __init__(self) : \n",
    "        self._cards = [Card(rank, suit) for suit in self.suits \n",
    "                                        for rank in self.ranks]\n",
    "        \n",
    "    def __len__(self) : \n",
    "        return len(self._cards)\n",
    "    \n",
    "    def __getitem__(self, position) : \n",
    "        return self._cards[position]\n",
    "    \n",
    "    \n",
    "\n",
    "def set_card(deck, position, card) : \n",
    "    \"\"\"\n",
    "    - deck 객체에 _cards 라는 이름 속성(iv)이 있음\n",
    "    - set_card()는 _cards가 가변 시퀀스임을 알고 있음\n",
    "    - set_card() 함수가 FrenchDeck 클래스의 __setitem__() 특별 메서드와 연결됨 \n",
    "      - 명키 패칭 : 소스 코드를 건드리지 않고 런타임에 클래스나 모듈을 변경하는 행위 \n",
    "    \"\"\"\n",
    "    deck._cards[position] = card\n",
    "    \n",
    "FrenchDeck.__setitem__ = set_card\n"
   ]
  },
  {
   "cell_type": "code",
   "execution_count": 14,
   "id": "6af997d3",
   "metadata": {},
   "outputs": [
    {
     "data": {
      "text/plain": [
       "[Card(rank='8', suit='hearts'),\n",
       " Card(rank='4', suit='clubs'),\n",
       " Card(rank='3', suit='hearts'),\n",
       " Card(rank='K', suit='diamonds'),\n",
       " Card(rank='2', suit='spedes')]"
      ]
     },
     "execution_count": 14,
     "metadata": {},
     "output_type": "execute_result"
    }
   ],
   "source": [
    "from random import shuffle\n",
    "\n",
    "deck = FrenchDeck()\n",
    "shuffle(deck)\n",
    "deck[:5]"
   ]
  },
  {
   "cell_type": "code",
   "execution_count": 4,
   "id": "c0cdabf5",
   "metadata": {},
   "outputs": [],
   "source": [
    "import collections\n",
    "\n",
    "Card = collections.namedtuple('Card', ['rank', 'suit'])\n",
    "\n",
    "\"\"\"\n",
    "- Container, Iterable, Sized <- Sequence <- MutableSequence \n",
    "- FrenchDeck2는 MutableSequence를 상속 받아서 append(), reverse(), extend(), pop(), remove(), __iadd__()\n",
    "메서드를 상속 받음 \n",
    "\"\"\"\n",
    "\n",
    "class FrenchDeck2(collections.MutableSequence) : \n",
    "    ranks = [str(n) for n in range(2, 11)] + list('JQKA')\n",
    "    suits = 'spades diamonds clubs hearts'.split()\n",
    "    \n",
    "    def __init__(self) : \n",
    "        self._cards = [Card(rank, suit) for suit in self.suits \n",
    "                                        for rank in self.ranks]\n",
    "        \n",
    "    def __len__(self) : \n",
    "        return len(self._cards)\n",
    "    \n",
    "    def __getitem__(self, position) : \n",
    "        return self._cards[position]\n",
    "    \n",
    "    def __setitem__(self, position, value) : \n",
    "        self._cards[position] = value\n",
    "        \n",
    "    def __delitem__(self, position) : \n",
    "        del self._cards[position]\n",
    "        \n",
    "    def insert(self, position, value) : \n",
    "        self._cards.insert(position, value)\n",
    "        \n",
    "deck = FrenchDeck2()"
   ]
  },
  {
   "cell_type": "code",
   "execution_count": 5,
   "id": "acf3b661",
   "metadata": {},
   "outputs": [
    {
     "data": {
      "text/plain": [
       "Card(rank='A', suit='hearts')"
      ]
     },
     "execution_count": 5,
     "metadata": {},
     "output_type": "execute_result"
    }
   ],
   "source": [
    "deck.pop()"
   ]
  },
  {
   "cell_type": "code",
   "execution_count": 6,
   "id": "c10549be",
   "metadata": {},
   "outputs": [
    {
     "name": "stdout",
     "output_type": "stream",
     "text": [
      "Card(rank='K', suit='hearts')\n",
      "Card(rank='Q', suit='hearts')\n",
      "Card(rank='J', suit='hearts')\n",
      "Card(rank='10', suit='hearts')\n",
      "Card(rank='9', suit='hearts')\n",
      "Card(rank='8', suit='hearts')\n",
      "Card(rank='7', suit='hearts')\n",
      "Card(rank='6', suit='hearts')\n",
      "Card(rank='5', suit='hearts')\n",
      "Card(rank='4', suit='hearts')\n",
      "Card(rank='3', suit='hearts')\n",
      "Card(rank='2', suit='hearts')\n",
      "Card(rank='A', suit='clubs')\n",
      "Card(rank='K', suit='clubs')\n",
      "Card(rank='Q', suit='clubs')\n",
      "Card(rank='J', suit='clubs')\n",
      "Card(rank='10', suit='clubs')\n",
      "Card(rank='9', suit='clubs')\n",
      "Card(rank='8', suit='clubs')\n",
      "Card(rank='7', suit='clubs')\n",
      "Card(rank='6', suit='clubs')\n",
      "Card(rank='5', suit='clubs')\n",
      "Card(rank='4', suit='clubs')\n",
      "Card(rank='3', suit='clubs')\n",
      "Card(rank='2', suit='clubs')\n",
      "Card(rank='A', suit='diamonds')\n",
      "Card(rank='K', suit='diamonds')\n",
      "Card(rank='Q', suit='diamonds')\n",
      "Card(rank='J', suit='diamonds')\n",
      "Card(rank='10', suit='diamonds')\n",
      "Card(rank='9', suit='diamonds')\n",
      "Card(rank='8', suit='diamonds')\n",
      "Card(rank='7', suit='diamonds')\n",
      "Card(rank='6', suit='diamonds')\n",
      "Card(rank='5', suit='diamonds')\n",
      "Card(rank='4', suit='diamonds')\n",
      "Card(rank='3', suit='diamonds')\n",
      "Card(rank='2', suit='diamonds')\n",
      "Card(rank='A', suit='spades')\n",
      "Card(rank='K', suit='spades')\n",
      "Card(rank='Q', suit='spades')\n",
      "Card(rank='J', suit='spades')\n",
      "Card(rank='10', suit='spades')\n",
      "Card(rank='9', suit='spades')\n",
      "Card(rank='8', suit='spades')\n",
      "Card(rank='7', suit='spades')\n",
      "Card(rank='6', suit='spades')\n",
      "Card(rank='5', suit='spades')\n",
      "Card(rank='4', suit='spades')\n",
      "Card(rank='3', suit='spades')\n",
      "Card(rank='2', suit='spades')\n"
     ]
    }
   ],
   "source": [
    "deck.reverse()\n",
    "for c in deck : \n",
    "    print(c)"
   ]
  },
  {
   "cell_type": "code",
   "execution_count": 7,
   "id": "00b001f1",
   "metadata": {},
   "outputs": [
    {
     "data": {
      "text/plain": [
       "Card(rank='2', suit='spades')"
      ]
     },
     "execution_count": 7,
     "metadata": {},
     "output_type": "execute_result"
    }
   ],
   "source": [
    "deck.pop()"
   ]
  },
  {
   "cell_type": "code",
   "execution_count": 8,
   "id": "c08e74f2",
   "metadata": {},
   "outputs": [
    {
     "data": {
      "text/plain": [
       "['__abstractmethods__',\n",
       " '__class__',\n",
       " '__class_getitem__',\n",
       " '__contains__',\n",
       " '__delattr__',\n",
       " '__delitem__',\n",
       " '__dict__',\n",
       " '__dir__',\n",
       " '__doc__',\n",
       " '__eq__',\n",
       " '__format__',\n",
       " '__ge__',\n",
       " '__getattribute__',\n",
       " '__getitem__',\n",
       " '__gt__',\n",
       " '__hash__',\n",
       " '__iadd__',\n",
       " '__init__',\n",
       " '__init_subclass__',\n",
       " '__iter__',\n",
       " '__le__',\n",
       " '__len__',\n",
       " '__lt__',\n",
       " '__module__',\n",
       " '__ne__',\n",
       " '__new__',\n",
       " '__reduce__',\n",
       " '__reduce_ex__',\n",
       " '__repr__',\n",
       " '__reversed__',\n",
       " '__setattr__',\n",
       " '__setitem__',\n",
       " '__sizeof__',\n",
       " '__slots__',\n",
       " '__str__',\n",
       " '__subclasshook__',\n",
       " '__weakref__',\n",
       " '_abc_impl',\n",
       " 'append',\n",
       " 'clear',\n",
       " 'count',\n",
       " 'extend',\n",
       " 'index',\n",
       " 'insert',\n",
       " 'pop',\n",
       " 'ranks',\n",
       " 'remove',\n",
       " 'reverse',\n",
       " 'suits']"
      ]
     },
     "execution_count": 8,
     "metadata": {},
     "output_type": "execute_result"
    }
   ],
   "source": [
    "dir(FrenchDeck2)"
   ]
  },
  {
   "cell_type": "code",
   "execution_count": 9,
   "id": "1c157ad4",
   "metadata": {},
   "outputs": [],
   "source": [
    "import abc\n",
    "\n",
    "class Tombola(abc.ABC) : \n",
    "    \n",
    "    @abc.abstractmethod\n",
    "    def load(self, iterable) : \n",
    "        \"\"\" iterable의 항목들을 추가함 \"\"\"\n",
    "        \n",
    "    @abc.abstractmethod\n",
    "    def pick(self) : \n",
    "        \"\"\"\n",
    "        무작위로 항목을 하나 제거하고 반환함\n",
    "        객체가 비어 있을 때 이 메서드를 실행하면 LookupError 가 발생\n",
    "        \"\"\"\n",
    "        \n",
    "    def loaded(self) :\n",
    "        \"\"\"최소 한 개의 항목이 있으면 True, 아니면 False\"\"\"\n",
    "        return bool(self.inspect())\n",
    "    \n",
    "    def inspect(self) : \n",
    "        \"\"\"현재 안에 있는 항목들로 구성된 정렬된 튜플을 반환함\"\"\"\n",
    "        \n",
    "        items = []\n",
    "        while True : \n",
    "            try : \n",
    "                items.append(self.pick)\n",
    "            except LookupError : \n",
    "                break\n",
    "                \n",
    "        self.load(items)\n",
    "        return tuple(sorted(items))\n",
    "    \n",
    "    "
   ]
  },
  {
   "cell_type": "code",
   "execution_count": 14,
   "id": "a3b16c90",
   "metadata": {},
   "outputs": [
    {
     "data": {
      "text/plain": [
       "__main__.Fake"
      ]
     },
     "execution_count": 14,
     "metadata": {},
     "output_type": "execute_result"
    }
   ],
   "source": [
    "class Fake(Tombola) : \n",
    "\n",
    "    def pick(self) : \n",
    "        return 13\n",
    "    \n",
    "Fake"
   ]
  },
  {
   "cell_type": "code",
   "execution_count": 16,
   "id": "ccc0bfdb",
   "metadata": {},
   "outputs": [
    {
     "ename": "TypeError",
     "evalue": "Can't instantiate abstract class Fake with abstract method load",
     "output_type": "error",
     "traceback": [
      "\u001b[0;31m---------------------------------------------------------------------------\u001b[0m",
      "\u001b[0;31mTypeError\u001b[0m                                 Traceback (most recent call last)",
      "Input \u001b[0;32mIn [16]\u001b[0m, in \u001b[0;36m<cell line: 4>\u001b[0;34m()\u001b[0m\n\u001b[1;32m      1\u001b[0m \u001b[38;5;124;03m\"\"\"\u001b[39;00m\n\u001b[1;32m      2\u001b[0m \u001b[38;5;124;03m추상 메서드를 다 구현하지 않았기 때문에 에러 발생 \u001b[39;00m\n\u001b[1;32m      3\u001b[0m \u001b[38;5;124;03m\"\"\"\u001b[39;00m\n\u001b[0;32m----> 4\u001b[0m f \u001b[38;5;241m=\u001b[39m \u001b[43mFake\u001b[49m\u001b[43m(\u001b[49m\u001b[43m)\u001b[49m\n",
      "\u001b[0;31mTypeError\u001b[0m: Can't instantiate abstract class Fake with abstract method load"
     ]
    }
   ],
   "source": [
    "\"\"\"\n",
    "추상 메서드를 다 구현하지 않았기 때문에 에러 발생 \n",
    "\"\"\"\n",
    "f = Fake()"
   ]
  },
  {
   "cell_type": "code",
   "execution_count": 18,
   "id": "59e63957",
   "metadata": {},
   "outputs": [],
   "source": [
    "import random\n",
    "\n",
    "class BigoCage(Tombola) : \n",
    "    \n",
    "    def __init__(self, items) : \n",
    "        self._randomizer = random.SystemRandom()\n",
    "        self._items = []\n",
    "        self.load(items)\n",
    "        \n",
    "    def load(self, items) :\n",
    "        self._items.extend(items)\n",
    "        self._randomizer.shuffle(self._items)\n",
    "        \n",
    "    def pick(self) :\n",
    "        try : \n",
    "            return self._items.pop()\n",
    "        \n",
    "        except IndexError : \n",
    "            raise LookupError('pick from empty BingoCage')\n",
    "            \n",
    "    def __call__(self) : \n",
    "        self.pick()\n",
    "        \n"
   ]
  },
  {
   "cell_type": "code",
   "execution_count": 20,
   "id": "9e665b29",
   "metadata": {},
   "outputs": [],
   "source": [
    "import random\n",
    "\n",
    "class LotteryBlowe(Tombola) : \n",
    "    \n",
    "    def __init__(self, iterable) : \n",
    "        self._balls = list(iterable)\n",
    "        \n",
    "    def load(self, iterable) : \n",
    "        self._balls.extend(iterable)\n",
    "        \n",
    "    def pick(self) : \n",
    "        try : \n",
    "            position = random.randrange(len(self._balls))\n",
    "            \n",
    "        except ValueError : \n",
    "            raise LookupError('pick from empty BingoCage')\n",
    "            \n",
    "        return self._balls.pop(position)\n",
    "    \n",
    "    def loaded(self) : \n",
    "        return bool(self._balls)\n",
    "    \n",
    "    def inspect(self) :\n",
    "        return tuple(sorted(self._balls))\n",
    "    "
   ]
  },
  {
   "cell_type": "code",
   "execution_count": 29,
   "id": "953ed04c",
   "metadata": {},
   "outputs": [],
   "source": [
    "\"\"\"\n",
    "# 구스 타이핑의 핵심 동적 기능\n",
    "\n",
    "- register() 메서드를 이용해서 가상 서브 클래스를 선언하는 방법\n",
    "- 구스 타이핑의 본질적인 기능은 어떤 클래스가 ABC를 상속하지 않더라도 그 클래스의 '가상 서브클래스'로 등록할 수 있음 \n",
    "\"\"\"\n",
    "\n",
    "\n",
    "\n",
    "@Tombola.register\n",
    "class TomboList(list) : \n",
    "    \n",
    "    load = list.extend # list.extend() 를 통해 TomboList.load에 할당함 \n",
    "        \n",
    "    def pick(self) : \n",
    "        if self : \n",
    "            position = randrange(len(self))\n",
    "            return self.pop(position)\n",
    "        else : \n",
    "            raise LookupError('pop from empty TomboList')\n",
    "    \n",
    "    def loaded(self) : \n",
    "        return bool(self)\n",
    "    \n",
    "    def inspect(self) : \n",
    "        return tuple(sorted(self))\n",
    "    "
   ]
  },
  {
   "cell_type": "code",
   "execution_count": 30,
   "id": "007dd4e6",
   "metadata": {},
   "outputs": [
    {
     "data": {
      "text/plain": [
       "True"
      ]
     },
     "execution_count": 30,
     "metadata": {},
     "output_type": "execute_result"
    }
   ],
   "source": [
    "issubclass(TomboList, Tombola)"
   ]
  },
  {
   "cell_type": "code",
   "execution_count": 31,
   "id": "3c7c8cb3",
   "metadata": {},
   "outputs": [
    {
     "data": {
      "text/plain": [
       "True"
      ]
     },
     "execution_count": 31,
     "metadata": {},
     "output_type": "execute_result"
    }
   ],
   "source": [
    "t = TomboList(range(100))\n",
    "isinstance(t, Tombola)"
   ]
  },
  {
   "cell_type": "code",
   "execution_count": 32,
   "id": "3b10394b",
   "metadata": {},
   "outputs": [
    {
     "data": {
      "text/plain": [
       "(__main__.TomboList, list, object)"
      ]
     },
     "execution_count": 32,
     "metadata": {},
     "output_type": "execute_result"
    }
   ],
   "source": [
    "\"\"\"\n",
    "# 상속 \n",
    "\n",
    "- MRO(메서드 결정 순서)를 담은 __mro__ 라는 특별 클래스 속성에 의해 운영됨\n",
    "- 밑에 코드를 보면 알 수 있듯이, TomboList의 __mro__를 조사하면 이 클래스의 '진짜' 슈퍼 클래스인\n",
    "  list와 object만 들어 있음\n",
    "- Tombola가 TomboList.__mro__에 들어 있지 않음 -> TomboList는 Tombola에서 아무런 메서드도 상속하지 않음 \n",
    "\"\"\"\n",
    "\n",
    "TomboList.__mro__"
   ]
  },
  {
   "cell_type": "code",
   "execution_count": 42,
   "id": "164126be",
   "metadata": {},
   "outputs": [
    {
     "ename": "IsADirectoryError",
     "evalue": "[Errno 21] Is a directory: '/Users/qwefghnm1212/opt/anaconda3/lib/python3.9/site-packages/'",
     "output_type": "error",
     "traceback": [
      "\u001b[0;31m---------------------------------------------------------------------------\u001b[0m",
      "\u001b[0;31mIsADirectoryError\u001b[0m                         Traceback (most recent call last)",
      "Input \u001b[0;32mIn [42]\u001b[0m, in \u001b[0;36m<cell line: 29>\u001b[0;34m()\u001b[0m\n\u001b[1;32m     29\u001b[0m \u001b[38;5;28;01mif\u001b[39;00m \u001b[38;5;18m__name__\u001b[39m \u001b[38;5;241m==\u001b[39m \u001b[38;5;124m'\u001b[39m\u001b[38;5;124m__main__\u001b[39m\u001b[38;5;124m'\u001b[39m:\n\u001b[1;32m     30\u001b[0m     \u001b[38;5;28;01mimport\u001b[39;00m \u001b[38;5;21;01msys\u001b[39;00m\n\u001b[0;32m---> 31\u001b[0m     \u001b[43mmain\u001b[49m\u001b[43m(\u001b[49m\u001b[43msys\u001b[49m\u001b[38;5;241;43m.\u001b[39;49m\u001b[43margv\u001b[49m\u001b[43m)\u001b[49m\n",
      "Input \u001b[0;32mIn [42]\u001b[0m, in \u001b[0;36mmain\u001b[0;34m(argv)\u001b[0m\n\u001b[1;32m     14\u001b[0m virtual_subclasses \u001b[38;5;241m=\u001b[39m [TomboList]  \u001b[38;5;66;03m# <3>\u001b[39;00m\n\u001b[1;32m     15\u001b[0m \u001b[38;5;28;01mfor\u001b[39;00m \u001b[38;5;28mcls\u001b[39m \u001b[38;5;129;01min\u001b[39;00m real_subclasses \u001b[38;5;241m+\u001b[39m virtual_subclasses:  \u001b[38;5;66;03m# <4>\u001b[39;00m\n\u001b[0;32m---> 16\u001b[0m     \u001b[43mtest\u001b[49m\u001b[43m(\u001b[49m\u001b[38;5;28;43mcls\u001b[39;49m\u001b[43m,\u001b[49m\u001b[43m \u001b[49m\u001b[43mverbose\u001b[49m\u001b[43m)\u001b[49m\n",
      "Input \u001b[0;32mIn [42]\u001b[0m, in \u001b[0;36mtest\u001b[0;34m(cls, verbose)\u001b[0m\n\u001b[1;32m     19\u001b[0m \u001b[38;5;28;01mdef\u001b[39;00m \u001b[38;5;21mtest\u001b[39m(\u001b[38;5;28mcls\u001b[39m, verbose\u001b[38;5;241m=\u001b[39m\u001b[38;5;28;01mFalse\u001b[39;00m):\n\u001b[0;32m---> 20\u001b[0m     res \u001b[38;5;241m=\u001b[39m \u001b[43mdoctest\u001b[49m\u001b[38;5;241;43m.\u001b[39;49m\u001b[43mtestfile\u001b[49m\u001b[43m(\u001b[49m\n\u001b[1;32m     21\u001b[0m \u001b[43m            \u001b[49m\u001b[43mTEST_FILE\u001b[49m\u001b[43m,\u001b[49m\n\u001b[1;32m     22\u001b[0m \u001b[43m            \u001b[49m\u001b[43mglobs\u001b[49m\u001b[38;5;241;43m=\u001b[39;49m\u001b[43m{\u001b[49m\u001b[38;5;124;43m'\u001b[39;49m\u001b[38;5;124;43mConcreteTombola\u001b[39;49m\u001b[38;5;124;43m'\u001b[39;49m\u001b[43m:\u001b[49m\u001b[43m \u001b[49m\u001b[38;5;28;43mcls\u001b[39;49m\u001b[43m}\u001b[49m\u001b[43m,\u001b[49m\u001b[43m  \u001b[49m\u001b[38;5;66;43;03m# <5>\u001b[39;49;00m\n\u001b[1;32m     23\u001b[0m \u001b[43m            \u001b[49m\u001b[43mverbose\u001b[49m\u001b[38;5;241;43m=\u001b[39;49m\u001b[43mverbose\u001b[49m\u001b[43m,\u001b[49m\n\u001b[1;32m     24\u001b[0m \u001b[43m            \u001b[49m\u001b[43moptionflags\u001b[49m\u001b[38;5;241;43m=\u001b[39;49m\u001b[43mdoctest\u001b[49m\u001b[38;5;241;43m.\u001b[39;49m\u001b[43mREPORT_ONLY_FIRST_FAILURE\u001b[49m\u001b[43m)\u001b[49m\n\u001b[1;32m     25\u001b[0m     tag \u001b[38;5;241m=\u001b[39m \u001b[38;5;124m'\u001b[39m\u001b[38;5;124mFAIL\u001b[39m\u001b[38;5;124m'\u001b[39m \u001b[38;5;28;01mif\u001b[39;00m res\u001b[38;5;241m.\u001b[39mfailed \u001b[38;5;28;01melse\u001b[39;00m \u001b[38;5;124m'\u001b[39m\u001b[38;5;124mOK\u001b[39m\u001b[38;5;124m'\u001b[39m\n\u001b[1;32m     26\u001b[0m     \u001b[38;5;28mprint\u001b[39m(TEST_MSG\u001b[38;5;241m.\u001b[39mformat(\u001b[38;5;28mcls\u001b[39m\u001b[38;5;241m.\u001b[39m\u001b[38;5;18m__name__\u001b[39m, res, tag))\n",
      "File \u001b[0;32m~/opt/anaconda3/lib/python3.9/doctest.py:2053\u001b[0m, in \u001b[0;36mtestfile\u001b[0;34m(filename, module_relative, name, package, globs, verbose, report, optionflags, extraglobs, raise_on_error, parser, encoding)\u001b[0m\n\u001b[1;32m   2049\u001b[0m     \u001b[38;5;28;01mraise\u001b[39;00m \u001b[38;5;167;01mValueError\u001b[39;00m(\u001b[38;5;124m\"\u001b[39m\u001b[38;5;124mPackage may only be specified for module-\u001b[39m\u001b[38;5;124m\"\u001b[39m\n\u001b[1;32m   2050\u001b[0m                      \u001b[38;5;124m\"\u001b[39m\u001b[38;5;124mrelative paths.\u001b[39m\u001b[38;5;124m\"\u001b[39m)\n\u001b[1;32m   2052\u001b[0m \u001b[38;5;66;03m# Relativize the path\u001b[39;00m\n\u001b[0;32m-> 2053\u001b[0m text, filename \u001b[38;5;241m=\u001b[39m \u001b[43m_load_testfile\u001b[49m\u001b[43m(\u001b[49m\u001b[43mfilename\u001b[49m\u001b[43m,\u001b[49m\u001b[43m \u001b[49m\u001b[43mpackage\u001b[49m\u001b[43m,\u001b[49m\u001b[43m \u001b[49m\u001b[43mmodule_relative\u001b[49m\u001b[43m,\u001b[49m\n\u001b[1;32m   2054\u001b[0m \u001b[43m                                \u001b[49m\u001b[43mencoding\u001b[49m\u001b[43m \u001b[49m\u001b[38;5;129;43;01mor\u001b[39;49;00m\u001b[43m \u001b[49m\u001b[38;5;124;43m\"\u001b[39;49m\u001b[38;5;124;43mutf-8\u001b[39;49m\u001b[38;5;124;43m\"\u001b[39;49m\u001b[43m)\u001b[49m\n\u001b[1;32m   2056\u001b[0m \u001b[38;5;66;03m# If no name was given, then use the file's name.\u001b[39;00m\n\u001b[1;32m   2057\u001b[0m \u001b[38;5;28;01mif\u001b[39;00m name \u001b[38;5;129;01mis\u001b[39;00m \u001b[38;5;28;01mNone\u001b[39;00m:\n",
      "File \u001b[0;32m~/opt/anaconda3/lib/python3.9/doctest.py:232\u001b[0m, in \u001b[0;36m_load_testfile\u001b[0;34m(filename, package, module_relative, encoding)\u001b[0m\n\u001b[1;32m    229\u001b[0m             \u001b[38;5;66;03m# get_data() opens files as 'rb', so one must do the equivalent\u001b[39;00m\n\u001b[1;32m    230\u001b[0m             \u001b[38;5;66;03m# conversion as universal newlines would do.\u001b[39;00m\n\u001b[1;32m    231\u001b[0m             \u001b[38;5;28;01mreturn\u001b[39;00m _newline_convert(file_contents), filename\n\u001b[0;32m--> 232\u001b[0m \u001b[38;5;28;01mwith\u001b[39;00m \u001b[38;5;28;43mopen\u001b[39;49m\u001b[43m(\u001b[49m\u001b[43mfilename\u001b[49m\u001b[43m,\u001b[49m\u001b[43m \u001b[49m\u001b[43mencoding\u001b[49m\u001b[38;5;241;43m=\u001b[39;49m\u001b[43mencoding\u001b[49m\u001b[43m)\u001b[49m \u001b[38;5;28;01mas\u001b[39;00m f:\n\u001b[1;32m    233\u001b[0m     \u001b[38;5;28;01mreturn\u001b[39;00m f\u001b[38;5;241m.\u001b[39mread(), filename\n",
      "\u001b[0;31mIsADirectoryError\u001b[0m: [Errno 21] Is a directory: '/Users/qwefghnm1212/opt/anaconda3/lib/python3.9/site-packages/'"
     ]
    }
   ],
   "source": [
    "\"\"\"\n",
    "테스트 스크립트 작성\n",
    "\"\"\"\n",
    "\n",
    "import doctest\n",
    "\n",
    "TEST_FILE = 'tombola_tests.rst'\n",
    "TEST_MSG = '{0:16} {1.attempted:2} tests, {1.failed:2} failed - {2}'\n",
    "\n",
    "\n",
    "def main(argv):\n",
    "    verbose = '-v' in argv\n",
    "    real_subclasses = Tombola.__subclasses__()  # <2>\n",
    "    virtual_subclasses = [TomboList]  # <3>\n",
    "    for cls in real_subclasses + virtual_subclasses:  # <4>\n",
    "        test(cls, verbose)\n",
    "\n",
    "\n",
    "def test(cls, verbose=False):\n",
    "    res = doctest.testfile(\n",
    "            TEST_FILE,\n",
    "            globs={'ConcreteTombola': cls},  # <5>\n",
    "            verbose=verbose,\n",
    "            optionflags=doctest.REPORT_ONLY_FIRST_FAILURE)\n",
    "    tag = 'FAIL' if res.failed else 'OK'\n",
    "    print(TEST_MSG.format(cls.__name__, res, tag))  # <6>\n",
    "\n",
    "\n",
    "if __name__ == '__main__':\n",
    "    import sys\n",
    "    main(sys.argv)"
   ]
  },
  {
   "cell_type": "code",
   "execution_count": 43,
   "id": "4e257a1d",
   "metadata": {},
   "outputs": [
    {
     "ename": "SyntaxError",
     "evalue": "invalid syntax (1869121813.py, line 1)",
     "output_type": "error",
     "traceback": [
      "\u001b[0;36m  Input \u001b[0;32mIn [43]\u001b[0;36m\u001b[0m\n\u001b[0;31m    Every concrete subclass of Tombola should pass these tests.\u001b[0m\n\u001b[0m          ^\u001b[0m\n\u001b[0;31mSyntaxError\u001b[0m\u001b[0;31m:\u001b[0m invalid syntax\n"
     ]
    }
   ],
   "source": [
    "Every concrete subclass of Tombola should pass these tests.\n",
    "\n",
    "# 1. Create and load instance from iterable:\n",
    "\n",
    ">>> balls = list(range(3))\n",
    ">>> globe = ConcreteTombola(balls)\n",
    ">>> globe.loaded()\n",
    "True\n",
    ">>> sorted(globe.inspect())\n",
    "[0, 1, 2]\n",
    "\n",
    "\n",
    "# 2. Pick and collect balls:\n",
    "\n",
    ">>> picks = []\n",
    ">>> picks.append(globe.pick())\n",
    ">>> picks.append(globe.pick())\n",
    ">>> picks.append(globe.pick())\n",
    "\n",
    "\n",
    "# 3. Check state and results:\n",
    "\n",
    ">>> globe.loaded()\n",
    "False\n",
    ">>> sorted(picks) == balls\n",
    "True\n",
    "\n",
    "# 4. Reload:\n",
    "\n",
    ">>> globe.load(balls)\n",
    ">>> globe.loaded()\n",
    "True\n",
    ">>> picks = [globe.pick() for i in balls]\n",
    ">>> globe.loaded()\n",
    "False\n",
    "\n",
    "\n",
    "# 5. Check that LookupError (or a subclass) is the exception thrown when the device is empty:\n",
    "\n",
    ">>> globe = ConcreteTombola([])\n",
    ">>> try:\n",
    "...     globe.pick()\n",
    "... except LookupError as exc:\n",
    "...     print('OK')\n",
    "OK\n",
    "\n",
    "\n",
    "# 5. Load and pick 100 balls to verify that they all come out:\n",
    "\n",
    ">>> balls = list(range(100))\n",
    ">>> globe = ConcreteTombola(balls)\n",
    ">>> picks = []\n",
    ">>> while globe.inspect():\n",
    "...     picks.append(globe.pick())\n",
    ">>> len(picks) == len(balls)\n",
    "True\n",
    ">>> set(picks) == set(balls)\n",
    "True\n",
    "\n",
    "\n",
    "# 6. Check that the order has changed and is not simply reversed:\n",
    "\n",
    ">>> picks != balls\n",
    "True\n",
    ">>> picks[::-1] != balls\n",
    "True\n",
    "\n",
    "\n",
    "# Note: the previous 2 tests have a very small chance of failing even if the implementation is OK. The probability of the 100 balls coming out, by chance, in the order they were inspect is 1/100!, or approximately 1.07e-158\n",
    "# It's much easier to win the Lotto or to become a billionaire working as a programmer."
   ]
  },
  {
   "cell_type": "code",
   "execution_count": 44,
   "id": "0d65c5bf",
   "metadata": {},
   "outputs": [
    {
     "data": {
      "text/plain": [
       "True"
      ]
     },
     "execution_count": 44,
     "metadata": {},
     "output_type": "execute_result"
    }
   ],
   "source": [
    "class Struggle : \n",
    "    def __len__(self) : \n",
    "        return 23\n",
    "    \n",
    "from collections import abc\n",
    "isinstance(Struggle(), abc.Sized) # Struggle을 abc.Sized의 서브 클래스로 간주함 "
   ]
  },
  {
   "cell_type": "code",
   "execution_count": 46,
   "id": "2427dae9",
   "metadata": {},
   "outputs": [
    {
     "data": {
      "text/plain": [
       "True"
      ]
     },
     "execution_count": 46,
     "metadata": {},
     "output_type": "execute_result"
    }
   ],
   "source": [
    "issubclass(Struggle, abc.Sized) # Struggle을 abc.Sized의 서브 클래스로 간주함 "
   ]
  },
  {
   "cell_type": "code",
   "execution_count": null,
   "id": "d3b7a79f",
   "metadata": {},
   "outputs": [],
   "source": []
  }
 ],
 "metadata": {
  "kernelspec": {
   "display_name": "Python 3 (ipykernel)",
   "language": "python",
   "name": "python3"
  },
  "language_info": {
   "codemirror_mode": {
    "name": "ipython",
    "version": 3
   },
   "file_extension": ".py",
   "mimetype": "text/x-python",
   "name": "python",
   "nbconvert_exporter": "python",
   "pygments_lexer": "ipython3",
   "version": "3.9.12"
  }
 },
 "nbformat": 4,
 "nbformat_minor": 5
}
