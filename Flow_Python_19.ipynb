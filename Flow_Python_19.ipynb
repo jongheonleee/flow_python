{
 "cells": [
  {
   "cell_type": "code",
   "execution_count": 55,
   "id": "c88773f8",
   "metadata": {},
   "outputs": [],
   "source": [
    "\"\"\"\n",
    "오버라이딩 디스크립터와 논오버라이딩 디스크립터\n",
    "\n",
    "- 파이썬 속성 처리 -> 비대칭성이 있음 \n",
    "- 객체에 속성이 있으면 해당 속성을 읽지만, 속성이 없으면 클래스 속성을 읽음\n",
    "- 객체에 속성 할당하면, 클래스에는 영향 없음 \n",
    "\"\"\"\n",
    "\n",
    "# 출력을 위한 보조함수 \n",
    "def cls_name(obj_or_cls) : \n",
    "    cls = type(obj_or_cls)\n",
    "    if cls is type : \n",
    "        cls = obk_or_cls\n",
    "        \n",
    "    return cls.__name__.split('.')[-1]\n",
    "\n",
    "def display(obj) : \n",
    "    cls = type(obj)\n",
    "    if cls is type : \n",
    "        return '<class {}>'.format(obj.__name__)\n",
    "    elif cls in [type(None), int] : \n",
    "        return repr(obj)    \n",
    "    else : \n",
    "        return '<{} object>'.format(cls_name(obj))\n",
    "\n",
    "def print_args(name, *args) : \n",
    "    pseudo_args = ', '.join(display(x) for x in args)\n",
    "    print('-> {}.__{}__({})'.format(cls_name(args[0]), name, pseudo_args))\n",
    "    \n",
    "class Overriding : \n",
    "    \"\"\"데이터 디스크립터 / 강제 디스크립터\"\"\"\n",
    "    \n",
    "    def __get__(self, instance, owner) : \n",
    "        print_args('get', self, instance, owner)\n",
    "        \n",
    "    def __set__(self, instance, value) : \n",
    "        print_args('set', self, instance, value)\n",
    "        \n",
    "class OverridingNoGet : \n",
    "    \"\"\"``__get__()``이 없는 오버라이딩 디스크립터\"\"\"\n",
    "    \n",
    "    def __set__(self, instance, value) :\n",
    "        print_args('set', self, instance, value)\n",
    "        \n",
    "class NonOverriding : \n",
    "    \"\"\"비데이터 디스크립터 / 가릴 수 있는 디스크립터\"\"\"\n",
    "    \n",
    "    def __get__(self, instance, owner) : \n",
    "        print_args('get', self, instance, owner)\n",
    "        \n",
    "class Managed : \n",
    "    # 클래스 속성 (cv)\n",
    "    over = Overriding() # getter / setter\n",
    "    over_no_get = OverridingNoGet() # setter\n",
    "    non_over = NonOverriding() # getter\n",
    "    \n",
    "    def spam(self) : \n",
    "        print('-> Managed.spam({})'.format(display(self)))"
   ]
  },
  {
   "cell_type": "code",
   "execution_count": 56,
   "id": "ba2ce633",
   "metadata": {},
   "outputs": [
    {
     "name": "stdout",
     "output_type": "stream",
     "text": [
      "-> Overriding.__get__(<Overriding object>, <Managed object>, <class Managed>)\n"
     ]
    }
   ],
   "source": [
    "\"\"\"\n",
    "- __set__() 메서드를 구현한 디스크립터를 '오버라이딩 디스크립터'\n",
    "- 객체 속성에 할당하려는 시도를 가로챔 \n",
    "\"\"\"\n",
    "\n",
    "obj = Managed()\n",
    "obj.over # 오버라이딩 디스크립터 객체"
   ]
  },
  {
   "cell_type": "code",
   "execution_count": 57,
   "id": "1da2e61c",
   "metadata": {},
   "outputs": [
    {
     "name": "stdout",
     "output_type": "stream",
     "text": [
      "-> Overriding.__get__(<Overriding object>, None, <class Managed>)\n"
     ]
    }
   ],
   "source": [
    "Managed.over"
   ]
  },
  {
   "cell_type": "code",
   "execution_count": 58,
   "id": "6cc66665",
   "metadata": {},
   "outputs": [
    {
     "name": "stdout",
     "output_type": "stream",
     "text": [
      "-> Overriding.__set__(<Overriding object>, <Managed object>, 7)\n"
     ]
    }
   ],
   "source": [
    "obj.over = 7"
   ]
  },
  {
   "cell_type": "code",
   "execution_count": 59,
   "id": "9e0556f9",
   "metadata": {},
   "outputs": [
    {
     "name": "stdout",
     "output_type": "stream",
     "text": [
      "-> Overriding.__get__(<Overriding object>, <Managed object>, <class Managed>)\n"
     ]
    }
   ],
   "source": [
    "obj.over"
   ]
  },
  {
   "cell_type": "code",
   "execution_count": 60,
   "id": "0bbe10f5",
   "metadata": {},
   "outputs": [
    {
     "data": {
      "text/plain": [
       "{'over': 8}"
      ]
     },
     "execution_count": 60,
     "metadata": {},
     "output_type": "execute_result"
    }
   ],
   "source": [
    "obj.__dict__['over'] = 8\n",
    "vars(obj)"
   ]
  },
  {
   "cell_type": "code",
   "execution_count": 61,
   "id": "a9ede231",
   "metadata": {},
   "outputs": [
    {
     "name": "stdout",
     "output_type": "stream",
     "text": [
      "-> Overriding.__get__(<Overriding object>, <Managed object>, <class Managed>)\n"
     ]
    }
   ],
   "source": [
    "obj.over"
   ]
  },
  {
   "cell_type": "code",
   "execution_count": 62,
   "id": "2e7b4b2d",
   "metadata": {},
   "outputs": [
    {
     "data": {
      "text/plain": [
       "<__main__.OverridingNoGet at 0x7fabc8952ee0>"
      ]
     },
     "execution_count": 62,
     "metadata": {},
     "output_type": "execute_result"
    }
   ],
   "source": [
    "obj.over_no_get"
   ]
  },
  {
   "cell_type": "code",
   "execution_count": 63,
   "id": "95538b01",
   "metadata": {},
   "outputs": [
    {
     "data": {
      "text/plain": [
       "<__main__.OverridingNoGet at 0x7fabc8952ee0>"
      ]
     },
     "execution_count": 63,
     "metadata": {},
     "output_type": "execute_result"
    }
   ],
   "source": [
    "Managed.over_no_get"
   ]
  },
  {
   "cell_type": "code",
   "execution_count": 64,
   "id": "0fa151ea",
   "metadata": {},
   "outputs": [
    {
     "name": "stdout",
     "output_type": "stream",
     "text": [
      "-> OverridingNoGet.__set__(<OverridingNoGet object>, <Managed object>, 7)\n"
     ]
    }
   ],
   "source": [
    "obj.over_no_get = 7"
   ]
  },
  {
   "cell_type": "code",
   "execution_count": 65,
   "id": "c670943d",
   "metadata": {},
   "outputs": [
    {
     "data": {
      "text/plain": [
       "<__main__.OverridingNoGet at 0x7fabc8952ee0>"
      ]
     },
     "execution_count": 65,
     "metadata": {},
     "output_type": "execute_result"
    }
   ],
   "source": [
    "obj.over_no_get"
   ]
  },
  {
   "cell_type": "code",
   "execution_count": 66,
   "id": "5a462ea6",
   "metadata": {},
   "outputs": [],
   "source": [
    "obj.__dict__['over_no_get'] = 9"
   ]
  },
  {
   "cell_type": "code",
   "execution_count": 67,
   "id": "63b77b90",
   "metadata": {},
   "outputs": [
    {
     "data": {
      "text/plain": [
       "9"
      ]
     },
     "execution_count": 67,
     "metadata": {},
     "output_type": "execute_result"
    }
   ],
   "source": [
    "obj.over_no_get"
   ]
  },
  {
   "cell_type": "code",
   "execution_count": 68,
   "id": "182ee17f",
   "metadata": {},
   "outputs": [
    {
     "name": "stdout",
     "output_type": "stream",
     "text": [
      "-> OverridingNoGet.__set__(<OverridingNoGet object>, <Managed object>, 7)\n"
     ]
    }
   ],
   "source": [
    "obj.over_no_get = 7"
   ]
  },
  {
   "cell_type": "code",
   "execution_count": 69,
   "id": "cce76ebf",
   "metadata": {},
   "outputs": [
    {
     "data": {
      "text/plain": [
       "9"
      ]
     },
     "execution_count": 69,
     "metadata": {},
     "output_type": "execute_result"
    }
   ],
   "source": [
    "obj.over_no_get"
   ]
  },
  {
   "cell_type": "code",
   "execution_count": 70,
   "id": "7ef4d223",
   "metadata": {},
   "outputs": [
    {
     "name": "stdout",
     "output_type": "stream",
     "text": [
      "-> NonOverriding.__get__(<NonOverriding object>, <Managed object>, <class Managed>)\n"
     ]
    }
   ],
   "source": [
    "obj = Managed()\n",
    "obj.non_over"
   ]
  },
  {
   "cell_type": "code",
   "execution_count": 71,
   "id": "3b546817",
   "metadata": {},
   "outputs": [],
   "source": [
    "obj.non_over = 7"
   ]
  },
  {
   "cell_type": "code",
   "execution_count": 72,
   "id": "41b439da",
   "metadata": {},
   "outputs": [
    {
     "data": {
      "text/plain": [
       "7"
      ]
     },
     "execution_count": 72,
     "metadata": {},
     "output_type": "execute_result"
    }
   ],
   "source": [
    "obj.non_over"
   ]
  },
  {
   "cell_type": "code",
   "execution_count": 73,
   "id": "4f005e1c",
   "metadata": {},
   "outputs": [
    {
     "name": "stdout",
     "output_type": "stream",
     "text": [
      "-> NonOverriding.__get__(<NonOverriding object>, None, <class Managed>)\n"
     ]
    }
   ],
   "source": [
    "Managed.non_over"
   ]
  },
  {
   "cell_type": "code",
   "execution_count": 74,
   "id": "0a226ff4",
   "metadata": {},
   "outputs": [],
   "source": [
    "del obj.non_over"
   ]
  },
  {
   "cell_type": "code",
   "execution_count": 75,
   "id": "4ff9d36a",
   "metadata": {},
   "outputs": [
    {
     "name": "stdout",
     "output_type": "stream",
     "text": [
      "-> NonOverriding.__get__(<NonOverriding object>, <Managed object>, <class Managed>)\n"
     ]
    }
   ],
   "source": [
    "obj.non_over"
   ]
  },
  {
   "cell_type": "code",
   "execution_count": 76,
   "id": "94e4729b",
   "metadata": {},
   "outputs": [
    {
     "data": {
      "text/plain": [
       "<bound method Managed.spam of <__main__.Managed object at 0x7fabf9e3fac0>>"
      ]
     },
     "execution_count": 76,
     "metadata": {},
     "output_type": "execute_result"
    }
   ],
   "source": [
    "obj = Managed()\n",
    "obj.spam"
   ]
  },
  {
   "cell_type": "code",
   "execution_count": 79,
   "id": "18181286",
   "metadata": {},
   "outputs": [
    {
     "data": {
      "text/plain": [
       "['__class__',\n",
       " '__delattr__',\n",
       " '__dict__',\n",
       " '__dir__',\n",
       " '__doc__',\n",
       " '__eq__',\n",
       " '__format__',\n",
       " '__ge__',\n",
       " '__getattribute__',\n",
       " '__gt__',\n",
       " '__hash__',\n",
       " '__init__',\n",
       " '__init_subclass__',\n",
       " '__le__',\n",
       " '__lt__',\n",
       " '__module__',\n",
       " '__ne__',\n",
       " '__new__',\n",
       " '__reduce__',\n",
       " '__reduce_ex__',\n",
       " '__repr__',\n",
       " '__setattr__',\n",
       " '__sizeof__',\n",
       " '__str__',\n",
       " '__subclasshook__',\n",
       " '__weakref__',\n",
       " 'non_over',\n",
       " 'over',\n",
       " 'over_no_get',\n",
       " 'spam']"
      ]
     },
     "execution_count": 79,
     "metadata": {},
     "output_type": "execute_result"
    }
   ],
   "source": [
    "dir(Managed)"
   ]
  },
  {
   "cell_type": "code",
   "execution_count": 80,
   "id": "e581ef0a",
   "metadata": {},
   "outputs": [],
   "source": [
    "obj.spam = 7"
   ]
  },
  {
   "cell_type": "code",
   "execution_count": 81,
   "id": "5a20d919",
   "metadata": {},
   "outputs": [
    {
     "data": {
      "text/plain": [
       "7"
      ]
     },
     "execution_count": 81,
     "metadata": {},
     "output_type": "execute_result"
    }
   ],
   "source": [
    "obj.spam"
   ]
  },
  {
   "cell_type": "code",
   "execution_count": 83,
   "id": "353de0c1",
   "metadata": {},
   "outputs": [
    {
     "data": {
      "text/plain": [
       "{'spam': 7}"
      ]
     },
     "execution_count": 83,
     "metadata": {},
     "output_type": "execute_result"
    }
   ],
   "source": [
    "obj.__dict__"
   ]
  },
  {
   "cell_type": "code",
   "execution_count": 84,
   "id": "1f28b9a6",
   "metadata": {},
   "outputs": [
    {
     "data": {
      "text/plain": [
       "<function __main__.Managed.spam(self)>"
      ]
     },
     "execution_count": 84,
     "metadata": {},
     "output_type": "execute_result"
    }
   ],
   "source": [
    "Managed.spam"
   ]
  },
  {
   "cell_type": "code",
   "execution_count": 97,
   "id": "d2cdac62",
   "metadata": {},
   "outputs": [],
   "source": [
    "import collections\n",
    "\n",
    "class Text(collections.UserString) : \n",
    "    def __repr__(self) : \n",
    "        return 'Text({!r})'.format(self.data)\n",
    "    \n",
    "    def reverse(self) : \n",
    "        return self[::-1]\n",
    "    \n",
    "word = Text('forward')"
   ]
  },
  {
   "cell_type": "code",
   "execution_count": 98,
   "id": "0f31e1f0",
   "metadata": {},
   "outputs": [
    {
     "data": {
      "text/plain": [
       "Text('forward')"
      ]
     },
     "execution_count": 98,
     "metadata": {},
     "output_type": "execute_result"
    }
   ],
   "source": [
    "word"
   ]
  },
  {
   "cell_type": "code",
   "execution_count": 99,
   "id": "a46b8e8a",
   "metadata": {},
   "outputs": [
    {
     "data": {
      "text/plain": [
       "{'data': 'forward'}"
      ]
     },
     "execution_count": 99,
     "metadata": {},
     "output_type": "execute_result"
    }
   ],
   "source": [
    "word.__dict__"
   ]
  },
  {
   "cell_type": "code",
   "execution_count": 100,
   "id": "19783e95",
   "metadata": {},
   "outputs": [
    {
     "data": {
      "text/plain": [
       "mappingproxy({'__module__': '__main__',\n",
       "              '__repr__': <function __main__.Text.__repr__(self)>,\n",
       "              'reverse': <function __main__.Text.reverse(self)>,\n",
       "              '__doc__': None,\n",
       "              '__abstractmethods__': frozenset(),\n",
       "              '_abc_impl': <_abc._abc_data at 0x7fabd89feb80>})"
      ]
     },
     "execution_count": 100,
     "metadata": {},
     "output_type": "execute_result"
    }
   ],
   "source": [
    "Text.__dict__"
   ]
  },
  {
   "cell_type": "code",
   "execution_count": 101,
   "id": "4db8a4be",
   "metadata": {},
   "outputs": [
    {
     "data": {
      "text/plain": [
       "Text('drawrof')"
      ]
     },
     "execution_count": 101,
     "metadata": {},
     "output_type": "execute_result"
    }
   ],
   "source": [
    "word.reverse()"
   ]
  },
  {
   "cell_type": "code",
   "execution_count": 102,
   "id": "165ad78f",
   "metadata": {},
   "outputs": [
    {
     "data": {
      "text/plain": [
       "Text('drawkcab')"
      ]
     },
     "execution_count": 102,
     "metadata": {},
     "output_type": "execute_result"
    }
   ],
   "source": [
    "Text.reverse(Text('backward'))"
   ]
  },
  {
   "cell_type": "code",
   "execution_count": 103,
   "id": "21056952",
   "metadata": {},
   "outputs": [
    {
     "data": {
      "text/plain": [
       "(function, method)"
      ]
     },
     "execution_count": 103,
     "metadata": {},
     "output_type": "execute_result"
    }
   ],
   "source": [
    "type(Text.reverse), type(word.reverse)"
   ]
  },
  {
   "cell_type": "code",
   "execution_count": 106,
   "id": "a1ff38ec",
   "metadata": {},
   "outputs": [
    {
     "data": {
      "text/plain": [
       "['diaper', (30, 20, 10), Text('desserts')]"
      ]
     },
     "execution_count": 106,
     "metadata": {},
     "output_type": "execute_result"
    }
   ],
   "source": [
    "list(map(Text.reverse, ['repaid', (10, 20, 30), Text('stressed')]))"
   ]
  },
  {
   "cell_type": "code",
   "execution_count": 107,
   "id": "9b08026c",
   "metadata": {},
   "outputs": [
    {
     "data": {
      "text/plain": [
       "<bound method Text.reverse of Text('forward')>"
      ]
     },
     "execution_count": 107,
     "metadata": {},
     "output_type": "execute_result"
    }
   ],
   "source": [
    "Text.reverse.__get__(word)"
   ]
  },
  {
   "cell_type": "code",
   "execution_count": 108,
   "id": "f93c0564",
   "metadata": {},
   "outputs": [
    {
     "data": {
      "text/plain": [
       "<function __main__.Text.reverse(self)>"
      ]
     },
     "execution_count": 108,
     "metadata": {},
     "output_type": "execute_result"
    }
   ],
   "source": [
    "Text.reverse.__get__(None, Text)"
   ]
  },
  {
   "cell_type": "code",
   "execution_count": 109,
   "id": "1cb29dce",
   "metadata": {},
   "outputs": [
    {
     "data": {
      "text/plain": [
       "Text('forward')"
      ]
     },
     "execution_count": 109,
     "metadata": {},
     "output_type": "execute_result"
    }
   ],
   "source": [
    "word.reverse.__self__"
   ]
  },
  {
   "cell_type": "code",
   "execution_count": 110,
   "id": "827a9141",
   "metadata": {},
   "outputs": [
    {
     "data": {
      "text/plain": [
       "True"
      ]
     },
     "execution_count": 110,
     "metadata": {},
     "output_type": "execute_result"
    }
   ],
   "source": [
    "word.reverse.__func__ is Text.reverse"
   ]
  },
  {
   "cell_type": "code",
   "execution_count": null,
   "id": "25cabfbf",
   "metadata": {},
   "outputs": [],
   "source": []
  }
 ],
 "metadata": {
  "kernelspec": {
   "display_name": "Python 3 (ipykernel)",
   "language": "python",
   "name": "python3"
  },
  "language_info": {
   "codemirror_mode": {
    "name": "ipython",
    "version": 3
   },
   "file_extension": ".py",
   "mimetype": "text/x-python",
   "name": "python",
   "nbconvert_exporter": "python",
   "pygments_lexer": "ipython3",
   "version": "3.9.12"
  }
 },
 "nbformat": 4,
 "nbformat_minor": 5
}
