{
 "cells": [
  {
   "cell_type": "code",
   "execution_count": 1,
   "id": "8dc63fd5",
   "metadata": {},
   "outputs": [
    {
     "data": {
      "text/plain": [
       "[1]"
      ]
     },
     "execution_count": 1,
     "metadata": {},
     "output_type": "execute_result"
    }
   ],
   "source": [
    "l = []\n",
    "l.append(1)\n",
    "l"
   ]
  },
  {
   "cell_type": "code",
   "execution_count": 2,
   "id": "d8c05d9f",
   "metadata": {},
   "outputs": [],
   "source": [
    "l.insert(0, 2)"
   ]
  },
  {
   "cell_type": "code",
   "execution_count": 3,
   "id": "31ea7c9c",
   "metadata": {},
   "outputs": [
    {
     "data": {
      "text/plain": [
       "[2, 1]"
      ]
     },
     "execution_count": 3,
     "metadata": {},
     "output_type": "execute_result"
    }
   ],
   "source": [
    "l"
   ]
  },
  {
   "cell_type": "code",
   "execution_count": 6,
   "id": "22617fa4",
   "metadata": {},
   "outputs": [],
   "source": [
    "l2 = [i for i in range(0, 5+1)]"
   ]
  },
  {
   "cell_type": "code",
   "execution_count": 7,
   "id": "2ae3b4c6",
   "metadata": {},
   "outputs": [
    {
     "data": {
      "text/plain": [
       "[0, 1, 2, 3, 4, 5]"
      ]
     },
     "execution_count": 7,
     "metadata": {},
     "output_type": "execute_result"
    }
   ],
   "source": [
    "l2"
   ]
  },
  {
   "cell_type": "code",
   "execution_count": 8,
   "id": "07ceb300",
   "metadata": {},
   "outputs": [],
   "source": [
    "l3 = l2[1:5:2] # 내부적으로 slice(1, 5, 2) 연산 호출"
   ]
  },
  {
   "cell_type": "code",
   "execution_count": 10,
   "id": "8864ec77",
   "metadata": {},
   "outputs": [
    {
     "data": {
      "text/plain": [
       "[1, 3]"
      ]
     },
     "execution_count": 10,
     "metadata": {},
     "output_type": "execute_result"
    }
   ],
   "source": [
    "l3"
   ]
  },
  {
   "cell_type": "code",
   "execution_count": 11,
   "id": "d7300925",
   "metadata": {},
   "outputs": [
    {
     "data": {
      "text/plain": [
       "<__main__.MyPoint at 0x7f936237fa00>"
      ]
     },
     "execution_count": 11,
     "metadata": {},
     "output_type": "execute_result"
    }
   ],
   "source": [
    "class MyPoint(object) : \n",
    "    pass\n",
    "\n",
    "p = MyPoint()\n",
    "p"
   ]
  },
  {
   "cell_type": "code",
   "execution_count": 17,
   "id": "21cacb19",
   "metadata": {},
   "outputs": [
    {
     "data": {
      "text/plain": [
       "True"
      ]
     },
     "execution_count": 17,
     "metadata": {},
     "output_type": "execute_result"
    }
   ],
   "source": [
    "isinstance(p, MyPoint)"
   ]
  },
  {
   "cell_type": "code",
   "execution_count": 18,
   "id": "60becd6d",
   "metadata": {},
   "outputs": [
    {
     "data": {
      "text/plain": [
       "__main__.MyPoint"
      ]
     },
     "execution_count": 18,
     "metadata": {},
     "output_type": "execute_result"
    }
   ],
   "source": [
    "p.__class__"
   ]
  },
  {
   "cell_type": "code",
   "execution_count": 19,
   "id": "f90e9206",
   "metadata": {},
   "outputs": [
    {
     "data": {
      "text/plain": [
       "True"
      ]
     },
     "execution_count": 19,
     "metadata": {},
     "output_type": "execute_result"
    }
   ],
   "source": [
    "isinstance(p, object)"
   ]
  },
  {
   "cell_type": "code",
   "execution_count": 20,
   "id": "0cfebb95",
   "metadata": {},
   "outputs": [
    {
     "data": {
      "text/plain": [
       "['__class__',\n",
       " '__delattr__',\n",
       " '__dir__',\n",
       " '__doc__',\n",
       " '__eq__',\n",
       " '__format__',\n",
       " '__ge__',\n",
       " '__getattribute__',\n",
       " '__gt__',\n",
       " '__hash__',\n",
       " '__init__',\n",
       " '__init_subclass__',\n",
       " '__le__',\n",
       " '__lt__',\n",
       " '__ne__',\n",
       " '__new__',\n",
       " '__reduce__',\n",
       " '__reduce_ex__',\n",
       " '__repr__',\n",
       " '__setattr__',\n",
       " '__sizeof__',\n",
       " '__str__',\n",
       " '__subclasshook__']"
      ]
     },
     "execution_count": 20,
     "metadata": {},
     "output_type": "execute_result"
    }
   ],
   "source": [
    "dir(object)"
   ]
  },
  {
   "cell_type": "code",
   "execution_count": 41,
   "id": "ede83b77",
   "metadata": {},
   "outputs": [
    {
     "name": "stdout",
     "output_type": "stream",
     "text": [
      "객체를 초기화합니다.\n"
     ]
    }
   ],
   "source": [
    "import math\n",
    "\n",
    "class MyPoint(object) :  \n",
    "    # new 연산자 \n",
    "    #     def __new__(self, x=0, y=0) : \n",
    "    #         print(\"객체가 생성되었습니다.\")\n",
    "    #         return self.__init__()\n",
    "    \n",
    "    # 생성자, 객체하고 메서드는 self(this)를 통해 연결된다. -> 매개변수(self)로 객체(iv 묶음)을 전달함 \n",
    "    def __init__(self, x=0, y=0) : \n",
    "        print(\"객체를 초기화합니다.\")\n",
    "        self.x = x # iv를 선언하는 것이 아니라 동적으로 추가함. 자스와 유사함\n",
    "        self.y = y # 변수는 값이 할당 될 때 생성됨 \n",
    "    \n",
    "    def __str__(self) : \n",
    "        return f'({self.x}, {self.y})'\n",
    "    \n",
    "    def __add__(self, p) : \n",
    "        if (self.__is_valid_type(p) == False) : \n",
    "            raise Exception(\"p의 타입이 잘못되엇습니다.\")\n",
    "        \n",
    "         return MyPoint(self.x + p.x, self.y + p.y)\n",
    "        \n",
    "    def __sub__(self, p) : \n",
    "        if (self.__is_valid_type(p) == False) :\n",
    "            raise Exception(\"p의 타입이 잘못되엇습니다.\")\n",
    "        \n",
    "        return MyPoint(self.x - p.x, self.y - p.y)\n",
    "        \n",
    "    def getDistance(self, p) : \n",
    "        if (self.__is_valid_type(p) == False) : \n",
    "            raise Exception(\"pd의 타입이 잘못되었습니다.\")\n",
    "            \n",
    "        a = self.x - p.x\n",
    "        b = self.y - p.y\n",
    "        return math.sqrt(a**2, b**2)\n",
    "        \n",
    "    def __is_valid_type(p) : \n",
    "        return isinstance(p, MyPoint)\n",
    "    \n",
    "p = MyPoint(1, 2)"
   ]
  },
  {
   "cell_type": "code",
   "execution_count": 42,
   "id": "b6b438da",
   "metadata": {},
   "outputs": [
    {
     "data": {
      "text/plain": [
       "1"
      ]
     },
     "execution_count": 42,
     "metadata": {},
     "output_type": "execute_result"
    }
   ],
   "source": [
    "p.x"
   ]
  },
  {
   "cell_type": "code",
   "execution_count": null,
   "id": "80180878",
   "metadata": {},
   "outputs": [],
   "source": []
  }
 ],
 "metadata": {
  "kernelspec": {
   "display_name": "Python 3 (ipykernel)",
   "language": "python",
   "name": "python3"
  },
  "language_info": {
   "codemirror_mode": {
    "name": "ipython",
    "version": 3
   },
   "file_extension": ".py",
   "mimetype": "text/x-python",
   "name": "python",
   "nbconvert_exporter": "python",
   "pygments_lexer": "ipython3",
   "version": "3.9.12"
  }
 },
 "nbformat": 4,
 "nbformat_minor": 5
}
