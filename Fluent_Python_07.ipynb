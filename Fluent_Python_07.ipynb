{
 "cells": [
  {
   "cell_type": "code",
   "execution_count": 1,
   "id": "3ac27194",
   "metadata": {},
   "outputs": [
    {
     "data": {
      "text/plain": [
       "'\\n- 변수 : 객체에 붙은 레이블, 참조\\n- 참조변수가 객체에 할당되었다. -> 객체는 변수가 할당되기 전에 생성\\n\\n- 객체의 정체성 : 메모리 내의 객체 주소, 주소값\\n- == : 객체의 값(내용) 비교, is : 객체의 정체성, 주소값 비교\\n\\n- 튜플의 불변성 : tuple 데이터 구조체의 물리적인 내용(참조값)을 말함, 참조된 객체는 불변성 처리 x\\n\\n- 얕은 복사 : 값 복사, copy(), __copy__(), 깊은 복사 : 참조하는 객체까지 복사, deepcopy(), __deepcopy__()\\n- 특별 메서드 작성하면 내부 동작 제어 가능\\n\\n- 파이썬은 공유로 호출(Call By Sharing)\\n\\n'"
      ]
     },
     "execution_count": 1,
     "metadata": {},
     "output_type": "execute_result"
    }
   ],
   "source": [
    "\"\"\"\n",
    "- 변수 : 객체에 붙은 레이블, 참조\n",
    "- 참조변수가 객체에 할당되었다. -> 객체는 변수가 할당되기 전에 생성\n",
    "\n",
    "- 객체의 정체성 : 메모리 내의 객체 주소, 주소값\n",
    "- == : 객체의 값(내용) 비교, is : 객체의 정체성, 주소값 비교\n",
    "\n",
    "- 튜플의 불변성 : tuple 데이터 구조체의 물리적인 내용(참조값)을 말함, 참조된 객체는 불변성 처리 x\n",
    "\n",
    "- 얕은 복사 : 값 복사, copy(), __copy__(), 깊은 복사 : 참조하는 객체까지 복사, deepcopy(), __deepcopy__()\n",
    "- 특별 메서드 작성하면 내부 동작 제어 가능\n",
    "\n",
    "- 파이썬은 공유로 호출(Call By Sharing)\n",
    "\n",
    "\"\"\""
   ]
  },
  {
   "cell_type": "code",
   "execution_count": 3,
   "id": "2c205759",
   "metadata": {},
   "outputs": [
    {
     "data": {
      "text/plain": [
       "['de', 'ge']"
      ]
     },
     "execution_count": 3,
     "metadata": {},
     "output_type": "execute_result"
    }
   ],
   "source": [
    "\"\"\"\n",
    "1. 가변형을 매개변수 기본값으로 사용하는 경우 -> 하면안됨\n",
    "- iv를 공유하게 되는 문제 발생 \n",
    "\"\"\"\n",
    "\n",
    "class HauntedBus : \n",
    "    \n",
    "    def __init__(self, passengers=[]) : \n",
    "        self.passengers = passengers\n",
    "        \n",
    "    def pick(self, name) :\n",
    "        self.passengers.append(name)\n",
    "        \n",
    "    def drop(self, name) : \n",
    "        self.passengers.remove(name)\n",
    "        \n",
    "bus1 = HauntedBus([\"de\", \"ge\"])\n",
    "bus1.passengers"
   ]
  },
  {
   "cell_type": "code",
   "execution_count": 4,
   "id": "859e3759",
   "metadata": {},
   "outputs": [
    {
     "data": {
      "text/plain": [
       "['ll', 'tt']"
      ]
     },
     "execution_count": 4,
     "metadata": {},
     "output_type": "execute_result"
    }
   ],
   "source": [
    "bus2 = HauntedBus()\n",
    "bus2.pick(\"ll\")\n",
    "bus2.passengers\n",
    "\n",
    "bus3 = HauntedBus()\n",
    "bus3.pick(\"tt\")\n",
    "bus3.passengers\n"
   ]
  },
  {
   "cell_type": "code",
   "execution_count": 5,
   "id": "0e1357fb",
   "metadata": {},
   "outputs": [
    {
     "data": {
      "text/plain": [
       "True"
      ]
     },
     "execution_count": 5,
     "metadata": {},
     "output_type": "execute_result"
    }
   ],
   "source": [
    "bus2.passengers is bus3.passengers"
   ]
  },
  {
   "cell_type": "code",
   "execution_count": 7,
   "id": "3079e567",
   "metadata": {},
   "outputs": [
    {
     "data": {
      "text/plain": [
       "['lee', 'young']"
      ]
     },
     "execution_count": 7,
     "metadata": {},
     "output_type": "execute_result"
    }
   ],
   "source": [
    "\"\"\"\n",
    "2. 받은 인수를 변경하는 위험성이 존재하는 클래스 -> 하면안됨 \n",
    "- 참조값이 걸려있음, 얕은 복사 처리 \n",
    "\"\"\"\n",
    "\n",
    "class TwilightBus : \n",
    "    \n",
    "    def __init__(self, passengers = None) : \n",
    "        if passengers is None : \n",
    "            self.passengers = []\n",
    "            \n",
    "        else : \n",
    "            self.passengers = passengers # 참조 걸림 \n",
    "            \n",
    "    def pick(self, name) : \n",
    "        self.passengers.append(name)\n",
    "        \n",
    "    def drop(self, name) : \n",
    "        self.passengers.remove(name)\n",
    "        \n",
    "baseball_team = ['lee', 'chan', 'wue', 'young']\n",
    "bus = TwilightBus(baseball_team)\n",
    "\n",
    "bus.drop('chan')\n",
    "bus.drop('wue')\n",
    "\n",
    "baseball_team\n"
   ]
  },
  {
   "cell_type": "code",
   "execution_count": 8,
   "id": "eee18602",
   "metadata": {},
   "outputs": [
    {
     "data": {
      "text/plain": [
       "['lee', 'chan', 'wue', 'young']"
      ]
     },
     "execution_count": 8,
     "metadata": {},
     "output_type": "execute_result"
    }
   ],
   "source": [
    "\"\"\"\n",
    "객체의 깊은 복사 처리로 문제 해결 \n",
    "\"\"\"\n",
    "\n",
    "class TwilightBus : \n",
    "    \n",
    "    def __init__(self, passengers = None) : \n",
    "        if passengers is None : \n",
    "            self.passengers = []\n",
    "            \n",
    "        else : \n",
    "            self.passengers = list(passengers) # 깊은 복사\n",
    "            \n",
    "    def pick(self, name) : \n",
    "        self.passengers.append(name)\n",
    "        \n",
    "    def drop(self, name) : \n",
    "        self.passengers.remove(name)\n",
    "        \n",
    "baseball_team = ['lee', 'chan', 'wue', 'young']\n",
    "bus = TwilightBus(baseball_team)\n",
    "\n",
    "bus.drop('chan')\n",
    "bus.drop('wue')\n",
    "\n",
    "baseball_team"
   ]
  },
  {
   "cell_type": "code",
   "execution_count": 16,
   "id": "fc4ac14d",
   "metadata": {},
   "outputs": [
    {
     "data": {
      "text/plain": [
       "'\\ndel : 이름 제거, 객체를 제거하는 것이 아님 \\n\\n- CPython의 경우, GC가 참조 카운트에 기반함\\n- refcount = 0(참조 카운트 0) -> CPython이 객체의 __del__() 메서드를 호출하여 삭제함 \\n\\n참조(referent)\\n- 1. strong referent : 일반 참조\\n- 2. soft referent \\n- 3. weak referent : 약한 참조, 참조 카운트를 증가시키지 않고 객체를 참조함, 캐시에서 유용함 \\n- 4. phantom referent \\n\\n\\n약한 참조는 콜러블, 객체가 살아 있으면 참조된 객체 반환, 그렇지 않으면 None\\n'"
      ]
     },
     "execution_count": 16,
     "metadata": {},
     "output_type": "execute_result"
    }
   ],
   "source": [
    "\"\"\"\n",
    "del : 이름 제거, 객체를 제거하는 것이 아님 \n",
    "\n",
    "- CPython의 경우, GC가 참조 카운트에 기반함\n",
    "- refcount = 0(참조 카운트 0) -> CPython이 객체의 __del__() 메서드를 호출하여 삭제함 \n",
    "\n",
    "참조(referent)\n",
    "- 1. strong referent : 일반 참조\n",
    "- 2. soft referent \n",
    "- 3. weak referent : 약한 참조, 참조 카운트를 증가시키지 않고 객체를 참조함, 캐시에서 유용함 \n",
    "- 4. phantom referent \n",
    "\n",
    "\n",
    "약한 참조는 콜러블, 객체가 살아 있으면 참조된 객체 반환, 그렇지 않으면 None\n",
    "\"\"\"\n",
    "\n"
   ]
  },
  {
   "cell_type": "code",
   "execution_count": 17,
   "id": "13da1000",
   "metadata": {},
   "outputs": [
    {
     "data": {
      "text/plain": [
       "<weakref at 0x7ff2d8009180; to 'set' at 0x7ff2f89c6820>"
      ]
     },
     "execution_count": 17,
     "metadata": {},
     "output_type": "execute_result"
    }
   ],
   "source": [
    "import weakref\n",
    "\n",
    "a_set = {0, 1}\n",
    "wref = weakref.ref(a_set)\n",
    "wref"
   ]
  },
  {
   "cell_type": "code",
   "execution_count": 18,
   "id": "6d7ba2b6",
   "metadata": {},
   "outputs": [
    {
     "data": {
      "text/plain": [
       "{0, 1}"
      ]
     },
     "execution_count": 18,
     "metadata": {},
     "output_type": "execute_result"
    }
   ],
   "source": [
    "wref()"
   ]
  },
  {
   "cell_type": "code",
   "execution_count": 19,
   "id": "faf50c67",
   "metadata": {},
   "outputs": [
    {
     "data": {
      "text/plain": [
       "{0, 1}"
      ]
     },
     "execution_count": 19,
     "metadata": {},
     "output_type": "execute_result"
    }
   ],
   "source": [
    "a_set = {2, 3, 4}\n",
    "wref()"
   ]
  },
  {
   "cell_type": "code",
   "execution_count": 20,
   "id": "a68a0efc",
   "metadata": {},
   "outputs": [
    {
     "data": {
      "text/plain": [
       "False"
      ]
     },
     "execution_count": 20,
     "metadata": {},
     "output_type": "execute_result"
    }
   ],
   "source": [
    "wref() is None"
   ]
  },
  {
   "cell_type": "code",
   "execution_count": 21,
   "id": "8f06e570",
   "metadata": {},
   "outputs": [
    {
     "data": {
      "text/plain": [
       "False"
      ]
     },
     "execution_count": 21,
     "metadata": {},
     "output_type": "execute_result"
    }
   ],
   "source": []
  },
  {
   "cell_type": "code",
   "execution_count": 15,
   "id": "546b7b59",
   "metadata": {},
   "outputs": [
    {
     "data": {
      "text/plain": [
       "False"
      ]
     },
     "execution_count": 15,
     "metadata": {},
     "output_type": "execute_result"
    }
   ],
   "source": []
  },
  {
   "cell_type": "code",
   "execution_count": null,
   "id": "50dda595",
   "metadata": {},
   "outputs": [],
   "source": []
  }
 ],
 "metadata": {
  "kernelspec": {
   "display_name": "Python 3 (ipykernel)",
   "language": "python",
   "name": "python3"
  },
  "language_info": {
   "codemirror_mode": {
    "name": "ipython",
    "version": 3
   },
   "file_extension": ".py",
   "mimetype": "text/x-python",
   "name": "python",
   "nbconvert_exporter": "python",
   "pygments_lexer": "ipython3",
   "version": "3.9.12"
  }
 },
 "nbformat": 4,
 "nbformat_minor": 5
}
