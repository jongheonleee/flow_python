{
 "cells": [
  {
   "cell_type": "code",
   "execution_count": 1,
   "id": "f45b1ddc",
   "metadata": {},
   "outputs": [
    {
     "data": {
      "text/plain": [
       "'\\n데커레이터?\\n- 다른 함수를 인수로 받는 콜러블\\n- 데커레이트된 함수에 어떤 처리를 수행, 함수를 반환하거나 함수를 다른 함수나 콜러블 객체로 대체함 \\n- 데커레이트된 함수를 다른 함수로 대체함\\n- 데커레이터는 모듈이 로딩될 때 바로 실행됨\\n'"
      ]
     },
     "execution_count": 1,
     "metadata": {},
     "output_type": "execute_result"
    }
   ],
   "source": [
    "\"\"\"\n",
    "데커레이터?\n",
    "- 다른 함수를 인수로 받는 콜러블, 함수나 메서드에 적용되어 기능을 추가, 확장, 변경하는 역할\n",
    "- 데커레이트된 함수에 어떤 처리를 수행, 함수를 반환하거나 함수를 다른 함수나 콜러블 객체로 대체함 \n",
    "- 데커레이트된 함수를 다른 함수로 대체함\n",
    "- 데커레이터는 모듈이 로딩될 때 바로 실행됨\n",
    "\"\"\""
   ]
  },
  {
   "cell_type": "code",
   "execution_count": 5,
   "id": "120ef476",
   "metadata": {
    "scrolled": true
   },
   "outputs": [
    {
     "name": "stdout",
     "output_type": "stream",
     "text": [
      "running inner()\n"
     ]
    }
   ],
   "source": [
    "\"\"\"\n",
    "러타임에 프로그램 행위를 변경하는 메타프로그래밍을 할 때 데커레이터가 상당히 편리함\n",
    "\"\"\"\n",
    "\n",
    "def deco(func) : \n",
    "    def inner() : \n",
    "        print('running inner()')\n",
    "    return inner\n",
    "\n",
    "@deco\n",
    "def target() :\n",
    "    print('running target()')\n",
    "    \n",
    "target()"
   ]
  },
  {
   "cell_type": "code",
   "execution_count": 6,
   "id": "3504265e",
   "metadata": {},
   "outputs": [
    {
     "data": {
      "text/plain": [
       "<function __main__.deco.<locals>.inner()>"
      ]
     },
     "execution_count": 6,
     "metadata": {},
     "output_type": "execute_result"
    }
   ],
   "source": [
    "target"
   ]
  },
  {
   "cell_type": "code",
   "execution_count": 7,
   "id": "369cc062",
   "metadata": {},
   "outputs": [
    {
     "name": "stdout",
     "output_type": "stream",
     "text": [
      "running register(<function f1 at 0x7fe1e0a6e820>)\n",
      "running register(<function f2 at 0x7fe1e0ae53a0>)\n",
      "running main()\n",
      "registry -> [<function f1 at 0x7fe1e0a6e820>, <function f2 at 0x7fe1e0ae53a0>]\n",
      "running f1()\n",
      "running f2()\n",
      "running f3()\n"
     ]
    }
   ],
   "source": [
    "\"\"\"\n",
    "데커레이터는 임포트 타임에 실행됨(ㅇ파이썬이 모듈을 로딩하는 시점)\n",
    "- 함수 데커레이터는 모듈이 임포트되자마자 실행\n",
    "- 데커레이트된 함수는 명시적으로 호출될 때만 실행\n",
    "\"\"\"\n",
    "registry = []\n",
    "\n",
    "def register(func) : \n",
    "    print('running register(%s)' % func)\n",
    "    registry.append(func)\n",
    "    return func\n",
    "\n",
    "@register\n",
    "def f1() :\n",
    "    print('running f1()')\n",
    "    \n",
    "@register\n",
    "def f2() : \n",
    "    print('running f2()')\n",
    "    \n",
    "def f3() : \n",
    "    print('running f3()')\n",
    "    \n",
    "def main() : \n",
    "    print('running main()')\n",
    "    print('registry ->', registry)\n",
    "    f1()\n",
    "    f2()\n",
    "    f3()\n",
    "    \n",
    "if __name__ == '__main__' : \n",
    "    main()\n",
    "    "
   ]
  },
  {
   "cell_type": "code",
   "execution_count": 8,
   "id": "422100e5",
   "metadata": {},
   "outputs": [],
   "source": [
    "\"\"\"\n",
    "데커레이터로 개선한 전략 패턴 \n",
    "\n",
    "\"\"\"\n",
    "promos = []\n",
    "\n",
    "def promotion(promo_func) : \n",
    "    promos.append(promo_func)\n",
    "    return promo_func\n",
    "\n",
    "@promotion\n",
    "def fidelity(order) : \n",
    "    return order.total() * .05 if order.customer.fidelity >= 1000 else 0\n",
    "    \n",
    "@promotion\n",
    "def bulk_item(order) :\n",
    "    discount = 0\n",
    "    \n",
    "    for i in order.cart : \n",
    "        if i.quantity >= 20 : \n",
    "            disocunt += i.total() * .1\n",
    "            \n",
    "    return discount\n",
    "\n",
    "@promotion\n",
    "def large_order(order) : \n",
    "    distinct_items = {i.product for i in order.cart}\n",
    "    \n",
    "    if len(distinct_items) >= 10 : \n",
    "        return order.total() * .07\n",
    "    \n",
    "    return 0 \n",
    "\n",
    "def best_promo(order) : \n",
    "    return max(promo(order) for promo in promos)\n"
   ]
  },
  {
   "cell_type": "code",
   "execution_count": 9,
   "id": "8bda85d9",
   "metadata": {},
   "outputs": [
    {
     "name": "stdout",
     "output_type": "stream",
     "text": [
      "10\n"
     ]
    },
    {
     "ename": "UnboundLocalError",
     "evalue": "local variable 'b' referenced before assignment",
     "output_type": "error",
     "traceback": [
      "\u001b[0;31m---------------------------------------------------------------------------\u001b[0m",
      "\u001b[0;31mUnboundLocalError\u001b[0m                         Traceback (most recent call last)",
      "Input \u001b[0;32mIn [9]\u001b[0m, in \u001b[0;36m<cell line: 13>\u001b[0;34m()\u001b[0m\n\u001b[1;32m      9\u001b[0m     \u001b[38;5;28mprint\u001b[39m(b)\n\u001b[1;32m     11\u001b[0m     b \u001b[38;5;241m=\u001b[39m \u001b[38;5;241m1000\u001b[39m\n\u001b[0;32m---> 13\u001b[0m \u001b[43mf2\u001b[49m\u001b[43m(\u001b[49m\u001b[38;5;241;43m10\u001b[39;49m\u001b[43m)\u001b[49m\n",
      "Input \u001b[0;32mIn [9]\u001b[0m, in \u001b[0;36mf2\u001b[0;34m(a)\u001b[0m\n\u001b[1;32m      7\u001b[0m \u001b[38;5;28;01mdef\u001b[39;00m \u001b[38;5;21mf2\u001b[39m(a) : \n\u001b[1;32m      8\u001b[0m     \u001b[38;5;28mprint\u001b[39m(a)\n\u001b[0;32m----> 9\u001b[0m     \u001b[38;5;28mprint\u001b[39m(\u001b[43mb\u001b[49m)\n\u001b[1;32m     11\u001b[0m     b \u001b[38;5;241m=\u001b[39m \u001b[38;5;241m1000\u001b[39m\n",
      "\u001b[0;31mUnboundLocalError\u001b[0m: local variable 'b' referenced before assignment"
     ]
    }
   ],
   "source": [
    "\"\"\"\n",
    "파이썬이 함수 본체를 컴파일할 때 b가 함수 안에서 할당되므로 b를 지역 변수로 판단\n",
    "\"\"\"\n",
    "\n",
    "b = 10\n",
    "\n",
    "def f2(a) : \n",
    "    print(a)\n",
    "    print(b)\n",
    "    \n",
    "    b = 1000\n",
    "\n",
    "f2(10)"
   ]
  },
  {
   "cell_type": "code",
   "execution_count": 11,
   "id": "7950e4a9",
   "metadata": {},
   "outputs": [
    {
     "name": "stdout",
     "output_type": "stream",
     "text": [
      "10\n",
      "10\n"
     ]
    }
   ],
   "source": [
    "b = 10\n",
    "\n",
    "def f2(a) : \n",
    "    global b\n",
    "    print(a)\n",
    "    print(b)\n",
    "    \n",
    "    b = 1000\n",
    "\n",
    "f2(10)"
   ]
  },
  {
   "cell_type": "code",
   "execution_count": 13,
   "id": "2b91854f",
   "metadata": {},
   "outputs": [
    {
     "data": {
      "text/plain": [
       "10.0"
      ]
     },
     "execution_count": 13,
     "metadata": {},
     "output_type": "execute_result"
    }
   ],
   "source": [
    "\"\"\"\n",
    "클로저?\n",
    "- 함수 본체에서 정의하지 않고 참조하는 비전역 변수를 포함한 확장 범위를 가진 함수\n",
    "- 함수가 익명 함수인지 여부는 중요치 않음, 함수 본체 외부에 정의된 비전역 변수에 접근할 수 있다는 것이 중요함\n",
    "- 함수를 정의할 때 존재하던 자유 변수에 대한 바인딩을 유지하는 함수 \n",
    "- 즉, 함수를 정의하는 범위가 사라진 후에 함수를 호출해도 자유 변수에 접근할 수 있는 것을 의미함\n",
    "\n",
    "\"\"\"\n",
    "\n",
    "class Averager() : \n",
    "    \n",
    "    def __init__(self) : \n",
    "        self.series = []\n",
    "        \n",
    "    def __call__(self, new_value) :\n",
    "        self.series.append(new_value)\n",
    "        total = sum(self.series)\n",
    "        return total/len(self.series)\n",
    "    \n",
    "avg1 = Averager()\n",
    "avg1(10)"
   ]
  },
  {
   "cell_type": "code",
   "execution_count": 14,
   "id": "cfa7ae32",
   "metadata": {},
   "outputs": [
    {
     "data": {
      "text/plain": [
       "10.5"
      ]
     },
     "execution_count": 14,
     "metadata": {},
     "output_type": "execute_result"
    }
   ],
   "source": [
    "avg1(11)"
   ]
  },
  {
   "cell_type": "code",
   "execution_count": 15,
   "id": "fe2b23ce",
   "metadata": {},
   "outputs": [
    {
     "data": {
      "text/plain": [
       "11.0"
      ]
     },
     "execution_count": 15,
     "metadata": {},
     "output_type": "execute_result"
    }
   ],
   "source": [
    "avg1(12)"
   ]
  },
  {
   "cell_type": "code",
   "execution_count": 17,
   "id": "9db23c30",
   "metadata": {},
   "outputs": [
    {
     "data": {
      "text/plain": [
       "10.0"
      ]
     },
     "execution_count": 17,
     "metadata": {},
     "output_type": "execute_result"
    }
   ],
   "source": [
    "\"\"\"\n",
    "- make_averager()는 average() 함수 객체를 반환\n",
    "- 호출될 때 마다 받은 인수를 저장하고 현재까지의 평균을 계산함 \n",
    "\"\"\"\n",
    "def make_averager() : \n",
    "    # 클로저 \n",
    "    series = []\n",
    "    \n",
    "    def averager(new_value) : \n",
    "        # series는 자유 변수(지역 범위에 바인딩되지 않은 변수)\n",
    "        series.append(new_value)\n",
    "        total = sum(series)\n",
    "        \n",
    "        return total / len(series)\n",
    "    \n",
    "    return averager\n",
    "\n",
    "avg2 = make_averager()\n",
    "avg2(10)"
   ]
  },
  {
   "cell_type": "code",
   "execution_count": 18,
   "id": "580237d9",
   "metadata": {},
   "outputs": [
    {
     "data": {
      "text/plain": [
       "10.5"
      ]
     },
     "execution_count": 18,
     "metadata": {},
     "output_type": "execute_result"
    }
   ],
   "source": [
    "avg2(11)"
   ]
  },
  {
   "cell_type": "code",
   "execution_count": 19,
   "id": "4b2d0e26",
   "metadata": {},
   "outputs": [
    {
     "data": {
      "text/plain": [
       "11.0"
      ]
     },
     "execution_count": 19,
     "metadata": {},
     "output_type": "execute_result"
    }
   ],
   "source": [
    "avg2(12)"
   ]
  },
  {
   "cell_type": "code",
   "execution_count": 20,
   "id": "8302b56d",
   "metadata": {},
   "outputs": [
    {
     "data": {
      "text/plain": [
       "('new_value', 'total')"
      ]
     },
     "execution_count": 20,
     "metadata": {},
     "output_type": "execute_result"
    }
   ],
   "source": [
    "avg2.__code__.co_varnames"
   ]
  },
  {
   "cell_type": "code",
   "execution_count": 21,
   "id": "541d67a2",
   "metadata": {},
   "outputs": [
    {
     "data": {
      "text/plain": [
       "('series',)"
      ]
     },
     "execution_count": 21,
     "metadata": {},
     "output_type": "execute_result"
    }
   ],
   "source": [
    "avg2.__code__.co_freevars"
   ]
  },
  {
   "cell_type": "code",
   "execution_count": 22,
   "id": "c0de0043",
   "metadata": {},
   "outputs": [
    {
     "data": {
      "text/plain": [
       "(<cell at 0x7fe1d1be10a0: list object at 0x7fe1d26a7180>,)"
      ]
     },
     "execution_count": 22,
     "metadata": {},
     "output_type": "execute_result"
    }
   ],
   "source": [
    "avg2.__closure__"
   ]
  },
  {
   "cell_type": "code",
   "execution_count": 23,
   "id": "17ee2cec",
   "metadata": {},
   "outputs": [],
   "source": [
    "\"\"\"\n",
    "nonlocal 사용\n",
    "\"\"\"\n",
    "\n",
    "def make_averager() : \n",
    "    count = 0\n",
    "    total = 0\n",
    "    \n",
    "    def averager(new_value) : \n",
    "        nonlocal count, total\n",
    "        \n",
    "        count += 1\n",
    "        total += new_value\n",
    "        \n",
    "        return total / count\n",
    "    \n",
    "    return averager"
   ]
  },
  {
   "cell_type": "code",
   "execution_count": 25,
   "id": "b677adb8",
   "metadata": {},
   "outputs": [
    {
     "name": "stdout",
     "output_type": "stream",
     "text": [
      "**************************************** Calling snooze(.123)\n",
      "[0.12806692s] snooze(0.123) -> None\n",
      "**************************************** Calling factorial(6)\n",
      "[0.00000129s] factorial(1) -> 1\n",
      "[0.00006675s] factorial(2) -> 2\n",
      "[0.00011946s] factorial(3) -> 6\n",
      "[0.00017146s] factorial(4) -> 24\n",
      "[0.00022104s] factorial(5) -> 120\n",
      "[0.00027300s] factorial(6) -> 720\n",
      "6! =  720\n"
     ]
    }
   ],
   "source": [
    "import time\n",
    "\n",
    "\n",
    "\"\"\"\n",
    "함수의 실행 시간을 출력하는 간단한 데커레이터 \n",
    "\"\"\"\n",
    "def clock(func) : \n",
    "    def clocked(*args) : \n",
    "        t0 = time.perf_counter() \n",
    "        result = func(*args)\n",
    "        elapsed = time.perf_counter() - t0\n",
    "        name = func.__name__\n",
    "        arg_str = ', '.join(repr(arg) for arg in args)\n",
    "        print('[%0.8fs] %s(%s) -> %r' % (elapsed, name, arg_str, result))\n",
    "        return result\n",
    "    return clocked\n",
    "\n",
    "\n",
    "@clock\n",
    "def snooze(seconds) : \n",
    "    time.sleep(seconds)\n",
    "    \n",
    "@clock\n",
    "def factorial(n) : \n",
    "    return 1 if n < 2 else n * factorial(n-1)\n",
    "\n",
    "if __name__ == '__main__' : \n",
    "    print('*' * 40, \"Calling snooze(.123)\")\n",
    "    snooze(.123)\n",
    "    print('*' * 40, 'Calling factorial(6)')\n",
    "    print('6! = ', factorial(6))\n"
   ]
  },
  {
   "cell_type": "code",
   "execution_count": 36,
   "id": "71498c74",
   "metadata": {},
   "outputs": [],
   "source": [
    "import time, functools\n",
    "\n",
    "def clock(func) : \n",
    "    @functools.wraps(func)\n",
    "    def clocked(*args, **kwargs) : \n",
    "        t0 = time.time()\n",
    "        result = func(*args, **kwargs)\n",
    "        elapsed = time.time() - t0\n",
    "        name = func.__name__\n",
    "        arg_lst = [] \n",
    "        \n",
    "        if args : \n",
    "            arg_lst.append(', '.join(repr(arg) for arg in args))\n",
    "        \n",
    "        if kwargs : \n",
    "            pairs = ['%s=%r' % (k, w) for k, w in sorted(kwargs.items())]\n",
    "            arg_lst.append(', '.join(pairs))\n",
    "            \n",
    "        arg_str = ', '.join(arg_lst)\n",
    "        print('[%0.8fs] %s(%s) -> %r ' % (elapsed, name, arg_str, result))\n",
    "        return result\n",
    "    return clocked\n",
    "\n"
   ]
  },
  {
   "cell_type": "code",
   "execution_count": 37,
   "id": "bcdb3082",
   "metadata": {},
   "outputs": [
    {
     "data": {
      "text/plain": [
       "'\\n파이썬에서는 메서드를 데코레이트하기 위해 3가지 내장 함수 제공  \\n- property(), classmethod(), staticmethod()\\n'"
      ]
     },
     "execution_count": 37,
     "metadata": {},
     "output_type": "execute_result"
    }
   ],
   "source": [
    "\"\"\"\n",
    "파이썬에서는 메서드를 데코레이트하기 위해 3가지 내장 함수 제공  \n",
    "- property(), classmethod(), staticmethod()\n",
    "\"\"\""
   ]
  },
  {
   "cell_type": "code",
   "execution_count": 38,
   "id": "287874fa",
   "metadata": {},
   "outputs": [
    {
     "name": "stdout",
     "output_type": "stream",
     "text": [
      "[0.00000095s] fibonacci(0) -> 0 \n",
      "[0.00000095s] fibonacci(1) -> 1 \n",
      "[0.00044322s] fibonacci(2) -> 1 \n",
      "[0.00000215s] fibonacci(3) -> 2 \n",
      "[0.00069308s] fibonacci(4) -> 3 \n",
      "[0.00000072s] fibonacci(5) -> 5 \n",
      "[0.00075698s] fibonacci(6) -> 8 \n",
      "8\n"
     ]
    }
   ],
   "source": [
    "\"\"\"\n",
    "캐시를 이용한 성능 좋은 데커레이터 구현\n",
    "\"\"\"\n",
    "\n",
    "import functools\n",
    "\n",
    "@functools.lru_cache()\n",
    "@clock\n",
    "def fibonacci(n) : \n",
    "    if n < 2 : \n",
    "        return n\n",
    "    \n",
    "    return fibonacci(n-2) + fibonacci(n-1)\n",
    "\n",
    "if __name__ == '__main__' : \n",
    "    print(fibonacci(6))"
   ]
  },
  {
   "cell_type": "code",
   "execution_count": 39,
   "id": "1dda74f2",
   "metadata": {},
   "outputs": [],
   "source": [
    "\n",
    "from functools import singledispatch\n",
    "from collections import abc\n",
    "import fractions\n",
    "import decimal\n",
    "import html\n",
    "import numbers\n",
    "\n",
    "@singledispatch  # <1>\n",
    "def htmlize(obj: object) -> str:\n",
    "    content = html.escape(repr(obj))\n",
    "    return f'<pre>{content}</pre>'\n",
    "\n",
    "@htmlize.register  # <2>\n",
    "def _(text: str) -> str:  # <3>\n",
    "    content = html.escape(text).replace('\\n', '<br/>\\n')\n",
    "    return f'<p>{content}</p>'\n",
    "\n",
    "@htmlize.register  # <4>\n",
    "def _(seq: abc.Sequence) -> str:\n",
    "    inner = '</li>\\n<li>'.join(htmlize(item) for item in seq)\n",
    "    return '<ul>\\n<li>' + inner + '</li>\\n</ul>'\n",
    "\n",
    "@htmlize.register  # <5>\n",
    "def _(n: numbers.Integral) -> str:\n",
    "    return f'<pre>{n} (0x{n:x})</pre>'\n",
    "\n",
    "@htmlize.register  # <6>\n",
    "def _(n: bool) -> str:\n",
    "    return f'<pre>{n}</pre>'\n",
    "\n",
    "@htmlize.register(fractions.Fraction)  # <7>\n",
    "def _(x) -> str:\n",
    "    frac = fractions.Fraction(x)\n",
    "    return f'<pre>{frac.numerator}/{frac.denominator}</pre>'\n",
    "\n",
    "@htmlize.register(decimal.Decimal)  # <8>\n",
    "@htmlize.register(float)\n",
    "def _(x) -> str:\n",
    "    frac = fractions.Fraction(x).limit_denominator()\n",
    "    return f'<pre>{x} ({frac.numerator}/{frac.denominator})</pre>'"
   ]
  },
  {
   "cell_type": "code",
   "execution_count": 42,
   "id": "ed4038fc",
   "metadata": {},
   "outputs": [],
   "source": [
    "\"\"\"\n",
    "누적된 데코레이터 처리 방식\n",
    "\"\"\"\n",
    "\n",
    "def d1(func) : \n",
    "    pass\n",
    "\n",
    "def d2(func) : \n",
    "    pass\n",
    "\n",
    "@d1\n",
    "@d2\n",
    "def f() : \n",
    "    print('f')\n",
    "    \n",
    "# 위에 코드는 밑에와 같이 움직임\n",
    "def f() : \n",
    "    print('f')\n",
    "    \n",
    "f = d1(d2(f))"
   ]
  },
  {
   "cell_type": "code",
   "execution_count": 43,
   "id": "a8ce9348",
   "metadata": {},
   "outputs": [
    {
     "name": "stdout",
     "output_type": "stream",
     "text": [
      "running register(active=False)->decorate(<function f1 at 0x7fe1e0b47820>)\n",
      "running register(active=True)->decorate(<function f2 at 0x7fe1e0a6ed30>)\n"
     ]
    }
   ],
   "source": [
    "\"\"\"\n",
    "매개변수화된 등록 데커레이터\n",
    "\"\"\"\n",
    "\n",
    "registry = set()  # <1>\n",
    "\n",
    "def register(active=True):  # <2>\n",
    "    def decorate(func):  # <3>\n",
    "        print('running register'\n",
    "              f'(active={active})->decorate({func})')\n",
    "        if active:   # <4>\n",
    "            registry.add(func)\n",
    "        else:\n",
    "            registry.discard(func)  # <5>\n",
    "\n",
    "        return func  # <6>\n",
    "    return decorate  # <7>\n",
    "\n",
    "@register(active=False)  # <8>\n",
    "def f1():\n",
    "    print('running f1()')\n",
    "\n",
    "@register()  # <9>\n",
    "def f2():\n",
    "    print('running f2()')\n",
    "\n",
    "def f3():\n",
    "    print('running f3()')\n",
    "\n",
    "# end::REGISTRATION_PARAM[]"
   ]
  },
  {
   "cell_type": "code",
   "execution_count": 44,
   "id": "b5bd1070",
   "metadata": {},
   "outputs": [
    {
     "data": {
      "text/plain": [
       "{<function __main__.f2()>}"
      ]
     },
     "execution_count": 44,
     "metadata": {},
     "output_type": "execute_result"
    }
   ],
   "source": [
    "registry"
   ]
  },
  {
   "cell_type": "code",
   "execution_count": 46,
   "id": "c6ceea83",
   "metadata": {},
   "outputs": [
    {
     "name": "stdout",
     "output_type": "stream",
     "text": [
      "running register(active=True)->decorate(<function f3 at 0x7fe1b002a820>)\n"
     ]
    },
    {
     "data": {
      "text/plain": [
       "<function __main__.f3()>"
      ]
     },
     "execution_count": 46,
     "metadata": {},
     "output_type": "execute_result"
    }
   ],
   "source": [
    "register()(f3)"
   ]
  },
  {
   "cell_type": "code",
   "execution_count": 47,
   "id": "87ae46f9",
   "metadata": {},
   "outputs": [
    {
     "data": {
      "text/plain": [
       "{<function __main__.f2()>, <function __main__.f3()>}"
      ]
     },
     "execution_count": 47,
     "metadata": {},
     "output_type": "execute_result"
    }
   ],
   "source": [
    "registry"
   ]
  },
  {
   "cell_type": "code",
   "execution_count": 48,
   "id": "7a68d361",
   "metadata": {},
   "outputs": [
    {
     "name": "stdout",
     "output_type": "stream",
     "text": [
      "running register(active=False)->decorate(<function f2 at 0x7fe1e0a6ed30>)\n"
     ]
    },
    {
     "data": {
      "text/plain": [
       "<function __main__.f2()>"
      ]
     },
     "execution_count": 48,
     "metadata": {},
     "output_type": "execute_result"
    }
   ],
   "source": [
    "register(active = False)(f2)"
   ]
  },
  {
   "cell_type": "code",
   "execution_count": 49,
   "id": "b9deee78",
   "metadata": {},
   "outputs": [
    {
     "data": {
      "text/plain": [
       "{<function __main__.f3()>}"
      ]
     },
     "execution_count": 49,
     "metadata": {},
     "output_type": "execute_result"
    }
   ],
   "source": [
    "registry"
   ]
  },
  {
   "cell_type": "code",
   "execution_count": 57,
   "id": "847095d7",
   "metadata": {},
   "outputs": [
    {
     "name": "stdout",
     "output_type": "stream",
     "text": [
      "[0.12808084s] snooze(0.123) -> None\n",
      "[0.12806201s] snooze(0.123) -> None\n",
      "[0.12808704s] snooze(0.123) -> None\n"
     ]
    }
   ],
   "source": [
    "\"\"\"\n",
    "매개변수화된 clock 데커레이터\n",
    "\"\"\"\n",
    "\n",
    "import time\n",
    "\n",
    "DEFAULT_FMT = '[{elapsed:0.8f}s] {name}({args}) -> {result}'\n",
    "\n",
    "def clock(fmt=DEFAULT_FMT) : \n",
    "    def decorate(func) : \n",
    "        def clocked(*_args) : \n",
    "            t0 = time.time()\n",
    "            _result = func(*_args)\n",
    "            elapsed = time.time() - t0\n",
    "            name = func.__name__\n",
    "            args = ', '.join(repr(arg) for arg in _args)\n",
    "            result = repr(_result)\n",
    "            print(fmt.format(**locals()))\n",
    "            return _result\n",
    "        return clocked\n",
    "    return decorate\n",
    "\n",
    "if __name__ == '__main__' : \n",
    "    \n",
    "    @clock() \n",
    "    def snooze(seconds) : \n",
    "        time.sleep(seconds)\n",
    "        \n",
    "    for i in range(3) :\n",
    "         snooze(.123)\n",
    "            "
   ]
  },
  {
   "cell_type": "code",
   "execution_count": null,
   "id": "583d08e1",
   "metadata": {},
   "outputs": [],
   "source": []
  }
 ],
 "metadata": {
  "kernelspec": {
   "display_name": "Python 3 (ipykernel)",
   "language": "python",
   "name": "python3"
  },
  "language_info": {
   "codemirror_mode": {
    "name": "ipython",
    "version": 3
   },
   "file_extension": ".py",
   "mimetype": "text/x-python",
   "name": "python",
   "nbconvert_exporter": "python",
   "pygments_lexer": "ipython3",
   "version": "3.9.12"
  }
 },
 "nbformat": 4,
 "nbformat_minor": 5
}
