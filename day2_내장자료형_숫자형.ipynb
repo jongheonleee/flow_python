{
 "cells": [
  {
   "cell_type": "code",
   "execution_count": 1,
   "id": "00fb7543",
   "metadata": {},
   "outputs": [
    {
     "name": "stdout",
     "output_type": "stream",
     "text": [
      "3.9.12 (main, Apr  5 2022, 01:53:17) \n",
      "[Clang 12.0.0 ]\n"
     ]
    }
   ],
   "source": [
    "import sys\n",
    "\n",
    "print(sys.version)"
   ]
  },
  {
   "cell_type": "code",
   "execution_count": 2,
   "id": "5c221f19",
   "metadata": {},
   "outputs": [
    {
     "data": {
      "text/plain": [
       "'\\n# 내장 자료형\\n\\n- 자료형(data type)은 OOP에서 기본으로 클래스(class)\\n- 자료형과 클래스를 분리해서 사용하는 이유는 보통 프로그램 언어에서 자료형에는 파이썬에서 제공하지 않는 인터페이스, 트레이트 등도 포함\\n- 파이썬 내부적으로 기본 클래스 제공 -> 숫자, 문자열, 컬렉션, 리스트, 튜플, 딕셔너리, 집합\\n\\n'"
      ]
     },
     "execution_count": 2,
     "metadata": {},
     "output_type": "execute_result"
    }
   ],
   "source": [
    "\"\"\"\n",
    "# 내장 자료형\n",
    "\n",
    "- 자료형(data type)은 OOP에서 기본으로 클래스(class)\n",
    "- 자료형과 클래스를 분리해서 사용하는 이유는 보통 프로그램 언어에서 자료형에는 파이썬에서 제공하지 않는 인터페이스, 트레이트 등도 포함\n",
    "- 파이썬 내부적으로 기본 클래스 제공 -> 숫자, 문자열, 컬렉션, 리스트, 튜플, 딕셔너리, 집합\n",
    "\n",
    "# 기본형 데이터 타입\n",
    "\n",
    "- 1. 숫자형 -> int, float, complex\n",
    "\n",
    "- 2. 문자열 -> str\n",
    "\n",
    "- 3. 불리언 -> bool\n",
    "\n",
    "- 4. 시퀀스 -> list, tuple, range\n",
    "\n",
    "- 5. 매핑 -> dict\n",
    "\n",
    "- 6. 집합 -> set, frozenset(불변 집합)\n",
    "\n",
    "- 7. None -> 값이 없음을 나타냄 none\n",
    "\n",
    "\"\"\""
   ]
  },
  {
   "cell_type": "code",
   "execution_count": 3,
   "id": "205e9fd2",
   "metadata": {},
   "outputs": [
    {
     "data": {
      "text/plain": [
       "int"
      ]
     },
     "execution_count": 3,
     "metadata": {},
     "output_type": "execute_result"
    }
   ],
   "source": [
    "\"\"\"\n",
    "# __builtins__란? 내장 함수와 예외를 포함하는 기본 네임스페이스. map  \n",
    "\n",
    "- 자바에서 java.lang 패키지와 유사함\n",
    "- java.lang은 별도의 임포트 없이 사용할 수 있음. 예를들어, System, Math, String ... \n",
    "- 즉, 파이썬에서는 __builtins__에 포함된 함수와 예외를 별도의 임포트없이 사용 가능함\n",
    "- 또한, __builtins__는 전역 스코프에 존재함\n",
    "\"\"\"\n",
    "\n",
    "__builtins__.__dict__['int']"
   ]
  },
  {
   "cell_type": "code",
   "execution_count": 4,
   "id": "2e20802d",
   "metadata": {},
   "outputs": [
    {
     "data": {
      "text/plain": [
       "tuple"
      ]
     },
     "execution_count": 4,
     "metadata": {},
     "output_type": "execute_result"
    }
   ],
   "source": [
    "__builtins__.__dict__['tuple']"
   ]
  },
  {
   "cell_type": "code",
   "execution_count": 5,
   "id": "ceff7072",
   "metadata": {},
   "outputs": [
    {
     "data": {
      "text/plain": [
       "dict"
      ]
     },
     "execution_count": 5,
     "metadata": {},
     "output_type": "execute_result"
    }
   ],
   "source": [
    "__builtins__.__dict__['dict']"
   ]
  },
  {
   "cell_type": "code",
   "execution_count": 6,
   "id": "cb2d222f",
   "metadata": {},
   "outputs": [
    {
     "data": {
      "text/plain": [
       "['ArithmeticError',\n",
       " 'AssertionError',\n",
       " 'AttributeError',\n",
       " 'BaseException',\n",
       " 'BlockingIOError',\n",
       " 'BrokenPipeError',\n",
       " 'BufferError',\n",
       " 'BytesWarning',\n",
       " 'ChildProcessError',\n",
       " 'ConnectionAbortedError',\n",
       " 'ConnectionError',\n",
       " 'ConnectionRefusedError',\n",
       " 'ConnectionResetError',\n",
       " 'DeprecationWarning',\n",
       " 'EOFError',\n",
       " 'Ellipsis',\n",
       " 'EnvironmentError',\n",
       " 'Exception',\n",
       " 'False',\n",
       " 'FileExistsError',\n",
       " 'FileNotFoundError',\n",
       " 'FloatingPointError',\n",
       " 'FutureWarning',\n",
       " 'GeneratorExit',\n",
       " 'IOError',\n",
       " 'ImportError',\n",
       " 'ImportWarning',\n",
       " 'IndentationError',\n",
       " 'IndexError',\n",
       " 'InterruptedError',\n",
       " 'IsADirectoryError',\n",
       " 'KeyError',\n",
       " 'KeyboardInterrupt',\n",
       " 'LookupError',\n",
       " 'MemoryError',\n",
       " 'ModuleNotFoundError',\n",
       " 'NameError',\n",
       " 'None',\n",
       " 'NotADirectoryError',\n",
       " 'NotImplemented',\n",
       " 'NotImplementedError',\n",
       " 'OSError',\n",
       " 'OverflowError',\n",
       " 'PendingDeprecationWarning',\n",
       " 'PermissionError',\n",
       " 'ProcessLookupError',\n",
       " 'RecursionError',\n",
       " 'ReferenceError',\n",
       " 'ResourceWarning',\n",
       " 'RuntimeError',\n",
       " 'RuntimeWarning',\n",
       " 'StopAsyncIteration',\n",
       " 'StopIteration',\n",
       " 'SyntaxError',\n",
       " 'SyntaxWarning',\n",
       " 'SystemError',\n",
       " 'SystemExit',\n",
       " 'TabError',\n",
       " 'TimeoutError',\n",
       " 'True',\n",
       " 'TypeError',\n",
       " 'UnboundLocalError',\n",
       " 'UnicodeDecodeError',\n",
       " 'UnicodeEncodeError',\n",
       " 'UnicodeError',\n",
       " 'UnicodeTranslateError',\n",
       " 'UnicodeWarning',\n",
       " 'UserWarning',\n",
       " 'ValueError',\n",
       " 'Warning',\n",
       " 'ZeroDivisionError',\n",
       " '__IPYTHON__',\n",
       " '__build_class__',\n",
       " '__debug__',\n",
       " '__doc__',\n",
       " '__import__',\n",
       " '__loader__',\n",
       " '__name__',\n",
       " '__package__',\n",
       " '__spec__',\n",
       " 'abs',\n",
       " 'all',\n",
       " 'any',\n",
       " 'ascii',\n",
       " 'bin',\n",
       " 'bool',\n",
       " 'breakpoint',\n",
       " 'bytearray',\n",
       " 'bytes',\n",
       " 'callable',\n",
       " 'chr',\n",
       " 'classmethod',\n",
       " 'compile',\n",
       " 'complex',\n",
       " 'copyright',\n",
       " 'credits',\n",
       " 'delattr',\n",
       " 'dict',\n",
       " 'dir',\n",
       " 'display',\n",
       " 'divmod',\n",
       " 'enumerate',\n",
       " 'eval',\n",
       " 'exec',\n",
       " 'execfile',\n",
       " 'filter',\n",
       " 'float',\n",
       " 'format',\n",
       " 'frozenset',\n",
       " 'get_ipython',\n",
       " 'getattr',\n",
       " 'globals',\n",
       " 'hasattr',\n",
       " 'hash',\n",
       " 'help',\n",
       " 'hex',\n",
       " 'id',\n",
       " 'input',\n",
       " 'int',\n",
       " 'isinstance',\n",
       " 'issubclass',\n",
       " 'iter',\n",
       " 'len',\n",
       " 'license',\n",
       " 'list',\n",
       " 'locals',\n",
       " 'map',\n",
       " 'max',\n",
       " 'memoryview',\n",
       " 'min',\n",
       " 'next',\n",
       " 'object',\n",
       " 'oct',\n",
       " 'open',\n",
       " 'ord',\n",
       " 'pow',\n",
       " 'print',\n",
       " 'property',\n",
       " 'range',\n",
       " 'repr',\n",
       " 'reversed',\n",
       " 'round',\n",
       " 'runfile',\n",
       " 'set',\n",
       " 'setattr',\n",
       " 'slice',\n",
       " 'sorted',\n",
       " 'staticmethod',\n",
       " 'str',\n",
       " 'sum',\n",
       " 'super',\n",
       " 'tuple',\n",
       " 'type',\n",
       " 'vars',\n",
       " 'zip']"
      ]
     },
     "execution_count": 6,
     "metadata": {},
     "output_type": "execute_result"
    }
   ],
   "source": [
    "dir(__builtins__)"
   ]
  },
  {
   "cell_type": "code",
   "execution_count": 7,
   "id": "88ceef79",
   "metadata": {},
   "outputs": [
    {
     "data": {
      "text/plain": [
       "'\\n# 파이썬은 모든 것을 클래스로 정의하고 객체를 만들어서 처리\\n- 모든 자료형은 클래스로 가지고 있음\\n'"
      ]
     },
     "execution_count": 7,
     "metadata": {},
     "output_type": "execute_result"
    }
   ],
   "source": [
    "\"\"\"\n",
    "# 파이썬은 모든 것을 클래스로 정의하고 객체를 만들어서 처리\n",
    "- 모든 자료형은 클래스로 가지고 있음\n",
    "\"\"\""
   ]
  },
  {
   "cell_type": "code",
   "execution_count": 8,
   "id": "9cef3294",
   "metadata": {},
   "outputs": [
    {
     "data": {
      "text/plain": [
       "int"
      ]
     },
     "execution_count": 8,
     "metadata": {},
     "output_type": "execute_result"
    }
   ],
   "source": [
    "(100).__class__"
   ]
  },
  {
   "cell_type": "code",
   "execution_count": 9,
   "id": "fc13688f",
   "metadata": {},
   "outputs": [],
   "source": [
    "v = (100).__class__('200')"
   ]
  },
  {
   "cell_type": "code",
   "execution_count": 10,
   "id": "b43c4963",
   "metadata": {},
   "outputs": [
    {
     "data": {
      "text/plain": [
       "200"
      ]
     },
     "execution_count": 10,
     "metadata": {},
     "output_type": "execute_result"
    }
   ],
   "source": [
    "v"
   ]
  },
  {
   "cell_type": "code",
   "execution_count": 11,
   "id": "a6b73486",
   "metadata": {},
   "outputs": [
    {
     "data": {
      "text/plain": [
       "'\\n# 내장 클래스는 객체를 안 만들고 리터럴 표기법으로도 사용 가능\\n\\n- 내장 클래스? 별도의 임포트 없이 사용 가능한 클래스, 전역 스코프 \\n    - 기본 데이터 타입 클래스\\n    - 유틸리티 클래스\\n    - 예외 클래스 \\n\\n- 기존 표기법대로 사용하면 객체가 만들어진 것으로 인식\\n'"
      ]
     },
     "execution_count": 11,
     "metadata": {},
     "output_type": "execute_result"
    }
   ],
   "source": [
    "\"\"\"\n",
    "# 내장 클래스는 객체를 안 만들고 리터럴 표기법으로도 사용 가능\n",
    "\n",
    "- 내장 클래스? 별도의 임포트 없이 사용 가능한 클래스, 전역 스코프 \n",
    "    - 기본 데이터 타입 클래스\n",
    "    - 유틸리티 클래스\n",
    "    - 예외 클래스 \n",
    "\n",
    "- 기존 표기법대로 사용하면 객체가 만들어진 것으로 인식\n",
    "\"\"\""
   ]
  },
  {
   "cell_type": "code",
   "execution_count": 12,
   "id": "29b701c2",
   "metadata": {},
   "outputs": [
    {
     "data": {
      "text/plain": [
       "mappingproxy({'__repr__': <slot wrapper '__repr__' of 'int' objects>,\n",
       "              '__hash__': <slot wrapper '__hash__' of 'int' objects>,\n",
       "              '__getattribute__': <slot wrapper '__getattribute__' of 'int' objects>,\n",
       "              '__lt__': <slot wrapper '__lt__' of 'int' objects>,\n",
       "              '__le__': <slot wrapper '__le__' of 'int' objects>,\n",
       "              '__eq__': <slot wrapper '__eq__' of 'int' objects>,\n",
       "              '__ne__': <slot wrapper '__ne__' of 'int' objects>,\n",
       "              '__gt__': <slot wrapper '__gt__' of 'int' objects>,\n",
       "              '__ge__': <slot wrapper '__ge__' of 'int' objects>,\n",
       "              '__add__': <slot wrapper '__add__' of 'int' objects>,\n",
       "              '__radd__': <slot wrapper '__radd__' of 'int' objects>,\n",
       "              '__sub__': <slot wrapper '__sub__' of 'int' objects>,\n",
       "              '__rsub__': <slot wrapper '__rsub__' of 'int' objects>,\n",
       "              '__mul__': <slot wrapper '__mul__' of 'int' objects>,\n",
       "              '__rmul__': <slot wrapper '__rmul__' of 'int' objects>,\n",
       "              '__mod__': <slot wrapper '__mod__' of 'int' objects>,\n",
       "              '__rmod__': <slot wrapper '__rmod__' of 'int' objects>,\n",
       "              '__divmod__': <slot wrapper '__divmod__' of 'int' objects>,\n",
       "              '__rdivmod__': <slot wrapper '__rdivmod__' of 'int' objects>,\n",
       "              '__pow__': <slot wrapper '__pow__' of 'int' objects>,\n",
       "              '__rpow__': <slot wrapper '__rpow__' of 'int' objects>,\n",
       "              '__neg__': <slot wrapper '__neg__' of 'int' objects>,\n",
       "              '__pos__': <slot wrapper '__pos__' of 'int' objects>,\n",
       "              '__abs__': <slot wrapper '__abs__' of 'int' objects>,\n",
       "              '__bool__': <slot wrapper '__bool__' of 'int' objects>,\n",
       "              '__invert__': <slot wrapper '__invert__' of 'int' objects>,\n",
       "              '__lshift__': <slot wrapper '__lshift__' of 'int' objects>,\n",
       "              '__rlshift__': <slot wrapper '__rlshift__' of 'int' objects>,\n",
       "              '__rshift__': <slot wrapper '__rshift__' of 'int' objects>,\n",
       "              '__rrshift__': <slot wrapper '__rrshift__' of 'int' objects>,\n",
       "              '__and__': <slot wrapper '__and__' of 'int' objects>,\n",
       "              '__rand__': <slot wrapper '__rand__' of 'int' objects>,\n",
       "              '__xor__': <slot wrapper '__xor__' of 'int' objects>,\n",
       "              '__rxor__': <slot wrapper '__rxor__' of 'int' objects>,\n",
       "              '__or__': <slot wrapper '__or__' of 'int' objects>,\n",
       "              '__ror__': <slot wrapper '__ror__' of 'int' objects>,\n",
       "              '__int__': <slot wrapper '__int__' of 'int' objects>,\n",
       "              '__float__': <slot wrapper '__float__' of 'int' objects>,\n",
       "              '__floordiv__': <slot wrapper '__floordiv__' of 'int' objects>,\n",
       "              '__rfloordiv__': <slot wrapper '__rfloordiv__' of 'int' objects>,\n",
       "              '__truediv__': <slot wrapper '__truediv__' of 'int' objects>,\n",
       "              '__rtruediv__': <slot wrapper '__rtruediv__' of 'int' objects>,\n",
       "              '__index__': <slot wrapper '__index__' of 'int' objects>,\n",
       "              '__new__': <function int.__new__(*args, **kwargs)>,\n",
       "              'conjugate': <method 'conjugate' of 'int' objects>,\n",
       "              'bit_length': <method 'bit_length' of 'int' objects>,\n",
       "              'to_bytes': <method 'to_bytes' of 'int' objects>,\n",
       "              'from_bytes': <method 'from_bytes' of 'int' objects>,\n",
       "              'as_integer_ratio': <method 'as_integer_ratio' of 'int' objects>,\n",
       "              '__trunc__': <method '__trunc__' of 'int' objects>,\n",
       "              '__floor__': <method '__floor__' of 'int' objects>,\n",
       "              '__ceil__': <method '__ceil__' of 'int' objects>,\n",
       "              '__round__': <method '__round__' of 'int' objects>,\n",
       "              '__getnewargs__': <method '__getnewargs__' of 'int' objects>,\n",
       "              '__format__': <method '__format__' of 'int' objects>,\n",
       "              '__sizeof__': <method '__sizeof__' of 'int' objects>,\n",
       "              'real': <attribute 'real' of 'int' objects>,\n",
       "              'imag': <attribute 'imag' of 'int' objects>,\n",
       "              'numerator': <attribute 'numerator' of 'int' objects>,\n",
       "              'denominator': <attribute 'denominator' of 'int' objects>,\n",
       "              '__doc__': \"int([x]) -> integer\\nint(x, base=10) -> integer\\n\\nConvert a number or string to an integer, or return 0 if no arguments\\nare given.  If x is a number, return x.__int__().  For floating point\\nnumbers, this truncates towards zero.\\n\\nIf x is not a number or if base is given, then x must be a string,\\nbytes, or bytearray instance representing an integer literal in the\\ngiven base.  The literal can be preceded by '+' or '-' and be surrounded\\nby whitespace.  The base defaults to 10.  Valid bases are 0 and 2-36.\\nBase 0 means to interpret the base from the string as an integer literal.\\n>>> int('0b100', base=0)\\n4\"})"
      ]
     },
     "execution_count": 12,
     "metadata": {},
     "output_type": "execute_result"
    }
   ],
   "source": [
    "\"\"\"\n",
    "- __dict__? 객체 iv들을 저장하는 사전 객체, 클래스나 인스턴스의 속성 이름과 값을 매핑하는 역할\n",
    "\"\"\"\n",
    "\n",
    "(100).__class__.__dict__"
   ]
  },
  {
   "cell_type": "code",
   "execution_count": 13,
   "id": "c2d793aa",
   "metadata": {},
   "outputs": [
    {
     "data": {
      "text/plain": [
       "\"\\n# 내장 자료형 객체에는 속성을 추가할 수 없음\\n# (100).__dict__  # AttributeError: 'int' object has no attribute '__dict__'\\n\""
      ]
     },
     "execution_count": 13,
     "metadata": {},
     "output_type": "execute_result"
    }
   ],
   "source": [
    "\"\"\"\n",
    "# 내장 자료형 객체에는 속성을 추가할 수 없음\n",
    "# (100).__dict__  # AttributeError: 'int' object has no attribute '__dict__'\n",
    "\"\"\""
   ]
  },
  {
   "cell_type": "code",
   "execution_count": 14,
   "id": "7f5bcc57",
   "metadata": {},
   "outputs": [
    {
     "data": {
      "text/plain": [
       "\"\\n# 숫자 자료형\\n\\n- 내장 자료형을 타입을 확인하면 클래스를 만든 메타 클래스를 보여준다.\\n- 메타 클래스? 클래스의 행동을 제어할 수 있는 '클래스의 클래스'. 즉, 메타 클래스를 통해 클래스의 생성 방식을 제어, 특정 클래스 정의할 때 기능 추가\\n\""
      ]
     },
     "execution_count": 14,
     "metadata": {},
     "output_type": "execute_result"
    }
   ],
   "source": [
    "\"\"\"\n",
    "# 숫자 자료형\n",
    "\n",
    "- 내장 자료형을 타입을 확인하면 클래스를 만든 메타 클래스를 보여준다.\n",
    "- 메타 클래스? 클래스의 행동을 제어할 수 있는 '클래스의 클래스'. 즉, 메타 클래스를 통해 클래스의 생성 방식을 제어, 특정 클래스 정의할 때 기능 추가\n",
    "\"\"\""
   ]
  },
  {
   "cell_type": "code",
   "execution_count": 15,
   "id": "34eccaca",
   "metadata": {},
   "outputs": [
    {
     "data": {
      "text/plain": [
       "100"
      ]
     },
     "execution_count": 15,
     "metadata": {},
     "output_type": "execute_result"
    }
   ],
   "source": [
    "(100).real"
   ]
  },
  {
   "cell_type": "code",
   "execution_count": 17,
   "id": "7f806e9f",
   "metadata": {},
   "outputs": [
    {
     "data": {
      "text/plain": [
       "'\\n\\n- 내장 자료형의 타입을 확인하면 크래스를 만든 메타 클래스 확인가능\\n\\n'"
      ]
     },
     "execution_count": 17,
     "metadata": {},
     "output_type": "execute_result"
    }
   ],
   "source": [
    "\"\"\"\n",
    "\n",
    "- 내장 자료형의 타입을 확인하면 크래스를 만든 메타 클래스 확인가능\n",
    "\n",
    "\"\"\""
   ]
  },
  {
   "cell_type": "code",
   "execution_count": 18,
   "id": "8949ed62",
   "metadata": {},
   "outputs": [
    {
     "data": {
      "text/plain": [
       "(int, float, complex)"
      ]
     },
     "execution_count": 18,
     "metadata": {},
     "output_type": "execute_result"
    }
   ],
   "source": [
    "type(10), type(10.01), (type(10+2j))"
   ]
  },
  {
   "cell_type": "code",
   "execution_count": 19,
   "id": "65f2d39a",
   "metadata": {},
   "outputs": [
    {
     "data": {
      "text/plain": [
       "'\\n\\n# __class__? 설계도 객체, 즉 객체는 자신을 생성한 클래스 정보를 가지고 있음\\n\\n'"
      ]
     },
     "execution_count": 19,
     "metadata": {},
     "output_type": "execute_result"
    }
   ],
   "source": [
    "\"\"\"\n",
    "\n",
    "# __class__? 설계도 객체, 즉 객체는 자신을 생성한 클래스 정보를 가지고 있음\n",
    "\n",
    "\"\"\""
   ]
  },
  {
   "cell_type": "code",
   "execution_count": 22,
   "id": "67c0ebc7",
   "metadata": {},
   "outputs": [
    {
     "data": {
      "text/plain": [
       "'int'"
      ]
     },
     "execution_count": 22,
     "metadata": {},
     "output_type": "execute_result"
    }
   ],
   "source": [
    "(10).__class__.__name__"
   ]
  },
  {
   "cell_type": "markdown",
   "id": "8a1de536",
   "metadata": {},
   "source": []
  },
  {
   "cell_type": "code",
   "execution_count": 23,
   "id": "a797828e",
   "metadata": {},
   "outputs": [
    {
     "data": {
      "text/plain": [
       "'float'"
      ]
     },
     "execution_count": 23,
     "metadata": {},
     "output_type": "execute_result"
    }
   ],
   "source": [
    "(100.01).__class__.__name__"
   ]
  },
  {
   "cell_type": "code",
   "execution_count": 24,
   "id": "522da944",
   "metadata": {},
   "outputs": [
    {
     "data": {
      "text/plain": [
       "'\\n# 정수 클래스를 상속해서 처리하는 서브 클래스 확인\\n'"
      ]
     },
     "execution_count": 24,
     "metadata": {},
     "output_type": "execute_result"
    }
   ],
   "source": [
    "\"\"\"\n",
    "# 정수 클래스를 상속해서 처리하는 서브 클래스 확인\n",
    "\"\"\""
   ]
  },
  {
   "cell_type": "code",
   "execution_count": 25,
   "id": "ecf70e18",
   "metadata": {},
   "outputs": [
    {
     "data": {
      "text/plain": [
       "[bool, <enum 'IntEnum'>, <enum 'IntFlag'>, sre_constants._NamedIntConstant]"
      ]
     },
     "execution_count": 25,
     "metadata": {},
     "output_type": "execute_result"
    }
   ],
   "source": [
    "int.__subclasses__()"
   ]
  },
  {
   "cell_type": "code",
   "execution_count": 26,
   "id": "98a6005f",
   "metadata": {},
   "outputs": [
    {
     "data": {
      "text/plain": [
       "'bool'"
      ]
     },
     "execution_count": 26,
     "metadata": {},
     "output_type": "execute_result"
    }
   ],
   "source": [
    "True.__class__.__name__"
   ]
  },
  {
   "cell_type": "code",
   "execution_count": 27,
   "id": "e262a107",
   "metadata": {},
   "outputs": [
    {
     "data": {
      "text/plain": [
       "'\\n# 불리언 자료형은 정수와 계산이 가능\\n'"
      ]
     },
     "execution_count": 27,
     "metadata": {},
     "output_type": "execute_result"
    }
   ],
   "source": [
    "\"\"\"\n",
    "# 불리언 자료형은 정수와 계산이 가능\n",
    "\"\"\""
   ]
  },
  {
   "cell_type": "code",
   "execution_count": 28,
   "id": "5d3d27c9",
   "metadata": {},
   "outputs": [
    {
     "data": {
      "text/plain": [
       "2"
      ]
     },
     "execution_count": 28,
     "metadata": {},
     "output_type": "execute_result"
    }
   ],
   "source": [
    "True + 1"
   ]
  },
  {
   "cell_type": "code",
   "execution_count": 29,
   "id": "f420649a",
   "metadata": {},
   "outputs": [
    {
     "data": {
      "text/plain": [
       "1"
      ]
     },
     "execution_count": 29,
     "metadata": {},
     "output_type": "execute_result"
    }
   ],
   "source": [
    "False + 1"
   ]
  },
  {
   "cell_type": "code",
   "execution_count": 31,
   "id": "a8b60d1f",
   "metadata": {},
   "outputs": [
    {
     "data": {
      "text/plain": [
       "'\\n# 리터럴 표기법\\n\\n- 일반적인 숫자 표기를 사용함\\n_ 복소수의 경우 허수는 j\\n- 리터럴은 숫자 객체\\n\\n# 생성자 표기법\\n\\n- 클래스의 생성자를 사용해서 객체를 만드는 방법. 단, 기본 자료형은 리터럴 표기법으로 사용\\n- int : 정수\\n- float : 실수\\n- complex : 복소수 \\n'"
      ]
     },
     "execution_count": 31,
     "metadata": {},
     "output_type": "execute_result"
    }
   ],
   "source": [
    "\"\"\"\n",
    "# 리터럴 표기법\n",
    "\n",
    "- 일반적인 숫자 표기를 사용함\n",
    "_ 복소수의 경우 허수는 j\n",
    "- 리터럴은 숫자 객체\n",
    "\n",
    "# 생성자 표기법\n",
    "\n",
    "- 클래스의 생성자를 사용해서 객체를 만드는 방법. 단, 기본 자료형은 리터럴 표기법으로 사용\n",
    "- int : 정수\n",
    "- float : 실수\n",
    "- complex : 복소수 \n",
    "\n",
    "# 클래스 여부 확인\n",
    "\n",
    "- 모든 것이 객체. 모든 객체는 클래스를 가짐\n",
    "- type 클래스로 해당 객체의 클래스 확인\n",
    "\n",
    "\"\"\""
   ]
  },
  {
   "cell_type": "code",
   "execution_count": 39,
   "id": "270b5582",
   "metadata": {},
   "outputs": [],
   "source": [
    "from decimal import Decimal\n",
    "\n",
    "class Money : \n",
    "    def __init__(self, v='0', units=\"원\") : \n",
    "        self.dec_amt = Decimal(v)\n",
    "        self.units = units\n",
    "    \n",
    "    def __str__(self) : \n",
    "        s = str(self.dec_amt) + \" \" + self.units\n",
    "        return s\n",
    "    \n",
    "    def __repr__(self) : \n",
    "        s = \"Money(\" + str(self.dec_amt) + \" \" + self.units + \")\"\n",
    "        return s\n",
    "    \n",
    "    def __add__(self, other) : \n",
    "        d = self.dec_amt + other.dec_amt\n",
    "        return Money(str(d), self.units)\n",
    "    \n",
    "    def __sub__(self, other) : \n",
    "        d = self.dec_amt - other.dec_amt\n",
    "        return Money(str(d), self.units)\n",
    "    \n",
    "    \n",
    "        "
   ]
  },
  {
   "cell_type": "code",
   "execution_count": 43,
   "id": "5af3c4be",
   "metadata": {},
   "outputs": [],
   "source": [
    "o1 = Money('100')\n",
    "o2 = Money('500')"
   ]
  },
  {
   "cell_type": "code",
   "execution_count": 44,
   "id": "9ce3be71",
   "metadata": {},
   "outputs": [
    {
     "name": "stdout",
     "output_type": "stream",
     "text": [
      "100 원\n"
     ]
    }
   ],
   "source": [
    "print(o)"
   ]
  },
  {
   "cell_type": "code",
   "execution_count": 46,
   "id": "e99f59e1",
   "metadata": {},
   "outputs": [
    {
     "data": {
      "text/plain": [
       "'Money(100 원)'"
      ]
     },
     "execution_count": 46,
     "metadata": {},
     "output_type": "execute_result"
    }
   ],
   "source": [
    "o1.__repr__()"
   ]
  },
  {
   "cell_type": "code",
   "execution_count": 47,
   "id": "5357060b",
   "metadata": {},
   "outputs": [
    {
     "name": "stdout",
     "output_type": "stream",
     "text": [
      "600 원\n"
     ]
    }
   ],
   "source": [
    "print(o1 + o2)"
   ]
  },
  {
   "cell_type": "code",
   "execution_count": null,
   "id": "aed34648",
   "metadata": {},
   "outputs": [],
   "source": []
  }
 ],
 "metadata": {
  "kernelspec": {
   "display_name": "Python 3 (ipykernel)",
   "language": "python",
   "name": "python3"
  },
  "language_info": {
   "codemirror_mode": {
    "name": "ipython",
    "version": 3
   },
   "file_extension": ".py",
   "mimetype": "text/x-python",
   "name": "python",
   "nbconvert_exporter": "python",
   "pygments_lexer": "ipython3",
   "version": "3.9.12"
  }
 },
 "nbformat": 4,
 "nbformat_minor": 5
}
