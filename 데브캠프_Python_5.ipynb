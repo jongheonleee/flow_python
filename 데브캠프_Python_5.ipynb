{
 "cells": [
  {
   "cell_type": "code",
   "execution_count": null,
   "id": "0b62c042",
   "metadata": {},
   "outputs": [],
   "source": [
    "\"\"\"\n",
    "파이썬에서는 모든 함수는 일급 객체\n",
    "- 변수처럼 사용할 수 있음, 따라서 함수를 변수에 할당 가능함 \n",
    "\n",
    "람다 \n",
    "- lambda 키워드 사용 -> lambda (입력) : (출력)\n",
    "- 파이썬도 가비지 컬렉션으로 객체를 삭제하므로 약한 참조일 경우 별도로 관리 가능 \n",
    "\n",
    "자바의 참조(Refference)\n",
    "- (1) Strong\n",
    "- (2) Soft\n",
    "- (3) Weak \n",
    "- (4) Phantom\n",
    "\n",
    "클로저\n",
    "- 내부 영역(스코프)을 묶은 것. 파이썬에서는 접근 제어자가 없음 따라서 캡슐화가 안됨. 이를 보완하기위해 클로저 개념 등장\n",
    "- 클래스랑 비슷함, 묶어서 처리하는 것\n",
    "\n",
    "순수함수/비순수함수\n",
    "- 부수효과 발생 여부에 따라 나뉨\n",
    "    - 부수효과 : 외부에 영향을 주는 것. 예를들어서, 콘솔에 출력값 찍히는 것, 외부 변수 값이 변경되는 것\n",
    "\n",
    "합성함수\n",
    "- 서로 다른 함수 합치는 것 \n",
    "\n",
    "재귀함수\n",
    "- 자기 자신을 호출하는 함수 \n",
    "\n",
    "커링, 부분함수 개념도 알아두는 게 좋음\n",
    "\n",
    "\n",
    "\n",
    "\"\"\""
   ]
  }
 ],
 "metadata": {
  "kernelspec": {
   "display_name": "Python 3 (ipykernel)",
   "language": "python",
   "name": "python3"
  },
  "language_info": {
   "codemirror_mode": {
    "name": "ipython",
    "version": 3
   },
   "file_extension": ".py",
   "mimetype": "text/x-python",
   "name": "python",
   "nbconvert_exporter": "python",
   "pygments_lexer": "ipython3",
   "version": "3.9.12"
  }
 },
 "nbformat": 4,
 "nbformat_minor": 5
}
