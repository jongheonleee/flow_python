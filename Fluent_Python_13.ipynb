{
 "cells": [
  {
   "cell_type": "code",
   "execution_count": 1,
   "id": "ad23aa60",
   "metadata": {},
   "outputs": [
    {
     "data": {
      "text/plain": [
       "'\\nyield\\n\\n- 반복자 패턴 추상화 할 수 있음\\n- 반복자로 작동하는 제너레이터를 생성할 수 있게해줌\\n\\n'"
      ]
     },
     "execution_count": 1,
     "metadata": {},
     "output_type": "execute_result"
    }
   ],
   "source": [
    "\"\"\"\n",
    "yield\n",
    "\n",
    "- 반복자 패턴 추상화 할 수 있음\n",
    "- 반복자로 작동하는 제너레이터를 생성할 수 있게해줌\n",
    "\n",
    "\"\"\""
   ]
  },
  {
   "cell_type": "code",
   "execution_count": 2,
   "id": "5d2e0bf2",
   "metadata": {},
   "outputs": [
    {
     "data": {
      "text/plain": [
       "Sentence('\"The time ha... Walrus said,')"
      ]
     },
     "execution_count": 2,
     "metadata": {},
     "output_type": "execute_result"
    }
   ],
   "source": [
    "import re\n",
    "import reprlib\n",
    "\n",
    "RE_WORD = re.compile('\\w+')\n",
    "\n",
    "class Sentence : \n",
    "    def __init__(self, text) : \n",
    "        self.text = text\n",
    "        self.words = RE_WORD.findall(text)\n",
    "        \n",
    "    def __getitem__(self, index) : # 시퀀스가 __getitem__()을 구현했기에 __iter__() 없어도 반복자 사용 가능\n",
    "        return self.words[index]\n",
    "    \n",
    "    def __len__(self) : \n",
    "        return len(self.words)\n",
    "    \n",
    "    def __repr__(self) : \n",
    "        return 'Sentence(%s)' % reprlib.repr(self.text)\n",
    "    \n",
    "s = Sentence('\"The time has come,\" the Walrus said,')\n",
    "s"
   ]
  },
  {
   "cell_type": "code",
   "execution_count": 3,
   "id": "8ee667f0",
   "metadata": {},
   "outputs": [
    {
     "name": "stdout",
     "output_type": "stream",
     "text": [
      "The\n",
      "time\n",
      "has\n",
      "come\n",
      "the\n",
      "Walrus\n",
      "said\n"
     ]
    }
   ],
   "source": [
    "for word in s : \n",
    "    print(word)"
   ]
  },
  {
   "cell_type": "code",
   "execution_count": 4,
   "id": "efd61515",
   "metadata": {},
   "outputs": [
    {
     "data": {
      "text/plain": [
       "['The', 'time', 'has', 'come', 'the', 'Walrus', 'said']"
      ]
     },
     "execution_count": 4,
     "metadata": {},
     "output_type": "execute_result"
    }
   ],
   "source": [
    "list(s)"
   ]
  },
  {
   "cell_type": "code",
   "execution_count": 5,
   "id": "e0c6a441",
   "metadata": {},
   "outputs": [
    {
     "data": {
      "text/plain": [
       "True"
      ]
     },
     "execution_count": 5,
     "metadata": {},
     "output_type": "execute_result"
    }
   ],
   "source": [
    "from collections import abc\n",
    "\n",
    "class Foo : \n",
    "    def __iter__(self) : \n",
    "        pass\n",
    "\n",
    "issubclass(Foo, abc.Iterable)"
   ]
  },
  {
   "cell_type": "code",
   "execution_count": 6,
   "id": "b115dd45",
   "metadata": {},
   "outputs": [
    {
     "data": {
      "text/plain": [
       "True"
      ]
     },
     "execution_count": 6,
     "metadata": {},
     "output_type": "execute_result"
    }
   ],
   "source": [
    "f = Foo()\n",
    "isinstance(f, abc.Iterable)"
   ]
  },
  {
   "cell_type": "code",
   "execution_count": 7,
   "id": "0ab5b088",
   "metadata": {},
   "outputs": [
    {
     "name": "stdout",
     "output_type": "stream",
     "text": [
      "A\n",
      "B\n",
      "C\n"
     ]
    }
   ],
   "source": [
    "s = 'ABC'\n",
    "for char in s :\n",
    "    print(char)"
   ]
  },
  {
   "cell_type": "code",
   "execution_count": 8,
   "id": "825d382f",
   "metadata": {},
   "outputs": [
    {
     "name": "stdout",
     "output_type": "stream",
     "text": [
      "A\n",
      "B\n",
      "C\n",
      "--delete iterator--\n"
     ]
    }
   ],
   "source": [
    "s = 'ABC'\n",
    "it = iter(s)\n",
    "\n",
    "while 1 : \n",
    "    try : \n",
    "        print(next(it))\n",
    "    except StopIteration : \n",
    "        print('--delete iterator--')\n",
    "        del it\n",
    "        break"
   ]
  },
  {
   "cell_type": "code",
   "execution_count": 9,
   "id": "950812cb",
   "metadata": {},
   "outputs": [
    {
     "ename": "NameError",
     "evalue": "name 'Iterable' is not defined",
     "output_type": "error",
     "traceback": [
      "\u001b[0;31m---------------------------------------------------------------------------\u001b[0m",
      "\u001b[0;31mNameError\u001b[0m                                 Traceback (most recent call last)",
      "Input \u001b[0;32mIn [9]\u001b[0m, in \u001b[0;36m<cell line: 5>\u001b[0;34m()\u001b[0m\n\u001b[1;32m      1\u001b[0m \u001b[38;5;124;03m\"\"\"\u001b[39;00m\n\u001b[1;32m      2\u001b[0m \u001b[38;5;124;03m밑에 코드는 abc.Iterator 클래스의 일부임 \u001b[39;00m\n\u001b[1;32m      3\u001b[0m \u001b[38;5;124;03m\"\"\"\u001b[39;00m\n\u001b[0;32m----> 5\u001b[0m \u001b[38;5;28;01mclass\u001b[39;00m \u001b[38;5;21;01mIterator\u001b[39;00m(\u001b[43mIterable\u001b[49m) : \n\u001b[1;32m      7\u001b[0m     \u001b[38;5;18m__slots__\u001b[39m \u001b[38;5;241m=\u001b[39m ()\n\u001b[1;32m      9\u001b[0m     \u001b[38;5;129m@abstracymethod\u001b[39m\n\u001b[1;32m     10\u001b[0m     \u001b[38;5;28;01mdef\u001b[39;00m \u001b[38;5;21m__next__\u001b[39m(\u001b[38;5;28mself\u001b[39m) : \n",
      "\u001b[0;31mNameError\u001b[0m: name 'Iterable' is not defined"
     ]
    }
   ],
   "source": [
    "\n",
    "\"\"\"\n",
    "밑에 코드는 abc.Iterator 클래스의 일부임 \n",
    "\"\"\"\n",
    "\n",
    "class Iterator(Iterable) : \n",
    "    \n",
    "    __slots__ = ()\n",
    "    \n",
    "    @abstracymethod\n",
    "    def __next__(self) : \n",
    "        '''반복자에서 다음 항목을 반환함. 항목이 소진되면 StopIteration 예외를 발생'''\n",
    "        raise StopIteration\n",
    "    \n",
    "    def __iter__(self) :\n",
    "        return self\n",
    "    \n",
    "    @classmethod\n",
    "    def __subclasshook__(cls, C) : \n",
    "        '''\n",
    "        abc (abstract base class) 모듈에서 사용되는 특별한 메서드입니다. \n",
    "        이 메서드는 클래스가 특정 ABC(Abstract Base Class)의 서브클래스인지 여부를 결정하는 데 사용함\n",
    "        '''\n",
    "        if cls is Iterator : \n",
    "            '''\n",
    "            - 1. C.__mro__ \n",
    "                 MRO는 클래스 상속 구조에서 메서드나 속성을 찾는 순서를 정의합니다. 이는 다중 상속의 경우 특히 중요합니다.\n",
    "            \n",
    "            \n",
    "            - 2. B.__dict__는 파이썬에서 클래스나 객체의 속성 및 메서드를 저장하는 사전(dictionary) 객체입니다.\n",
    "                 이 사전은 클래스나 객체의 네임스페이스를 나타내며, 해당 클래스나 객체에 정의된 모든 속성과 메서드를 포함\n",
    "            '''\n",
    "            if (any(\"__next__\" in B.__dict__ for B in C.__mro__) and\n",
    "                any(\"__iter__\" in B.__dict__ for B in C.__mro__)) : \n",
    "                return True\n",
    "            \n",
    "        return NotImplemented\n",
    "    \n",
    "    "
   ]
  },
  {
   "cell_type": "code",
   "execution_count": 10,
   "id": "dd7012f3",
   "metadata": {},
   "outputs": [
    {
     "data": {
      "text/plain": [
       "<iterator at 0x7f9cc8018610>"
      ]
     },
     "execution_count": 10,
     "metadata": {},
     "output_type": "execute_result"
    }
   ],
   "source": [
    "s = Sentence('Pig and Pepper')\n",
    "it = iter(s)\n",
    "it"
   ]
  },
  {
   "cell_type": "code",
   "execution_count": 11,
   "id": "3397a7b5",
   "metadata": {},
   "outputs": [
    {
     "name": "stdout",
     "output_type": "stream",
     "text": [
      "Pig\n",
      "and\n",
      "Pepper\n",
      "end of iteration!!\n"
     ]
    }
   ],
   "source": [
    "while True : \n",
    "    try :\n",
    "        print(next(it))\n",
    "    except StopIteration : \n",
    "        print('end of iteration!!')\n",
    "        break\n"
   ]
  },
  {
   "cell_type": "code",
   "execution_count": 12,
   "id": "edb1390d",
   "metadata": {},
   "outputs": [],
   "source": [
    "import re, reprlib\n",
    "\n",
    "RE_WORD = re.compile('\\w+')\n",
    "\n",
    "class Sentence : \n",
    "    \n",
    "    def __init__(self, text) : \n",
    "        self.text = text\n",
    "        self.words = RE_WORD.findall(text)\n",
    "        \n",
    "    def __repr__(self) : \n",
    "        return 'Sentence(%s)' % reprlib.repr(self.text)\n",
    "    \n",
    "    def __iter__(self) : \n",
    "        ''' iterator 활용 '''\n",
    "        return SentenceIterator(self.words)\n",
    "\n",
    "class SentenceIterator : \n",
    "    \n",
    "    def __init__(self, words) : \n",
    "        self.words = words\n",
    "        self.index = 0\n",
    "        \n",
    "    def __next__(self) : \n",
    "        try : \n",
    "            word = self.words[self.index]\n",
    "        except IndexError : \n",
    "            raise StopIteration()\n",
    "            \n",
    "        self.index += 1\n",
    "        return word\n",
    "    \n",
    "    def __iter__(self) : \n",
    "        ''' 반복형이 되었음을 증명하는 메서드 '''\n",
    "        return self\n",
    "    \n",
    "\n",
    "    "
   ]
  },
  {
   "cell_type": "code",
   "execution_count": 14,
   "id": "35333bb5",
   "metadata": {},
   "outputs": [],
   "source": [
    "class Sentence : \n",
    "    \n",
    "    def __init__(self, text) : \n",
    "        self.text = text\n",
    "        self.words = RE_WORD.findall(text)\n",
    "        \n",
    "    def __repr__(self) : \n",
    "        return 'Sentence(%s)' % reprlib.repr(self.text)\n",
    "    \n",
    "    def __iter__(self) : # iterator() 가 아닌 제너레이터 함수임\n",
    "        ''' Generator 사용 - yield '''\n",
    "        for word in self.words : \n",
    "            yield word\n",
    "            \n",
    "        return "
   ]
  },
  {
   "cell_type": "code",
   "execution_count": 25,
   "id": "c8a5c0d5",
   "metadata": {},
   "outputs": [],
   "source": [
    "'''\n",
    "제너레이터?\n",
    "\n",
    "- yield 키워드를 가진 함수는 모두 제너레이터 함수\n",
    "- 제너레이터 함수는 제너레이터 팩토리임. 호출할 때 마다 새로운 제너레이터 객체 반환함 \n",
    "'''\n",
    "\n",
    "\n",
    "def gen_123() :\n",
    "    yield 1\n",
    "    yield 2\n",
    "    yield 3\n"
   ]
  },
  {
   "cell_type": "code",
   "execution_count": 26,
   "id": "27ef93d9",
   "metadata": {},
   "outputs": [
    {
     "data": {
      "text/plain": [
       "<generator object gen_123 at 0x7f9ca8a23900>"
      ]
     },
     "execution_count": 26,
     "metadata": {},
     "output_type": "execute_result"
    }
   ],
   "source": [
    "gen_123()"
   ]
  },
  {
   "cell_type": "code",
   "execution_count": 27,
   "id": "d6679005",
   "metadata": {},
   "outputs": [
    {
     "data": {
      "text/plain": [
       "<generator object gen_123 at 0x7f9ca8a23a50>"
      ]
     },
     "execution_count": 27,
     "metadata": {},
     "output_type": "execute_result"
    }
   ],
   "source": [
    "gen_123()"
   ]
  },
  {
   "cell_type": "code",
   "execution_count": 28,
   "id": "77573ee3",
   "metadata": {},
   "outputs": [
    {
     "name": "stdout",
     "output_type": "stream",
     "text": [
      "1\n",
      "2\n",
      "3\n"
     ]
    }
   ],
   "source": [
    "for i in gen_123() : \n",
    "    print(i)"
   ]
  },
  {
   "cell_type": "code",
   "execution_count": 29,
   "id": "842f944c",
   "metadata": {},
   "outputs": [
    {
     "data": {
      "text/plain": [
       "1"
      ]
     },
     "execution_count": 29,
     "metadata": {},
     "output_type": "execute_result"
    }
   ],
   "source": [
    "generator = gen_123()\n",
    "next(generator)"
   ]
  },
  {
   "cell_type": "code",
   "execution_count": 30,
   "id": "3547598b",
   "metadata": {},
   "outputs": [
    {
     "name": "stdout",
     "output_type": "stream",
     "text": [
      "SoptIteration!!\n"
     ]
    }
   ],
   "source": [
    "while True : \n",
    "    try : \n",
    "        next(generator)\n",
    "    except StopIteration : \n",
    "        print('SoptIteration!!')\n",
    "        break\n",
    "        "
   ]
  },
  {
   "cell_type": "code",
   "execution_count": 31,
   "id": "0c467968",
   "metadata": {},
   "outputs": [
    {
     "name": "stdout",
     "output_type": "stream",
     "text": [
      "start\n",
      "--> A\n",
      "continue\n",
      "--> B\n",
      "end.\n"
     ]
    }
   ],
   "source": [
    "def gen_AB() :\n",
    "    print('start')\n",
    "    yield 'A'\n",
    "    \n",
    "    print('continue')\n",
    "    yield 'B'\n",
    "    \n",
    "    print('end.')\n",
    "    \n",
    "for c in gen_AB() : \n",
    "    print('-->', c)\n",
    "    \n"
   ]
  },
  {
   "cell_type": "code",
   "execution_count": 32,
   "id": "2b5703bd",
   "metadata": {},
   "outputs": [],
   "source": [
    "'''\n",
    "느긋한 구현\n",
    "'''\n",
    "\n",
    "import re, reprlib\n",
    "\n",
    "class Sentence : \n",
    "    def __init__(self, text) : \n",
    "        self.text = text # 단어 리스트를 미리 만들지 않음 \n",
    "        \n",
    "    def __repr__(self) : \n",
    "        return 'Sentence(%s)'% reprlib.repr(self.text)\n",
    "    \n",
    "    def __iter__(self) : \n",
    "        for match in RE_WORD.finditer(self.text) :\n",
    "            # finditer() : self.text에서 RE_WORD에 대응되는 단어들의 반복자인 MatchObject 객체를 생성함 \n",
    "            yield match.group()\n",
    "            \n"
   ]
  },
  {
   "cell_type": "code",
   "execution_count": 33,
   "id": "01ce0435",
   "metadata": {},
   "outputs": [
    {
     "name": "stdout",
     "output_type": "stream",
     "text": [
      "start\n",
      "continue\n",
      "end.\n"
     ]
    }
   ],
   "source": [
    "def gen_AB() : \n",
    "    print('start')\n",
    "    yield 'A'\n",
    "    \n",
    "    print('continue')\n",
    "    yield 'B'\n",
    "    \n",
    "    print('end.')\n",
    "    \n",
    "res = [x * 3 for x in gen_AB()]\n"
   ]
  },
  {
   "cell_type": "code",
   "execution_count": 35,
   "id": "9748d562",
   "metadata": {},
   "outputs": [
    {
     "name": "stdout",
     "output_type": "stream",
     "text": [
      "--> AAA\n",
      "--> BBB\n"
     ]
    }
   ],
   "source": [
    "for i in res : \n",
    "    print('-->', i)"
   ]
  },
  {
   "cell_type": "code",
   "execution_count": 37,
   "id": "72bb3fe4",
   "metadata": {},
   "outputs": [
    {
     "name": "stdout",
     "output_type": "stream",
     "text": [
      "start\n",
      "--> AAA\n",
      "continue\n",
      "--> BBB\n",
      "end.\n"
     ]
    }
   ],
   "source": [
    "res2 = (x * 3 for x in gen_AB())\n",
    "for i in res2 : \n",
    "    print('-->', i)"
   ]
  },
  {
   "cell_type": "code",
   "execution_count": 38,
   "id": "776304a1",
   "metadata": {},
   "outputs": [],
   "source": [
    "class Sentence : \n",
    "    def __init__(self, text) :\n",
    "        self.text = text\n",
    "        \n",
    "    def __repr__(self) : \n",
    "        return 'Sentence(%s)' % reprlib.repr(self.text)\n",
    "    \n",
    "    def __iter__(self) : \n",
    "        return (match.group() for match in RE_WORD.finditer(self.text))"
   ]
  },
  {
   "cell_type": "code",
   "execution_count": 50,
   "id": "b59c08ed",
   "metadata": {},
   "outputs": [],
   "source": [
    "class ArithmeticProgression : \n",
    "    \n",
    "    def __init__(self, begin, step, end=None) : \n",
    "        self.begin = begin\n",
    "        self.step = step\n",
    "        self.end = end # None 이면 무한 수열 \n",
    "        \n",
    "        \n",
    "    def __iter__(self) : \n",
    "        \n",
    "        result = type(self.begin + self.step)(self.begin)\n",
    "        forever = self.end is None\n",
    "        \n",
    "        index = 0\n",
    "        while forever or result < self.end : \n",
    "            yield result\n",
    "            index += 1\n",
    "            result = self.begin + self.step * index\n",
    "            \n",
    "\n",
    "# 제너레이터 함수 \n",
    "def aritprong_gen(begin, step, end=None) : \n",
    "        result = type(begin + step)(begin)\n",
    "        forever = end is None\n",
    "        \n",
    "        index = 0\n",
    "        while forever or result < end : \n",
    "            yield result\n",
    "            index += 1\n",
    "            result = begin + step * index\n",
    "            \n",
    "            "
   ]
  },
  {
   "cell_type": "code",
   "execution_count": 51,
   "id": "e8c879b4",
   "metadata": {},
   "outputs": [
    {
     "name": "stdout",
     "output_type": "stream",
     "text": [
      "3\n"
     ]
    },
    {
     "data": {
      "text/plain": [
       "[]"
      ]
     },
     "execution_count": 51,
     "metadata": {},
     "output_type": "execute_result"
    }
   ],
   "source": [
    "ap = ArithmeticProgression(0, 1, 3)\n",
    "list(ap)"
   ]
  },
  {
   "cell_type": "code",
   "execution_count": null,
   "id": "e0b01739",
   "metadata": {},
   "outputs": [],
   "source": []
  }
 ],
 "metadata": {
  "kernelspec": {
   "display_name": "Python 3 (ipykernel)",
   "language": "python",
   "name": "python3"
  },
  "language_info": {
   "codemirror_mode": {
    "name": "ipython",
    "version": 3
   },
   "file_extension": ".py",
   "mimetype": "text/x-python",
   "name": "python",
   "nbconvert_exporter": "python",
   "pygments_lexer": "ipython3",
   "version": "3.9.12"
  }
 },
 "nbformat": 4,
 "nbformat_minor": 5
}
