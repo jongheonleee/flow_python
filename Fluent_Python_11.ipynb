{
 "cells": [
  {
   "cell_type": "code",
   "execution_count": 1,
   "id": "7c46a68d",
   "metadata": {},
   "outputs": [
    {
     "data": {
      "text/plain": [
       "{'one': 1}"
      ]
     },
     "execution_count": 1,
     "metadata": {},
     "output_type": "execute_result"
    }
   ],
   "source": [
    "\"\"\"\n",
    "# 내장 자료형의 상속은 까다로움\n",
    "\n",
    "- CPython의 경우, 오버라이드한 메서드에 대해 호출과 관련해서 명확한 규칙을 정의하지 않음\n",
    "- 예를들어, dict의 서브클래스에서 오버라이드한 __getitem__() 메서드는 내장된 get()과 같은 메서드에 의해 호출안됨\n",
    "\n",
    "# 내장 자료형은 예외 케이스\n",
    "\n",
    "- 슈퍼 클래스에서 구현된 메서드 안에서 호출하더라도 메서드 검색은 대상 객체(self)의 클래스에서 시작해야함을 어김\n",
    "\"\"\"\n",
    "\n",
    "class DoppelDict(dict) : \n",
    "    def __setitem__(self, key, value) :\n",
    "        super().__setitem__(key, [value] * 2)\n",
    "        \n",
    "dd = DoppelDict(one=1)\n",
    "dd"
   ]
  },
  {
   "cell_type": "code",
   "execution_count": 2,
   "id": "bf772cfe",
   "metadata": {},
   "outputs": [
    {
     "data": {
      "text/plain": [
       "{'one': 1, 'two': [2, 2]}"
      ]
     },
     "execution_count": 2,
     "metadata": {},
     "output_type": "execute_result"
    }
   ],
   "source": [
    "dd['two'] = 2\n",
    "dd"
   ]
  },
  {
   "cell_type": "code",
   "execution_count": 4,
   "id": "ea1f8ea9",
   "metadata": {},
   "outputs": [
    {
     "data": {
      "text/plain": [
       "{'one': 1, 'two': [2, 2], 'three': 3}"
      ]
     },
     "execution_count": 4,
     "metadata": {},
     "output_type": "execute_result"
    }
   ],
   "source": [
    "dd.update(three=3) # update() 에서 오버라이드된 __setitem__() 메서드를 호출하지 않음 \n",
    "dd"
   ]
  },
  {
   "cell_type": "code",
   "execution_count": 5,
   "id": "eb95214a",
   "metadata": {},
   "outputs": [
    {
     "data": {
      "text/plain": [
       "42"
      ]
     },
     "execution_count": 5,
     "metadata": {},
     "output_type": "execute_result"
    }
   ],
   "source": [
    "class AnswerDict(dict) : \n",
    "    def __getitem__(self, key) : \n",
    "        return 42\n",
    "    \n",
    "ad = AnswerDict(a='foo')\n",
    "ad['a']"
   ]
  },
  {
   "cell_type": "code",
   "execution_count": 6,
   "id": "cccad671",
   "metadata": {},
   "outputs": [
    {
     "data": {
      "text/plain": [
       "'foo'"
      ]
     },
     "execution_count": 6,
     "metadata": {},
     "output_type": "execute_result"
    }
   ],
   "source": [
    "d = {}\n",
    "d.update(ad)\n",
    "d['a']"
   ]
  },
  {
   "cell_type": "code",
   "execution_count": 13,
   "id": "be005ef7",
   "metadata": {},
   "outputs": [
    {
     "data": {
      "text/plain": [
       "{'one': [1, 1]}"
      ]
     },
     "execution_count": 13,
     "metadata": {},
     "output_type": "execute_result"
    }
   ],
   "source": [
    "\"\"\"\n",
    "위의 문제를 collections.UserDict으로 해결 가능함\n",
    "\"\"\"\n",
    "import collections\n",
    "\n",
    "class DoppelDict2(collections.UserDict) : \n",
    "    def __setitem__(self, key, value) : \n",
    "        super().__setitem__(key, [value] * 2)\n",
    "        \n",
    "class AnswerDict2(collections.UserDict) : \n",
    "    def __getitem__(self, key) : \n",
    "        return 42\n",
    "        \n",
    "dd = DoppelDict2(one=1)\n",
    "dd"
   ]
  },
  {
   "cell_type": "code",
   "execution_count": 14,
   "id": "3216aab8",
   "metadata": {},
   "outputs": [],
   "source": [
    "dd['two'] = 2"
   ]
  },
  {
   "cell_type": "code",
   "execution_count": 15,
   "id": "3b31dd7c",
   "metadata": {},
   "outputs": [
    {
     "data": {
      "text/plain": [
       "{'one': [1, 1], 'two': [2, 2], 'three': [3, 3]}"
      ]
     },
     "execution_count": 15,
     "metadata": {},
     "output_type": "execute_result"
    }
   ],
   "source": [
    "dd.update(three=3)\n",
    "dd"
   ]
  },
  {
   "cell_type": "code",
   "execution_count": 16,
   "id": "7e6b9ebd",
   "metadata": {},
   "outputs": [
    {
     "data": {
      "text/plain": [
       "42"
      ]
     },
     "execution_count": 16,
     "metadata": {},
     "output_type": "execute_result"
    }
   ],
   "source": [
    "ad = AnswerDict2(a='foo')\n",
    "ad['a']"
   ]
  },
  {
   "cell_type": "code",
   "execution_count": 17,
   "id": "b4d064ea",
   "metadata": {},
   "outputs": [
    {
     "data": {
      "text/plain": [
       "42"
      ]
     },
     "execution_count": 17,
     "metadata": {},
     "output_type": "execute_result"
    }
   ],
   "source": [
    "d = {}\n",
    "d.update(ad)\n",
    "d['a']"
   ]
  },
  {
   "cell_type": "code",
   "execution_count": 27,
   "id": "f17ac1e2",
   "metadata": {},
   "outputs": [],
   "source": [
    "\"\"\"\n",
    "# 다중 상속과 메서드 결정 순서\n",
    "\n",
    "- 이름 출동 문제 발생\n",
    "- 밑에 예제는 다이아몬드 문제\n",
    "\"\"\"\n",
    "\n",
    "class A : \n",
    "    def ping(self) : \n",
    "        print('ping : ', self)\n",
    "        \n",
    "class B(A) : \n",
    "    def pong(self) : \n",
    "        print('pong : ', self)\n",
    "        \n",
    "class C(A) : \n",
    "    def pong(self) : \n",
    "        print('PONG : ', self)\n",
    "        \n",
    "class D(B, C) : \n",
    "    def ping(self) : \n",
    "        super().ping()\n",
    "        print('post-ping : ', self)\n",
    "        \n",
    "    def pingpong(self) : \n",
    "        self.ping()\n",
    "        super().ping()\n",
    "        self.pong()\n",
    "        super().pong()\n",
    "        C.pong(self)\n"
   ]
  },
  {
   "cell_type": "code",
   "execution_count": 28,
   "id": "735e854f",
   "metadata": {},
   "outputs": [
    {
     "name": "stdout",
     "output_type": "stream",
     "text": [
      "pong :  <__main__.D object at 0x7fa010991be0>\n"
     ]
    }
   ],
   "source": [
    "d = D()\n",
    "d.pong()"
   ]
  },
  {
   "cell_type": "code",
   "execution_count": 29,
   "id": "bd5f83dc",
   "metadata": {},
   "outputs": [
    {
     "name": "stdout",
     "output_type": "stream",
     "text": [
      "PONG :  <__main__.D object at 0x7fa010991be0>\n"
     ]
    }
   ],
   "source": [
    "C.pong(d)"
   ]
  },
  {
   "cell_type": "code",
   "execution_count": 30,
   "id": "60c5eb98",
   "metadata": {},
   "outputs": [
    {
     "data": {
      "text/plain": [
       "(__main__.D, __main__.B, __main__.C, __main__.A, object)"
      ]
     },
     "execution_count": 30,
     "metadata": {},
     "output_type": "execute_result"
    }
   ],
   "source": [
    "\"\"\"\n",
    "- 파이썬이 상속 그래프를 조회할 때는 특정한 순서를 따르므로, d.pong()과 같은 호출의 모호함이 해결됨\n",
    "- 이때, MRO(메서드 결정 순서)를 따름 \n",
    "- MRO는 상속 그래프를 고려하고 서브클래스 정의에 나열된 슈퍼클래스들의 순서도 고려함 \n",
    "\"\"\"\n",
    "\n",
    "D.__mro__"
   ]
  },
  {
   "cell_type": "code",
   "execution_count": 31,
   "id": "3e28c01c",
   "metadata": {},
   "outputs": [
    {
     "name": "stdout",
     "output_type": "stream",
     "text": [
      "ping :  <__main__.D object at 0x7fa010991be0>\n",
      "post-ping :  <__main__.D object at 0x7fa010991be0>\n"
     ]
    }
   ],
   "source": [
    "d.ping()"
   ]
  },
  {
   "cell_type": "code",
   "execution_count": 32,
   "id": "4c98d969",
   "metadata": {},
   "outputs": [
    {
     "name": "stdout",
     "output_type": "stream",
     "text": [
      "ping :  <__main__.D object at 0x7fa010991be0>\n",
      "post-ping :  <__main__.D object at 0x7fa010991be0>\n",
      "ping :  <__main__.D object at 0x7fa010991be0>\n",
      "pong :  <__main__.D object at 0x7fa010991be0>\n",
      "pong :  <__main__.D object at 0x7fa010991be0>\n",
      "PONG :  <__main__.D object at 0x7fa010991be0>\n"
     ]
    }
   ],
   "source": [
    "d.pingpong()"
   ]
  },
  {
   "cell_type": "code",
   "execution_count": 35,
   "id": "d6313e8d",
   "metadata": {},
   "outputs": [
    {
     "data": {
      "text/plain": [
       "(bool, int, object)"
      ]
     },
     "execution_count": 35,
     "metadata": {},
     "output_type": "execute_result"
    }
   ],
   "source": [
    "\"\"\"\n",
    "__mro__를 통해서 클래스 계층 구조 파악할 수 있음\n",
    "\"\"\"\n",
    "\n",
    "bool.__mro__"
   ]
  },
  {
   "cell_type": "code",
   "execution_count": 39,
   "id": "b2460784",
   "metadata": {},
   "outputs": [
    {
     "name": "stdout",
     "output_type": "stream",
     "text": [
      "Text, Widget, BaseWidget, Misc, Pack, Place, Grid, XView, YView, object\n"
     ]
    }
   ],
   "source": [
    "\"\"\"\n",
    "Tkinter의 다중 상속 그래프 확인\n",
    "\"\"\"\n",
    "\n",
    "import tkinter\n",
    "\n",
    "def print_mro(cls) : \n",
    "    print(', '.join(c.__name__ for c in cls.__mro__))\n",
    "    \n",
    "print_mro(tkinter.Text)"
   ]
  },
  {
   "cell_type": "code",
   "execution_count": null,
   "id": "82655866",
   "metadata": {},
   "outputs": [],
   "source": []
  }
 ],
 "metadata": {
  "kernelspec": {
   "display_name": "Python 3 (ipykernel)",
   "language": "python",
   "name": "python3"
  },
  "language_info": {
   "codemirror_mode": {
    "name": "ipython",
    "version": 3
   },
   "file_extension": ".py",
   "mimetype": "text/x-python",
   "name": "python",
   "nbconvert_exporter": "python",
   "pygments_lexer": "ipython3",
   "version": "3.9.12"
  }
 },
 "nbformat": 4,
 "nbformat_minor": 5
}
